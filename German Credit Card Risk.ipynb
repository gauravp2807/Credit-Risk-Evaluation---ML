{
 "cells": [
  {
   "cell_type": "code",
   "execution_count": 1,
   "metadata": {},
   "outputs": [],
   "source": [
    "import numpy as np\n",
    "import pandas as pd\n",
    "import matplotlib.pyplot as plt\n",
    "import seaborn as sns\n",
    "\n",
    "import warnings\n",
    "warnings.filterwarnings('ignore')"
   ]
  },
  {
   "cell_type": "code",
   "execution_count": 2,
   "metadata": {},
   "outputs": [],
   "source": [
    "df_credit = pd.read_csv(\"german_credit_data.csv\",index_col=0)"
   ]
  },
  {
   "cell_type": "markdown",
   "metadata": {
    "_cell_guid": "8f6af2bc-3f44-4134-bb3f-feaabcce6254",
    "_uuid": "b1edd34feb9c638a57fe28bbb56695a9ece694c0"
   },
   "source": [
    "# Understanding data"
   ]
  },
  {
   "cell_type": "code",
   "execution_count": 3,
   "metadata": {},
   "outputs": [
    {
     "data": {
      "text/html": [
       "<div>\n",
       "<style scoped>\n",
       "    .dataframe tbody tr th:only-of-type {\n",
       "        vertical-align: middle;\n",
       "    }\n",
       "\n",
       "    .dataframe tbody tr th {\n",
       "        vertical-align: top;\n",
       "    }\n",
       "\n",
       "    .dataframe thead th {\n",
       "        text-align: right;\n",
       "    }\n",
       "</style>\n",
       "<table border=\"1\" class=\"dataframe\">\n",
       "  <thead>\n",
       "    <tr style=\"text-align: right;\">\n",
       "      <th></th>\n",
       "      <th>Age</th>\n",
       "      <th>Sex</th>\n",
       "      <th>Job</th>\n",
       "      <th>Housing</th>\n",
       "      <th>Saving accounts</th>\n",
       "      <th>Checking account</th>\n",
       "      <th>Credit amount</th>\n",
       "      <th>Duration</th>\n",
       "      <th>Purpose</th>\n",
       "      <th>Risk</th>\n",
       "    </tr>\n",
       "  </thead>\n",
       "  <tbody>\n",
       "    <tr>\n",
       "      <th>0</th>\n",
       "      <td>67</td>\n",
       "      <td>male</td>\n",
       "      <td>2</td>\n",
       "      <td>own</td>\n",
       "      <td>NaN</td>\n",
       "      <td>little</td>\n",
       "      <td>1169</td>\n",
       "      <td>6</td>\n",
       "      <td>radio/TV</td>\n",
       "      <td>good</td>\n",
       "    </tr>\n",
       "    <tr>\n",
       "      <th>1</th>\n",
       "      <td>22</td>\n",
       "      <td>female</td>\n",
       "      <td>2</td>\n",
       "      <td>own</td>\n",
       "      <td>little</td>\n",
       "      <td>moderate</td>\n",
       "      <td>5951</td>\n",
       "      <td>48</td>\n",
       "      <td>radio/TV</td>\n",
       "      <td>bad</td>\n",
       "    </tr>\n",
       "    <tr>\n",
       "      <th>2</th>\n",
       "      <td>49</td>\n",
       "      <td>male</td>\n",
       "      <td>1</td>\n",
       "      <td>own</td>\n",
       "      <td>little</td>\n",
       "      <td>NaN</td>\n",
       "      <td>2096</td>\n",
       "      <td>12</td>\n",
       "      <td>education</td>\n",
       "      <td>good</td>\n",
       "    </tr>\n",
       "    <tr>\n",
       "      <th>3</th>\n",
       "      <td>45</td>\n",
       "      <td>male</td>\n",
       "      <td>2</td>\n",
       "      <td>free</td>\n",
       "      <td>little</td>\n",
       "      <td>little</td>\n",
       "      <td>7882</td>\n",
       "      <td>42</td>\n",
       "      <td>furniture/equipment</td>\n",
       "      <td>good</td>\n",
       "    </tr>\n",
       "    <tr>\n",
       "      <th>4</th>\n",
       "      <td>53</td>\n",
       "      <td>male</td>\n",
       "      <td>2</td>\n",
       "      <td>free</td>\n",
       "      <td>little</td>\n",
       "      <td>little</td>\n",
       "      <td>4870</td>\n",
       "      <td>24</td>\n",
       "      <td>car</td>\n",
       "      <td>bad</td>\n",
       "    </tr>\n",
       "    <tr>\n",
       "      <th>...</th>\n",
       "      <td>...</td>\n",
       "      <td>...</td>\n",
       "      <td>...</td>\n",
       "      <td>...</td>\n",
       "      <td>...</td>\n",
       "      <td>...</td>\n",
       "      <td>...</td>\n",
       "      <td>...</td>\n",
       "      <td>...</td>\n",
       "      <td>...</td>\n",
       "    </tr>\n",
       "    <tr>\n",
       "      <th>995</th>\n",
       "      <td>31</td>\n",
       "      <td>female</td>\n",
       "      <td>1</td>\n",
       "      <td>own</td>\n",
       "      <td>little</td>\n",
       "      <td>NaN</td>\n",
       "      <td>1736</td>\n",
       "      <td>12</td>\n",
       "      <td>furniture/equipment</td>\n",
       "      <td>good</td>\n",
       "    </tr>\n",
       "    <tr>\n",
       "      <th>996</th>\n",
       "      <td>40</td>\n",
       "      <td>male</td>\n",
       "      <td>3</td>\n",
       "      <td>own</td>\n",
       "      <td>little</td>\n",
       "      <td>little</td>\n",
       "      <td>3857</td>\n",
       "      <td>30</td>\n",
       "      <td>car</td>\n",
       "      <td>good</td>\n",
       "    </tr>\n",
       "    <tr>\n",
       "      <th>997</th>\n",
       "      <td>38</td>\n",
       "      <td>male</td>\n",
       "      <td>2</td>\n",
       "      <td>own</td>\n",
       "      <td>little</td>\n",
       "      <td>NaN</td>\n",
       "      <td>804</td>\n",
       "      <td>12</td>\n",
       "      <td>radio/TV</td>\n",
       "      <td>good</td>\n",
       "    </tr>\n",
       "    <tr>\n",
       "      <th>998</th>\n",
       "      <td>23</td>\n",
       "      <td>male</td>\n",
       "      <td>2</td>\n",
       "      <td>free</td>\n",
       "      <td>little</td>\n",
       "      <td>little</td>\n",
       "      <td>1845</td>\n",
       "      <td>45</td>\n",
       "      <td>radio/TV</td>\n",
       "      <td>bad</td>\n",
       "    </tr>\n",
       "    <tr>\n",
       "      <th>999</th>\n",
       "      <td>27</td>\n",
       "      <td>male</td>\n",
       "      <td>2</td>\n",
       "      <td>own</td>\n",
       "      <td>moderate</td>\n",
       "      <td>moderate</td>\n",
       "      <td>4576</td>\n",
       "      <td>45</td>\n",
       "      <td>car</td>\n",
       "      <td>good</td>\n",
       "    </tr>\n",
       "  </tbody>\n",
       "</table>\n",
       "<p>1000 rows × 10 columns</p>\n",
       "</div>"
      ],
      "text/plain": [
       "     Age     Sex  Job Housing Saving accounts Checking account  Credit amount  \\\n",
       "0     67    male    2     own             NaN           little           1169   \n",
       "1     22  female    2     own          little         moderate           5951   \n",
       "2     49    male    1     own          little              NaN           2096   \n",
       "3     45    male    2    free          little           little           7882   \n",
       "4     53    male    2    free          little           little           4870   \n",
       "..   ...     ...  ...     ...             ...              ...            ...   \n",
       "995   31  female    1     own          little              NaN           1736   \n",
       "996   40    male    3     own          little           little           3857   \n",
       "997   38    male    2     own          little              NaN            804   \n",
       "998   23    male    2    free          little           little           1845   \n",
       "999   27    male    2     own        moderate         moderate           4576   \n",
       "\n",
       "     Duration              Purpose  Risk  \n",
       "0           6             radio/TV  good  \n",
       "1          48             radio/TV   bad  \n",
       "2          12            education  good  \n",
       "3          42  furniture/equipment  good  \n",
       "4          24                  car   bad  \n",
       "..        ...                  ...   ...  \n",
       "995        12  furniture/equipment  good  \n",
       "996        30                  car  good  \n",
       "997        12             radio/TV  good  \n",
       "998        45             radio/TV   bad  \n",
       "999        45                  car  good  \n",
       "\n",
       "[1000 rows x 10 columns]"
      ]
     },
     "execution_count": 3,
     "metadata": {},
     "output_type": "execute_result"
    }
   ],
   "source": [
    "df_credit"
   ]
  },
  {
   "cell_type": "code",
   "execution_count": 60,
   "metadata": {
    "_cell_guid": "81649261-de36-4f16-9816-643d90d3d2aa",
    "_uuid": "017a2be77ff92841897d9b25e898927e641b90fb"
   },
   "outputs": [
    {
     "name": "stdout",
     "output_type": "stream",
     "text": [
      "<class 'pandas.core.frame.DataFrame'>\n",
      "Index: 1000 entries, 0 to 999\n",
      "Data columns (total 25 columns):\n",
      " #   Column                       Non-Null Count  Dtype  \n",
      "---  ------                       --------------  -----  \n",
      " 0   Age                          1000 non-null   int64  \n",
      " 1   Job                          1000 non-null   int64  \n",
      " 2   Credit amount                1000 non-null   float64\n",
      " 3   Duration                     1000 non-null   int64  \n",
      " 4   Purpose_car                  1000 non-null   bool   \n",
      " 5   Purpose_domestic appliances  1000 non-null   bool   \n",
      " 6   Purpose_education            1000 non-null   bool   \n",
      " 7   Purpose_furniture/equipment  1000 non-null   bool   \n",
      " 8   Purpose_radio/TV             1000 non-null   bool   \n",
      " 9   Purpose_repairs              1000 non-null   bool   \n",
      " 10  Purpose_vacation/others      1000 non-null   bool   \n",
      " 11  Sex_male                     1000 non-null   bool   \n",
      " 12  Housing_own                  1000 non-null   bool   \n",
      " 13  Housing_rent                 1000 non-null   bool   \n",
      " 14  Savings_moderate             1000 non-null   bool   \n",
      " 15  Savings_no_inf               1000 non-null   bool   \n",
      " 16  Savings_quite rich           1000 non-null   bool   \n",
      " 17  Savings_rich                 1000 non-null   bool   \n",
      " 18  Risk_bad                     1000 non-null   bool   \n",
      " 19  Check_moderate               1000 non-null   bool   \n",
      " 20  Check_no_inf                 1000 non-null   bool   \n",
      " 21  Check_rich                   1000 non-null   bool   \n",
      " 22  Age_cat_Young                1000 non-null   bool   \n",
      " 23  Age_cat_Adult                1000 non-null   bool   \n",
      " 24  Age_cat_Senior               1000 non-null   bool   \n",
      "dtypes: bool(21), float64(1), int64(3)\n",
      "memory usage: 59.6 KB\n"
     ]
    }
   ],
   "source": [
    "df_credit.info()"
   ]
  },
  {
   "cell_type": "code",
   "execution_count": 61,
   "metadata": {
    "_cell_guid": "379c0593-dbc5-4523-b130-8a7ee71bce5b",
    "_uuid": "3e45297ce0530246c288cb8ab64378b639246f6b"
   },
   "outputs": [
    {
     "data": {
      "text/plain": [
       "Age                             53\n",
       "Job                              4\n",
       "Credit amount                  921\n",
       "Duration                        33\n",
       "Purpose_car                      2\n",
       "Purpose_domestic appliances      2\n",
       "Purpose_education                2\n",
       "Purpose_furniture/equipment      2\n",
       "Purpose_radio/TV                 2\n",
       "Purpose_repairs                  2\n",
       "Purpose_vacation/others          2\n",
       "Sex_male                         2\n",
       "Housing_own                      2\n",
       "Housing_rent                     2\n",
       "Savings_moderate                 2\n",
       "Savings_no_inf                   2\n",
       "Savings_quite rich               2\n",
       "Savings_rich                     2\n",
       "Risk_bad                         2\n",
       "Check_moderate                   2\n",
       "Check_no_inf                     2\n",
       "Check_rich                       2\n",
       "Age_cat_Young                    2\n",
       "Age_cat_Adult                    2\n",
       "Age_cat_Senior                   2\n",
       "dtype: int64"
      ]
     },
     "execution_count": 61,
     "metadata": {},
     "output_type": "execute_result"
    }
   ],
   "source": [
    "df_credit.nunique()"
   ]
  },
  {
   "cell_type": "code",
   "execution_count": 62,
   "metadata": {},
   "outputs": [
    {
     "data": {
      "text/html": [
       "<div>\n",
       "<style scoped>\n",
       "    .dataframe tbody tr th:only-of-type {\n",
       "        vertical-align: middle;\n",
       "    }\n",
       "\n",
       "    .dataframe tbody tr th {\n",
       "        vertical-align: top;\n",
       "    }\n",
       "\n",
       "    .dataframe thead th {\n",
       "        text-align: right;\n",
       "    }\n",
       "</style>\n",
       "<table border=\"1\" class=\"dataframe\">\n",
       "  <thead>\n",
       "    <tr style=\"text-align: right;\">\n",
       "      <th></th>\n",
       "      <th>Age</th>\n",
       "      <th>Job</th>\n",
       "      <th>Credit amount</th>\n",
       "      <th>Duration</th>\n",
       "      <th>Purpose_car</th>\n",
       "      <th>Purpose_domestic appliances</th>\n",
       "      <th>Purpose_education</th>\n",
       "      <th>Purpose_furniture/equipment</th>\n",
       "      <th>Purpose_radio/TV</th>\n",
       "      <th>Purpose_repairs</th>\n",
       "      <th>...</th>\n",
       "      <th>Savings_no_inf</th>\n",
       "      <th>Savings_quite rich</th>\n",
       "      <th>Savings_rich</th>\n",
       "      <th>Risk_bad</th>\n",
       "      <th>Check_moderate</th>\n",
       "      <th>Check_no_inf</th>\n",
       "      <th>Check_rich</th>\n",
       "      <th>Age_cat_Young</th>\n",
       "      <th>Age_cat_Adult</th>\n",
       "      <th>Age_cat_Senior</th>\n",
       "    </tr>\n",
       "  </thead>\n",
       "  <tbody>\n",
       "    <tr>\n",
       "      <th>0</th>\n",
       "      <td>67</td>\n",
       "      <td>2</td>\n",
       "      <td>7.063904</td>\n",
       "      <td>6</td>\n",
       "      <td>False</td>\n",
       "      <td>False</td>\n",
       "      <td>False</td>\n",
       "      <td>False</td>\n",
       "      <td>True</td>\n",
       "      <td>False</td>\n",
       "      <td>...</td>\n",
       "      <td>True</td>\n",
       "      <td>False</td>\n",
       "      <td>False</td>\n",
       "      <td>False</td>\n",
       "      <td>False</td>\n",
       "      <td>False</td>\n",
       "      <td>False</td>\n",
       "      <td>False</td>\n",
       "      <td>False</td>\n",
       "      <td>True</td>\n",
       "    </tr>\n",
       "    <tr>\n",
       "      <th>1</th>\n",
       "      <td>22</td>\n",
       "      <td>2</td>\n",
       "      <td>8.691315</td>\n",
       "      <td>48</td>\n",
       "      <td>False</td>\n",
       "      <td>False</td>\n",
       "      <td>False</td>\n",
       "      <td>False</td>\n",
       "      <td>True</td>\n",
       "      <td>False</td>\n",
       "      <td>...</td>\n",
       "      <td>False</td>\n",
       "      <td>False</td>\n",
       "      <td>False</td>\n",
       "      <td>True</td>\n",
       "      <td>True</td>\n",
       "      <td>False</td>\n",
       "      <td>False</td>\n",
       "      <td>False</td>\n",
       "      <td>False</td>\n",
       "      <td>False</td>\n",
       "    </tr>\n",
       "    <tr>\n",
       "      <th>2</th>\n",
       "      <td>49</td>\n",
       "      <td>1</td>\n",
       "      <td>7.647786</td>\n",
       "      <td>12</td>\n",
       "      <td>False</td>\n",
       "      <td>False</td>\n",
       "      <td>True</td>\n",
       "      <td>False</td>\n",
       "      <td>False</td>\n",
       "      <td>False</td>\n",
       "      <td>...</td>\n",
       "      <td>False</td>\n",
       "      <td>False</td>\n",
       "      <td>False</td>\n",
       "      <td>False</td>\n",
       "      <td>False</td>\n",
       "      <td>True</td>\n",
       "      <td>False</td>\n",
       "      <td>False</td>\n",
       "      <td>True</td>\n",
       "      <td>False</td>\n",
       "    </tr>\n",
       "    <tr>\n",
       "      <th>3</th>\n",
       "      <td>45</td>\n",
       "      <td>2</td>\n",
       "      <td>8.972337</td>\n",
       "      <td>42</td>\n",
       "      <td>False</td>\n",
       "      <td>False</td>\n",
       "      <td>False</td>\n",
       "      <td>True</td>\n",
       "      <td>False</td>\n",
       "      <td>False</td>\n",
       "      <td>...</td>\n",
       "      <td>False</td>\n",
       "      <td>False</td>\n",
       "      <td>False</td>\n",
       "      <td>False</td>\n",
       "      <td>False</td>\n",
       "      <td>False</td>\n",
       "      <td>False</td>\n",
       "      <td>False</td>\n",
       "      <td>True</td>\n",
       "      <td>False</td>\n",
       "    </tr>\n",
       "    <tr>\n",
       "      <th>4</th>\n",
       "      <td>53</td>\n",
       "      <td>2</td>\n",
       "      <td>8.490849</td>\n",
       "      <td>24</td>\n",
       "      <td>True</td>\n",
       "      <td>False</td>\n",
       "      <td>False</td>\n",
       "      <td>False</td>\n",
       "      <td>False</td>\n",
       "      <td>False</td>\n",
       "      <td>...</td>\n",
       "      <td>False</td>\n",
       "      <td>False</td>\n",
       "      <td>False</td>\n",
       "      <td>True</td>\n",
       "      <td>False</td>\n",
       "      <td>False</td>\n",
       "      <td>False</td>\n",
       "      <td>False</td>\n",
       "      <td>True</td>\n",
       "      <td>False</td>\n",
       "    </tr>\n",
       "  </tbody>\n",
       "</table>\n",
       "<p>5 rows × 25 columns</p>\n",
       "</div>"
      ],
      "text/plain": [
       "   Age  Job  Credit amount  Duration  Purpose_car  \\\n",
       "0   67    2       7.063904         6        False   \n",
       "1   22    2       8.691315        48        False   \n",
       "2   49    1       7.647786        12        False   \n",
       "3   45    2       8.972337        42        False   \n",
       "4   53    2       8.490849        24         True   \n",
       "\n",
       "   Purpose_domestic appliances  Purpose_education  \\\n",
       "0                        False              False   \n",
       "1                        False              False   \n",
       "2                        False               True   \n",
       "3                        False              False   \n",
       "4                        False              False   \n",
       "\n",
       "   Purpose_furniture/equipment  Purpose_radio/TV  Purpose_repairs  ...  \\\n",
       "0                        False              True            False  ...   \n",
       "1                        False              True            False  ...   \n",
       "2                        False             False            False  ...   \n",
       "3                         True             False            False  ...   \n",
       "4                        False             False            False  ...   \n",
       "\n",
       "   Savings_no_inf  Savings_quite rich  Savings_rich  Risk_bad  Check_moderate  \\\n",
       "0            True               False         False     False           False   \n",
       "1           False               False         False      True            True   \n",
       "2           False               False         False     False           False   \n",
       "3           False               False         False     False           False   \n",
       "4           False               False         False      True           False   \n",
       "\n",
       "   Check_no_inf  Check_rich  Age_cat_Young  Age_cat_Adult  Age_cat_Senior  \n",
       "0         False       False          False          False            True  \n",
       "1         False       False          False          False           False  \n",
       "2          True       False          False           True           False  \n",
       "3         False       False          False           True           False  \n",
       "4         False       False          False           True           False  \n",
       "\n",
       "[5 rows x 25 columns]"
      ]
     },
     "execution_count": 62,
     "metadata": {},
     "output_type": "execute_result"
    }
   ],
   "source": [
    "df_credit.head()"
   ]
  },
  {
   "cell_type": "markdown",
   "metadata": {
    "_cell_guid": "2c1da4dc-39d6-4f4a-9a3d-c7c31ddb5e57",
    "_uuid": "06a3ac5f2cc47753350a7d3dd8ad92873f03b16b"
   },
   "source": [
    "# **4. Some explorations:** <a id=\"Explorations\"></a> <br>\n",
    "\n",
    "- Starting by distribuition of column Age.\n",
    "- Some Seaborn graphical\n",
    "- Columns crossing\n",
    "\n"
   ]
  },
  {
   "cell_type": "markdown",
   "metadata": {
    "_cell_guid": "46bd5d63-dfe1-477a-8647-926471e7ee37",
    "_uuid": "71d1c34259be3ea63a76ac5010c96ccc90f17f40"
   },
   "source": [
    "<h2>Let's start looking through target variable and their distribuition</h2>"
   ]
  },
  {
   "cell_type": "code",
   "execution_count": 7,
   "metadata": {
    "_cell_guid": "6c974adc-9d98-4648-ada5-15ff5f1b615c",
    "_kg_hide-input": true,
    "_uuid": "31cd32f3d652470e6a1e3f371778cfc6f557e34a"
   },
   "outputs": [
    {
     "data": {
      "text/html": [
       "        <script type=\"text/javascript\">\n",
       "        window.PlotlyConfig = {MathJaxConfig: 'local'};\n",
       "        if (window.MathJax && window.MathJax.Hub && window.MathJax.Hub.Config) {window.MathJax.Hub.Config({SVG: {font: \"STIX-Web\"}});}\n",
       "        </script>\n",
       "        <script type=\"module\">import \"https://cdn.plot.ly/plotly-3.0.1.min\"</script>\n",
       "        "
      ]
     },
     "metadata": {},
     "output_type": "display_data"
    },
    {
     "data": {
      "application/vnd.plotly.v1+json": {
       "config": {
        "linkText": "Export to plot.ly",
        "plotlyServerURL": "https://plot.ly",
        "showLink": false
       },
       "data": [
        {
         "name": "Good credit",
         "type": "bar",
         "x": [
          "good"
         ],
         "y": {
          "bdata": "vAI=",
          "dtype": "i2"
         }
        },
        {
         "name": "Bad credit",
         "type": "bar",
         "x": [
          "bad"
         ],
         "y": {
          "bdata": "LAE=",
          "dtype": "i2"
         }
        }
       ],
       "layout": {
        "template": {
         "data": {
          "bar": [
           {
            "error_x": {
             "color": "#2a3f5f"
            },
            "error_y": {
             "color": "#2a3f5f"
            },
            "marker": {
             "line": {
              "color": "#E5ECF6",
              "width": 0.5
             },
             "pattern": {
              "fillmode": "overlay",
              "size": 10,
              "solidity": 0.2
             }
            },
            "type": "bar"
           }
          ],
          "barpolar": [
           {
            "marker": {
             "line": {
              "color": "#E5ECF6",
              "width": 0.5
             },
             "pattern": {
              "fillmode": "overlay",
              "size": 10,
              "solidity": 0.2
             }
            },
            "type": "barpolar"
           }
          ],
          "carpet": [
           {
            "aaxis": {
             "endlinecolor": "#2a3f5f",
             "gridcolor": "white",
             "linecolor": "white",
             "minorgridcolor": "white",
             "startlinecolor": "#2a3f5f"
            },
            "baxis": {
             "endlinecolor": "#2a3f5f",
             "gridcolor": "white",
             "linecolor": "white",
             "minorgridcolor": "white",
             "startlinecolor": "#2a3f5f"
            },
            "type": "carpet"
           }
          ],
          "choropleth": [
           {
            "colorbar": {
             "outlinewidth": 0,
             "ticks": ""
            },
            "type": "choropleth"
           }
          ],
          "contour": [
           {
            "colorbar": {
             "outlinewidth": 0,
             "ticks": ""
            },
            "colorscale": [
             [
              0,
              "#0d0887"
             ],
             [
              0.1111111111111111,
              "#46039f"
             ],
             [
              0.2222222222222222,
              "#7201a8"
             ],
             [
              0.3333333333333333,
              "#9c179e"
             ],
             [
              0.4444444444444444,
              "#bd3786"
             ],
             [
              0.5555555555555556,
              "#d8576b"
             ],
             [
              0.6666666666666666,
              "#ed7953"
             ],
             [
              0.7777777777777778,
              "#fb9f3a"
             ],
             [
              0.8888888888888888,
              "#fdca26"
             ],
             [
              1,
              "#f0f921"
             ]
            ],
            "type": "contour"
           }
          ],
          "contourcarpet": [
           {
            "colorbar": {
             "outlinewidth": 0,
             "ticks": ""
            },
            "type": "contourcarpet"
           }
          ],
          "heatmap": [
           {
            "colorbar": {
             "outlinewidth": 0,
             "ticks": ""
            },
            "colorscale": [
             [
              0,
              "#0d0887"
             ],
             [
              0.1111111111111111,
              "#46039f"
             ],
             [
              0.2222222222222222,
              "#7201a8"
             ],
             [
              0.3333333333333333,
              "#9c179e"
             ],
             [
              0.4444444444444444,
              "#bd3786"
             ],
             [
              0.5555555555555556,
              "#d8576b"
             ],
             [
              0.6666666666666666,
              "#ed7953"
             ],
             [
              0.7777777777777778,
              "#fb9f3a"
             ],
             [
              0.8888888888888888,
              "#fdca26"
             ],
             [
              1,
              "#f0f921"
             ]
            ],
            "type": "heatmap"
           }
          ],
          "histogram": [
           {
            "marker": {
             "pattern": {
              "fillmode": "overlay",
              "size": 10,
              "solidity": 0.2
             }
            },
            "type": "histogram"
           }
          ],
          "histogram2d": [
           {
            "colorbar": {
             "outlinewidth": 0,
             "ticks": ""
            },
            "colorscale": [
             [
              0,
              "#0d0887"
             ],
             [
              0.1111111111111111,
              "#46039f"
             ],
             [
              0.2222222222222222,
              "#7201a8"
             ],
             [
              0.3333333333333333,
              "#9c179e"
             ],
             [
              0.4444444444444444,
              "#bd3786"
             ],
             [
              0.5555555555555556,
              "#d8576b"
             ],
             [
              0.6666666666666666,
              "#ed7953"
             ],
             [
              0.7777777777777778,
              "#fb9f3a"
             ],
             [
              0.8888888888888888,
              "#fdca26"
             ],
             [
              1,
              "#f0f921"
             ]
            ],
            "type": "histogram2d"
           }
          ],
          "histogram2dcontour": [
           {
            "colorbar": {
             "outlinewidth": 0,
             "ticks": ""
            },
            "colorscale": [
             [
              0,
              "#0d0887"
             ],
             [
              0.1111111111111111,
              "#46039f"
             ],
             [
              0.2222222222222222,
              "#7201a8"
             ],
             [
              0.3333333333333333,
              "#9c179e"
             ],
             [
              0.4444444444444444,
              "#bd3786"
             ],
             [
              0.5555555555555556,
              "#d8576b"
             ],
             [
              0.6666666666666666,
              "#ed7953"
             ],
             [
              0.7777777777777778,
              "#fb9f3a"
             ],
             [
              0.8888888888888888,
              "#fdca26"
             ],
             [
              1,
              "#f0f921"
             ]
            ],
            "type": "histogram2dcontour"
           }
          ],
          "mesh3d": [
           {
            "colorbar": {
             "outlinewidth": 0,
             "ticks": ""
            },
            "type": "mesh3d"
           }
          ],
          "parcoords": [
           {
            "line": {
             "colorbar": {
              "outlinewidth": 0,
              "ticks": ""
             }
            },
            "type": "parcoords"
           }
          ],
          "pie": [
           {
            "automargin": true,
            "type": "pie"
           }
          ],
          "scatter": [
           {
            "fillpattern": {
             "fillmode": "overlay",
             "size": 10,
             "solidity": 0.2
            },
            "type": "scatter"
           }
          ],
          "scatter3d": [
           {
            "line": {
             "colorbar": {
              "outlinewidth": 0,
              "ticks": ""
             }
            },
            "marker": {
             "colorbar": {
              "outlinewidth": 0,
              "ticks": ""
             }
            },
            "type": "scatter3d"
           }
          ],
          "scattercarpet": [
           {
            "marker": {
             "colorbar": {
              "outlinewidth": 0,
              "ticks": ""
             }
            },
            "type": "scattercarpet"
           }
          ],
          "scattergeo": [
           {
            "marker": {
             "colorbar": {
              "outlinewidth": 0,
              "ticks": ""
             }
            },
            "type": "scattergeo"
           }
          ],
          "scattergl": [
           {
            "marker": {
             "colorbar": {
              "outlinewidth": 0,
              "ticks": ""
             }
            },
            "type": "scattergl"
           }
          ],
          "scattermap": [
           {
            "marker": {
             "colorbar": {
              "outlinewidth": 0,
              "ticks": ""
             }
            },
            "type": "scattermap"
           }
          ],
          "scattermapbox": [
           {
            "marker": {
             "colorbar": {
              "outlinewidth": 0,
              "ticks": ""
             }
            },
            "type": "scattermapbox"
           }
          ],
          "scatterpolar": [
           {
            "marker": {
             "colorbar": {
              "outlinewidth": 0,
              "ticks": ""
             }
            },
            "type": "scatterpolar"
           }
          ],
          "scatterpolargl": [
           {
            "marker": {
             "colorbar": {
              "outlinewidth": 0,
              "ticks": ""
             }
            },
            "type": "scatterpolargl"
           }
          ],
          "scatterternary": [
           {
            "marker": {
             "colorbar": {
              "outlinewidth": 0,
              "ticks": ""
             }
            },
            "type": "scatterternary"
           }
          ],
          "surface": [
           {
            "colorbar": {
             "outlinewidth": 0,
             "ticks": ""
            },
            "colorscale": [
             [
              0,
              "#0d0887"
             ],
             [
              0.1111111111111111,
              "#46039f"
             ],
             [
              0.2222222222222222,
              "#7201a8"
             ],
             [
              0.3333333333333333,
              "#9c179e"
             ],
             [
              0.4444444444444444,
              "#bd3786"
             ],
             [
              0.5555555555555556,
              "#d8576b"
             ],
             [
              0.6666666666666666,
              "#ed7953"
             ],
             [
              0.7777777777777778,
              "#fb9f3a"
             ],
             [
              0.8888888888888888,
              "#fdca26"
             ],
             [
              1,
              "#f0f921"
             ]
            ],
            "type": "surface"
           }
          ],
          "table": [
           {
            "cells": {
             "fill": {
              "color": "#EBF0F8"
             },
             "line": {
              "color": "white"
             }
            },
            "header": {
             "fill": {
              "color": "#C8D4E3"
             },
             "line": {
              "color": "white"
             }
            },
            "type": "table"
           }
          ]
         },
         "layout": {
          "annotationdefaults": {
           "arrowcolor": "#2a3f5f",
           "arrowhead": 0,
           "arrowwidth": 1
          },
          "autotypenumbers": "strict",
          "coloraxis": {
           "colorbar": {
            "outlinewidth": 0,
            "ticks": ""
           }
          },
          "colorscale": {
           "diverging": [
            [
             0,
             "#8e0152"
            ],
            [
             0.1,
             "#c51b7d"
            ],
            [
             0.2,
             "#de77ae"
            ],
            [
             0.3,
             "#f1b6da"
            ],
            [
             0.4,
             "#fde0ef"
            ],
            [
             0.5,
             "#f7f7f7"
            ],
            [
             0.6,
             "#e6f5d0"
            ],
            [
             0.7,
             "#b8e186"
            ],
            [
             0.8,
             "#7fbc41"
            ],
            [
             0.9,
             "#4d9221"
            ],
            [
             1,
             "#276419"
            ]
           ],
           "sequential": [
            [
             0,
             "#0d0887"
            ],
            [
             0.1111111111111111,
             "#46039f"
            ],
            [
             0.2222222222222222,
             "#7201a8"
            ],
            [
             0.3333333333333333,
             "#9c179e"
            ],
            [
             0.4444444444444444,
             "#bd3786"
            ],
            [
             0.5555555555555556,
             "#d8576b"
            ],
            [
             0.6666666666666666,
             "#ed7953"
            ],
            [
             0.7777777777777778,
             "#fb9f3a"
            ],
            [
             0.8888888888888888,
             "#fdca26"
            ],
            [
             1,
             "#f0f921"
            ]
           ],
           "sequentialminus": [
            [
             0,
             "#0d0887"
            ],
            [
             0.1111111111111111,
             "#46039f"
            ],
            [
             0.2222222222222222,
             "#7201a8"
            ],
            [
             0.3333333333333333,
             "#9c179e"
            ],
            [
             0.4444444444444444,
             "#bd3786"
            ],
            [
             0.5555555555555556,
             "#d8576b"
            ],
            [
             0.6666666666666666,
             "#ed7953"
            ],
            [
             0.7777777777777778,
             "#fb9f3a"
            ],
            [
             0.8888888888888888,
             "#fdca26"
            ],
            [
             1,
             "#f0f921"
            ]
           ]
          },
          "colorway": [
           "#636efa",
           "#EF553B",
           "#00cc96",
           "#ab63fa",
           "#FFA15A",
           "#19d3f3",
           "#FF6692",
           "#B6E880",
           "#FF97FF",
           "#FECB52"
          ],
          "font": {
           "color": "#2a3f5f"
          },
          "geo": {
           "bgcolor": "white",
           "lakecolor": "white",
           "landcolor": "#E5ECF6",
           "showlakes": true,
           "showland": true,
           "subunitcolor": "white"
          },
          "hoverlabel": {
           "align": "left"
          },
          "hovermode": "closest",
          "mapbox": {
           "style": "light"
          },
          "paper_bgcolor": "white",
          "plot_bgcolor": "#E5ECF6",
          "polar": {
           "angularaxis": {
            "gridcolor": "white",
            "linecolor": "white",
            "ticks": ""
           },
           "bgcolor": "#E5ECF6",
           "radialaxis": {
            "gridcolor": "white",
            "linecolor": "white",
            "ticks": ""
           }
          },
          "scene": {
           "xaxis": {
            "backgroundcolor": "#E5ECF6",
            "gridcolor": "white",
            "gridwidth": 2,
            "linecolor": "white",
            "showbackground": true,
            "ticks": "",
            "zerolinecolor": "white"
           },
           "yaxis": {
            "backgroundcolor": "#E5ECF6",
            "gridcolor": "white",
            "gridwidth": 2,
            "linecolor": "white",
            "showbackground": true,
            "ticks": "",
            "zerolinecolor": "white"
           },
           "zaxis": {
            "backgroundcolor": "#E5ECF6",
            "gridcolor": "white",
            "gridwidth": 2,
            "linecolor": "white",
            "showbackground": true,
            "ticks": "",
            "zerolinecolor": "white"
           }
          },
          "shapedefaults": {
           "line": {
            "color": "#2a3f5f"
           }
          },
          "ternary": {
           "aaxis": {
            "gridcolor": "white",
            "linecolor": "white",
            "ticks": ""
           },
           "baxis": {
            "gridcolor": "white",
            "linecolor": "white",
            "ticks": ""
           },
           "bgcolor": "#E5ECF6",
           "caxis": {
            "gridcolor": "white",
            "linecolor": "white",
            "ticks": ""
           }
          },
          "title": {
           "x": 0.05
          },
          "xaxis": {
           "automargin": true,
           "gridcolor": "white",
           "linecolor": "white",
           "ticks": "",
           "title": {
            "standoff": 15
           },
           "zerolinecolor": "white",
           "zerolinewidth": 2
          },
          "yaxis": {
           "automargin": true,
           "gridcolor": "white",
           "linecolor": "white",
           "ticks": "",
           "title": {
            "standoff": 15
           },
           "zerolinecolor": "white",
           "zerolinewidth": 2
          }
         }
        },
        "title": {
         "text": "Target variable distribution"
        },
        "xaxis": {
         "title": {
          "text": "Risk Variable"
         }
        },
        "yaxis": {
         "title": {
          "text": "Count"
         }
        }
       }
      },
      "text/html": [
       "<div>            <script src=\"https://cdnjs.cloudflare.com/ajax/libs/mathjax/2.7.5/MathJax.js?config=TeX-AMS-MML_SVG\"></script><script type=\"text/javascript\">if (window.MathJax && window.MathJax.Hub && window.MathJax.Hub.Config) {window.MathJax.Hub.Config({SVG: {font: \"STIX-Web\"}});}</script>                <script type=\"text/javascript\">window.PlotlyConfig = {MathJaxConfig: 'local'};</script>\n",
       "        <script charset=\"utf-8\" src=\"https://cdn.plot.ly/plotly-3.0.1.min.js\"></script>                <div id=\"c404a382-6cce-4852-8084-e19c6ea66795\" class=\"plotly-graph-div\" style=\"height:525px; width:100%;\"></div>            <script type=\"text/javascript\">                window.PLOTLYENV=window.PLOTLYENV || {};                                if (document.getElementById(\"c404a382-6cce-4852-8084-e19c6ea66795\")) {                    Plotly.newPlot(                        \"c404a382-6cce-4852-8084-e19c6ea66795\",                        [{\"name\":\"Good credit\",\"x\":[\"good\"],\"y\":{\"dtype\":\"i2\",\"bdata\":\"vAI=\"},\"type\":\"bar\"},{\"name\":\"Bad credit\",\"x\":[\"bad\"],\"y\":{\"dtype\":\"i2\",\"bdata\":\"LAE=\"},\"type\":\"bar\"}],                        {\"template\":{\"data\":{\"barpolar\":[{\"marker\":{\"line\":{\"color\":\"#E5ECF6\",\"width\":0.5},\"pattern\":{\"fillmode\":\"overlay\",\"size\":10,\"solidity\":0.2}},\"type\":\"barpolar\"}],\"bar\":[{\"error_x\":{\"color\":\"#2a3f5f\"},\"error_y\":{\"color\":\"#2a3f5f\"},\"marker\":{\"line\":{\"color\":\"#E5ECF6\",\"width\":0.5},\"pattern\":{\"fillmode\":\"overlay\",\"size\":10,\"solidity\":0.2}},\"type\":\"bar\"}],\"carpet\":[{\"aaxis\":{\"endlinecolor\":\"#2a3f5f\",\"gridcolor\":\"white\",\"linecolor\":\"white\",\"minorgridcolor\":\"white\",\"startlinecolor\":\"#2a3f5f\"},\"baxis\":{\"endlinecolor\":\"#2a3f5f\",\"gridcolor\":\"white\",\"linecolor\":\"white\",\"minorgridcolor\":\"white\",\"startlinecolor\":\"#2a3f5f\"},\"type\":\"carpet\"}],\"choropleth\":[{\"colorbar\":{\"outlinewidth\":0,\"ticks\":\"\"},\"type\":\"choropleth\"}],\"contourcarpet\":[{\"colorbar\":{\"outlinewidth\":0,\"ticks\":\"\"},\"type\":\"contourcarpet\"}],\"contour\":[{\"colorbar\":{\"outlinewidth\":0,\"ticks\":\"\"},\"colorscale\":[[0.0,\"#0d0887\"],[0.1111111111111111,\"#46039f\"],[0.2222222222222222,\"#7201a8\"],[0.3333333333333333,\"#9c179e\"],[0.4444444444444444,\"#bd3786\"],[0.5555555555555556,\"#d8576b\"],[0.6666666666666666,\"#ed7953\"],[0.7777777777777778,\"#fb9f3a\"],[0.8888888888888888,\"#fdca26\"],[1.0,\"#f0f921\"]],\"type\":\"contour\"}],\"heatmap\":[{\"colorbar\":{\"outlinewidth\":0,\"ticks\":\"\"},\"colorscale\":[[0.0,\"#0d0887\"],[0.1111111111111111,\"#46039f\"],[0.2222222222222222,\"#7201a8\"],[0.3333333333333333,\"#9c179e\"],[0.4444444444444444,\"#bd3786\"],[0.5555555555555556,\"#d8576b\"],[0.6666666666666666,\"#ed7953\"],[0.7777777777777778,\"#fb9f3a\"],[0.8888888888888888,\"#fdca26\"],[1.0,\"#f0f921\"]],\"type\":\"heatmap\"}],\"histogram2dcontour\":[{\"colorbar\":{\"outlinewidth\":0,\"ticks\":\"\"},\"colorscale\":[[0.0,\"#0d0887\"],[0.1111111111111111,\"#46039f\"],[0.2222222222222222,\"#7201a8\"],[0.3333333333333333,\"#9c179e\"],[0.4444444444444444,\"#bd3786\"],[0.5555555555555556,\"#d8576b\"],[0.6666666666666666,\"#ed7953\"],[0.7777777777777778,\"#fb9f3a\"],[0.8888888888888888,\"#fdca26\"],[1.0,\"#f0f921\"]],\"type\":\"histogram2dcontour\"}],\"histogram2d\":[{\"colorbar\":{\"outlinewidth\":0,\"ticks\":\"\"},\"colorscale\":[[0.0,\"#0d0887\"],[0.1111111111111111,\"#46039f\"],[0.2222222222222222,\"#7201a8\"],[0.3333333333333333,\"#9c179e\"],[0.4444444444444444,\"#bd3786\"],[0.5555555555555556,\"#d8576b\"],[0.6666666666666666,\"#ed7953\"],[0.7777777777777778,\"#fb9f3a\"],[0.8888888888888888,\"#fdca26\"],[1.0,\"#f0f921\"]],\"type\":\"histogram2d\"}],\"histogram\":[{\"marker\":{\"pattern\":{\"fillmode\":\"overlay\",\"size\":10,\"solidity\":0.2}},\"type\":\"histogram\"}],\"mesh3d\":[{\"colorbar\":{\"outlinewidth\":0,\"ticks\":\"\"},\"type\":\"mesh3d\"}],\"parcoords\":[{\"line\":{\"colorbar\":{\"outlinewidth\":0,\"ticks\":\"\"}},\"type\":\"parcoords\"}],\"pie\":[{\"automargin\":true,\"type\":\"pie\"}],\"scatter3d\":[{\"line\":{\"colorbar\":{\"outlinewidth\":0,\"ticks\":\"\"}},\"marker\":{\"colorbar\":{\"outlinewidth\":0,\"ticks\":\"\"}},\"type\":\"scatter3d\"}],\"scattercarpet\":[{\"marker\":{\"colorbar\":{\"outlinewidth\":0,\"ticks\":\"\"}},\"type\":\"scattercarpet\"}],\"scattergeo\":[{\"marker\":{\"colorbar\":{\"outlinewidth\":0,\"ticks\":\"\"}},\"type\":\"scattergeo\"}],\"scattergl\":[{\"marker\":{\"colorbar\":{\"outlinewidth\":0,\"ticks\":\"\"}},\"type\":\"scattergl\"}],\"scattermapbox\":[{\"marker\":{\"colorbar\":{\"outlinewidth\":0,\"ticks\":\"\"}},\"type\":\"scattermapbox\"}],\"scattermap\":[{\"marker\":{\"colorbar\":{\"outlinewidth\":0,\"ticks\":\"\"}},\"type\":\"scattermap\"}],\"scatterpolargl\":[{\"marker\":{\"colorbar\":{\"outlinewidth\":0,\"ticks\":\"\"}},\"type\":\"scatterpolargl\"}],\"scatterpolar\":[{\"marker\":{\"colorbar\":{\"outlinewidth\":0,\"ticks\":\"\"}},\"type\":\"scatterpolar\"}],\"scatter\":[{\"fillpattern\":{\"fillmode\":\"overlay\",\"size\":10,\"solidity\":0.2},\"type\":\"scatter\"}],\"scatterternary\":[{\"marker\":{\"colorbar\":{\"outlinewidth\":0,\"ticks\":\"\"}},\"type\":\"scatterternary\"}],\"surface\":[{\"colorbar\":{\"outlinewidth\":0,\"ticks\":\"\"},\"colorscale\":[[0.0,\"#0d0887\"],[0.1111111111111111,\"#46039f\"],[0.2222222222222222,\"#7201a8\"],[0.3333333333333333,\"#9c179e\"],[0.4444444444444444,\"#bd3786\"],[0.5555555555555556,\"#d8576b\"],[0.6666666666666666,\"#ed7953\"],[0.7777777777777778,\"#fb9f3a\"],[0.8888888888888888,\"#fdca26\"],[1.0,\"#f0f921\"]],\"type\":\"surface\"}],\"table\":[{\"cells\":{\"fill\":{\"color\":\"#EBF0F8\"},\"line\":{\"color\":\"white\"}},\"header\":{\"fill\":{\"color\":\"#C8D4E3\"},\"line\":{\"color\":\"white\"}},\"type\":\"table\"}]},\"layout\":{\"annotationdefaults\":{\"arrowcolor\":\"#2a3f5f\",\"arrowhead\":0,\"arrowwidth\":1},\"autotypenumbers\":\"strict\",\"coloraxis\":{\"colorbar\":{\"outlinewidth\":0,\"ticks\":\"\"}},\"colorscale\":{\"diverging\":[[0,\"#8e0152\"],[0.1,\"#c51b7d\"],[0.2,\"#de77ae\"],[0.3,\"#f1b6da\"],[0.4,\"#fde0ef\"],[0.5,\"#f7f7f7\"],[0.6,\"#e6f5d0\"],[0.7,\"#b8e186\"],[0.8,\"#7fbc41\"],[0.9,\"#4d9221\"],[1,\"#276419\"]],\"sequential\":[[0.0,\"#0d0887\"],[0.1111111111111111,\"#46039f\"],[0.2222222222222222,\"#7201a8\"],[0.3333333333333333,\"#9c179e\"],[0.4444444444444444,\"#bd3786\"],[0.5555555555555556,\"#d8576b\"],[0.6666666666666666,\"#ed7953\"],[0.7777777777777778,\"#fb9f3a\"],[0.8888888888888888,\"#fdca26\"],[1.0,\"#f0f921\"]],\"sequentialminus\":[[0.0,\"#0d0887\"],[0.1111111111111111,\"#46039f\"],[0.2222222222222222,\"#7201a8\"],[0.3333333333333333,\"#9c179e\"],[0.4444444444444444,\"#bd3786\"],[0.5555555555555556,\"#d8576b\"],[0.6666666666666666,\"#ed7953\"],[0.7777777777777778,\"#fb9f3a\"],[0.8888888888888888,\"#fdca26\"],[1.0,\"#f0f921\"]]},\"colorway\":[\"#636efa\",\"#EF553B\",\"#00cc96\",\"#ab63fa\",\"#FFA15A\",\"#19d3f3\",\"#FF6692\",\"#B6E880\",\"#FF97FF\",\"#FECB52\"],\"font\":{\"color\":\"#2a3f5f\"},\"geo\":{\"bgcolor\":\"white\",\"lakecolor\":\"white\",\"landcolor\":\"#E5ECF6\",\"showlakes\":true,\"showland\":true,\"subunitcolor\":\"white\"},\"hoverlabel\":{\"align\":\"left\"},\"hovermode\":\"closest\",\"mapbox\":{\"style\":\"light\"},\"paper_bgcolor\":\"white\",\"plot_bgcolor\":\"#E5ECF6\",\"polar\":{\"angularaxis\":{\"gridcolor\":\"white\",\"linecolor\":\"white\",\"ticks\":\"\"},\"bgcolor\":\"#E5ECF6\",\"radialaxis\":{\"gridcolor\":\"white\",\"linecolor\":\"white\",\"ticks\":\"\"}},\"scene\":{\"xaxis\":{\"backgroundcolor\":\"#E5ECF6\",\"gridcolor\":\"white\",\"gridwidth\":2,\"linecolor\":\"white\",\"showbackground\":true,\"ticks\":\"\",\"zerolinecolor\":\"white\"},\"yaxis\":{\"backgroundcolor\":\"#E5ECF6\",\"gridcolor\":\"white\",\"gridwidth\":2,\"linecolor\":\"white\",\"showbackground\":true,\"ticks\":\"\",\"zerolinecolor\":\"white\"},\"zaxis\":{\"backgroundcolor\":\"#E5ECF6\",\"gridcolor\":\"white\",\"gridwidth\":2,\"linecolor\":\"white\",\"showbackground\":true,\"ticks\":\"\",\"zerolinecolor\":\"white\"}},\"shapedefaults\":{\"line\":{\"color\":\"#2a3f5f\"}},\"ternary\":{\"aaxis\":{\"gridcolor\":\"white\",\"linecolor\":\"white\",\"ticks\":\"\"},\"baxis\":{\"gridcolor\":\"white\",\"linecolor\":\"white\",\"ticks\":\"\"},\"bgcolor\":\"#E5ECF6\",\"caxis\":{\"gridcolor\":\"white\",\"linecolor\":\"white\",\"ticks\":\"\"}},\"title\":{\"x\":0.05},\"xaxis\":{\"automargin\":true,\"gridcolor\":\"white\",\"linecolor\":\"white\",\"ticks\":\"\",\"title\":{\"standoff\":15},\"zerolinecolor\":\"white\",\"zerolinewidth\":2},\"yaxis\":{\"automargin\":true,\"gridcolor\":\"white\",\"linecolor\":\"white\",\"ticks\":\"\",\"title\":{\"standoff\":15},\"zerolinecolor\":\"white\",\"zerolinewidth\":2}}},\"title\":{\"text\":\"Target variable distribution\"},\"xaxis\":{\"title\":{\"text\":\"Risk Variable\"}},\"yaxis\":{\"title\":{\"text\":\"Count\"}}},                        {\"responsive\": true}                    ).then(function(){\n",
       "                            \n",
       "var gd = document.getElementById('c404a382-6cce-4852-8084-e19c6ea66795');\n",
       "var x = new MutationObserver(function (mutations, observer) {{\n",
       "        var display = window.getComputedStyle(gd).display;\n",
       "        if (!display || display === 'none') {{\n",
       "            console.log([gd, 'removed!']);\n",
       "            Plotly.purge(gd);\n",
       "            observer.disconnect();\n",
       "        }}\n",
       "}});\n",
       "\n",
       "// Listen for the removal of the full notebook cells\n",
       "var notebookContainer = gd.closest('#notebook-container');\n",
       "if (notebookContainer) {{\n",
       "    x.observe(notebookContainer, {childList: true});\n",
       "}}\n",
       "\n",
       "// Listen for the clearing of the current output cell\n",
       "var outputEl = gd.closest('.output');\n",
       "if (outputEl) {{\n",
       "    x.observe(outputEl, {childList: true});\n",
       "}}\n",
       "\n",
       "                        })                };            </script>        </div>"
      ]
     },
     "metadata": {},
     "output_type": "display_data"
    }
   ],
   "source": [
    "# it's a library that we work with plotly\n",
    "import plotly.offline as py \n",
    "py.init_notebook_mode(connected=True) # this code, allow us to work with offline plotly version\n",
    "import plotly.graph_objs as go # it's like \"plt\" of matplot\n",
    "import plotly.tools as tls # It's useful to we get some tools of plotly\n",
    "import warnings # This library will be used to ignore some warnings\n",
    "from collections import Counter # To do counter of some features\n",
    "\n",
    "trace0 = go.Bar(\n",
    "            x = df_credit[df_credit[\"Risk\"]== 'good'][\"Risk\"].value_counts().index.values,\n",
    "            y = df_credit[df_credit[\"Risk\"]== 'good'][\"Risk\"].value_counts().values,\n",
    "            name='Good credit'\n",
    "    )\n",
    "\n",
    "trace1 = go.Bar(\n",
    "            x = df_credit[df_credit[\"Risk\"]== 'bad'][\"Risk\"].value_counts().index.values,\n",
    "            y = df_credit[df_credit[\"Risk\"]== 'bad'][\"Risk\"].value_counts().values,\n",
    "            name='Bad credit'\n",
    "    )\n",
    "\n",
    "data = [trace0, trace1]\n",
    "\n",
    "layout = go.Layout(\n",
    "    \n",
    ")\n",
    "\n",
    "layout = go.Layout(\n",
    "    yaxis=dict(\n",
    "        title='Count'\n",
    "    ),\n",
    "    xaxis=dict(\n",
    "        title='Risk Variable'\n",
    "    ),\n",
    "    title='Target variable distribution'\n",
    ")\n",
    "\n",
    "fig = go.Figure(data=data, layout=layout)\n",
    "\n",
    "py.iplot(fig, filename='grouped-bar')"
   ]
  },
  {
   "cell_type": "markdown",
   "metadata": {
    "_cell_guid": "f8e02b71-7445-4124-925c-15178141c2af",
    "_uuid": "db83305148e0d597c7ec66899a770eeeeced6b33"
   },
   "source": [
    "I will try implement some interactive visuals in my Kernels, this will be the first, inspired in Alexader's Kernel and I will also continue implementing plotly and bokeh in my Kerne"
   ]
  },
  {
   "cell_type": "code",
   "execution_count": 8,
   "metadata": {
    "_cell_guid": "967e45bb-8518-49e0-afc3-2cb8ed424f4b",
    "_kg_hide-input": true,
    "_uuid": "d45ccf0ea0715be8421e05e69ddcc22bd611e814"
   },
   "outputs": [
    {
     "name": "stderr",
     "output_type": "stream",
     "text": [
      "C:\\Users\\USER\\anaconda3\\Lib\\site-packages\\plotly\\tools.py:452: DeprecationWarning:\n",
      "\n",
      "plotly.tools.make_subplots is deprecated, please use plotly.subplots.make_subplots instead\n",
      "\n"
     ]
    },
    {
     "data": {
      "application/vnd.plotly.v1+json": {
       "config": {
        "linkText": "Export to plot.ly",
        "plotlyServerURL": "https://plot.ly",
        "showLink": false
       },
       "data": [
        {
         "histnorm": "probability",
         "name": "Good Credit",
         "type": "histogram",
         "x": [
          67,
          49,
          45,
          35,
          53,
          35,
          61,
          22,
          28,
          53,
          25,
          31,
          48,
          44,
          48,
          44,
          26,
          36,
          39,
          42,
          34,
          36,
          27,
          30,
          57,
          33,
          31,
          37,
          24,
          30,
          26,
          44,
          24,
          35,
          39,
          23,
          39,
          28,
          29,
          30,
          25,
          31,
          26,
          31,
          23,
          27,
          50,
          26,
          48,
          29,
          22,
          25,
          30,
          46,
          51,
          41,
          66,
          51,
          39,
          22,
          47,
          24,
          58,
          52,
          29,
          27,
          30,
          56,
          54,
          20,
          54,
          61,
          34,
          36,
          36,
          41,
          24,
          24,
          35,
          26,
          32,
          30,
          35,
          31,
          23,
          28,
          35,
          47,
          27,
          36,
          41,
          24,
          63,
          30,
          40,
          34,
          24,
          27,
          47,
          21,
          38,
          27,
          35,
          44,
          27,
          30,
          27,
          23,
          30,
          39,
          51,
          28,
          46,
          42,
          38,
          24,
          29,
          36,
          48,
          45,
          38,
          34,
          36,
          30,
          36,
          70,
          36,
          32,
          20,
          25,
          26,
          33,
          42,
          52,
          31,
          65,
          50,
          31,
          68,
          33,
          29,
          28,
          36,
          52,
          27,
          26,
          38,
          38,
          43,
          26,
          21,
          55,
          33,
          45,
          51,
          39,
          31,
          23,
          24,
          64,
          26,
          23,
          30,
          32,
          30,
          27,
          22,
          51,
          35,
          25,
          42,
          35,
          39,
          51,
          27,
          35,
          25,
          52,
          35,
          26,
          39,
          46,
          35,
          24,
          27,
          35,
          23,
          57,
          27,
          55,
          36,
          57,
          32,
          36,
          38,
          25,
          32,
          37,
          36,
          32,
          26,
          49,
          29,
          23,
          50,
          49,
          63,
          37,
          35,
          26,
          31,
          49,
          26,
          44,
          56,
          46,
          20,
          45,
          43,
          32,
          54,
          49,
          33,
          24,
          22,
          40,
          25,
          26,
          29,
          38,
          48,
          32,
          27,
          34,
          28,
          36,
          39,
          49,
          34,
          31,
          28,
          75,
          23,
          28,
          31,
          24,
          26,
          25,
          33,
          37,
          43,
          23,
          23,
          34,
          23,
          38,
          46,
          49,
          28,
          61,
          37,
          36,
          21,
          36,
          27,
          22,
          40,
          36,
          33,
          23,
          63,
          34,
          36,
          52,
          39,
          25,
          26,
          26,
          25,
          21,
          40,
          27,
          27,
          30,
          19,
          39,
          31,
          31,
          32,
          55,
          46,
          43,
          39,
          28,
          27,
          43,
          43,
          27,
          26,
          20,
          35,
          40,
          35,
          23,
          31,
          20,
          30,
          47,
          34,
          21,
          29,
          46,
          20,
          74,
          36,
          33,
          25,
          23,
          37,
          65,
          39,
          30,
          29,
          41,
          35,
          55,
          30,
          29,
          34,
          35,
          29,
          36,
          27,
          32,
          37,
          36,
          34,
          38,
          34,
          63,
          32,
          26,
          35,
          36,
          24,
          25,
          39,
          44,
          23,
          26,
          57,
          30,
          44,
          52,
          62,
          35,
          26,
          26,
          27,
          38,
          39,
          40,
          32,
          28,
          42,
          49,
          36,
          28,
          45,
          32,
          26,
          20,
          54,
          37,
          40,
          43,
          36,
          44,
          23,
          26,
          30,
          31,
          42,
          41,
          32,
          41,
          26,
          25,
          75,
          37,
          45,
          60,
          61,
          37,
          32,
          35,
          23,
          45,
          27,
          67,
          49,
          29,
          37,
          23,
          34,
          41,
          38,
          26,
          22,
          27,
          24,
          27,
          33,
          27,
          49,
          26,
          52,
          36,
          21,
          58,
          42,
          36,
          32,
          45,
          23,
          22,
          74,
          33,
          45,
          29,
          22,
          48,
          27,
          37,
          49,
          27,
          22,
          35,
          41,
          36,
          64,
          28,
          23,
          47,
          28,
          21,
          34,
          38,
          33,
          32,
          32,
          50,
          35,
          22,
          37,
          28,
          41,
          23,
          50,
          35,
          50,
          27,
          34,
          27,
          47,
          27,
          31,
          42,
          24,
          26,
          33,
          64,
          26,
          56,
          37,
          33,
          47,
          31,
          34,
          27,
          30,
          35,
          31,
          25,
          25,
          29,
          44,
          28,
          50,
          29,
          38,
          24,
          40,
          47,
          41,
          32,
          35,
          25,
          37,
          32,
          46,
          25,
          63,
          40,
          32,
          31,
          31,
          66,
          41,
          47,
          36,
          33,
          44,
          28,
          37,
          29,
          35,
          45,
          32,
          23,
          41,
          22,
          30,
          28,
          23,
          26,
          33,
          49,
          23,
          25,
          74,
          31,
          59,
          24,
          27,
          40,
          31,
          28,
          63,
          26,
          36,
          52,
          66,
          37,
          25,
          38,
          67,
          60,
          31,
          60,
          35,
          40,
          38,
          41,
          27,
          51,
          32,
          22,
          22,
          54,
          35,
          54,
          48,
          24,
          35,
          24,
          26,
          65,
          55,
          26,
          28,
          54,
          62,
          24,
          43,
          27,
          24,
          47,
          35,
          30,
          38,
          44,
          42,
          21,
          23,
          63,
          46,
          28,
          50,
          47,
          35,
          28,
          59,
          43,
          35,
          45,
          33,
          40,
          28,
          26,
          27,
          32,
          20,
          27,
          42,
          37,
          24,
          40,
          46,
          26,
          24,
          29,
          40,
          36,
          28,
          36,
          38,
          48,
          36,
          65,
          34,
          34,
          40,
          43,
          46,
          38,
          34,
          29,
          31,
          28,
          35,
          33,
          44,
          42,
          40,
          36,
          20,
          24,
          27,
          46,
          33,
          34,
          25,
          28,
          32,
          28,
          37,
          30,
          21,
          58,
          43,
          24,
          30,
          42,
          23,
          30,
          46,
          45,
          31,
          31,
          42,
          46,
          30,
          38,
          40,
          29,
          57,
          49,
          37,
          30,
          30,
          47,
          29,
          22,
          26,
          54,
          29,
          40,
          22,
          43,
          33,
          57,
          64,
          42,
          28,
          30,
          25,
          33,
          64,
          29,
          48,
          37,
          34,
          23,
          30,
          50,
          31,
          40,
          38,
          27
         ],
         "xaxis": "x",
         "yaxis": "y"
        },
        {
         "histnorm": "probability",
         "name": "Bad Credit",
         "type": "histogram",
         "x": [
          22,
          53,
          28,
          25,
          24,
          60,
          32,
          44,
          63,
          25,
          37,
          58,
          57,
          52,
          23,
          61,
          25,
          37,
          40,
          34,
          44,
          47,
          28,
          33,
          58,
          39,
          39,
          25,
          30,
          23,
          25,
          27,
          30,
          29,
          29,
          66,
          22,
          20,
          33,
          31,
          33,
          34,
          26,
          53,
          28,
          30,
          40,
          36,
          74,
          20,
          54,
          34,
          36,
          21,
          34,
          27,
          40,
          21,
          50,
          66,
          27,
          53,
          22,
          26,
          30,
          23,
          61,
          29,
          24,
          22,
          24,
          29,
          37,
          45,
          28,
          34,
          32,
          48,
          28,
          26,
          42,
          37,
          44,
          33,
          24,
          25,
          31,
          28,
          32,
          30,
          24,
          24,
          23,
          44,
          24,
          32,
          29,
          28,
          23,
          26,
          23,
          25,
          42,
          60,
          37,
          57,
          38,
          46,
          27,
          22,
          28,
          42,
          35,
          33,
          33,
          25,
          55,
          29,
          25,
          26,
          41,
          30,
          34,
          61,
          31,
          35,
          29,
          22,
          23,
          28,
          33,
          26,
          47,
          42,
          20,
          29,
          27,
          38,
          24,
          27,
          34,
          26,
          23,
          24,
          53,
          31,
          28,
          33,
          42,
          23,
          31,
          34,
          43,
          24,
          34,
          22,
          28,
          29,
          27,
          31,
          24,
          37,
          36,
          31,
          23,
          27,
          30,
          33,
          20,
          47,
          60,
          20,
          40,
          32,
          23,
          36,
          31,
          30,
          34,
          28,
          50,
          22,
          48,
          22,
          21,
          32,
          38,
          65,
          29,
          44,
          19,
          25,
          26,
          27,
          40,
          27,
          26,
          38,
          40,
          37,
          45,
          42,
          41,
          23,
          43,
          41,
          24,
          29,
          46,
          24,
          25,
          35,
          27,
          34,
          24,
          24,
          21,
          25,
          59,
          21,
          23,
          26,
          37,
          23,
          55,
          32,
          39,
          35,
          24,
          30,
          31,
          25,
          25,
          25,
          23,
          50,
          27,
          39,
          51,
          24,
          26,
          24,
          54,
          46,
          26,
          41,
          33,
          36,
          47,
          23,
          29,
          25,
          48,
          29,
          23,
          68,
          57,
          33,
          32,
          29,
          28,
          35,
          25,
          27,
          43,
          53,
          23,
          42,
          43,
          25,
          31,
          32,
          68,
          33,
          39,
          22,
          55,
          46,
          39,
          22,
          30,
          28,
          42,
          30,
          43,
          31,
          24,
          28,
          26,
          45,
          35,
          23,
          29,
          36,
          47,
          25,
          49,
          33,
          26,
          23
         ],
         "xaxis": "x2",
         "yaxis": "y2"
        },
        {
         "histnorm": "probability",
         "name": "Overall Age",
         "type": "histogram",
         "x": [
          67,
          22,
          49,
          45,
          53,
          35,
          53,
          35,
          61,
          28,
          25,
          24,
          22,
          60,
          28,
          32,
          53,
          25,
          44,
          31,
          48,
          44,
          48,
          44,
          26,
          36,
          39,
          42,
          34,
          63,
          36,
          27,
          30,
          57,
          33,
          25,
          31,
          37,
          37,
          24,
          30,
          26,
          44,
          24,
          58,
          35,
          39,
          23,
          39,
          28,
          29,
          30,
          25,
          31,
          57,
          26,
          52,
          31,
          23,
          23,
          27,
          50,
          61,
          25,
          26,
          48,
          29,
          22,
          37,
          25,
          30,
          46,
          51,
          41,
          40,
          66,
          34,
          51,
          39,
          22,
          44,
          47,
          24,
          58,
          52,
          29,
          27,
          47,
          30,
          28,
          56,
          54,
          33,
          20,
          54,
          58,
          61,
          34,
          36,
          36,
          41,
          24,
          24,
          35,
          26,
          39,
          39,
          32,
          30,
          35,
          31,
          23,
          28,
          25,
          35,
          47,
          30,
          27,
          23,
          36,
          25,
          41,
          24,
          63,
          27,
          30,
          40,
          30,
          34,
          29,
          24,
          29,
          27,
          47,
          21,
          38,
          27,
          66,
          35,
          44,
          27,
          30,
          27,
          22,
          23,
          30,
          39,
          51,
          28,
          46,
          42,
          38,
          24,
          29,
          36,
          20,
          48,
          45,
          38,
          34,
          36,
          30,
          36,
          70,
          36,
          32,
          33,
          20,
          25,
          31,
          33,
          26,
          34,
          33,
          26,
          53,
          42,
          52,
          31,
          65,
          28,
          30,
          40,
          50,
          36,
          31,
          74,
          68,
          20,
          33,
          54,
          34,
          36,
          29,
          21,
          34,
          28,
          27,
          36,
          40,
          52,
          27,
          26,
          21,
          38,
          38,
          43,
          26,
          21,
          55,
          33,
          45,
          50,
          66,
          51,
          39,
          31,
          23,
          24,
          64,
          26,
          23,
          30,
          32,
          30,
          27,
          27,
          53,
          22,
          22,
          26,
          51,
          35,
          25,
          42,
          30,
          23,
          61,
          35,
          39,
          29,
          51,
          24,
          27,
          35,
          25,
          52,
          35,
          26,
          22,
          39,
          46,
          24,
          35,
          24,
          27,
          35,
          29,
          23,
          57,
          27,
          55,
          36,
          57,
          32,
          37,
          36,
          38,
          45,
          25,
          32,
          37,
          36,
          28,
          34,
          32,
          26,
          49,
          32,
          29,
          23,
          50,
          49,
          63,
          37,
          35,
          26,
          31,
          49,
          48,
          26,
          28,
          44,
          56,
          46,
          26,
          20,
          45,
          43,
          32,
          54,
          42,
          37,
          49,
          44,
          33,
          24,
          33,
          24,
          22,
          40,
          25,
          26,
          25,
          29,
          31,
          38,
          48,
          32,
          27,
          28,
          32,
          34,
          28,
          36,
          39,
          49,
          34,
          31,
          28,
          75,
          30,
          24,
          24,
          23,
          44,
          23,
          24,
          28,
          31,
          24,
          26,
          25,
          33,
          37,
          43,
          23,
          23,
          34,
          32,
          23,
          29,
          38,
          28,
          46,
          23,
          49,
          26,
          28,
          23,
          61,
          37,
          36,
          21,
          25,
          36,
          27,
          22,
          42,
          40,
          36,
          33,
          23,
          63,
          60,
          37,
          34,
          36,
          57,
          52,
          39,
          38,
          25,
          26,
          26,
          25,
          21,
          40,
          27,
          27,
          30,
          19,
          39,
          31,
          31,
          32,
          55,
          46,
          46,
          43,
          39,
          28,
          27,
          27,
          43,
          22,
          43,
          27,
          26,
          28,
          20,
          35,
          42,
          40,
          35,
          35,
          33,
          23,
          31,
          33,
          20,
          30,
          47,
          34,
          25,
          21,
          29,
          46,
          20,
          55,
          74,
          29,
          36,
          33,
          25,
          25,
          23,
          37,
          65,
          26,
          39,
          30,
          29,
          41,
          30,
          41,
          34,
          35,
          55,
          61,
          30,
          29,
          34,
          35,
          31,
          29,
          36,
          35,
          27,
          32,
          37,
          36,
          34,
          38,
          34,
          63,
          29,
          32,
          26,
          35,
          22,
          23,
          28,
          36,
          33,
          26,
          24,
          25,
          39,
          44,
          23,
          26,
          57,
          30,
          44,
          47,
          52,
          62,
          35,
          26,
          26,
          42,
          27,
          38,
          39,
          20,
          29,
          40,
          32,
          28,
          27,
          42,
          49,
          38,
          24,
          27,
          36,
          34,
          28,
          45,
          26,
          32,
          26,
          20,
          54,
          37,
          40,
          23,
          43,
          36,
          44,
          24,
          53,
          23,
          26,
          30,
          31,
          42,
          31,
          41,
          32,
          28,
          41,
          26,
          25,
          33,
          75,
          37,
          42,
          45,
          23,
          60,
          31,
          34,
          61,
          43,
          37,
          32,
          24,
          35,
          23,
          45,
          34,
          27,
          67,
          22,
          28,
          29,
          27,
          31,
          49,
          24,
          29,
          37,
          37,
          23,
          36,
          34,
          41,
          31,
          23,
          38,
          26,
          22,
          27,
          24,
          27,
          33,
          27,
          27,
          30,
          49,
          26,
          33,
          52,
          20,
          36,
          21,
          47,
          60,
          58,
          42,
          36,
          20,
          40,
          32,
          23,
          36,
          31,
          32,
          45,
          30,
          34,
          28,
          23,
          22,
          74,
          50,
          33,
          45,
          22,
          48,
          29,
          22,
          22,
          48,
          27,
          37,
          21,
          49,
          27,
          32,
          38,
          22,
          65,
          35,
          41,
          29,
          36,
          64,
          28,
          44,
          23,
          19,
          25,
          47,
          28,
          21,
          34,
          26,
          27,
          38,
          40,
          33,
          32,
          27,
          32,
          26,
          38,
          40,
          50,
          37,
          45,
          42,
          35,
          22,
          41,
          37,
          28,
          41,
          23,
          23,
          50,
          35,
          50,
          27,
          34,
          27,
          43,
          47,
          27,
          31,
          42,
          24,
          41,
          26,
          33,
          24,
          64,
          26,
          56,
          37,
          33,
          47,
          31,
          34,
          27,
          30,
          35,
          31,
          25,
          25,
          29,
          44,
          28,
          50,
          29,
          38,
          24,
          40,
          29,
          46,
          47,
          41,
          32,
          35,
          24,
          25,
          25,
          37,
          32,
          35,
          46,
          25,
          27,
          63,
          40,
          32,
          31,
          31,
          34,
          24,
          24,
          66,
          21,
          41,
          47,
          25,
          59,
          36,
          33,
          21,
          44,
          28,
          37,
          29,
          23,
          35,
          45,
          26,
          32,
          23,
          41,
          22,
          30,
          28,
          23,
          37,
          26,
          33,
          49,
          23,
          23,
          25,
          55,
          32,
          74,
          39,
          31,
          35,
          59,
          24,
          24,
          30,
          27,
          40,
          31,
          31,
          28,
          63,
          26,
          25,
          36,
          52,
          66,
          25,
          37,
          25,
          38,
          67,
          25,
          60,
          31,
          23,
          60,
          35,
          40,
          38,
          50,
          27,
          39,
          41,
          27,
          51,
          32,
          22,
          51,
          22,
          54,
          35,
          54,
          48,
          24,
          35,
          24,
          24,
          26,
          65,
          55,
          26,
          26,
          28,
          24,
          54,
          46,
          54,
          62,
          24,
          43,
          26,
          27,
          24,
          41,
          47,
          35,
          30,
          33,
          36,
          47,
          38,
          44,
          23,
          29,
          42,
          25,
          48,
          21,
          23,
          63,
          46,
          29,
          28,
          23,
          50,
          47,
          35,
          68,
          28,
          59,
          57,
          33,
          43,
          35,
          32,
          45,
          33,
          40,
          28,
          29,
          26,
          27,
          28,
          35,
          32,
          25,
          20,
          27,
          42,
          37,
          24,
          40,
          46,
          26,
          24,
          29,
          40,
          36,
          28,
          27,
          36,
          38,
          48,
          36,
          65,
          43,
          53,
          34,
          23,
          34,
          40,
          43,
          46,
          38,
          34,
          29,
          31,
          28,
          35,
          33,
          42,
          43,
          44,
          42,
          40,
          36,
          20,
          24,
          27,
          46,
          33,
          34,
          25,
          25,
          28,
          31,
          32,
          32,
          68,
          33,
          39,
          28,
          37,
          22,
          30,
          55,
          46,
          21,
          39,
          58,
          43,
          24,
          22,
          30,
          42,
          23,
          30,
          28,
          30,
          42,
          46,
          45,
          31,
          31,
          42,
          46,
          30,
          30,
          38,
          43,
          31,
          40,
          24,
          28,
          26,
          29,
          57,
          49,
          37,
          45,
          30,
          30,
          47,
          29,
          35,
          22,
          26,
          23,
          54,
          29,
          40,
          22,
          43,
          29,
          36,
          33,
          57,
          64,
          42,
          47,
          25,
          49,
          33,
          28,
          26,
          30,
          25,
          33,
          64,
          29,
          48,
          37,
          34,
          23,
          30,
          50,
          31,
          40,
          38,
          23,
          27
         ],
         "xaxis": "x3",
         "yaxis": "y3"
        }
       ],
       "layout": {
        "annotations": [
         {
          "font": {
           "size": 16
          },
          "showarrow": false,
          "text": "Good",
          "x": 0.225,
          "xanchor": "center",
          "xref": "paper",
          "y": 1,
          "yanchor": "bottom",
          "yref": "paper"
         },
         {
          "font": {
           "size": 16
          },
          "showarrow": false,
          "text": "Bad",
          "x": 0.775,
          "xanchor": "center",
          "xref": "paper",
          "y": 1,
          "yanchor": "bottom",
          "yref": "paper"
         },
         {
          "font": {
           "size": 16
          },
          "showarrow": false,
          "text": "General Distribuition",
          "x": 0.5,
          "xanchor": "center",
          "xref": "paper",
          "y": 0.375,
          "yanchor": "bottom",
          "yref": "paper"
         }
        ],
        "bargap": 0.05,
        "showlegend": true,
        "template": {
         "data": {
          "bar": [
           {
            "error_x": {
             "color": "#2a3f5f"
            },
            "error_y": {
             "color": "#2a3f5f"
            },
            "marker": {
             "line": {
              "color": "#E5ECF6",
              "width": 0.5
             },
             "pattern": {
              "fillmode": "overlay",
              "size": 10,
              "solidity": 0.2
             }
            },
            "type": "bar"
           }
          ],
          "barpolar": [
           {
            "marker": {
             "line": {
              "color": "#E5ECF6",
              "width": 0.5
             },
             "pattern": {
              "fillmode": "overlay",
              "size": 10,
              "solidity": 0.2
             }
            },
            "type": "barpolar"
           }
          ],
          "carpet": [
           {
            "aaxis": {
             "endlinecolor": "#2a3f5f",
             "gridcolor": "white",
             "linecolor": "white",
             "minorgridcolor": "white",
             "startlinecolor": "#2a3f5f"
            },
            "baxis": {
             "endlinecolor": "#2a3f5f",
             "gridcolor": "white",
             "linecolor": "white",
             "minorgridcolor": "white",
             "startlinecolor": "#2a3f5f"
            },
            "type": "carpet"
           }
          ],
          "choropleth": [
           {
            "colorbar": {
             "outlinewidth": 0,
             "ticks": ""
            },
            "type": "choropleth"
           }
          ],
          "contour": [
           {
            "colorbar": {
             "outlinewidth": 0,
             "ticks": ""
            },
            "colorscale": [
             [
              0,
              "#0d0887"
             ],
             [
              0.1111111111111111,
              "#46039f"
             ],
             [
              0.2222222222222222,
              "#7201a8"
             ],
             [
              0.3333333333333333,
              "#9c179e"
             ],
             [
              0.4444444444444444,
              "#bd3786"
             ],
             [
              0.5555555555555556,
              "#d8576b"
             ],
             [
              0.6666666666666666,
              "#ed7953"
             ],
             [
              0.7777777777777778,
              "#fb9f3a"
             ],
             [
              0.8888888888888888,
              "#fdca26"
             ],
             [
              1,
              "#f0f921"
             ]
            ],
            "type": "contour"
           }
          ],
          "contourcarpet": [
           {
            "colorbar": {
             "outlinewidth": 0,
             "ticks": ""
            },
            "type": "contourcarpet"
           }
          ],
          "heatmap": [
           {
            "colorbar": {
             "outlinewidth": 0,
             "ticks": ""
            },
            "colorscale": [
             [
              0,
              "#0d0887"
             ],
             [
              0.1111111111111111,
              "#46039f"
             ],
             [
              0.2222222222222222,
              "#7201a8"
             ],
             [
              0.3333333333333333,
              "#9c179e"
             ],
             [
              0.4444444444444444,
              "#bd3786"
             ],
             [
              0.5555555555555556,
              "#d8576b"
             ],
             [
              0.6666666666666666,
              "#ed7953"
             ],
             [
              0.7777777777777778,
              "#fb9f3a"
             ],
             [
              0.8888888888888888,
              "#fdca26"
             ],
             [
              1,
              "#f0f921"
             ]
            ],
            "type": "heatmap"
           }
          ],
          "histogram": [
           {
            "marker": {
             "pattern": {
              "fillmode": "overlay",
              "size": 10,
              "solidity": 0.2
             }
            },
            "type": "histogram"
           }
          ],
          "histogram2d": [
           {
            "colorbar": {
             "outlinewidth": 0,
             "ticks": ""
            },
            "colorscale": [
             [
              0,
              "#0d0887"
             ],
             [
              0.1111111111111111,
              "#46039f"
             ],
             [
              0.2222222222222222,
              "#7201a8"
             ],
             [
              0.3333333333333333,
              "#9c179e"
             ],
             [
              0.4444444444444444,
              "#bd3786"
             ],
             [
              0.5555555555555556,
              "#d8576b"
             ],
             [
              0.6666666666666666,
              "#ed7953"
             ],
             [
              0.7777777777777778,
              "#fb9f3a"
             ],
             [
              0.8888888888888888,
              "#fdca26"
             ],
             [
              1,
              "#f0f921"
             ]
            ],
            "type": "histogram2d"
           }
          ],
          "histogram2dcontour": [
           {
            "colorbar": {
             "outlinewidth": 0,
             "ticks": ""
            },
            "colorscale": [
             [
              0,
              "#0d0887"
             ],
             [
              0.1111111111111111,
              "#46039f"
             ],
             [
              0.2222222222222222,
              "#7201a8"
             ],
             [
              0.3333333333333333,
              "#9c179e"
             ],
             [
              0.4444444444444444,
              "#bd3786"
             ],
             [
              0.5555555555555556,
              "#d8576b"
             ],
             [
              0.6666666666666666,
              "#ed7953"
             ],
             [
              0.7777777777777778,
              "#fb9f3a"
             ],
             [
              0.8888888888888888,
              "#fdca26"
             ],
             [
              1,
              "#f0f921"
             ]
            ],
            "type": "histogram2dcontour"
           }
          ],
          "mesh3d": [
           {
            "colorbar": {
             "outlinewidth": 0,
             "ticks": ""
            },
            "type": "mesh3d"
           }
          ],
          "parcoords": [
           {
            "line": {
             "colorbar": {
              "outlinewidth": 0,
              "ticks": ""
             }
            },
            "type": "parcoords"
           }
          ],
          "pie": [
           {
            "automargin": true,
            "type": "pie"
           }
          ],
          "scatter": [
           {
            "fillpattern": {
             "fillmode": "overlay",
             "size": 10,
             "solidity": 0.2
            },
            "type": "scatter"
           }
          ],
          "scatter3d": [
           {
            "line": {
             "colorbar": {
              "outlinewidth": 0,
              "ticks": ""
             }
            },
            "marker": {
             "colorbar": {
              "outlinewidth": 0,
              "ticks": ""
             }
            },
            "type": "scatter3d"
           }
          ],
          "scattercarpet": [
           {
            "marker": {
             "colorbar": {
              "outlinewidth": 0,
              "ticks": ""
             }
            },
            "type": "scattercarpet"
           }
          ],
          "scattergeo": [
           {
            "marker": {
             "colorbar": {
              "outlinewidth": 0,
              "ticks": ""
             }
            },
            "type": "scattergeo"
           }
          ],
          "scattergl": [
           {
            "marker": {
             "colorbar": {
              "outlinewidth": 0,
              "ticks": ""
             }
            },
            "type": "scattergl"
           }
          ],
          "scattermap": [
           {
            "marker": {
             "colorbar": {
              "outlinewidth": 0,
              "ticks": ""
             }
            },
            "type": "scattermap"
           }
          ],
          "scattermapbox": [
           {
            "marker": {
             "colorbar": {
              "outlinewidth": 0,
              "ticks": ""
             }
            },
            "type": "scattermapbox"
           }
          ],
          "scatterpolar": [
           {
            "marker": {
             "colorbar": {
              "outlinewidth": 0,
              "ticks": ""
             }
            },
            "type": "scatterpolar"
           }
          ],
          "scatterpolargl": [
           {
            "marker": {
             "colorbar": {
              "outlinewidth": 0,
              "ticks": ""
             }
            },
            "type": "scatterpolargl"
           }
          ],
          "scatterternary": [
           {
            "marker": {
             "colorbar": {
              "outlinewidth": 0,
              "ticks": ""
             }
            },
            "type": "scatterternary"
           }
          ],
          "surface": [
           {
            "colorbar": {
             "outlinewidth": 0,
             "ticks": ""
            },
            "colorscale": [
             [
              0,
              "#0d0887"
             ],
             [
              0.1111111111111111,
              "#46039f"
             ],
             [
              0.2222222222222222,
              "#7201a8"
             ],
             [
              0.3333333333333333,
              "#9c179e"
             ],
             [
              0.4444444444444444,
              "#bd3786"
             ],
             [
              0.5555555555555556,
              "#d8576b"
             ],
             [
              0.6666666666666666,
              "#ed7953"
             ],
             [
              0.7777777777777778,
              "#fb9f3a"
             ],
             [
              0.8888888888888888,
              "#fdca26"
             ],
             [
              1,
              "#f0f921"
             ]
            ],
            "type": "surface"
           }
          ],
          "table": [
           {
            "cells": {
             "fill": {
              "color": "#EBF0F8"
             },
             "line": {
              "color": "white"
             }
            },
            "header": {
             "fill": {
              "color": "#C8D4E3"
             },
             "line": {
              "color": "white"
             }
            },
            "type": "table"
           }
          ]
         },
         "layout": {
          "annotationdefaults": {
           "arrowcolor": "#2a3f5f",
           "arrowhead": 0,
           "arrowwidth": 1
          },
          "autotypenumbers": "strict",
          "coloraxis": {
           "colorbar": {
            "outlinewidth": 0,
            "ticks": ""
           }
          },
          "colorscale": {
           "diverging": [
            [
             0,
             "#8e0152"
            ],
            [
             0.1,
             "#c51b7d"
            ],
            [
             0.2,
             "#de77ae"
            ],
            [
             0.3,
             "#f1b6da"
            ],
            [
             0.4,
             "#fde0ef"
            ],
            [
             0.5,
             "#f7f7f7"
            ],
            [
             0.6,
             "#e6f5d0"
            ],
            [
             0.7,
             "#b8e186"
            ],
            [
             0.8,
             "#7fbc41"
            ],
            [
             0.9,
             "#4d9221"
            ],
            [
             1,
             "#276419"
            ]
           ],
           "sequential": [
            [
             0,
             "#0d0887"
            ],
            [
             0.1111111111111111,
             "#46039f"
            ],
            [
             0.2222222222222222,
             "#7201a8"
            ],
            [
             0.3333333333333333,
             "#9c179e"
            ],
            [
             0.4444444444444444,
             "#bd3786"
            ],
            [
             0.5555555555555556,
             "#d8576b"
            ],
            [
             0.6666666666666666,
             "#ed7953"
            ],
            [
             0.7777777777777778,
             "#fb9f3a"
            ],
            [
             0.8888888888888888,
             "#fdca26"
            ],
            [
             1,
             "#f0f921"
            ]
           ],
           "sequentialminus": [
            [
             0,
             "#0d0887"
            ],
            [
             0.1111111111111111,
             "#46039f"
            ],
            [
             0.2222222222222222,
             "#7201a8"
            ],
            [
             0.3333333333333333,
             "#9c179e"
            ],
            [
             0.4444444444444444,
             "#bd3786"
            ],
            [
             0.5555555555555556,
             "#d8576b"
            ],
            [
             0.6666666666666666,
             "#ed7953"
            ],
            [
             0.7777777777777778,
             "#fb9f3a"
            ],
            [
             0.8888888888888888,
             "#fdca26"
            ],
            [
             1,
             "#f0f921"
            ]
           ]
          },
          "colorway": [
           "#636efa",
           "#EF553B",
           "#00cc96",
           "#ab63fa",
           "#FFA15A",
           "#19d3f3",
           "#FF6692",
           "#B6E880",
           "#FF97FF",
           "#FECB52"
          ],
          "font": {
           "color": "#2a3f5f"
          },
          "geo": {
           "bgcolor": "white",
           "lakecolor": "white",
           "landcolor": "#E5ECF6",
           "showlakes": true,
           "showland": true,
           "subunitcolor": "white"
          },
          "hoverlabel": {
           "align": "left"
          },
          "hovermode": "closest",
          "mapbox": {
           "style": "light"
          },
          "paper_bgcolor": "white",
          "plot_bgcolor": "#E5ECF6",
          "polar": {
           "angularaxis": {
            "gridcolor": "white",
            "linecolor": "white",
            "ticks": ""
           },
           "bgcolor": "#E5ECF6",
           "radialaxis": {
            "gridcolor": "white",
            "linecolor": "white",
            "ticks": ""
           }
          },
          "scene": {
           "xaxis": {
            "backgroundcolor": "#E5ECF6",
            "gridcolor": "white",
            "gridwidth": 2,
            "linecolor": "white",
            "showbackground": true,
            "ticks": "",
            "zerolinecolor": "white"
           },
           "yaxis": {
            "backgroundcolor": "#E5ECF6",
            "gridcolor": "white",
            "gridwidth": 2,
            "linecolor": "white",
            "showbackground": true,
            "ticks": "",
            "zerolinecolor": "white"
           },
           "zaxis": {
            "backgroundcolor": "#E5ECF6",
            "gridcolor": "white",
            "gridwidth": 2,
            "linecolor": "white",
            "showbackground": true,
            "ticks": "",
            "zerolinecolor": "white"
           }
          },
          "shapedefaults": {
           "line": {
            "color": "#2a3f5f"
           }
          },
          "ternary": {
           "aaxis": {
            "gridcolor": "white",
            "linecolor": "white",
            "ticks": ""
           },
           "baxis": {
            "gridcolor": "white",
            "linecolor": "white",
            "ticks": ""
           },
           "bgcolor": "#E5ECF6",
           "caxis": {
            "gridcolor": "white",
            "linecolor": "white",
            "ticks": ""
           }
          },
          "title": {
           "x": 0.05
          },
          "xaxis": {
           "automargin": true,
           "gridcolor": "white",
           "linecolor": "white",
           "ticks": "",
           "title": {
            "standoff": 15
           },
           "zerolinecolor": "white",
           "zerolinewidth": 2
          },
          "yaxis": {
           "automargin": true,
           "gridcolor": "white",
           "linecolor": "white",
           "ticks": "",
           "title": {
            "standoff": 15
           },
           "zerolinecolor": "white",
           "zerolinewidth": 2
          }
         }
        },
        "title": {
         "text": "Age Distribuition"
        },
        "xaxis": {
         "anchor": "y",
         "domain": [
          0,
          0.45
         ]
        },
        "xaxis2": {
         "anchor": "y2",
         "domain": [
          0.55,
          1
         ]
        },
        "xaxis3": {
         "anchor": "y3",
         "domain": [
          0,
          1
         ]
        },
        "yaxis": {
         "anchor": "x",
         "domain": [
          0.625,
          1
         ]
        },
        "yaxis2": {
         "anchor": "x2",
         "domain": [
          0.625,
          1
         ]
        },
        "yaxis3": {
         "anchor": "x3",
         "domain": [
          0,
          0.375
         ]
        }
       }
      },
      "text/html": [
       "<div>            <script src=\"https://cdnjs.cloudflare.com/ajax/libs/mathjax/2.7.5/MathJax.js?config=TeX-AMS-MML_SVG\"></script><script type=\"text/javascript\">if (window.MathJax && window.MathJax.Hub && window.MathJax.Hub.Config) {window.MathJax.Hub.Config({SVG: {font: \"STIX-Web\"}});}</script>                <script type=\"text/javascript\">window.PlotlyConfig = {MathJaxConfig: 'local'};</script>\n",
       "        <script charset=\"utf-8\" src=\"https://cdn.plot.ly/plotly-3.0.1.min.js\"></script>                <div id=\"b4728079-e9a3-427a-a9e6-4f9443889276\" class=\"plotly-graph-div\" style=\"height:525px; width:100%;\"></div>            <script type=\"text/javascript\">                window.PLOTLYENV=window.PLOTLYENV || {};                                if (document.getElementById(\"b4728079-e9a3-427a-a9e6-4f9443889276\")) {                    Plotly.newPlot(                        \"b4728079-e9a3-427a-a9e6-4f9443889276\",                        [{\"histnorm\":\"probability\",\"name\":\"Good Credit\",\"x\":[67,49,45,35,53,35,61,22,28,53,25,31,48,44,48,44,26,36,39,42,34,36,27,30,57,33,31,37,24,30,26,44,24,35,39,23,39,28,29,30,25,31,26,31,23,27,50,26,48,29,22,25,30,46,51,41,66,51,39,22,47,24,58,52,29,27,30,56,54,20,54,61,34,36,36,41,24,24,35,26,32,30,35,31,23,28,35,47,27,36,41,24,63,30,40,34,24,27,47,21,38,27,35,44,27,30,27,23,30,39,51,28,46,42,38,24,29,36,48,45,38,34,36,30,36,70,36,32,20,25,26,33,42,52,31,65,50,31,68,33,29,28,36,52,27,26,38,38,43,26,21,55,33,45,51,39,31,23,24,64,26,23,30,32,30,27,22,51,35,25,42,35,39,51,27,35,25,52,35,26,39,46,35,24,27,35,23,57,27,55,36,57,32,36,38,25,32,37,36,32,26,49,29,23,50,49,63,37,35,26,31,49,26,44,56,46,20,45,43,32,54,49,33,24,22,40,25,26,29,38,48,32,27,34,28,36,39,49,34,31,28,75,23,28,31,24,26,25,33,37,43,23,23,34,23,38,46,49,28,61,37,36,21,36,27,22,40,36,33,23,63,34,36,52,39,25,26,26,25,21,40,27,27,30,19,39,31,31,32,55,46,43,39,28,27,43,43,27,26,20,35,40,35,23,31,20,30,47,34,21,29,46,20,74,36,33,25,23,37,65,39,30,29,41,35,55,30,29,34,35,29,36,27,32,37,36,34,38,34,63,32,26,35,36,24,25,39,44,23,26,57,30,44,52,62,35,26,26,27,38,39,40,32,28,42,49,36,28,45,32,26,20,54,37,40,43,36,44,23,26,30,31,42,41,32,41,26,25,75,37,45,60,61,37,32,35,23,45,27,67,49,29,37,23,34,41,38,26,22,27,24,27,33,27,49,26,52,36,21,58,42,36,32,45,23,22,74,33,45,29,22,48,27,37,49,27,22,35,41,36,64,28,23,47,28,21,34,38,33,32,32,50,35,22,37,28,41,23,50,35,50,27,34,27,47,27,31,42,24,26,33,64,26,56,37,33,47,31,34,27,30,35,31,25,25,29,44,28,50,29,38,24,40,47,41,32,35,25,37,32,46,25,63,40,32,31,31,66,41,47,36,33,44,28,37,29,35,45,32,23,41,22,30,28,23,26,33,49,23,25,74,31,59,24,27,40,31,28,63,26,36,52,66,37,25,38,67,60,31,60,35,40,38,41,27,51,32,22,22,54,35,54,48,24,35,24,26,65,55,26,28,54,62,24,43,27,24,47,35,30,38,44,42,21,23,63,46,28,50,47,35,28,59,43,35,45,33,40,28,26,27,32,20,27,42,37,24,40,46,26,24,29,40,36,28,36,38,48,36,65,34,34,40,43,46,38,34,29,31,28,35,33,44,42,40,36,20,24,27,46,33,34,25,28,32,28,37,30,21,58,43,24,30,42,23,30,46,45,31,31,42,46,30,38,40,29,57,49,37,30,30,47,29,22,26,54,29,40,22,43,33,57,64,42,28,30,25,33,64,29,48,37,34,23,30,50,31,40,38,27],\"xaxis\":\"x\",\"yaxis\":\"y\",\"type\":\"histogram\"},{\"histnorm\":\"probability\",\"name\":\"Bad Credit\",\"x\":[22,53,28,25,24,60,32,44,63,25,37,58,57,52,23,61,25,37,40,34,44,47,28,33,58,39,39,25,30,23,25,27,30,29,29,66,22,20,33,31,33,34,26,53,28,30,40,36,74,20,54,34,36,21,34,27,40,21,50,66,27,53,22,26,30,23,61,29,24,22,24,29,37,45,28,34,32,48,28,26,42,37,44,33,24,25,31,28,32,30,24,24,23,44,24,32,29,28,23,26,23,25,42,60,37,57,38,46,27,22,28,42,35,33,33,25,55,29,25,26,41,30,34,61,31,35,29,22,23,28,33,26,47,42,20,29,27,38,24,27,34,26,23,24,53,31,28,33,42,23,31,34,43,24,34,22,28,29,27,31,24,37,36,31,23,27,30,33,20,47,60,20,40,32,23,36,31,30,34,28,50,22,48,22,21,32,38,65,29,44,19,25,26,27,40,27,26,38,40,37,45,42,41,23,43,41,24,29,46,24,25,35,27,34,24,24,21,25,59,21,23,26,37,23,55,32,39,35,24,30,31,25,25,25,23,50,27,39,51,24,26,24,54,46,26,41,33,36,47,23,29,25,48,29,23,68,57,33,32,29,28,35,25,27,43,53,23,42,43,25,31,32,68,33,39,22,55,46,39,22,30,28,42,30,43,31,24,28,26,45,35,23,29,36,47,25,49,33,26,23],\"xaxis\":\"x2\",\"yaxis\":\"y2\",\"type\":\"histogram\"},{\"histnorm\":\"probability\",\"name\":\"Overall Age\",\"x\":[67,22,49,45,53,35,53,35,61,28,25,24,22,60,28,32,53,25,44,31,48,44,48,44,26,36,39,42,34,63,36,27,30,57,33,25,31,37,37,24,30,26,44,24,58,35,39,23,39,28,29,30,25,31,57,26,52,31,23,23,27,50,61,25,26,48,29,22,37,25,30,46,51,41,40,66,34,51,39,22,44,47,24,58,52,29,27,47,30,28,56,54,33,20,54,58,61,34,36,36,41,24,24,35,26,39,39,32,30,35,31,23,28,25,35,47,30,27,23,36,25,41,24,63,27,30,40,30,34,29,24,29,27,47,21,38,27,66,35,44,27,30,27,22,23,30,39,51,28,46,42,38,24,29,36,20,48,45,38,34,36,30,36,70,36,32,33,20,25,31,33,26,34,33,26,53,42,52,31,65,28,30,40,50,36,31,74,68,20,33,54,34,36,29,21,34,28,27,36,40,52,27,26,21,38,38,43,26,21,55,33,45,50,66,51,39,31,23,24,64,26,23,30,32,30,27,27,53,22,22,26,51,35,25,42,30,23,61,35,39,29,51,24,27,35,25,52,35,26,22,39,46,24,35,24,27,35,29,23,57,27,55,36,57,32,37,36,38,45,25,32,37,36,28,34,32,26,49,32,29,23,50,49,63,37,35,26,31,49,48,26,28,44,56,46,26,20,45,43,32,54,42,37,49,44,33,24,33,24,22,40,25,26,25,29,31,38,48,32,27,28,32,34,28,36,39,49,34,31,28,75,30,24,24,23,44,23,24,28,31,24,26,25,33,37,43,23,23,34,32,23,29,38,28,46,23,49,26,28,23,61,37,36,21,25,36,27,22,42,40,36,33,23,63,60,37,34,36,57,52,39,38,25,26,26,25,21,40,27,27,30,19,39,31,31,32,55,46,46,43,39,28,27,27,43,22,43,27,26,28,20,35,42,40,35,35,33,23,31,33,20,30,47,34,25,21,29,46,20,55,74,29,36,33,25,25,23,37,65,26,39,30,29,41,30,41,34,35,55,61,30,29,34,35,31,29,36,35,27,32,37,36,34,38,34,63,29,32,26,35,22,23,28,36,33,26,24,25,39,44,23,26,57,30,44,47,52,62,35,26,26,42,27,38,39,20,29,40,32,28,27,42,49,38,24,27,36,34,28,45,26,32,26,20,54,37,40,23,43,36,44,24,53,23,26,30,31,42,31,41,32,28,41,26,25,33,75,37,42,45,23,60,31,34,61,43,37,32,24,35,23,45,34,27,67,22,28,29,27,31,49,24,29,37,37,23,36,34,41,31,23,38,26,22,27,24,27,33,27,27,30,49,26,33,52,20,36,21,47,60,58,42,36,20,40,32,23,36,31,32,45,30,34,28,23,22,74,50,33,45,22,48,29,22,22,48,27,37,21,49,27,32,38,22,65,35,41,29,36,64,28,44,23,19,25,47,28,21,34,26,27,38,40,33,32,27,32,26,38,40,50,37,45,42,35,22,41,37,28,41,23,23,50,35,50,27,34,27,43,47,27,31,42,24,41,26,33,24,64,26,56,37,33,47,31,34,27,30,35,31,25,25,29,44,28,50,29,38,24,40,29,46,47,41,32,35,24,25,25,37,32,35,46,25,27,63,40,32,31,31,34,24,24,66,21,41,47,25,59,36,33,21,44,28,37,29,23,35,45,26,32,23,41,22,30,28,23,37,26,33,49,23,23,25,55,32,74,39,31,35,59,24,24,30,27,40,31,31,28,63,26,25,36,52,66,25,37,25,38,67,25,60,31,23,60,35,40,38,50,27,39,41,27,51,32,22,51,22,54,35,54,48,24,35,24,24,26,65,55,26,26,28,24,54,46,54,62,24,43,26,27,24,41,47,35,30,33,36,47,38,44,23,29,42,25,48,21,23,63,46,29,28,23,50,47,35,68,28,59,57,33,43,35,32,45,33,40,28,29,26,27,28,35,32,25,20,27,42,37,24,40,46,26,24,29,40,36,28,27,36,38,48,36,65,43,53,34,23,34,40,43,46,38,34,29,31,28,35,33,42,43,44,42,40,36,20,24,27,46,33,34,25,25,28,31,32,32,68,33,39,28,37,22,30,55,46,21,39,58,43,24,22,30,42,23,30,28,30,42,46,45,31,31,42,46,30,30,38,43,31,40,24,28,26,29,57,49,37,45,30,30,47,29,35,22,26,23,54,29,40,22,43,29,36,33,57,64,42,47,25,49,33,28,26,30,25,33,64,29,48,37,34,23,30,50,31,40,38,23,27],\"xaxis\":\"x3\",\"yaxis\":\"y3\",\"type\":\"histogram\"}],                        {\"annotations\":[{\"font\":{\"size\":16},\"showarrow\":false,\"text\":\"Good\",\"x\":0.225,\"xanchor\":\"center\",\"xref\":\"paper\",\"y\":1.0,\"yanchor\":\"bottom\",\"yref\":\"paper\"},{\"font\":{\"size\":16},\"showarrow\":false,\"text\":\"Bad\",\"x\":0.775,\"xanchor\":\"center\",\"xref\":\"paper\",\"y\":1.0,\"yanchor\":\"bottom\",\"yref\":\"paper\"},{\"font\":{\"size\":16},\"showarrow\":false,\"text\":\"General Distribuition\",\"x\":0.5,\"xanchor\":\"center\",\"xref\":\"paper\",\"y\":0.375,\"yanchor\":\"bottom\",\"yref\":\"paper\"}],\"bargap\":0.05,\"showlegend\":true,\"template\":{\"data\":{\"barpolar\":[{\"marker\":{\"line\":{\"color\":\"#E5ECF6\",\"width\":0.5},\"pattern\":{\"fillmode\":\"overlay\",\"size\":10,\"solidity\":0.2}},\"type\":\"barpolar\"}],\"bar\":[{\"error_x\":{\"color\":\"#2a3f5f\"},\"error_y\":{\"color\":\"#2a3f5f\"},\"marker\":{\"line\":{\"color\":\"#E5ECF6\",\"width\":0.5},\"pattern\":{\"fillmode\":\"overlay\",\"size\":10,\"solidity\":0.2}},\"type\":\"bar\"}],\"carpet\":[{\"aaxis\":{\"endlinecolor\":\"#2a3f5f\",\"gridcolor\":\"white\",\"linecolor\":\"white\",\"minorgridcolor\":\"white\",\"startlinecolor\":\"#2a3f5f\"},\"baxis\":{\"endlinecolor\":\"#2a3f5f\",\"gridcolor\":\"white\",\"linecolor\":\"white\",\"minorgridcolor\":\"white\",\"startlinecolor\":\"#2a3f5f\"},\"type\":\"carpet\"}],\"choropleth\":[{\"colorbar\":{\"outlinewidth\":0,\"ticks\":\"\"},\"type\":\"choropleth\"}],\"contourcarpet\":[{\"colorbar\":{\"outlinewidth\":0,\"ticks\":\"\"},\"type\":\"contourcarpet\"}],\"contour\":[{\"colorbar\":{\"outlinewidth\":0,\"ticks\":\"\"},\"colorscale\":[[0.0,\"#0d0887\"],[0.1111111111111111,\"#46039f\"],[0.2222222222222222,\"#7201a8\"],[0.3333333333333333,\"#9c179e\"],[0.4444444444444444,\"#bd3786\"],[0.5555555555555556,\"#d8576b\"],[0.6666666666666666,\"#ed7953\"],[0.7777777777777778,\"#fb9f3a\"],[0.8888888888888888,\"#fdca26\"],[1.0,\"#f0f921\"]],\"type\":\"contour\"}],\"heatmap\":[{\"colorbar\":{\"outlinewidth\":0,\"ticks\":\"\"},\"colorscale\":[[0.0,\"#0d0887\"],[0.1111111111111111,\"#46039f\"],[0.2222222222222222,\"#7201a8\"],[0.3333333333333333,\"#9c179e\"],[0.4444444444444444,\"#bd3786\"],[0.5555555555555556,\"#d8576b\"],[0.6666666666666666,\"#ed7953\"],[0.7777777777777778,\"#fb9f3a\"],[0.8888888888888888,\"#fdca26\"],[1.0,\"#f0f921\"]],\"type\":\"heatmap\"}],\"histogram2dcontour\":[{\"colorbar\":{\"outlinewidth\":0,\"ticks\":\"\"},\"colorscale\":[[0.0,\"#0d0887\"],[0.1111111111111111,\"#46039f\"],[0.2222222222222222,\"#7201a8\"],[0.3333333333333333,\"#9c179e\"],[0.4444444444444444,\"#bd3786\"],[0.5555555555555556,\"#d8576b\"],[0.6666666666666666,\"#ed7953\"],[0.7777777777777778,\"#fb9f3a\"],[0.8888888888888888,\"#fdca26\"],[1.0,\"#f0f921\"]],\"type\":\"histogram2dcontour\"}],\"histogram2d\":[{\"colorbar\":{\"outlinewidth\":0,\"ticks\":\"\"},\"colorscale\":[[0.0,\"#0d0887\"],[0.1111111111111111,\"#46039f\"],[0.2222222222222222,\"#7201a8\"],[0.3333333333333333,\"#9c179e\"],[0.4444444444444444,\"#bd3786\"],[0.5555555555555556,\"#d8576b\"],[0.6666666666666666,\"#ed7953\"],[0.7777777777777778,\"#fb9f3a\"],[0.8888888888888888,\"#fdca26\"],[1.0,\"#f0f921\"]],\"type\":\"histogram2d\"}],\"histogram\":[{\"marker\":{\"pattern\":{\"fillmode\":\"overlay\",\"size\":10,\"solidity\":0.2}},\"type\":\"histogram\"}],\"mesh3d\":[{\"colorbar\":{\"outlinewidth\":0,\"ticks\":\"\"},\"type\":\"mesh3d\"}],\"parcoords\":[{\"line\":{\"colorbar\":{\"outlinewidth\":0,\"ticks\":\"\"}},\"type\":\"parcoords\"}],\"pie\":[{\"automargin\":true,\"type\":\"pie\"}],\"scatter3d\":[{\"line\":{\"colorbar\":{\"outlinewidth\":0,\"ticks\":\"\"}},\"marker\":{\"colorbar\":{\"outlinewidth\":0,\"ticks\":\"\"}},\"type\":\"scatter3d\"}],\"scattercarpet\":[{\"marker\":{\"colorbar\":{\"outlinewidth\":0,\"ticks\":\"\"}},\"type\":\"scattercarpet\"}],\"scattergeo\":[{\"marker\":{\"colorbar\":{\"outlinewidth\":0,\"ticks\":\"\"}},\"type\":\"scattergeo\"}],\"scattergl\":[{\"marker\":{\"colorbar\":{\"outlinewidth\":0,\"ticks\":\"\"}},\"type\":\"scattergl\"}],\"scattermapbox\":[{\"marker\":{\"colorbar\":{\"outlinewidth\":0,\"ticks\":\"\"}},\"type\":\"scattermapbox\"}],\"scattermap\":[{\"marker\":{\"colorbar\":{\"outlinewidth\":0,\"ticks\":\"\"}},\"type\":\"scattermap\"}],\"scatterpolargl\":[{\"marker\":{\"colorbar\":{\"outlinewidth\":0,\"ticks\":\"\"}},\"type\":\"scatterpolargl\"}],\"scatterpolar\":[{\"marker\":{\"colorbar\":{\"outlinewidth\":0,\"ticks\":\"\"}},\"type\":\"scatterpolar\"}],\"scatter\":[{\"fillpattern\":{\"fillmode\":\"overlay\",\"size\":10,\"solidity\":0.2},\"type\":\"scatter\"}],\"scatterternary\":[{\"marker\":{\"colorbar\":{\"outlinewidth\":0,\"ticks\":\"\"}},\"type\":\"scatterternary\"}],\"surface\":[{\"colorbar\":{\"outlinewidth\":0,\"ticks\":\"\"},\"colorscale\":[[0.0,\"#0d0887\"],[0.1111111111111111,\"#46039f\"],[0.2222222222222222,\"#7201a8\"],[0.3333333333333333,\"#9c179e\"],[0.4444444444444444,\"#bd3786\"],[0.5555555555555556,\"#d8576b\"],[0.6666666666666666,\"#ed7953\"],[0.7777777777777778,\"#fb9f3a\"],[0.8888888888888888,\"#fdca26\"],[1.0,\"#f0f921\"]],\"type\":\"surface\"}],\"table\":[{\"cells\":{\"fill\":{\"color\":\"#EBF0F8\"},\"line\":{\"color\":\"white\"}},\"header\":{\"fill\":{\"color\":\"#C8D4E3\"},\"line\":{\"color\":\"white\"}},\"type\":\"table\"}]},\"layout\":{\"annotationdefaults\":{\"arrowcolor\":\"#2a3f5f\",\"arrowhead\":0,\"arrowwidth\":1},\"autotypenumbers\":\"strict\",\"coloraxis\":{\"colorbar\":{\"outlinewidth\":0,\"ticks\":\"\"}},\"colorscale\":{\"diverging\":[[0,\"#8e0152\"],[0.1,\"#c51b7d\"],[0.2,\"#de77ae\"],[0.3,\"#f1b6da\"],[0.4,\"#fde0ef\"],[0.5,\"#f7f7f7\"],[0.6,\"#e6f5d0\"],[0.7,\"#b8e186\"],[0.8,\"#7fbc41\"],[0.9,\"#4d9221\"],[1,\"#276419\"]],\"sequential\":[[0.0,\"#0d0887\"],[0.1111111111111111,\"#46039f\"],[0.2222222222222222,\"#7201a8\"],[0.3333333333333333,\"#9c179e\"],[0.4444444444444444,\"#bd3786\"],[0.5555555555555556,\"#d8576b\"],[0.6666666666666666,\"#ed7953\"],[0.7777777777777778,\"#fb9f3a\"],[0.8888888888888888,\"#fdca26\"],[1.0,\"#f0f921\"]],\"sequentialminus\":[[0.0,\"#0d0887\"],[0.1111111111111111,\"#46039f\"],[0.2222222222222222,\"#7201a8\"],[0.3333333333333333,\"#9c179e\"],[0.4444444444444444,\"#bd3786\"],[0.5555555555555556,\"#d8576b\"],[0.6666666666666666,\"#ed7953\"],[0.7777777777777778,\"#fb9f3a\"],[0.8888888888888888,\"#fdca26\"],[1.0,\"#f0f921\"]]},\"colorway\":[\"#636efa\",\"#EF553B\",\"#00cc96\",\"#ab63fa\",\"#FFA15A\",\"#19d3f3\",\"#FF6692\",\"#B6E880\",\"#FF97FF\",\"#FECB52\"],\"font\":{\"color\":\"#2a3f5f\"},\"geo\":{\"bgcolor\":\"white\",\"lakecolor\":\"white\",\"landcolor\":\"#E5ECF6\",\"showlakes\":true,\"showland\":true,\"subunitcolor\":\"white\"},\"hoverlabel\":{\"align\":\"left\"},\"hovermode\":\"closest\",\"mapbox\":{\"style\":\"light\"},\"paper_bgcolor\":\"white\",\"plot_bgcolor\":\"#E5ECF6\",\"polar\":{\"angularaxis\":{\"gridcolor\":\"white\",\"linecolor\":\"white\",\"ticks\":\"\"},\"bgcolor\":\"#E5ECF6\",\"radialaxis\":{\"gridcolor\":\"white\",\"linecolor\":\"white\",\"ticks\":\"\"}},\"scene\":{\"xaxis\":{\"backgroundcolor\":\"#E5ECF6\",\"gridcolor\":\"white\",\"gridwidth\":2,\"linecolor\":\"white\",\"showbackground\":true,\"ticks\":\"\",\"zerolinecolor\":\"white\"},\"yaxis\":{\"backgroundcolor\":\"#E5ECF6\",\"gridcolor\":\"white\",\"gridwidth\":2,\"linecolor\":\"white\",\"showbackground\":true,\"ticks\":\"\",\"zerolinecolor\":\"white\"},\"zaxis\":{\"backgroundcolor\":\"#E5ECF6\",\"gridcolor\":\"white\",\"gridwidth\":2,\"linecolor\":\"white\",\"showbackground\":true,\"ticks\":\"\",\"zerolinecolor\":\"white\"}},\"shapedefaults\":{\"line\":{\"color\":\"#2a3f5f\"}},\"ternary\":{\"aaxis\":{\"gridcolor\":\"white\",\"linecolor\":\"white\",\"ticks\":\"\"},\"baxis\":{\"gridcolor\":\"white\",\"linecolor\":\"white\",\"ticks\":\"\"},\"bgcolor\":\"#E5ECF6\",\"caxis\":{\"gridcolor\":\"white\",\"linecolor\":\"white\",\"ticks\":\"\"}},\"title\":{\"x\":0.05},\"xaxis\":{\"automargin\":true,\"gridcolor\":\"white\",\"linecolor\":\"white\",\"ticks\":\"\",\"title\":{\"standoff\":15},\"zerolinecolor\":\"white\",\"zerolinewidth\":2},\"yaxis\":{\"automargin\":true,\"gridcolor\":\"white\",\"linecolor\":\"white\",\"ticks\":\"\",\"title\":{\"standoff\":15},\"zerolinecolor\":\"white\",\"zerolinewidth\":2}}},\"title\":{\"text\":\"Age Distribuition\"},\"xaxis\":{\"anchor\":\"y\",\"domain\":[0.0,0.45]},\"yaxis\":{\"anchor\":\"x\",\"domain\":[0.625,1.0]},\"xaxis2\":{\"anchor\":\"y2\",\"domain\":[0.55,1.0]},\"yaxis2\":{\"anchor\":\"x2\",\"domain\":[0.625,1.0]},\"xaxis3\":{\"anchor\":\"y3\",\"domain\":[0.0,1.0]},\"yaxis3\":{\"anchor\":\"x3\",\"domain\":[0.0,0.375]}},                        {\"responsive\": true}                    ).then(function(){\n",
       "                            \n",
       "var gd = document.getElementById('b4728079-e9a3-427a-a9e6-4f9443889276');\n",
       "var x = new MutationObserver(function (mutations, observer) {{\n",
       "        var display = window.getComputedStyle(gd).display;\n",
       "        if (!display || display === 'none') {{\n",
       "            console.log([gd, 'removed!']);\n",
       "            Plotly.purge(gd);\n",
       "            observer.disconnect();\n",
       "        }}\n",
       "}});\n",
       "\n",
       "// Listen for the removal of the full notebook cells\n",
       "var notebookContainer = gd.closest('#notebook-container');\n",
       "if (notebookContainer) {{\n",
       "    x.observe(notebookContainer, {childList: true});\n",
       "}}\n",
       "\n",
       "// Listen for the clearing of the current output cell\n",
       "var outputEl = gd.closest('.output');\n",
       "if (outputEl) {{\n",
       "    x.observe(outputEl, {childList: true});\n",
       "}}\n",
       "\n",
       "                        })                };            </script>        </div>"
      ]
     },
     "metadata": {},
     "output_type": "display_data"
    }
   ],
   "source": [
    "df_good = df_credit.loc[df_credit[\"Risk\"] == 'good']['Age'].values.tolist()\n",
    "df_bad = df_credit.loc[df_credit[\"Risk\"] == 'bad']['Age'].values.tolist()\n",
    "df_age = df_credit['Age'].values.tolist()\n",
    "\n",
    "#First plot\n",
    "trace0 = go.Histogram(\n",
    "    x=df_good,\n",
    "    histnorm='probability',\n",
    "    name=\"Good Credit\"\n",
    ")\n",
    "#Second plot\n",
    "trace1 = go.Histogram(\n",
    "    x=df_bad,\n",
    "    histnorm='probability',\n",
    "    name=\"Bad Credit\"\n",
    ")\n",
    "#Third plot\n",
    "trace2 = go.Histogram(\n",
    "    x=df_age,\n",
    "    histnorm='probability',\n",
    "    name=\"Overall Age\"\n",
    ")\n",
    "\n",
    "#Creating the grid\n",
    "fig = tls.make_subplots(rows=2, cols=2, specs=[[{}, {}], [{'colspan': 2}, None]],\n",
    "                          subplot_titles=('Good','Bad', 'General Distribuition'))\n",
    "\n",
    "#setting the figs\n",
    "fig.append_trace(trace0, 1, 1)\n",
    "fig.append_trace(trace1, 1, 2)\n",
    "fig.append_trace(trace2, 2, 1)\n",
    "\n",
    "fig['layout'].update(showlegend=True, title='Age Distribuition', bargap=0.05)\n",
    "py.iplot(fig, filename='custom-sized-subplot-with-subplot-titles')"
   ]
  },
  {
   "cell_type": "markdown",
   "metadata": {
    "_cell_guid": "dcfd7a3b-d43d-4c35-8b7c-cd0a3184881f",
    "_uuid": "4eaf4a2da2ea133fcb227313c72ab69f0f1328fa"
   },
   "source": [
    "<h2>Creating an categorical variable to handle with the Age variable </h2>"
   ]
  },
  {
   "cell_type": "code",
   "execution_count": 9,
   "metadata": {
    "_cell_guid": "77674108-1042-4a9d-8820-decd3f4c04f6",
    "_kg_hide-input": false,
    "_kg_hide-output": false,
    "_uuid": "e834b43cb46b510ca9d352297620e92b3f0f6db7"
   },
   "outputs": [],
   "source": [
    "#Let's look the Credit Amount column\n",
    "interval = (18, 25, 35, 60, 120)\n",
    "\n",
    "cats = ['Student', 'Young', 'Adult', 'Senior']\n",
    "df_credit[\"Age_cat\"] = pd.cut(df_credit.Age, interval, labels=cats)\n",
    "\n",
    "\n",
    "df_good = df_credit[df_credit[\"Risk\"] == 'good']\n",
    "df_bad = df_credit[df_credit[\"Risk\"] == 'bad']"
   ]
  },
  {
   "cell_type": "markdown",
   "metadata": {
    "_cell_guid": "39066b14-b573-4254-bc61-8b265e7bae5f",
    "_uuid": "a5e8088cd21325c077fe92b68246add9cc7aeb7f"
   },
   "source": [
    "<h2>I will now Look the distribuition of Housing own and rent by Risk</h2>\n"
   ]
  },
  {
   "cell_type": "code",
   "execution_count": 10,
   "metadata": {
    "_cell_guid": "f04d566c-92f3-4745-84e8-63b87e6c4b4c",
    "_kg_hide-input": true,
    "_uuid": "e0b8b82f2090041fa13102caf82293e3e5bd015a"
   },
   "outputs": [
    {
     "data": {
      "application/vnd.plotly.v1+json": {
       "config": {
        "linkText": "Export to plot.ly",
        "plotlyServerURL": "https://plot.ly",
        "showLink": false
       },
       "data": [
        {
         "name": "Good credit",
         "type": "bar",
         "x": [
          "own",
          "rent",
          "free"
         ],
         "y": {
          "bdata": "DwJtAEAA",
          "dtype": "i2"
         }
        },
        {
         "name": "Bad Credit",
         "type": "bar",
         "x": [
          "own",
          "rent",
          "free"
         ],
         "y": {
          "bdata": "ugBGACwA",
          "dtype": "i2"
         }
        }
       ],
       "layout": {
        "template": {
         "data": {
          "bar": [
           {
            "error_x": {
             "color": "#2a3f5f"
            },
            "error_y": {
             "color": "#2a3f5f"
            },
            "marker": {
             "line": {
              "color": "#E5ECF6",
              "width": 0.5
             },
             "pattern": {
              "fillmode": "overlay",
              "size": 10,
              "solidity": 0.2
             }
            },
            "type": "bar"
           }
          ],
          "barpolar": [
           {
            "marker": {
             "line": {
              "color": "#E5ECF6",
              "width": 0.5
             },
             "pattern": {
              "fillmode": "overlay",
              "size": 10,
              "solidity": 0.2
             }
            },
            "type": "barpolar"
           }
          ],
          "carpet": [
           {
            "aaxis": {
             "endlinecolor": "#2a3f5f",
             "gridcolor": "white",
             "linecolor": "white",
             "minorgridcolor": "white",
             "startlinecolor": "#2a3f5f"
            },
            "baxis": {
             "endlinecolor": "#2a3f5f",
             "gridcolor": "white",
             "linecolor": "white",
             "minorgridcolor": "white",
             "startlinecolor": "#2a3f5f"
            },
            "type": "carpet"
           }
          ],
          "choropleth": [
           {
            "colorbar": {
             "outlinewidth": 0,
             "ticks": ""
            },
            "type": "choropleth"
           }
          ],
          "contour": [
           {
            "colorbar": {
             "outlinewidth": 0,
             "ticks": ""
            },
            "colorscale": [
             [
              0,
              "#0d0887"
             ],
             [
              0.1111111111111111,
              "#46039f"
             ],
             [
              0.2222222222222222,
              "#7201a8"
             ],
             [
              0.3333333333333333,
              "#9c179e"
             ],
             [
              0.4444444444444444,
              "#bd3786"
             ],
             [
              0.5555555555555556,
              "#d8576b"
             ],
             [
              0.6666666666666666,
              "#ed7953"
             ],
             [
              0.7777777777777778,
              "#fb9f3a"
             ],
             [
              0.8888888888888888,
              "#fdca26"
             ],
             [
              1,
              "#f0f921"
             ]
            ],
            "type": "contour"
           }
          ],
          "contourcarpet": [
           {
            "colorbar": {
             "outlinewidth": 0,
             "ticks": ""
            },
            "type": "contourcarpet"
           }
          ],
          "heatmap": [
           {
            "colorbar": {
             "outlinewidth": 0,
             "ticks": ""
            },
            "colorscale": [
             [
              0,
              "#0d0887"
             ],
             [
              0.1111111111111111,
              "#46039f"
             ],
             [
              0.2222222222222222,
              "#7201a8"
             ],
             [
              0.3333333333333333,
              "#9c179e"
             ],
             [
              0.4444444444444444,
              "#bd3786"
             ],
             [
              0.5555555555555556,
              "#d8576b"
             ],
             [
              0.6666666666666666,
              "#ed7953"
             ],
             [
              0.7777777777777778,
              "#fb9f3a"
             ],
             [
              0.8888888888888888,
              "#fdca26"
             ],
             [
              1,
              "#f0f921"
             ]
            ],
            "type": "heatmap"
           }
          ],
          "histogram": [
           {
            "marker": {
             "pattern": {
              "fillmode": "overlay",
              "size": 10,
              "solidity": 0.2
             }
            },
            "type": "histogram"
           }
          ],
          "histogram2d": [
           {
            "colorbar": {
             "outlinewidth": 0,
             "ticks": ""
            },
            "colorscale": [
             [
              0,
              "#0d0887"
             ],
             [
              0.1111111111111111,
              "#46039f"
             ],
             [
              0.2222222222222222,
              "#7201a8"
             ],
             [
              0.3333333333333333,
              "#9c179e"
             ],
             [
              0.4444444444444444,
              "#bd3786"
             ],
             [
              0.5555555555555556,
              "#d8576b"
             ],
             [
              0.6666666666666666,
              "#ed7953"
             ],
             [
              0.7777777777777778,
              "#fb9f3a"
             ],
             [
              0.8888888888888888,
              "#fdca26"
             ],
             [
              1,
              "#f0f921"
             ]
            ],
            "type": "histogram2d"
           }
          ],
          "histogram2dcontour": [
           {
            "colorbar": {
             "outlinewidth": 0,
             "ticks": ""
            },
            "colorscale": [
             [
              0,
              "#0d0887"
             ],
             [
              0.1111111111111111,
              "#46039f"
             ],
             [
              0.2222222222222222,
              "#7201a8"
             ],
             [
              0.3333333333333333,
              "#9c179e"
             ],
             [
              0.4444444444444444,
              "#bd3786"
             ],
             [
              0.5555555555555556,
              "#d8576b"
             ],
             [
              0.6666666666666666,
              "#ed7953"
             ],
             [
              0.7777777777777778,
              "#fb9f3a"
             ],
             [
              0.8888888888888888,
              "#fdca26"
             ],
             [
              1,
              "#f0f921"
             ]
            ],
            "type": "histogram2dcontour"
           }
          ],
          "mesh3d": [
           {
            "colorbar": {
             "outlinewidth": 0,
             "ticks": ""
            },
            "type": "mesh3d"
           }
          ],
          "parcoords": [
           {
            "line": {
             "colorbar": {
              "outlinewidth": 0,
              "ticks": ""
             }
            },
            "type": "parcoords"
           }
          ],
          "pie": [
           {
            "automargin": true,
            "type": "pie"
           }
          ],
          "scatter": [
           {
            "fillpattern": {
             "fillmode": "overlay",
             "size": 10,
             "solidity": 0.2
            },
            "type": "scatter"
           }
          ],
          "scatter3d": [
           {
            "line": {
             "colorbar": {
              "outlinewidth": 0,
              "ticks": ""
             }
            },
            "marker": {
             "colorbar": {
              "outlinewidth": 0,
              "ticks": ""
             }
            },
            "type": "scatter3d"
           }
          ],
          "scattercarpet": [
           {
            "marker": {
             "colorbar": {
              "outlinewidth": 0,
              "ticks": ""
             }
            },
            "type": "scattercarpet"
           }
          ],
          "scattergeo": [
           {
            "marker": {
             "colorbar": {
              "outlinewidth": 0,
              "ticks": ""
             }
            },
            "type": "scattergeo"
           }
          ],
          "scattergl": [
           {
            "marker": {
             "colorbar": {
              "outlinewidth": 0,
              "ticks": ""
             }
            },
            "type": "scattergl"
           }
          ],
          "scattermap": [
           {
            "marker": {
             "colorbar": {
              "outlinewidth": 0,
              "ticks": ""
             }
            },
            "type": "scattermap"
           }
          ],
          "scattermapbox": [
           {
            "marker": {
             "colorbar": {
              "outlinewidth": 0,
              "ticks": ""
             }
            },
            "type": "scattermapbox"
           }
          ],
          "scatterpolar": [
           {
            "marker": {
             "colorbar": {
              "outlinewidth": 0,
              "ticks": ""
             }
            },
            "type": "scatterpolar"
           }
          ],
          "scatterpolargl": [
           {
            "marker": {
             "colorbar": {
              "outlinewidth": 0,
              "ticks": ""
             }
            },
            "type": "scatterpolargl"
           }
          ],
          "scatterternary": [
           {
            "marker": {
             "colorbar": {
              "outlinewidth": 0,
              "ticks": ""
             }
            },
            "type": "scatterternary"
           }
          ],
          "surface": [
           {
            "colorbar": {
             "outlinewidth": 0,
             "ticks": ""
            },
            "colorscale": [
             [
              0,
              "#0d0887"
             ],
             [
              0.1111111111111111,
              "#46039f"
             ],
             [
              0.2222222222222222,
              "#7201a8"
             ],
             [
              0.3333333333333333,
              "#9c179e"
             ],
             [
              0.4444444444444444,
              "#bd3786"
             ],
             [
              0.5555555555555556,
              "#d8576b"
             ],
             [
              0.6666666666666666,
              "#ed7953"
             ],
             [
              0.7777777777777778,
              "#fb9f3a"
             ],
             [
              0.8888888888888888,
              "#fdca26"
             ],
             [
              1,
              "#f0f921"
             ]
            ],
            "type": "surface"
           }
          ],
          "table": [
           {
            "cells": {
             "fill": {
              "color": "#EBF0F8"
             },
             "line": {
              "color": "white"
             }
            },
            "header": {
             "fill": {
              "color": "#C8D4E3"
             },
             "line": {
              "color": "white"
             }
            },
            "type": "table"
           }
          ]
         },
         "layout": {
          "annotationdefaults": {
           "arrowcolor": "#2a3f5f",
           "arrowhead": 0,
           "arrowwidth": 1
          },
          "autotypenumbers": "strict",
          "coloraxis": {
           "colorbar": {
            "outlinewidth": 0,
            "ticks": ""
           }
          },
          "colorscale": {
           "diverging": [
            [
             0,
             "#8e0152"
            ],
            [
             0.1,
             "#c51b7d"
            ],
            [
             0.2,
             "#de77ae"
            ],
            [
             0.3,
             "#f1b6da"
            ],
            [
             0.4,
             "#fde0ef"
            ],
            [
             0.5,
             "#f7f7f7"
            ],
            [
             0.6,
             "#e6f5d0"
            ],
            [
             0.7,
             "#b8e186"
            ],
            [
             0.8,
             "#7fbc41"
            ],
            [
             0.9,
             "#4d9221"
            ],
            [
             1,
             "#276419"
            ]
           ],
           "sequential": [
            [
             0,
             "#0d0887"
            ],
            [
             0.1111111111111111,
             "#46039f"
            ],
            [
             0.2222222222222222,
             "#7201a8"
            ],
            [
             0.3333333333333333,
             "#9c179e"
            ],
            [
             0.4444444444444444,
             "#bd3786"
            ],
            [
             0.5555555555555556,
             "#d8576b"
            ],
            [
             0.6666666666666666,
             "#ed7953"
            ],
            [
             0.7777777777777778,
             "#fb9f3a"
            ],
            [
             0.8888888888888888,
             "#fdca26"
            ],
            [
             1,
             "#f0f921"
            ]
           ],
           "sequentialminus": [
            [
             0,
             "#0d0887"
            ],
            [
             0.1111111111111111,
             "#46039f"
            ],
            [
             0.2222222222222222,
             "#7201a8"
            ],
            [
             0.3333333333333333,
             "#9c179e"
            ],
            [
             0.4444444444444444,
             "#bd3786"
            ],
            [
             0.5555555555555556,
             "#d8576b"
            ],
            [
             0.6666666666666666,
             "#ed7953"
            ],
            [
             0.7777777777777778,
             "#fb9f3a"
            ],
            [
             0.8888888888888888,
             "#fdca26"
            ],
            [
             1,
             "#f0f921"
            ]
           ]
          },
          "colorway": [
           "#636efa",
           "#EF553B",
           "#00cc96",
           "#ab63fa",
           "#FFA15A",
           "#19d3f3",
           "#FF6692",
           "#B6E880",
           "#FF97FF",
           "#FECB52"
          ],
          "font": {
           "color": "#2a3f5f"
          },
          "geo": {
           "bgcolor": "white",
           "lakecolor": "white",
           "landcolor": "#E5ECF6",
           "showlakes": true,
           "showland": true,
           "subunitcolor": "white"
          },
          "hoverlabel": {
           "align": "left"
          },
          "hovermode": "closest",
          "mapbox": {
           "style": "light"
          },
          "paper_bgcolor": "white",
          "plot_bgcolor": "#E5ECF6",
          "polar": {
           "angularaxis": {
            "gridcolor": "white",
            "linecolor": "white",
            "ticks": ""
           },
           "bgcolor": "#E5ECF6",
           "radialaxis": {
            "gridcolor": "white",
            "linecolor": "white",
            "ticks": ""
           }
          },
          "scene": {
           "xaxis": {
            "backgroundcolor": "#E5ECF6",
            "gridcolor": "white",
            "gridwidth": 2,
            "linecolor": "white",
            "showbackground": true,
            "ticks": "",
            "zerolinecolor": "white"
           },
           "yaxis": {
            "backgroundcolor": "#E5ECF6",
            "gridcolor": "white",
            "gridwidth": 2,
            "linecolor": "white",
            "showbackground": true,
            "ticks": "",
            "zerolinecolor": "white"
           },
           "zaxis": {
            "backgroundcolor": "#E5ECF6",
            "gridcolor": "white",
            "gridwidth": 2,
            "linecolor": "white",
            "showbackground": true,
            "ticks": "",
            "zerolinecolor": "white"
           }
          },
          "shapedefaults": {
           "line": {
            "color": "#2a3f5f"
           }
          },
          "ternary": {
           "aaxis": {
            "gridcolor": "white",
            "linecolor": "white",
            "ticks": ""
           },
           "baxis": {
            "gridcolor": "white",
            "linecolor": "white",
            "ticks": ""
           },
           "bgcolor": "#E5ECF6",
           "caxis": {
            "gridcolor": "white",
            "linecolor": "white",
            "ticks": ""
           }
          },
          "title": {
           "x": 0.05
          },
          "xaxis": {
           "automargin": true,
           "gridcolor": "white",
           "linecolor": "white",
           "ticks": "",
           "title": {
            "standoff": 15
           },
           "zerolinecolor": "white",
           "zerolinewidth": 2
          },
          "yaxis": {
           "automargin": true,
           "gridcolor": "white",
           "linecolor": "white",
           "ticks": "",
           "title": {
            "standoff": 15
           },
           "zerolinecolor": "white",
           "zerolinewidth": 2
          }
         }
        },
        "title": {
         "text": "Housing Distribuition"
        }
       }
      },
      "text/html": [
       "<div>            <script src=\"https://cdnjs.cloudflare.com/ajax/libs/mathjax/2.7.5/MathJax.js?config=TeX-AMS-MML_SVG\"></script><script type=\"text/javascript\">if (window.MathJax && window.MathJax.Hub && window.MathJax.Hub.Config) {window.MathJax.Hub.Config({SVG: {font: \"STIX-Web\"}});}</script>                <script type=\"text/javascript\">window.PlotlyConfig = {MathJaxConfig: 'local'};</script>\n",
       "        <script charset=\"utf-8\" src=\"https://cdn.plot.ly/plotly-3.0.1.min.js\"></script>                <div id=\"b0862f77-0deb-4468-94d0-718fe1bf2014\" class=\"plotly-graph-div\" style=\"height:525px; width:100%;\"></div>            <script type=\"text/javascript\">                window.PLOTLYENV=window.PLOTLYENV || {};                                if (document.getElementById(\"b0862f77-0deb-4468-94d0-718fe1bf2014\")) {                    Plotly.newPlot(                        \"b0862f77-0deb-4468-94d0-718fe1bf2014\",                        [{\"name\":\"Good credit\",\"x\":[\"own\",\"rent\",\"free\"],\"y\":{\"dtype\":\"i2\",\"bdata\":\"DwJtAEAA\"},\"type\":\"bar\"},{\"name\":\"Bad Credit\",\"x\":[\"own\",\"rent\",\"free\"],\"y\":{\"dtype\":\"i2\",\"bdata\":\"ugBGACwA\"},\"type\":\"bar\"}],                        {\"template\":{\"data\":{\"barpolar\":[{\"marker\":{\"line\":{\"color\":\"#E5ECF6\",\"width\":0.5},\"pattern\":{\"fillmode\":\"overlay\",\"size\":10,\"solidity\":0.2}},\"type\":\"barpolar\"}],\"bar\":[{\"error_x\":{\"color\":\"#2a3f5f\"},\"error_y\":{\"color\":\"#2a3f5f\"},\"marker\":{\"line\":{\"color\":\"#E5ECF6\",\"width\":0.5},\"pattern\":{\"fillmode\":\"overlay\",\"size\":10,\"solidity\":0.2}},\"type\":\"bar\"}],\"carpet\":[{\"aaxis\":{\"endlinecolor\":\"#2a3f5f\",\"gridcolor\":\"white\",\"linecolor\":\"white\",\"minorgridcolor\":\"white\",\"startlinecolor\":\"#2a3f5f\"},\"baxis\":{\"endlinecolor\":\"#2a3f5f\",\"gridcolor\":\"white\",\"linecolor\":\"white\",\"minorgridcolor\":\"white\",\"startlinecolor\":\"#2a3f5f\"},\"type\":\"carpet\"}],\"choropleth\":[{\"colorbar\":{\"outlinewidth\":0,\"ticks\":\"\"},\"type\":\"choropleth\"}],\"contourcarpet\":[{\"colorbar\":{\"outlinewidth\":0,\"ticks\":\"\"},\"type\":\"contourcarpet\"}],\"contour\":[{\"colorbar\":{\"outlinewidth\":0,\"ticks\":\"\"},\"colorscale\":[[0.0,\"#0d0887\"],[0.1111111111111111,\"#46039f\"],[0.2222222222222222,\"#7201a8\"],[0.3333333333333333,\"#9c179e\"],[0.4444444444444444,\"#bd3786\"],[0.5555555555555556,\"#d8576b\"],[0.6666666666666666,\"#ed7953\"],[0.7777777777777778,\"#fb9f3a\"],[0.8888888888888888,\"#fdca26\"],[1.0,\"#f0f921\"]],\"type\":\"contour\"}],\"heatmap\":[{\"colorbar\":{\"outlinewidth\":0,\"ticks\":\"\"},\"colorscale\":[[0.0,\"#0d0887\"],[0.1111111111111111,\"#46039f\"],[0.2222222222222222,\"#7201a8\"],[0.3333333333333333,\"#9c179e\"],[0.4444444444444444,\"#bd3786\"],[0.5555555555555556,\"#d8576b\"],[0.6666666666666666,\"#ed7953\"],[0.7777777777777778,\"#fb9f3a\"],[0.8888888888888888,\"#fdca26\"],[1.0,\"#f0f921\"]],\"type\":\"heatmap\"}],\"histogram2dcontour\":[{\"colorbar\":{\"outlinewidth\":0,\"ticks\":\"\"},\"colorscale\":[[0.0,\"#0d0887\"],[0.1111111111111111,\"#46039f\"],[0.2222222222222222,\"#7201a8\"],[0.3333333333333333,\"#9c179e\"],[0.4444444444444444,\"#bd3786\"],[0.5555555555555556,\"#d8576b\"],[0.6666666666666666,\"#ed7953\"],[0.7777777777777778,\"#fb9f3a\"],[0.8888888888888888,\"#fdca26\"],[1.0,\"#f0f921\"]],\"type\":\"histogram2dcontour\"}],\"histogram2d\":[{\"colorbar\":{\"outlinewidth\":0,\"ticks\":\"\"},\"colorscale\":[[0.0,\"#0d0887\"],[0.1111111111111111,\"#46039f\"],[0.2222222222222222,\"#7201a8\"],[0.3333333333333333,\"#9c179e\"],[0.4444444444444444,\"#bd3786\"],[0.5555555555555556,\"#d8576b\"],[0.6666666666666666,\"#ed7953\"],[0.7777777777777778,\"#fb9f3a\"],[0.8888888888888888,\"#fdca26\"],[1.0,\"#f0f921\"]],\"type\":\"histogram2d\"}],\"histogram\":[{\"marker\":{\"pattern\":{\"fillmode\":\"overlay\",\"size\":10,\"solidity\":0.2}},\"type\":\"histogram\"}],\"mesh3d\":[{\"colorbar\":{\"outlinewidth\":0,\"ticks\":\"\"},\"type\":\"mesh3d\"}],\"parcoords\":[{\"line\":{\"colorbar\":{\"outlinewidth\":0,\"ticks\":\"\"}},\"type\":\"parcoords\"}],\"pie\":[{\"automargin\":true,\"type\":\"pie\"}],\"scatter3d\":[{\"line\":{\"colorbar\":{\"outlinewidth\":0,\"ticks\":\"\"}},\"marker\":{\"colorbar\":{\"outlinewidth\":0,\"ticks\":\"\"}},\"type\":\"scatter3d\"}],\"scattercarpet\":[{\"marker\":{\"colorbar\":{\"outlinewidth\":0,\"ticks\":\"\"}},\"type\":\"scattercarpet\"}],\"scattergeo\":[{\"marker\":{\"colorbar\":{\"outlinewidth\":0,\"ticks\":\"\"}},\"type\":\"scattergeo\"}],\"scattergl\":[{\"marker\":{\"colorbar\":{\"outlinewidth\":0,\"ticks\":\"\"}},\"type\":\"scattergl\"}],\"scattermapbox\":[{\"marker\":{\"colorbar\":{\"outlinewidth\":0,\"ticks\":\"\"}},\"type\":\"scattermapbox\"}],\"scattermap\":[{\"marker\":{\"colorbar\":{\"outlinewidth\":0,\"ticks\":\"\"}},\"type\":\"scattermap\"}],\"scatterpolargl\":[{\"marker\":{\"colorbar\":{\"outlinewidth\":0,\"ticks\":\"\"}},\"type\":\"scatterpolargl\"}],\"scatterpolar\":[{\"marker\":{\"colorbar\":{\"outlinewidth\":0,\"ticks\":\"\"}},\"type\":\"scatterpolar\"}],\"scatter\":[{\"fillpattern\":{\"fillmode\":\"overlay\",\"size\":10,\"solidity\":0.2},\"type\":\"scatter\"}],\"scatterternary\":[{\"marker\":{\"colorbar\":{\"outlinewidth\":0,\"ticks\":\"\"}},\"type\":\"scatterternary\"}],\"surface\":[{\"colorbar\":{\"outlinewidth\":0,\"ticks\":\"\"},\"colorscale\":[[0.0,\"#0d0887\"],[0.1111111111111111,\"#46039f\"],[0.2222222222222222,\"#7201a8\"],[0.3333333333333333,\"#9c179e\"],[0.4444444444444444,\"#bd3786\"],[0.5555555555555556,\"#d8576b\"],[0.6666666666666666,\"#ed7953\"],[0.7777777777777778,\"#fb9f3a\"],[0.8888888888888888,\"#fdca26\"],[1.0,\"#f0f921\"]],\"type\":\"surface\"}],\"table\":[{\"cells\":{\"fill\":{\"color\":\"#EBF0F8\"},\"line\":{\"color\":\"white\"}},\"header\":{\"fill\":{\"color\":\"#C8D4E3\"},\"line\":{\"color\":\"white\"}},\"type\":\"table\"}]},\"layout\":{\"annotationdefaults\":{\"arrowcolor\":\"#2a3f5f\",\"arrowhead\":0,\"arrowwidth\":1},\"autotypenumbers\":\"strict\",\"coloraxis\":{\"colorbar\":{\"outlinewidth\":0,\"ticks\":\"\"}},\"colorscale\":{\"diverging\":[[0,\"#8e0152\"],[0.1,\"#c51b7d\"],[0.2,\"#de77ae\"],[0.3,\"#f1b6da\"],[0.4,\"#fde0ef\"],[0.5,\"#f7f7f7\"],[0.6,\"#e6f5d0\"],[0.7,\"#b8e186\"],[0.8,\"#7fbc41\"],[0.9,\"#4d9221\"],[1,\"#276419\"]],\"sequential\":[[0.0,\"#0d0887\"],[0.1111111111111111,\"#46039f\"],[0.2222222222222222,\"#7201a8\"],[0.3333333333333333,\"#9c179e\"],[0.4444444444444444,\"#bd3786\"],[0.5555555555555556,\"#d8576b\"],[0.6666666666666666,\"#ed7953\"],[0.7777777777777778,\"#fb9f3a\"],[0.8888888888888888,\"#fdca26\"],[1.0,\"#f0f921\"]],\"sequentialminus\":[[0.0,\"#0d0887\"],[0.1111111111111111,\"#46039f\"],[0.2222222222222222,\"#7201a8\"],[0.3333333333333333,\"#9c179e\"],[0.4444444444444444,\"#bd3786\"],[0.5555555555555556,\"#d8576b\"],[0.6666666666666666,\"#ed7953\"],[0.7777777777777778,\"#fb9f3a\"],[0.8888888888888888,\"#fdca26\"],[1.0,\"#f0f921\"]]},\"colorway\":[\"#636efa\",\"#EF553B\",\"#00cc96\",\"#ab63fa\",\"#FFA15A\",\"#19d3f3\",\"#FF6692\",\"#B6E880\",\"#FF97FF\",\"#FECB52\"],\"font\":{\"color\":\"#2a3f5f\"},\"geo\":{\"bgcolor\":\"white\",\"lakecolor\":\"white\",\"landcolor\":\"#E5ECF6\",\"showlakes\":true,\"showland\":true,\"subunitcolor\":\"white\"},\"hoverlabel\":{\"align\":\"left\"},\"hovermode\":\"closest\",\"mapbox\":{\"style\":\"light\"},\"paper_bgcolor\":\"white\",\"plot_bgcolor\":\"#E5ECF6\",\"polar\":{\"angularaxis\":{\"gridcolor\":\"white\",\"linecolor\":\"white\",\"ticks\":\"\"},\"bgcolor\":\"#E5ECF6\",\"radialaxis\":{\"gridcolor\":\"white\",\"linecolor\":\"white\",\"ticks\":\"\"}},\"scene\":{\"xaxis\":{\"backgroundcolor\":\"#E5ECF6\",\"gridcolor\":\"white\",\"gridwidth\":2,\"linecolor\":\"white\",\"showbackground\":true,\"ticks\":\"\",\"zerolinecolor\":\"white\"},\"yaxis\":{\"backgroundcolor\":\"#E5ECF6\",\"gridcolor\":\"white\",\"gridwidth\":2,\"linecolor\":\"white\",\"showbackground\":true,\"ticks\":\"\",\"zerolinecolor\":\"white\"},\"zaxis\":{\"backgroundcolor\":\"#E5ECF6\",\"gridcolor\":\"white\",\"gridwidth\":2,\"linecolor\":\"white\",\"showbackground\":true,\"ticks\":\"\",\"zerolinecolor\":\"white\"}},\"shapedefaults\":{\"line\":{\"color\":\"#2a3f5f\"}},\"ternary\":{\"aaxis\":{\"gridcolor\":\"white\",\"linecolor\":\"white\",\"ticks\":\"\"},\"baxis\":{\"gridcolor\":\"white\",\"linecolor\":\"white\",\"ticks\":\"\"},\"bgcolor\":\"#E5ECF6\",\"caxis\":{\"gridcolor\":\"white\",\"linecolor\":\"white\",\"ticks\":\"\"}},\"title\":{\"x\":0.05},\"xaxis\":{\"automargin\":true,\"gridcolor\":\"white\",\"linecolor\":\"white\",\"ticks\":\"\",\"title\":{\"standoff\":15},\"zerolinecolor\":\"white\",\"zerolinewidth\":2},\"yaxis\":{\"automargin\":true,\"gridcolor\":\"white\",\"linecolor\":\"white\",\"ticks\":\"\",\"title\":{\"standoff\":15},\"zerolinecolor\":\"white\",\"zerolinewidth\":2}}},\"title\":{\"text\":\"Housing Distribuition\"}},                        {\"responsive\": true}                    ).then(function(){\n",
       "                            \n",
       "var gd = document.getElementById('b0862f77-0deb-4468-94d0-718fe1bf2014');\n",
       "var x = new MutationObserver(function (mutations, observer) {{\n",
       "        var display = window.getComputedStyle(gd).display;\n",
       "        if (!display || display === 'none') {{\n",
       "            console.log([gd, 'removed!']);\n",
       "            Plotly.purge(gd);\n",
       "            observer.disconnect();\n",
       "        }}\n",
       "}});\n",
       "\n",
       "// Listen for the removal of the full notebook cells\n",
       "var notebookContainer = gd.closest('#notebook-container');\n",
       "if (notebookContainer) {{\n",
       "    x.observe(notebookContainer, {childList: true});\n",
       "}}\n",
       "\n",
       "// Listen for the clearing of the current output cell\n",
       "var outputEl = gd.closest('.output');\n",
       "if (outputEl) {{\n",
       "    x.observe(outputEl, {childList: true});\n",
       "}}\n",
       "\n",
       "                        })                };            </script>        </div>"
      ]
     },
     "metadata": {},
     "output_type": "display_data"
    }
   ],
   "source": [
    "#First plot\n",
    "trace0 = go.Bar(\n",
    "    x = df_credit[df_credit[\"Risk\"]== 'good'][\"Housing\"].value_counts().index.values,\n",
    "    y = df_credit[df_credit[\"Risk\"]== 'good'][\"Housing\"].value_counts().values,\n",
    "    name='Good credit'\n",
    ")\n",
    "\n",
    "#Second plot\n",
    "trace1 = go.Bar(\n",
    "    x = df_credit[df_credit[\"Risk\"]== 'bad'][\"Housing\"].value_counts().index.values,\n",
    "    y = df_credit[df_credit[\"Risk\"]== 'bad'][\"Housing\"].value_counts().values,\n",
    "    name=\"Bad Credit\"\n",
    ")\n",
    "\n",
    "data = [trace0, trace1]\n",
    "\n",
    "layout = go.Layout(\n",
    "    title='Housing Distribuition'\n",
    ")\n",
    "\n",
    "\n",
    "fig = go.Figure(data=data, layout=layout)\n",
    "\n",
    "py.iplot(fig, filename='Housing-Grouped')"
   ]
  },
  {
   "cell_type": "markdown",
   "metadata": {
    "_cell_guid": "85a1de27-ac07-4317-b2cb-f0ef0fc50263",
    "_uuid": "f0bbbfef78b2172aed6eec91a0082fb24a6b6652"
   },
   "source": [
    "we can see that the own and good risk have a high correlation"
   ]
  },
  {
   "cell_type": "markdown",
   "metadata": {
    "_cell_guid": "2ee9d053-57a7-4448-b00d-52f85b4b7435",
    "_uuid": "e14a1b38effd533bf963fce312ff5afde85d4e46"
   },
   "source": [
    "<h3>Distribuition of Credit Amount by Housing</h3>"
   ]
  },
  {
   "cell_type": "markdown",
   "metadata": {
    "_cell_guid": "c4b74894-53b4-4a93-83e1-761d3c7feb3a",
    "_uuid": "1cfb55b3552be9e7dd67de9ed24c72af973cbe4b"
   },
   "source": [
    "Interesting moviments! Highest values come from category \"free\" and we have a different distribuition by Risk"
   ]
  },
  {
   "cell_type": "markdown",
   "metadata": {
    "_cell_guid": "bb043f80-4948-476b-a9ed-4d5850a08c2e",
    "_uuid": "a4b29db97c9da81196b5ef63dae3bc7dd5c18c48"
   },
   "source": [
    "<h2>Looking the diference by Sex</h2>"
   ]
  },
  {
   "cell_type": "code",
   "execution_count": 11,
   "metadata": {
    "_cell_guid": "be4c6440-bdf4-4051-acef-f6db9c43c7de",
    "_kg_hide-input": true,
    "_uuid": "7baf9501935c7ff1eee9cf519cea74ab3e858f98"
   },
   "outputs": [
    {
     "name": "stderr",
     "output_type": "stream",
     "text": [
      "C:\\Users\\USER\\anaconda3\\Lib\\site-packages\\plotly\\tools.py:452: DeprecationWarning:\n",
      "\n",
      "plotly.tools.make_subplots is deprecated, please use plotly.subplots.make_subplots instead\n",
      "\n"
     ]
    },
    {
     "data": {
      "application/vnd.plotly.v1+json": {
       "config": {
        "linkText": "Export to plot.ly",
        "plotlyServerURL": "https://plot.ly",
        "showLink": false
       },
       "data": [
        {
         "name": "Good credit",
         "type": "bar",
         "x": [
          "male",
          "female"
         ],
         "xaxis": "x",
         "y": {
          "bdata": "8wHJAA==",
          "dtype": "i2"
         },
         "yaxis": "y"
        },
        {
         "name": "Bad Credit",
         "type": "bar",
         "x": [
          "male",
          "female"
         ],
         "xaxis": "x",
         "y": {
          "bdata": "vwBtAA==",
          "dtype": "i2"
         },
         "yaxis": "y"
        },
        {
         "name": "Good credit",
         "type": "box",
         "x": [
          "male",
          "male",
          "male",
          "male",
          "male",
          "male",
          "male",
          "female",
          "female",
          "male",
          "male",
          "male",
          "male",
          "male",
          "male",
          "male",
          "male",
          "male",
          "male",
          "female",
          "male",
          "male",
          "male",
          "male",
          "male",
          "female",
          "male",
          "male",
          "male",
          "male",
          "male",
          "male",
          "male",
          "female",
          "male",
          "female",
          "male",
          "female",
          "male",
          "male",
          "male",
          "male",
          "male",
          "female",
          "female",
          "male",
          "male",
          "female",
          "male",
          "female",
          "male",
          "female",
          "female",
          "male",
          "male",
          "female",
          "male",
          "male",
          "male",
          "male",
          "male",
          "female",
          "female",
          "male",
          "female",
          "female",
          "male",
          "male",
          "male",
          "male",
          "male",
          "female",
          "male",
          "male",
          "male",
          "male",
          "male",
          "female",
          "male",
          "male",
          "male",
          "female",
          "male",
          "male",
          "female",
          "male",
          "male",
          "male",
          "female",
          "male",
          "female",
          "male",
          "male",
          "male",
          "male",
          "male",
          "female",
          "male",
          "male",
          "female",
          "female",
          "male",
          "male",
          "female",
          "male",
          "female",
          "male",
          "female",
          "male",
          "female",
          "female",
          "male",
          "male",
          "male",
          "male",
          "male",
          "female",
          "male",
          "male",
          "male",
          "male",
          "male",
          "male",
          "female",
          "male",
          "male",
          "male",
          "male",
          "female",
          "female",
          "female",
          "male",
          "male",
          "male",
          "male",
          "male",
          "male",
          "male",
          "male",
          "female",
          "male",
          "female",
          "male",
          "male",
          "male",
          "male",
          "male",
          "male",
          "male",
          "male",
          "male",
          "male",
          "male",
          "female",
          "male",
          "female",
          "male",
          "male",
          "male",
          "female",
          "male",
          "female",
          "male",
          "male",
          "male",
          "male",
          "male",
          "male",
          "male",
          "male",
          "male",
          "female",
          "male",
          "male",
          "female",
          "female",
          "male",
          "male",
          "male",
          "male",
          "female",
          "female",
          "male",
          "male",
          "male",
          "male",
          "female",
          "female",
          "male",
          "female",
          "male",
          "female",
          "male",
          "male",
          "female",
          "male",
          "male",
          "female",
          "male",
          "male",
          "female",
          "male",
          "male",
          "male",
          "male",
          "male",
          "male",
          "male",
          "female",
          "male",
          "male",
          "female",
          "male",
          "female",
          "male",
          "male",
          "female",
          "male",
          "male",
          "male",
          "female",
          "male",
          "male",
          "female",
          "male",
          "male",
          "male",
          "female",
          "male",
          "male",
          "female",
          "male",
          "female",
          "male",
          "male",
          "female",
          "male",
          "male",
          "female",
          "male",
          "male",
          "male",
          "female",
          "male",
          "male",
          "female",
          "female",
          "male",
          "male",
          "male",
          "female",
          "male",
          "female",
          "male",
          "female",
          "male",
          "male",
          "male",
          "male",
          "male",
          "male",
          "female",
          "male",
          "male",
          "male",
          "female",
          "female",
          "male",
          "male",
          "female",
          "male",
          "male",
          "male",
          "female",
          "male",
          "female",
          "male",
          "male",
          "female",
          "female",
          "male",
          "male",
          "female",
          "male",
          "female",
          "male",
          "female",
          "male",
          "male",
          "female",
          "male",
          "female",
          "male",
          "male",
          "male",
          "male",
          "male",
          "male",
          "male",
          "female",
          "male",
          "male",
          "male",
          "female",
          "female",
          "female",
          "male",
          "male",
          "male",
          "male",
          "male",
          "male",
          "male",
          "male",
          "male",
          "male",
          "male",
          "male",
          "female",
          "male",
          "male",
          "female",
          "male",
          "female",
          "male",
          "female",
          "male",
          "female",
          "male",
          "male",
          "female",
          "male",
          "female",
          "male",
          "male",
          "male",
          "female",
          "male",
          "male",
          "male",
          "male",
          "female",
          "male",
          "male",
          "male",
          "male",
          "male",
          "male",
          "female",
          "male",
          "female",
          "female",
          "male",
          "male",
          "female",
          "male",
          "male",
          "male",
          "female",
          "male",
          "male",
          "male",
          "male",
          "male",
          "male",
          "male",
          "male",
          "male",
          "male",
          "male",
          "male",
          "male",
          "male",
          "female",
          "male",
          "male",
          "male",
          "male",
          "female",
          "female",
          "male",
          "female",
          "male",
          "male",
          "male",
          "male",
          "male",
          "male",
          "female",
          "female",
          "female",
          "male",
          "male",
          "female",
          "male",
          "male",
          "female",
          "male",
          "male",
          "female",
          "male",
          "female",
          "male",
          "female",
          "male",
          "male",
          "male",
          "female",
          "female",
          "male",
          "female",
          "female",
          "female",
          "male",
          "male",
          "female",
          "female",
          "male",
          "male",
          "female",
          "female",
          "female",
          "male",
          "female",
          "female",
          "male",
          "male",
          "male",
          "male",
          "female",
          "female",
          "male",
          "male",
          "male",
          "male",
          "male",
          "female",
          "male",
          "male",
          "male",
          "male",
          "female",
          "male",
          "male",
          "female",
          "male",
          "female",
          "male",
          "male",
          "male",
          "male",
          "male",
          "male",
          "male",
          "male",
          "female",
          "male",
          "male",
          "male",
          "male",
          "female",
          "male",
          "male",
          "female",
          "male",
          "male",
          "male",
          "male",
          "male",
          "female",
          "male",
          "male",
          "female",
          "female",
          "male",
          "male",
          "male",
          "male",
          "male",
          "male",
          "male",
          "male",
          "male",
          "male",
          "female",
          "male",
          "male",
          "male",
          "male",
          "male",
          "female",
          "male",
          "male",
          "female",
          "male",
          "female",
          "female",
          "female",
          "male",
          "male",
          "male",
          "male",
          "male",
          "male",
          "male",
          "male",
          "male",
          "female",
          "female",
          "male",
          "male",
          "male",
          "female",
          "female",
          "female",
          "female",
          "male",
          "male",
          "male",
          "male",
          "male",
          "male",
          "male",
          "male",
          "female",
          "male",
          "male",
          "female",
          "female",
          "female",
          "male",
          "male",
          "female",
          "male",
          "male",
          "male",
          "female",
          "male",
          "male",
          "female",
          "male",
          "male",
          "male",
          "male",
          "female",
          "male",
          "female",
          "male",
          "male",
          "male",
          "male",
          "male",
          "male",
          "male",
          "male",
          "male",
          "male",
          "female",
          "female",
          "male",
          "male",
          "male",
          "female",
          "female",
          "male",
          "female",
          "male",
          "male",
          "male",
          "male",
          "male",
          "female",
          "male",
          "female",
          "male",
          "male",
          "male",
          "male",
          "male",
          "male",
          "male",
          "male",
          "female",
          "female",
          "female",
          "male",
          "male",
          "male",
          "male",
          "male",
          "male",
          "male",
          "male",
          "male",
          "male",
          "male",
          "male",
          "female",
          "male",
          "male",
          "male",
          "male",
          "female",
          "female",
          "male",
          "male",
          "female",
          "female",
          "male",
          "male",
          "female",
          "male",
          "female",
          "male",
          "male",
          "male",
          "male",
          "male",
          "male",
          "female",
          "male",
          "male",
          "male",
          "male",
          "male",
          "male",
          "male",
          "male",
          "male",
          "female",
          "female",
          "female",
          "male",
          "male",
          "male",
          "male",
          "male",
          "male",
          "male",
          "female",
          "female",
          "female",
          "female",
          "male",
          "male",
          "female",
          "male",
          "male",
          "female",
          "male",
          "male",
          "male",
          "male",
          "male",
          "female",
          "male",
          "male",
          "male",
          "male",
          "male",
          "male",
          "female",
          "female",
          "male",
          "male",
          "female",
          "female",
          "male",
          "male",
          "male",
          "male",
          "male",
          "male",
          "male",
          "female",
          "female",
          "male",
          "male",
          "male",
          "male",
          "female",
          "female",
          "female",
          "male",
          "female",
          "male",
          "female",
          "male",
          "female",
          "male",
          "male",
          "male",
          "male",
          "male",
          "male",
          "male",
          "female",
          "male",
          "male",
          "male"
         ],
         "xaxis": "x2",
         "y": {
          "bdata": "kQQwCMoeXyMTCyQb8wsfBnsFeAmIH2YNVghXCsEIDAcVCF4FqgGZAW8JeQe0D+oW8ATCBd4XyQTKAR0JhgQ8GCsYcQX7CEgFPBwZCB0JTRfuBDINDwNeJakHbwUBBm0MRhR7CO8DWgnFH9oCjARCF/YFoxLcJPgOvQQgBtsGCwmEBQ8FyQhqAoEFIQ4mBdwHPgohCZEbvQUTCaQDfweNCb4XKR6CBakFiAF0GJAG+g1UCD4JHA/oBg0DSQi9AkQHJyGUCsAHoCfYBKUhqApZB8UCuxJYDfAI7g1cA6oC+xQuBkIFhAfYFk4eNxsIBVMBuA1qBzgLHwTuBIwcjQOiCykGhA/7AoYFEQpSAasHOwLBDlAFlwSsDDwIZgXICqgDkAT9E9cFfymPB5AFqBmFBQIM+w4ODaQDIAxJD80LVAVxArAEwwKiCzESNQpNDMsJXQhiAwgGCwXaCTsGoQR3DeoEzQK0BIUHmgLLCDcQ7gf6HHwK5A6CBHkGQwa2FLwKzwSgGP0F5wNmCnoFiS+JCmQJ7gRtBygNJgalBfAFJg/iKbQSnh1EBDQEExm8Es0dQxIHBdMJuQqgAg4EBwbLEhQBBRWHFaUO1gXEAv8QvQI7Dl4LYwoEBEYNqRb1BXkRLATXGTUISRDxBW8WDw6NDFcRbQ+zBXIDrg7PBtQEnQzXAhsJCAPXBEcNxwjmBgYGCg9CDrkLBwy2F2IIvDUQCU4DagGkCAMFMgWwEL4IZgTOHBYJqQUcB9cDsQylB2YJ8C0SCiwJ7AXBBV8HIgNTC5UIHQSjDK8HVRw9BtIWFyHeCnIM7Ae+AzcG2wq3Cn0EIQV4DVAHCghYCJQCBwVCDVwHVAZFCtwEEAqQBS4rBgLHCm4KdwpBD1cB8hEkDrkGyQvyAp4HbAtGHMwKRxLWBAkKIBQNBMYF9Q2xBCYOwAOLBAUMrQ6KBb4NjgfVBHABSggxBhUFKwV1FWYEOAmFBYwhThJ/CkkCzwhhAlEFswS8AoMVoA1ZBB4f/AXfBZYC4QjfBR8FIQxeBRwO6QvwB+cE5gcQBpoi5APWBssHrwSUC6sCaBIRBhIKiw9CFzkVJgM6BOQKcguHB6kDNAxsBVUI7woJBYEBrQckBhcPGQn7BAwLrhEDCBQFHQ0wDqwvxSNcDoACRA5CB7sHRAjKD/gOTA6kBXEFYAUlPdUFHAU7B1gH5xE0HSoJhQ/uJ30Q2RgRBcEIGgQXBKoYqA0ZDskLKxBuFn4oIAiyER4UUAmtBQIG5wjGBe8TgSZ/GUMFLgvBCkMOzwNHClALbBLsCNQETwSeAwgHcQdhBccJ4AnMFLYERgh1AqwJcgSsHQUM4QVMDAQYFgP6ACQF+wQDGfgCKwo0DZYPHBFpGhUJGARYDLMJYzcFB88JgBTVC6wBSQOLFhMFcQW1E6YInwmDBFULIQ53BvwKywyvCMgFzw21DU8WIA+UB4IFRBmVB3MKvwqpGMUETAv2C/0I6gTNAg0GPQYDB7AQ0AMwHU4CogNDJIsD5AEIHToFEgbxPU0EyAvbAsQOQgYZGkcJ3BN2A1kCjQszCrELFwZeDYgP4QRUBcoPvwV7KsIFfgMPDfkNrBauEa0IVQkDDfEcjAL+HT8FZgVqAwYOKgWUBwsOVhqGHj0khQhKBAkL1hmQHooJJQd7CKgWkQTzIi4KOAaKCJ0N7ShqBf4EUwSzDn8OCg57DGYRrwteCCALGQfNMdIHGQRLB0AF0wbIBAoC2gUPCLoaxw0KBqEDrwU1B6YgKwsGDmUHzwRIDoIE/QvMBjEJ5A3GAbMG8A3+G2MP6gXhHA8L6gTxAnsJawvsB5kFkRiBBbMZzwbtDSEGkAd3D1YJyAYRDyQD4BE=",
          "dtype": "i2"
         },
         "yaxis": "y2"
        },
        {
         "name": "Bad Credit",
         "type": "box",
         "x": [
          "female",
          "male",
          "male",
          "female",
          "female",
          "male",
          "female",
          "female",
          "male",
          "male",
          "male",
          "female",
          "male",
          "male",
          "female",
          "male",
          "male",
          "male",
          "male",
          "male",
          "female",
          "male",
          "male",
          "female",
          "male",
          "male",
          "male",
          "female",
          "female",
          "female",
          "female",
          "female",
          "male",
          "female",
          "male",
          "male",
          "male",
          "female",
          "female",
          "male",
          "male",
          "female",
          "male",
          "female",
          "male",
          "male",
          "male",
          "male",
          "female",
          "male",
          "male",
          "male",
          "male",
          "male",
          "female",
          "female",
          "male",
          "male",
          "male",
          "male",
          "male",
          "male",
          "male",
          "male",
          "male",
          "male",
          "male",
          "female",
          "male",
          "female",
          "female",
          "male",
          "male",
          "male",
          "male",
          "male",
          "female",
          "male",
          "male",
          "female",
          "female",
          "male",
          "male",
          "male",
          "female",
          "male",
          "male",
          "male",
          "male",
          "female",
          "female",
          "female",
          "male",
          "male",
          "female",
          "male",
          "female",
          "male",
          "male",
          "male",
          "female",
          "male",
          "male",
          "female",
          "female",
          "male",
          "female",
          "male",
          "male",
          "male",
          "male",
          "male",
          "female",
          "male",
          "female",
          "female",
          "female",
          "male",
          "male",
          "female",
          "male",
          "female",
          "female",
          "male",
          "male",
          "male",
          "female",
          "male",
          "female",
          "male",
          "male",
          "female",
          "male",
          "female",
          "male",
          "male",
          "female",
          "male",
          "female",
          "male",
          "male",
          "male",
          "female",
          "female",
          "male",
          "male",
          "female",
          "male",
          "male",
          "male",
          "male",
          "male",
          "male",
          "female",
          "male",
          "male",
          "female",
          "female",
          "male",
          "male",
          "male",
          "male",
          "male",
          "female",
          "female",
          "male",
          "male",
          "male",
          "female",
          "male",
          "male",
          "female",
          "male",
          "female",
          "female",
          "male",
          "male",
          "female",
          "female",
          "female",
          "female",
          "female",
          "female",
          "female",
          "female",
          "male",
          "male",
          "male",
          "male",
          "male",
          "female",
          "female",
          "male",
          "female",
          "male",
          "male",
          "female",
          "male",
          "male",
          "male",
          "male",
          "male",
          "male",
          "male",
          "male",
          "male",
          "male",
          "female",
          "male",
          "male",
          "female",
          "female",
          "male",
          "male",
          "female",
          "female",
          "female",
          "female",
          "female",
          "male",
          "female",
          "female",
          "female",
          "female",
          "male",
          "female",
          "male",
          "male",
          "female",
          "male",
          "male",
          "female",
          "female",
          "male",
          "female",
          "male",
          "male",
          "female",
          "male",
          "male",
          "female",
          "male",
          "male",
          "male",
          "male",
          "male",
          "female",
          "male",
          "male",
          "female",
          "male",
          "female",
          "male",
          "male",
          "female",
          "male",
          "male",
          "male",
          "male",
          "female",
          "male",
          "female",
          "male",
          "male",
          "male",
          "female",
          "male",
          "male",
          "male",
          "female",
          "male",
          "female",
          "male",
          "male",
          "male",
          "female",
          "male",
          "male",
          "male",
          "female",
          "male",
          "female",
          "male",
          "male",
          "male",
          "male",
          "male",
          "female",
          "female",
          "male",
          "male",
          "male",
          "female",
          "male",
          "male",
          "male",
          "male",
          "male",
          "male",
          "male"
         ],
         "xaxis": "x2",
         "y": {
          "bdata": "PxcGE3IUDwXUEK8EAgUjMbQaihI0CP8XsQhEGVUYoQdVOBsHuQd9DzcXRDFUBB0DST6iLjoZrx4GHLkQKweEB38Cqw3nGv4CngkCBWsEjwe2AxAIVg09HWQlZxFvBnQDCRSiAu8RBA9LD9cL3QW3A8kQhgOtFHQH0Sq5HsYFchAfB9s4zwqTA/0RsQFmCGUIIgMSI/QL3i4DEgAEtiToJtwOQAWPJ9cC1QStAroKmRCSB0gH8BxGLQ4QOA37BHAEvwM3GN4EbxFmCakJdg2+OQUe7jewMscEyCH3B6sD9AhlBRMKEgTKCqYEQCzMBWECzwLoEzIH6AXREjoNewYUDMABjgLdBCoMuQR+ILQLSiMzDMAEtwQdBcIa9wLXG3YMzxv+CEcKDwlTHv4FzhgwCzUFcgJXGzMF5giLE+ANiAcKBmUwXAVmGqIMBAsgBFAJ9wfBBMYIngpOBaMDogWRENcKlgMtBxUNbwrlAtgEEAdxDfoFSg8oCp0FEQa8B0sFEhHuAg8SLB9qBbMDrAKCB/8Ilh94A4QD6xIUCtsVYwS7GKAZmQuuBMs2OQWxAcwECgpaBxAZwwcoLbgQ+gTQAxMGBQX3BLMCTAiIMSQMgR9bBUUTRANQGG4XpARXHTck8gadJesLWw9BBZgKfg9FEI8gwAQoLhcJOgQ7FJcHaRrFArsIogV3D3kIhwmiCI4F2Q8bAzg9ORBBCoASWQz4RzA6NwkRDVYF2Bq5AjkohgZ/B+kCkBgVDf0FJQ5hCBEQ3iqmD10J2AmpBIEc6gnwBMIg7BIlIDUH",
          "dtype": "i2"
         },
         "yaxis": "y2"
        }
       ],
       "layout": {
        "annotations": [
         {
          "font": {
           "size": 16
          },
          "showarrow": false,
          "text": "Sex Count",
          "x": 0.225,
          "xanchor": "center",
          "xref": "paper",
          "y": 1,
          "yanchor": "bottom",
          "yref": "paper"
         },
         {
          "font": {
           "size": 16
          },
          "showarrow": false,
          "text": "Credit Amount by Sex",
          "x": 0.775,
          "xanchor": "center",
          "xref": "paper",
          "y": 1,
          "yanchor": "bottom",
          "yref": "paper"
         }
        ],
        "boxmode": "group",
        "height": 400,
        "template": {
         "data": {
          "bar": [
           {
            "error_x": {
             "color": "#2a3f5f"
            },
            "error_y": {
             "color": "#2a3f5f"
            },
            "marker": {
             "line": {
              "color": "#E5ECF6",
              "width": 0.5
             },
             "pattern": {
              "fillmode": "overlay",
              "size": 10,
              "solidity": 0.2
             }
            },
            "type": "bar"
           }
          ],
          "barpolar": [
           {
            "marker": {
             "line": {
              "color": "#E5ECF6",
              "width": 0.5
             },
             "pattern": {
              "fillmode": "overlay",
              "size": 10,
              "solidity": 0.2
             }
            },
            "type": "barpolar"
           }
          ],
          "carpet": [
           {
            "aaxis": {
             "endlinecolor": "#2a3f5f",
             "gridcolor": "white",
             "linecolor": "white",
             "minorgridcolor": "white",
             "startlinecolor": "#2a3f5f"
            },
            "baxis": {
             "endlinecolor": "#2a3f5f",
             "gridcolor": "white",
             "linecolor": "white",
             "minorgridcolor": "white",
             "startlinecolor": "#2a3f5f"
            },
            "type": "carpet"
           }
          ],
          "choropleth": [
           {
            "colorbar": {
             "outlinewidth": 0,
             "ticks": ""
            },
            "type": "choropleth"
           }
          ],
          "contour": [
           {
            "colorbar": {
             "outlinewidth": 0,
             "ticks": ""
            },
            "colorscale": [
             [
              0,
              "#0d0887"
             ],
             [
              0.1111111111111111,
              "#46039f"
             ],
             [
              0.2222222222222222,
              "#7201a8"
             ],
             [
              0.3333333333333333,
              "#9c179e"
             ],
             [
              0.4444444444444444,
              "#bd3786"
             ],
             [
              0.5555555555555556,
              "#d8576b"
             ],
             [
              0.6666666666666666,
              "#ed7953"
             ],
             [
              0.7777777777777778,
              "#fb9f3a"
             ],
             [
              0.8888888888888888,
              "#fdca26"
             ],
             [
              1,
              "#f0f921"
             ]
            ],
            "type": "contour"
           }
          ],
          "contourcarpet": [
           {
            "colorbar": {
             "outlinewidth": 0,
             "ticks": ""
            },
            "type": "contourcarpet"
           }
          ],
          "heatmap": [
           {
            "colorbar": {
             "outlinewidth": 0,
             "ticks": ""
            },
            "colorscale": [
             [
              0,
              "#0d0887"
             ],
             [
              0.1111111111111111,
              "#46039f"
             ],
             [
              0.2222222222222222,
              "#7201a8"
             ],
             [
              0.3333333333333333,
              "#9c179e"
             ],
             [
              0.4444444444444444,
              "#bd3786"
             ],
             [
              0.5555555555555556,
              "#d8576b"
             ],
             [
              0.6666666666666666,
              "#ed7953"
             ],
             [
              0.7777777777777778,
              "#fb9f3a"
             ],
             [
              0.8888888888888888,
              "#fdca26"
             ],
             [
              1,
              "#f0f921"
             ]
            ],
            "type": "heatmap"
           }
          ],
          "histogram": [
           {
            "marker": {
             "pattern": {
              "fillmode": "overlay",
              "size": 10,
              "solidity": 0.2
             }
            },
            "type": "histogram"
           }
          ],
          "histogram2d": [
           {
            "colorbar": {
             "outlinewidth": 0,
             "ticks": ""
            },
            "colorscale": [
             [
              0,
              "#0d0887"
             ],
             [
              0.1111111111111111,
              "#46039f"
             ],
             [
              0.2222222222222222,
              "#7201a8"
             ],
             [
              0.3333333333333333,
              "#9c179e"
             ],
             [
              0.4444444444444444,
              "#bd3786"
             ],
             [
              0.5555555555555556,
              "#d8576b"
             ],
             [
              0.6666666666666666,
              "#ed7953"
             ],
             [
              0.7777777777777778,
              "#fb9f3a"
             ],
             [
              0.8888888888888888,
              "#fdca26"
             ],
             [
              1,
              "#f0f921"
             ]
            ],
            "type": "histogram2d"
           }
          ],
          "histogram2dcontour": [
           {
            "colorbar": {
             "outlinewidth": 0,
             "ticks": ""
            },
            "colorscale": [
             [
              0,
              "#0d0887"
             ],
             [
              0.1111111111111111,
              "#46039f"
             ],
             [
              0.2222222222222222,
              "#7201a8"
             ],
             [
              0.3333333333333333,
              "#9c179e"
             ],
             [
              0.4444444444444444,
              "#bd3786"
             ],
             [
              0.5555555555555556,
              "#d8576b"
             ],
             [
              0.6666666666666666,
              "#ed7953"
             ],
             [
              0.7777777777777778,
              "#fb9f3a"
             ],
             [
              0.8888888888888888,
              "#fdca26"
             ],
             [
              1,
              "#f0f921"
             ]
            ],
            "type": "histogram2dcontour"
           }
          ],
          "mesh3d": [
           {
            "colorbar": {
             "outlinewidth": 0,
             "ticks": ""
            },
            "type": "mesh3d"
           }
          ],
          "parcoords": [
           {
            "line": {
             "colorbar": {
              "outlinewidth": 0,
              "ticks": ""
             }
            },
            "type": "parcoords"
           }
          ],
          "pie": [
           {
            "automargin": true,
            "type": "pie"
           }
          ],
          "scatter": [
           {
            "fillpattern": {
             "fillmode": "overlay",
             "size": 10,
             "solidity": 0.2
            },
            "type": "scatter"
           }
          ],
          "scatter3d": [
           {
            "line": {
             "colorbar": {
              "outlinewidth": 0,
              "ticks": ""
             }
            },
            "marker": {
             "colorbar": {
              "outlinewidth": 0,
              "ticks": ""
             }
            },
            "type": "scatter3d"
           }
          ],
          "scattercarpet": [
           {
            "marker": {
             "colorbar": {
              "outlinewidth": 0,
              "ticks": ""
             }
            },
            "type": "scattercarpet"
           }
          ],
          "scattergeo": [
           {
            "marker": {
             "colorbar": {
              "outlinewidth": 0,
              "ticks": ""
             }
            },
            "type": "scattergeo"
           }
          ],
          "scattergl": [
           {
            "marker": {
             "colorbar": {
              "outlinewidth": 0,
              "ticks": ""
             }
            },
            "type": "scattergl"
           }
          ],
          "scattermap": [
           {
            "marker": {
             "colorbar": {
              "outlinewidth": 0,
              "ticks": ""
             }
            },
            "type": "scattermap"
           }
          ],
          "scattermapbox": [
           {
            "marker": {
             "colorbar": {
              "outlinewidth": 0,
              "ticks": ""
             }
            },
            "type": "scattermapbox"
           }
          ],
          "scatterpolar": [
           {
            "marker": {
             "colorbar": {
              "outlinewidth": 0,
              "ticks": ""
             }
            },
            "type": "scatterpolar"
           }
          ],
          "scatterpolargl": [
           {
            "marker": {
             "colorbar": {
              "outlinewidth": 0,
              "ticks": ""
             }
            },
            "type": "scatterpolargl"
           }
          ],
          "scatterternary": [
           {
            "marker": {
             "colorbar": {
              "outlinewidth": 0,
              "ticks": ""
             }
            },
            "type": "scatterternary"
           }
          ],
          "surface": [
           {
            "colorbar": {
             "outlinewidth": 0,
             "ticks": ""
            },
            "colorscale": [
             [
              0,
              "#0d0887"
             ],
             [
              0.1111111111111111,
              "#46039f"
             ],
             [
              0.2222222222222222,
              "#7201a8"
             ],
             [
              0.3333333333333333,
              "#9c179e"
             ],
             [
              0.4444444444444444,
              "#bd3786"
             ],
             [
              0.5555555555555556,
              "#d8576b"
             ],
             [
              0.6666666666666666,
              "#ed7953"
             ],
             [
              0.7777777777777778,
              "#fb9f3a"
             ],
             [
              0.8888888888888888,
              "#fdca26"
             ],
             [
              1,
              "#f0f921"
             ]
            ],
            "type": "surface"
           }
          ],
          "table": [
           {
            "cells": {
             "fill": {
              "color": "#EBF0F8"
             },
             "line": {
              "color": "white"
             }
            },
            "header": {
             "fill": {
              "color": "#C8D4E3"
             },
             "line": {
              "color": "white"
             }
            },
            "type": "table"
           }
          ]
         },
         "layout": {
          "annotationdefaults": {
           "arrowcolor": "#2a3f5f",
           "arrowhead": 0,
           "arrowwidth": 1
          },
          "autotypenumbers": "strict",
          "coloraxis": {
           "colorbar": {
            "outlinewidth": 0,
            "ticks": ""
           }
          },
          "colorscale": {
           "diverging": [
            [
             0,
             "#8e0152"
            ],
            [
             0.1,
             "#c51b7d"
            ],
            [
             0.2,
             "#de77ae"
            ],
            [
             0.3,
             "#f1b6da"
            ],
            [
             0.4,
             "#fde0ef"
            ],
            [
             0.5,
             "#f7f7f7"
            ],
            [
             0.6,
             "#e6f5d0"
            ],
            [
             0.7,
             "#b8e186"
            ],
            [
             0.8,
             "#7fbc41"
            ],
            [
             0.9,
             "#4d9221"
            ],
            [
             1,
             "#276419"
            ]
           ],
           "sequential": [
            [
             0,
             "#0d0887"
            ],
            [
             0.1111111111111111,
             "#46039f"
            ],
            [
             0.2222222222222222,
             "#7201a8"
            ],
            [
             0.3333333333333333,
             "#9c179e"
            ],
            [
             0.4444444444444444,
             "#bd3786"
            ],
            [
             0.5555555555555556,
             "#d8576b"
            ],
            [
             0.6666666666666666,
             "#ed7953"
            ],
            [
             0.7777777777777778,
             "#fb9f3a"
            ],
            [
             0.8888888888888888,
             "#fdca26"
            ],
            [
             1,
             "#f0f921"
            ]
           ],
           "sequentialminus": [
            [
             0,
             "#0d0887"
            ],
            [
             0.1111111111111111,
             "#46039f"
            ],
            [
             0.2222222222222222,
             "#7201a8"
            ],
            [
             0.3333333333333333,
             "#9c179e"
            ],
            [
             0.4444444444444444,
             "#bd3786"
            ],
            [
             0.5555555555555556,
             "#d8576b"
            ],
            [
             0.6666666666666666,
             "#ed7953"
            ],
            [
             0.7777777777777778,
             "#fb9f3a"
            ],
            [
             0.8888888888888888,
             "#fdca26"
            ],
            [
             1,
             "#f0f921"
            ]
           ]
          },
          "colorway": [
           "#636efa",
           "#EF553B",
           "#00cc96",
           "#ab63fa",
           "#FFA15A",
           "#19d3f3",
           "#FF6692",
           "#B6E880",
           "#FF97FF",
           "#FECB52"
          ],
          "font": {
           "color": "#2a3f5f"
          },
          "geo": {
           "bgcolor": "white",
           "lakecolor": "white",
           "landcolor": "#E5ECF6",
           "showlakes": true,
           "showland": true,
           "subunitcolor": "white"
          },
          "hoverlabel": {
           "align": "left"
          },
          "hovermode": "closest",
          "mapbox": {
           "style": "light"
          },
          "paper_bgcolor": "white",
          "plot_bgcolor": "#E5ECF6",
          "polar": {
           "angularaxis": {
            "gridcolor": "white",
            "linecolor": "white",
            "ticks": ""
           },
           "bgcolor": "#E5ECF6",
           "radialaxis": {
            "gridcolor": "white",
            "linecolor": "white",
            "ticks": ""
           }
          },
          "scene": {
           "xaxis": {
            "backgroundcolor": "#E5ECF6",
            "gridcolor": "white",
            "gridwidth": 2,
            "linecolor": "white",
            "showbackground": true,
            "ticks": "",
            "zerolinecolor": "white"
           },
           "yaxis": {
            "backgroundcolor": "#E5ECF6",
            "gridcolor": "white",
            "gridwidth": 2,
            "linecolor": "white",
            "showbackground": true,
            "ticks": "",
            "zerolinecolor": "white"
           },
           "zaxis": {
            "backgroundcolor": "#E5ECF6",
            "gridcolor": "white",
            "gridwidth": 2,
            "linecolor": "white",
            "showbackground": true,
            "ticks": "",
            "zerolinecolor": "white"
           }
          },
          "shapedefaults": {
           "line": {
            "color": "#2a3f5f"
           }
          },
          "ternary": {
           "aaxis": {
            "gridcolor": "white",
            "linecolor": "white",
            "ticks": ""
           },
           "baxis": {
            "gridcolor": "white",
            "linecolor": "white",
            "ticks": ""
           },
           "bgcolor": "#E5ECF6",
           "caxis": {
            "gridcolor": "white",
            "linecolor": "white",
            "ticks": ""
           }
          },
          "title": {
           "x": 0.05
          },
          "xaxis": {
           "automargin": true,
           "gridcolor": "white",
           "linecolor": "white",
           "ticks": "",
           "title": {
            "standoff": 15
           },
           "zerolinecolor": "white",
           "zerolinewidth": 2
          },
          "yaxis": {
           "automargin": true,
           "gridcolor": "white",
           "linecolor": "white",
           "ticks": "",
           "title": {
            "standoff": 15
           },
           "zerolinecolor": "white",
           "zerolinewidth": 2
          }
         }
        },
        "title": {
         "text": "Sex Distribuition"
        },
        "width": 800,
        "xaxis": {
         "anchor": "y",
         "domain": [
          0,
          0.45
         ]
        },
        "xaxis2": {
         "anchor": "y2",
         "domain": [
          0.55,
          1
         ]
        },
        "yaxis": {
         "anchor": "x",
         "domain": [
          0,
          1
         ]
        },
        "yaxis2": {
         "anchor": "x2",
         "domain": [
          0,
          1
         ]
        }
       }
      },
      "text/html": [
       "<div>            <script src=\"https://cdnjs.cloudflare.com/ajax/libs/mathjax/2.7.5/MathJax.js?config=TeX-AMS-MML_SVG\"></script><script type=\"text/javascript\">if (window.MathJax && window.MathJax.Hub && window.MathJax.Hub.Config) {window.MathJax.Hub.Config({SVG: {font: \"STIX-Web\"}});}</script>                <script type=\"text/javascript\">window.PlotlyConfig = {MathJaxConfig: 'local'};</script>\n",
       "        <script charset=\"utf-8\" src=\"https://cdn.plot.ly/plotly-3.0.1.min.js\"></script>                <div id=\"cfa6114c-6f63-4cad-8597-53451f9d6e09\" class=\"plotly-graph-div\" style=\"height:400px; width:800px;\"></div>            <script type=\"text/javascript\">                window.PLOTLYENV=window.PLOTLYENV || {};                                if (document.getElementById(\"cfa6114c-6f63-4cad-8597-53451f9d6e09\")) {                    Plotly.newPlot(                        \"cfa6114c-6f63-4cad-8597-53451f9d6e09\",                        [{\"name\":\"Good credit\",\"x\":[\"male\",\"female\"],\"xaxis\":\"x\",\"y\":{\"dtype\":\"i2\",\"bdata\":\"8wHJAA==\"},\"yaxis\":\"y\",\"type\":\"bar\"},{\"name\":\"Bad Credit\",\"x\":[\"male\",\"female\"],\"xaxis\":\"x\",\"y\":{\"dtype\":\"i2\",\"bdata\":\"vwBtAA==\"},\"yaxis\":\"y\",\"type\":\"bar\"},{\"name\":\"Good credit\",\"x\":[\"male\",\"male\",\"male\",\"male\",\"male\",\"male\",\"male\",\"female\",\"female\",\"male\",\"male\",\"male\",\"male\",\"male\",\"male\",\"male\",\"male\",\"male\",\"male\",\"female\",\"male\",\"male\",\"male\",\"male\",\"male\",\"female\",\"male\",\"male\",\"male\",\"male\",\"male\",\"male\",\"male\",\"female\",\"male\",\"female\",\"male\",\"female\",\"male\",\"male\",\"male\",\"male\",\"male\",\"female\",\"female\",\"male\",\"male\",\"female\",\"male\",\"female\",\"male\",\"female\",\"female\",\"male\",\"male\",\"female\",\"male\",\"male\",\"male\",\"male\",\"male\",\"female\",\"female\",\"male\",\"female\",\"female\",\"male\",\"male\",\"male\",\"male\",\"male\",\"female\",\"male\",\"male\",\"male\",\"male\",\"male\",\"female\",\"male\",\"male\",\"male\",\"female\",\"male\",\"male\",\"female\",\"male\",\"male\",\"male\",\"female\",\"male\",\"female\",\"male\",\"male\",\"male\",\"male\",\"male\",\"female\",\"male\",\"male\",\"female\",\"female\",\"male\",\"male\",\"female\",\"male\",\"female\",\"male\",\"female\",\"male\",\"female\",\"female\",\"male\",\"male\",\"male\",\"male\",\"male\",\"female\",\"male\",\"male\",\"male\",\"male\",\"male\",\"male\",\"female\",\"male\",\"male\",\"male\",\"male\",\"female\",\"female\",\"female\",\"male\",\"male\",\"male\",\"male\",\"male\",\"male\",\"male\",\"male\",\"female\",\"male\",\"female\",\"male\",\"male\",\"male\",\"male\",\"male\",\"male\",\"male\",\"male\",\"male\",\"male\",\"male\",\"female\",\"male\",\"female\",\"male\",\"male\",\"male\",\"female\",\"male\",\"female\",\"male\",\"male\",\"male\",\"male\",\"male\",\"male\",\"male\",\"male\",\"male\",\"female\",\"male\",\"male\",\"female\",\"female\",\"male\",\"male\",\"male\",\"male\",\"female\",\"female\",\"male\",\"male\",\"male\",\"male\",\"female\",\"female\",\"male\",\"female\",\"male\",\"female\",\"male\",\"male\",\"female\",\"male\",\"male\",\"female\",\"male\",\"male\",\"female\",\"male\",\"male\",\"male\",\"male\",\"male\",\"male\",\"male\",\"female\",\"male\",\"male\",\"female\",\"male\",\"female\",\"male\",\"male\",\"female\",\"male\",\"male\",\"male\",\"female\",\"male\",\"male\",\"female\",\"male\",\"male\",\"male\",\"female\",\"male\",\"male\",\"female\",\"male\",\"female\",\"male\",\"male\",\"female\",\"male\",\"male\",\"female\",\"male\",\"male\",\"male\",\"female\",\"male\",\"male\",\"female\",\"female\",\"male\",\"male\",\"male\",\"female\",\"male\",\"female\",\"male\",\"female\",\"male\",\"male\",\"male\",\"male\",\"male\",\"male\",\"female\",\"male\",\"male\",\"male\",\"female\",\"female\",\"male\",\"male\",\"female\",\"male\",\"male\",\"male\",\"female\",\"male\",\"female\",\"male\",\"male\",\"female\",\"female\",\"male\",\"male\",\"female\",\"male\",\"female\",\"male\",\"female\",\"male\",\"male\",\"female\",\"male\",\"female\",\"male\",\"male\",\"male\",\"male\",\"male\",\"male\",\"male\",\"female\",\"male\",\"male\",\"male\",\"female\",\"female\",\"female\",\"male\",\"male\",\"male\",\"male\",\"male\",\"male\",\"male\",\"male\",\"male\",\"male\",\"male\",\"male\",\"female\",\"male\",\"male\",\"female\",\"male\",\"female\",\"male\",\"female\",\"male\",\"female\",\"male\",\"male\",\"female\",\"male\",\"female\",\"male\",\"male\",\"male\",\"female\",\"male\",\"male\",\"male\",\"male\",\"female\",\"male\",\"male\",\"male\",\"male\",\"male\",\"male\",\"female\",\"male\",\"female\",\"female\",\"male\",\"male\",\"female\",\"male\",\"male\",\"male\",\"female\",\"male\",\"male\",\"male\",\"male\",\"male\",\"male\",\"male\",\"male\",\"male\",\"male\",\"male\",\"male\",\"male\",\"male\",\"female\",\"male\",\"male\",\"male\",\"male\",\"female\",\"female\",\"male\",\"female\",\"male\",\"male\",\"male\",\"male\",\"male\",\"male\",\"female\",\"female\",\"female\",\"male\",\"male\",\"female\",\"male\",\"male\",\"female\",\"male\",\"male\",\"female\",\"male\",\"female\",\"male\",\"female\",\"male\",\"male\",\"male\",\"female\",\"female\",\"male\",\"female\",\"female\",\"female\",\"male\",\"male\",\"female\",\"female\",\"male\",\"male\",\"female\",\"female\",\"female\",\"male\",\"female\",\"female\",\"male\",\"male\",\"male\",\"male\",\"female\",\"female\",\"male\",\"male\",\"male\",\"male\",\"male\",\"female\",\"male\",\"male\",\"male\",\"male\",\"female\",\"male\",\"male\",\"female\",\"male\",\"female\",\"male\",\"male\",\"male\",\"male\",\"male\",\"male\",\"male\",\"male\",\"female\",\"male\",\"male\",\"male\",\"male\",\"female\",\"male\",\"male\",\"female\",\"male\",\"male\",\"male\",\"male\",\"male\",\"female\",\"male\",\"male\",\"female\",\"female\",\"male\",\"male\",\"male\",\"male\",\"male\",\"male\",\"male\",\"male\",\"male\",\"male\",\"female\",\"male\",\"male\",\"male\",\"male\",\"male\",\"female\",\"male\",\"male\",\"female\",\"male\",\"female\",\"female\",\"female\",\"male\",\"male\",\"male\",\"male\",\"male\",\"male\",\"male\",\"male\",\"male\",\"female\",\"female\",\"male\",\"male\",\"male\",\"female\",\"female\",\"female\",\"female\",\"male\",\"male\",\"male\",\"male\",\"male\",\"male\",\"male\",\"male\",\"female\",\"male\",\"male\",\"female\",\"female\",\"female\",\"male\",\"male\",\"female\",\"male\",\"male\",\"male\",\"female\",\"male\",\"male\",\"female\",\"male\",\"male\",\"male\",\"male\",\"female\",\"male\",\"female\",\"male\",\"male\",\"male\",\"male\",\"male\",\"male\",\"male\",\"male\",\"male\",\"male\",\"female\",\"female\",\"male\",\"male\",\"male\",\"female\",\"female\",\"male\",\"female\",\"male\",\"male\",\"male\",\"male\",\"male\",\"female\",\"male\",\"female\",\"male\",\"male\",\"male\",\"male\",\"male\",\"male\",\"male\",\"male\",\"female\",\"female\",\"female\",\"male\",\"male\",\"male\",\"male\",\"male\",\"male\",\"male\",\"male\",\"male\",\"male\",\"male\",\"male\",\"female\",\"male\",\"male\",\"male\",\"male\",\"female\",\"female\",\"male\",\"male\",\"female\",\"female\",\"male\",\"male\",\"female\",\"male\",\"female\",\"male\",\"male\",\"male\",\"male\",\"male\",\"male\",\"female\",\"male\",\"male\",\"male\",\"male\",\"male\",\"male\",\"male\",\"male\",\"male\",\"female\",\"female\",\"female\",\"male\",\"male\",\"male\",\"male\",\"male\",\"male\",\"male\",\"female\",\"female\",\"female\",\"female\",\"male\",\"male\",\"female\",\"male\",\"male\",\"female\",\"male\",\"male\",\"male\",\"male\",\"male\",\"female\",\"male\",\"male\",\"male\",\"male\",\"male\",\"male\",\"female\",\"female\",\"male\",\"male\",\"female\",\"female\",\"male\",\"male\",\"male\",\"male\",\"male\",\"male\",\"male\",\"female\",\"female\",\"male\",\"male\",\"male\",\"male\",\"female\",\"female\",\"female\",\"male\",\"female\",\"male\",\"female\",\"male\",\"female\",\"male\",\"male\",\"male\",\"male\",\"male\",\"male\",\"male\",\"female\",\"male\",\"male\",\"male\"],\"xaxis\":\"x2\",\"y\":{\"dtype\":\"i2\",\"bdata\":\"kQQwCMoeXyMTCyQb8wsfBnsFeAmIH2YNVghXCsEIDAcVCF4FqgGZAW8JeQe0D+oW8ATCBd4XyQTKAR0JhgQ8GCsYcQX7CEgFPBwZCB0JTRfuBDINDwNeJakHbwUBBm0MRhR7CO8DWgnFH9oCjARCF\\u002fYFoxLcJPgOvQQgBtsGCwmEBQ8FyQhqAoEFIQ4mBdwHPgohCZEbvQUTCaQDfweNCb4XKR6CBakFiAF0GJAG+g1UCD4JHA\\u002foBg0DSQi9AkQHJyGUCsAHoCfYBKUhqApZB8UCuxJYDfAI7g1cA6oC+xQuBkIFhAfYFk4eNxsIBVMBuA1qBzgLHwTuBIwcjQOiCykGhA\\u002f7AoYFEQpSAasHOwLBDlAFlwSsDDwIZgXICqgDkAT9E9cFfymPB5AFqBmFBQIM+w4ODaQDIAxJD80LVAVxArAEwwKiCzESNQpNDMsJXQhiAwgGCwXaCTsGoQR3DeoEzQK0BIUHmgLLCDcQ7gf6HHwK5A6CBHkGQwa2FLwKzwSgGP0F5wNmCnoFiS+JCmQJ7gRtBygNJgalBfAFJg\\u002fiKbQSnh1EBDQEExm8Es0dQxIHBdMJuQqgAg4EBwbLEhQBBRWHFaUO1gXEAv8QvQI7Dl4LYwoEBEYNqRb1BXkRLATXGTUISRDxBW8WDw6NDFcRbQ+zBXIDrg7PBtQEnQzXAhsJCAPXBEcNxwjmBgYGCg9CDrkLBwy2F2IIvDUQCU4DagGkCAMFMgWwEL4IZgTOHBYJqQUcB9cDsQylB2YJ8C0SCiwJ7AXBBV8HIgNTC5UIHQSjDK8HVRw9BtIWFyHeCnIM7Ae+AzcG2wq3Cn0EIQV4DVAHCghYCJQCBwVCDVwHVAZFCtwEEAqQBS4rBgLHCm4KdwpBD1cB8hEkDrkGyQvyAp4HbAtGHMwKRxLWBAkKIBQNBMYF9Q2xBCYOwAOLBAUMrQ6KBb4NjgfVBHABSggxBhUFKwV1FWYEOAmFBYwhThJ\\u002fCkkCzwhhAlEFswS8AoMVoA1ZBB4f\\u002fAXfBZYC4QjfBR8FIQxeBRwO6QvwB+cE5gcQBpoi5APWBssHrwSUC6sCaBIRBhIKiw9CFzkVJgM6BOQKcguHB6kDNAxsBVUI7woJBYEBrQckBhcPGQn7BAwLrhEDCBQFHQ0wDqwvxSNcDoACRA5CB7sHRAjKD\\u002fgOTA6kBXEFYAUlPdUFHAU7B1gH5xE0HSoJhQ\\u002fuJ30Q2RgRBcEIGgQXBKoYqA0ZDskLKxBuFn4oIAiyER4UUAmtBQIG5wjGBe8TgSZ\\u002fGUMFLgvBCkMOzwNHClALbBLsCNQETwSeAwgHcQdhBccJ4AnMFLYERgh1AqwJcgSsHQUM4QVMDAQYFgP6ACQF+wQDGfgCKwo0DZYPHBFpGhUJGARYDLMJYzcFB88JgBTVC6wBSQOLFhMFcQW1E6YInwmDBFULIQ53BvwKywyvCMgFzw21DU8WIA+UB4IFRBmVB3MKvwqpGMUETAv2C\\u002f0I6gTNAg0GPQYDB7AQ0AMwHU4CogNDJIsD5AEIHToFEgbxPU0EyAvbAsQOQgYZGkcJ3BN2A1kCjQszCrELFwZeDYgP4QRUBcoPvwV7KsIFfgMPDfkNrBauEa0IVQkDDfEcjAL+HT8FZgVqAwYOKgWUBwsOVhqGHj0khQhKBAkL1hmQHooJJQd7CKgWkQTzIi4KOAaKCJ0N7ShqBf4EUwSzDn8OCg57DGYRrwteCCALGQfNMdIHGQRLB0AF0wbIBAoC2gUPCLoaxw0KBqEDrwU1B6YgKwsGDmUHzwRIDoIE\\u002fQvMBjEJ5A3GAbMG8A3+G2MP6gXhHA8L6gTxAnsJawvsB5kFkRiBBbMZzwbtDSEGkAd3D1YJyAYRDyQD4BE=\"},\"yaxis\":\"y2\",\"type\":\"box\"},{\"name\":\"Bad Credit\",\"x\":[\"female\",\"male\",\"male\",\"female\",\"female\",\"male\",\"female\",\"female\",\"male\",\"male\",\"male\",\"female\",\"male\",\"male\",\"female\",\"male\",\"male\",\"male\",\"male\",\"male\",\"female\",\"male\",\"male\",\"female\",\"male\",\"male\",\"male\",\"female\",\"female\",\"female\",\"female\",\"female\",\"male\",\"female\",\"male\",\"male\",\"male\",\"female\",\"female\",\"male\",\"male\",\"female\",\"male\",\"female\",\"male\",\"male\",\"male\",\"male\",\"female\",\"male\",\"male\",\"male\",\"male\",\"male\",\"female\",\"female\",\"male\",\"male\",\"male\",\"male\",\"male\",\"male\",\"male\",\"male\",\"male\",\"male\",\"male\",\"female\",\"male\",\"female\",\"female\",\"male\",\"male\",\"male\",\"male\",\"male\",\"female\",\"male\",\"male\",\"female\",\"female\",\"male\",\"male\",\"male\",\"female\",\"male\",\"male\",\"male\",\"male\",\"female\",\"female\",\"female\",\"male\",\"male\",\"female\",\"male\",\"female\",\"male\",\"male\",\"male\",\"female\",\"male\",\"male\",\"female\",\"female\",\"male\",\"female\",\"male\",\"male\",\"male\",\"male\",\"male\",\"female\",\"male\",\"female\",\"female\",\"female\",\"male\",\"male\",\"female\",\"male\",\"female\",\"female\",\"male\",\"male\",\"male\",\"female\",\"male\",\"female\",\"male\",\"male\",\"female\",\"male\",\"female\",\"male\",\"male\",\"female\",\"male\",\"female\",\"male\",\"male\",\"male\",\"female\",\"female\",\"male\",\"male\",\"female\",\"male\",\"male\",\"male\",\"male\",\"male\",\"male\",\"female\",\"male\",\"male\",\"female\",\"female\",\"male\",\"male\",\"male\",\"male\",\"male\",\"female\",\"female\",\"male\",\"male\",\"male\",\"female\",\"male\",\"male\",\"female\",\"male\",\"female\",\"female\",\"male\",\"male\",\"female\",\"female\",\"female\",\"female\",\"female\",\"female\",\"female\",\"female\",\"male\",\"male\",\"male\",\"male\",\"male\",\"female\",\"female\",\"male\",\"female\",\"male\",\"male\",\"female\",\"male\",\"male\",\"male\",\"male\",\"male\",\"male\",\"male\",\"male\",\"male\",\"male\",\"female\",\"male\",\"male\",\"female\",\"female\",\"male\",\"male\",\"female\",\"female\",\"female\",\"female\",\"female\",\"male\",\"female\",\"female\",\"female\",\"female\",\"male\",\"female\",\"male\",\"male\",\"female\",\"male\",\"male\",\"female\",\"female\",\"male\",\"female\",\"male\",\"male\",\"female\",\"male\",\"male\",\"female\",\"male\",\"male\",\"male\",\"male\",\"male\",\"female\",\"male\",\"male\",\"female\",\"male\",\"female\",\"male\",\"male\",\"female\",\"male\",\"male\",\"male\",\"male\",\"female\",\"male\",\"female\",\"male\",\"male\",\"male\",\"female\",\"male\",\"male\",\"male\",\"female\",\"male\",\"female\",\"male\",\"male\",\"male\",\"female\",\"male\",\"male\",\"male\",\"female\",\"male\",\"female\",\"male\",\"male\",\"male\",\"male\",\"male\",\"female\",\"female\",\"male\",\"male\",\"male\",\"female\",\"male\",\"male\",\"male\",\"male\",\"male\",\"male\",\"male\"],\"xaxis\":\"x2\",\"y\":{\"dtype\":\"i2\",\"bdata\":\"PxcGE3IUDwXUEK8EAgUjMbQaihI0CP8XsQhEGVUYoQdVOBsHuQd9DzcXRDFUBB0DST6iLjoZrx4GHLkQKweEB38Cqw3nGv4CngkCBWsEjwe2AxAIVg09HWQlZxFvBnQDCRSiAu8RBA9LD9cL3QW3A8kQhgOtFHQH0Sq5HsYFchAfB9s4zwqTA\\u002f0RsQFmCGUIIgMSI\\u002fQL3i4DEgAEtiToJtwOQAWPJ9cC1QStAroKmRCSB0gH8BxGLQ4QOA37BHAEvwM3GN4EbxFmCakJdg2+OQUe7jewMscEyCH3B6sD9AhlBRMKEgTKCqYEQCzMBWECzwLoEzIH6AXREjoNewYUDMABjgLdBCoMuQR+ILQLSiMzDMAEtwQdBcIa9wLXG3YMzxv+CEcKDwlTHv4FzhgwCzUFcgJXGzMF5giLE+ANiAcKBmUwXAVmGqIMBAsgBFAJ9wfBBMYIngpOBaMDogWRENcKlgMtBxUNbwrlAtgEEAdxDfoFSg8oCp0FEQa8B0sFEhHuAg8SLB9qBbMDrAKCB\\u002f8Ilh94A4QD6xIUCtsVYwS7GKAZmQuuBMs2OQWxAcwECgpaBxAZwwcoLbgQ+gTQAxMGBQX3BLMCTAiIMSQMgR9bBUUTRANQGG4XpARXHTck8gadJesLWw9BBZgKfg9FEI8gwAQoLhcJOgQ7FJcHaRrFArsIogV3D3kIhwmiCI4F2Q8bAzg9ORBBCoASWQz4RzA6NwkRDVYF2Bq5AjkohgZ\\u002fB+kCkBgVDf0FJQ5hCBEQ3iqmD10J2AmpBIEc6gnwBMIg7BIlIDUH\"},\"yaxis\":\"y2\",\"type\":\"box\"}],                        {\"annotations\":[{\"font\":{\"size\":16},\"showarrow\":false,\"text\":\"Sex Count\",\"x\":0.225,\"xanchor\":\"center\",\"xref\":\"paper\",\"y\":1.0,\"yanchor\":\"bottom\",\"yref\":\"paper\"},{\"font\":{\"size\":16},\"showarrow\":false,\"text\":\"Credit Amount by Sex\",\"x\":0.775,\"xanchor\":\"center\",\"xref\":\"paper\",\"y\":1.0,\"yanchor\":\"bottom\",\"yref\":\"paper\"}],\"boxmode\":\"group\",\"height\":400,\"template\":{\"data\":{\"barpolar\":[{\"marker\":{\"line\":{\"color\":\"#E5ECF6\",\"width\":0.5},\"pattern\":{\"fillmode\":\"overlay\",\"size\":10,\"solidity\":0.2}},\"type\":\"barpolar\"}],\"bar\":[{\"error_x\":{\"color\":\"#2a3f5f\"},\"error_y\":{\"color\":\"#2a3f5f\"},\"marker\":{\"line\":{\"color\":\"#E5ECF6\",\"width\":0.5},\"pattern\":{\"fillmode\":\"overlay\",\"size\":10,\"solidity\":0.2}},\"type\":\"bar\"}],\"carpet\":[{\"aaxis\":{\"endlinecolor\":\"#2a3f5f\",\"gridcolor\":\"white\",\"linecolor\":\"white\",\"minorgridcolor\":\"white\",\"startlinecolor\":\"#2a3f5f\"},\"baxis\":{\"endlinecolor\":\"#2a3f5f\",\"gridcolor\":\"white\",\"linecolor\":\"white\",\"minorgridcolor\":\"white\",\"startlinecolor\":\"#2a3f5f\"},\"type\":\"carpet\"}],\"choropleth\":[{\"colorbar\":{\"outlinewidth\":0,\"ticks\":\"\"},\"type\":\"choropleth\"}],\"contourcarpet\":[{\"colorbar\":{\"outlinewidth\":0,\"ticks\":\"\"},\"type\":\"contourcarpet\"}],\"contour\":[{\"colorbar\":{\"outlinewidth\":0,\"ticks\":\"\"},\"colorscale\":[[0.0,\"#0d0887\"],[0.1111111111111111,\"#46039f\"],[0.2222222222222222,\"#7201a8\"],[0.3333333333333333,\"#9c179e\"],[0.4444444444444444,\"#bd3786\"],[0.5555555555555556,\"#d8576b\"],[0.6666666666666666,\"#ed7953\"],[0.7777777777777778,\"#fb9f3a\"],[0.8888888888888888,\"#fdca26\"],[1.0,\"#f0f921\"]],\"type\":\"contour\"}],\"heatmap\":[{\"colorbar\":{\"outlinewidth\":0,\"ticks\":\"\"},\"colorscale\":[[0.0,\"#0d0887\"],[0.1111111111111111,\"#46039f\"],[0.2222222222222222,\"#7201a8\"],[0.3333333333333333,\"#9c179e\"],[0.4444444444444444,\"#bd3786\"],[0.5555555555555556,\"#d8576b\"],[0.6666666666666666,\"#ed7953\"],[0.7777777777777778,\"#fb9f3a\"],[0.8888888888888888,\"#fdca26\"],[1.0,\"#f0f921\"]],\"type\":\"heatmap\"}],\"histogram2dcontour\":[{\"colorbar\":{\"outlinewidth\":0,\"ticks\":\"\"},\"colorscale\":[[0.0,\"#0d0887\"],[0.1111111111111111,\"#46039f\"],[0.2222222222222222,\"#7201a8\"],[0.3333333333333333,\"#9c179e\"],[0.4444444444444444,\"#bd3786\"],[0.5555555555555556,\"#d8576b\"],[0.6666666666666666,\"#ed7953\"],[0.7777777777777778,\"#fb9f3a\"],[0.8888888888888888,\"#fdca26\"],[1.0,\"#f0f921\"]],\"type\":\"histogram2dcontour\"}],\"histogram2d\":[{\"colorbar\":{\"outlinewidth\":0,\"ticks\":\"\"},\"colorscale\":[[0.0,\"#0d0887\"],[0.1111111111111111,\"#46039f\"],[0.2222222222222222,\"#7201a8\"],[0.3333333333333333,\"#9c179e\"],[0.4444444444444444,\"#bd3786\"],[0.5555555555555556,\"#d8576b\"],[0.6666666666666666,\"#ed7953\"],[0.7777777777777778,\"#fb9f3a\"],[0.8888888888888888,\"#fdca26\"],[1.0,\"#f0f921\"]],\"type\":\"histogram2d\"}],\"histogram\":[{\"marker\":{\"pattern\":{\"fillmode\":\"overlay\",\"size\":10,\"solidity\":0.2}},\"type\":\"histogram\"}],\"mesh3d\":[{\"colorbar\":{\"outlinewidth\":0,\"ticks\":\"\"},\"type\":\"mesh3d\"}],\"parcoords\":[{\"line\":{\"colorbar\":{\"outlinewidth\":0,\"ticks\":\"\"}},\"type\":\"parcoords\"}],\"pie\":[{\"automargin\":true,\"type\":\"pie\"}],\"scatter3d\":[{\"line\":{\"colorbar\":{\"outlinewidth\":0,\"ticks\":\"\"}},\"marker\":{\"colorbar\":{\"outlinewidth\":0,\"ticks\":\"\"}},\"type\":\"scatter3d\"}],\"scattercarpet\":[{\"marker\":{\"colorbar\":{\"outlinewidth\":0,\"ticks\":\"\"}},\"type\":\"scattercarpet\"}],\"scattergeo\":[{\"marker\":{\"colorbar\":{\"outlinewidth\":0,\"ticks\":\"\"}},\"type\":\"scattergeo\"}],\"scattergl\":[{\"marker\":{\"colorbar\":{\"outlinewidth\":0,\"ticks\":\"\"}},\"type\":\"scattergl\"}],\"scattermapbox\":[{\"marker\":{\"colorbar\":{\"outlinewidth\":0,\"ticks\":\"\"}},\"type\":\"scattermapbox\"}],\"scattermap\":[{\"marker\":{\"colorbar\":{\"outlinewidth\":0,\"ticks\":\"\"}},\"type\":\"scattermap\"}],\"scatterpolargl\":[{\"marker\":{\"colorbar\":{\"outlinewidth\":0,\"ticks\":\"\"}},\"type\":\"scatterpolargl\"}],\"scatterpolar\":[{\"marker\":{\"colorbar\":{\"outlinewidth\":0,\"ticks\":\"\"}},\"type\":\"scatterpolar\"}],\"scatter\":[{\"fillpattern\":{\"fillmode\":\"overlay\",\"size\":10,\"solidity\":0.2},\"type\":\"scatter\"}],\"scatterternary\":[{\"marker\":{\"colorbar\":{\"outlinewidth\":0,\"ticks\":\"\"}},\"type\":\"scatterternary\"}],\"surface\":[{\"colorbar\":{\"outlinewidth\":0,\"ticks\":\"\"},\"colorscale\":[[0.0,\"#0d0887\"],[0.1111111111111111,\"#46039f\"],[0.2222222222222222,\"#7201a8\"],[0.3333333333333333,\"#9c179e\"],[0.4444444444444444,\"#bd3786\"],[0.5555555555555556,\"#d8576b\"],[0.6666666666666666,\"#ed7953\"],[0.7777777777777778,\"#fb9f3a\"],[0.8888888888888888,\"#fdca26\"],[1.0,\"#f0f921\"]],\"type\":\"surface\"}],\"table\":[{\"cells\":{\"fill\":{\"color\":\"#EBF0F8\"},\"line\":{\"color\":\"white\"}},\"header\":{\"fill\":{\"color\":\"#C8D4E3\"},\"line\":{\"color\":\"white\"}},\"type\":\"table\"}]},\"layout\":{\"annotationdefaults\":{\"arrowcolor\":\"#2a3f5f\",\"arrowhead\":0,\"arrowwidth\":1},\"autotypenumbers\":\"strict\",\"coloraxis\":{\"colorbar\":{\"outlinewidth\":0,\"ticks\":\"\"}},\"colorscale\":{\"diverging\":[[0,\"#8e0152\"],[0.1,\"#c51b7d\"],[0.2,\"#de77ae\"],[0.3,\"#f1b6da\"],[0.4,\"#fde0ef\"],[0.5,\"#f7f7f7\"],[0.6,\"#e6f5d0\"],[0.7,\"#b8e186\"],[0.8,\"#7fbc41\"],[0.9,\"#4d9221\"],[1,\"#276419\"]],\"sequential\":[[0.0,\"#0d0887\"],[0.1111111111111111,\"#46039f\"],[0.2222222222222222,\"#7201a8\"],[0.3333333333333333,\"#9c179e\"],[0.4444444444444444,\"#bd3786\"],[0.5555555555555556,\"#d8576b\"],[0.6666666666666666,\"#ed7953\"],[0.7777777777777778,\"#fb9f3a\"],[0.8888888888888888,\"#fdca26\"],[1.0,\"#f0f921\"]],\"sequentialminus\":[[0.0,\"#0d0887\"],[0.1111111111111111,\"#46039f\"],[0.2222222222222222,\"#7201a8\"],[0.3333333333333333,\"#9c179e\"],[0.4444444444444444,\"#bd3786\"],[0.5555555555555556,\"#d8576b\"],[0.6666666666666666,\"#ed7953\"],[0.7777777777777778,\"#fb9f3a\"],[0.8888888888888888,\"#fdca26\"],[1.0,\"#f0f921\"]]},\"colorway\":[\"#636efa\",\"#EF553B\",\"#00cc96\",\"#ab63fa\",\"#FFA15A\",\"#19d3f3\",\"#FF6692\",\"#B6E880\",\"#FF97FF\",\"#FECB52\"],\"font\":{\"color\":\"#2a3f5f\"},\"geo\":{\"bgcolor\":\"white\",\"lakecolor\":\"white\",\"landcolor\":\"#E5ECF6\",\"showlakes\":true,\"showland\":true,\"subunitcolor\":\"white\"},\"hoverlabel\":{\"align\":\"left\"},\"hovermode\":\"closest\",\"mapbox\":{\"style\":\"light\"},\"paper_bgcolor\":\"white\",\"plot_bgcolor\":\"#E5ECF6\",\"polar\":{\"angularaxis\":{\"gridcolor\":\"white\",\"linecolor\":\"white\",\"ticks\":\"\"},\"bgcolor\":\"#E5ECF6\",\"radialaxis\":{\"gridcolor\":\"white\",\"linecolor\":\"white\",\"ticks\":\"\"}},\"scene\":{\"xaxis\":{\"backgroundcolor\":\"#E5ECF6\",\"gridcolor\":\"white\",\"gridwidth\":2,\"linecolor\":\"white\",\"showbackground\":true,\"ticks\":\"\",\"zerolinecolor\":\"white\"},\"yaxis\":{\"backgroundcolor\":\"#E5ECF6\",\"gridcolor\":\"white\",\"gridwidth\":2,\"linecolor\":\"white\",\"showbackground\":true,\"ticks\":\"\",\"zerolinecolor\":\"white\"},\"zaxis\":{\"backgroundcolor\":\"#E5ECF6\",\"gridcolor\":\"white\",\"gridwidth\":2,\"linecolor\":\"white\",\"showbackground\":true,\"ticks\":\"\",\"zerolinecolor\":\"white\"}},\"shapedefaults\":{\"line\":{\"color\":\"#2a3f5f\"}},\"ternary\":{\"aaxis\":{\"gridcolor\":\"white\",\"linecolor\":\"white\",\"ticks\":\"\"},\"baxis\":{\"gridcolor\":\"white\",\"linecolor\":\"white\",\"ticks\":\"\"},\"bgcolor\":\"#E5ECF6\",\"caxis\":{\"gridcolor\":\"white\",\"linecolor\":\"white\",\"ticks\":\"\"}},\"title\":{\"x\":0.05},\"xaxis\":{\"automargin\":true,\"gridcolor\":\"white\",\"linecolor\":\"white\",\"ticks\":\"\",\"title\":{\"standoff\":15},\"zerolinecolor\":\"white\",\"zerolinewidth\":2},\"yaxis\":{\"automargin\":true,\"gridcolor\":\"white\",\"linecolor\":\"white\",\"ticks\":\"\",\"title\":{\"standoff\":15},\"zerolinecolor\":\"white\",\"zerolinewidth\":2}}},\"title\":{\"text\":\"Sex Distribuition\"},\"width\":800,\"xaxis\":{\"anchor\":\"y\",\"domain\":[0.0,0.45]},\"yaxis\":{\"anchor\":\"x\",\"domain\":[0.0,1.0]},\"xaxis2\":{\"anchor\":\"y2\",\"domain\":[0.55,1.0]},\"yaxis2\":{\"anchor\":\"x2\",\"domain\":[0.0,1.0]}},                        {\"responsive\": true}                    ).then(function(){\n",
       "                            \n",
       "var gd = document.getElementById('cfa6114c-6f63-4cad-8597-53451f9d6e09');\n",
       "var x = new MutationObserver(function (mutations, observer) {{\n",
       "        var display = window.getComputedStyle(gd).display;\n",
       "        if (!display || display === 'none') {{\n",
       "            console.log([gd, 'removed!']);\n",
       "            Plotly.purge(gd);\n",
       "            observer.disconnect();\n",
       "        }}\n",
       "}});\n",
       "\n",
       "// Listen for the removal of the full notebook cells\n",
       "var notebookContainer = gd.closest('#notebook-container');\n",
       "if (notebookContainer) {{\n",
       "    x.observe(notebookContainer, {childList: true});\n",
       "}}\n",
       "\n",
       "// Listen for the clearing of the current output cell\n",
       "var outputEl = gd.closest('.output');\n",
       "if (outputEl) {{\n",
       "    x.observe(outputEl, {childList: true});\n",
       "}}\n",
       "\n",
       "                        })                };            </script>        </div>"
      ]
     },
     "metadata": {},
     "output_type": "display_data"
    }
   ],
   "source": [
    "#First plot\n",
    "trace0 = go.Bar(\n",
    "    x = df_credit[df_credit[\"Risk\"]== 'good'][\"Sex\"].value_counts().index.values,\n",
    "    y = df_credit[df_credit[\"Risk\"]== 'good'][\"Sex\"].value_counts().values,\n",
    "    name='Good credit'\n",
    ")\n",
    "\n",
    "#First plot 2\n",
    "trace1 = go.Bar(\n",
    "    x = df_credit[df_credit[\"Risk\"]== 'bad'][\"Sex\"].value_counts().index.values,\n",
    "    y = df_credit[df_credit[\"Risk\"]== 'bad'][\"Sex\"].value_counts().values,\n",
    "    name=\"Bad Credit\"\n",
    ")\n",
    "\n",
    "#Second plot\n",
    "trace2 = go.Box(\n",
    "    x = df_credit[df_credit[\"Risk\"]== 'good'][\"Sex\"],\n",
    "    y = df_credit[df_credit[\"Risk\"]== 'good'][\"Credit amount\"],\n",
    "    name=trace0.name\n",
    ")\n",
    "\n",
    "#Second plot 2\n",
    "trace3 = go.Box(\n",
    "    x = df_credit[df_credit[\"Risk\"]== 'bad'][\"Sex\"],\n",
    "    y = df_credit[df_credit[\"Risk\"]== 'bad'][\"Credit amount\"],\n",
    "    name=trace1.name\n",
    ")\n",
    "\n",
    "data = [trace0, trace1, trace2,trace3]\n",
    "\n",
    "\n",
    "fig = tls.make_subplots(rows=1, cols=2, \n",
    "                        subplot_titles=('Sex Count', 'Credit Amount by Sex'))\n",
    "\n",
    "fig.append_trace(trace0, 1, 1)\n",
    "fig.append_trace(trace1, 1, 1)\n",
    "fig.append_trace(trace2, 1, 2)\n",
    "fig.append_trace(trace3, 1, 2)\n",
    "\n",
    "fig['layout'].update(height=400, width=800, title='Sex Distribuition', boxmode='group')\n",
    "py.iplot(fig, filename='sex-subplot')"
   ]
  },
  {
   "cell_type": "markdown",
   "metadata": {
    "_cell_guid": "6bb67a05-9d3a-4098-adce-44a5fb8daed1",
    "_uuid": "8bd5867db79d8b3fa561e84c02ab7694bdb23b04"
   },
   "source": [
    "<b> How can I set the boxplots in different places? how can I use the same legend to both graphs?</b>"
   ]
  },
  {
   "cell_type": "markdown",
   "metadata": {
    "_cell_guid": "b8cf27c8-2170-401f-839d-a732108933e4",
    "_uuid": "f5a6c2dea040a31289910da2ae36c296559d5997"
   },
   "source": [
    "I will create categories of Age and look the distribuition of Credit Amount by Risk...\n"
   ]
  },
  {
   "cell_type": "markdown",
   "metadata": {
    "_cell_guid": "76dfaeb3-39ac-4777-8966-b854d2a66fdb",
    "_uuid": "8345789033140b6b9f9f5a40ba8fd5426ee823e4"
   },
   "source": [
    "I will do some explorations through the Job\n",
    "- Distribuition\n",
    "- Crossed by Credit amount\n",
    "- Crossed by Age"
   ]
  },
  {
   "cell_type": "code",
   "execution_count": 12,
   "metadata": {
    "_cell_guid": "78075d47-5299-419c-b061-3bc4b17597e8",
    "_kg_hide-input": true,
    "_uuid": "bd5a104e256f8b1f567c12537a39662de6288db0"
   },
   "outputs": [
    {
     "data": {
      "application/vnd.plotly.v1+json": {
       "config": {
        "linkText": "Export to plot.ly",
        "plotlyServerURL": "https://plot.ly",
        "showLink": false
       },
       "data": [
        {
         "name": "Good credit Distribuition",
         "type": "bar",
         "x": {
          "bdata": "AgEDAA==",
          "dtype": "i1"
         },
         "y": {
          "bdata": "vAGQAGEADwA=",
          "dtype": "i2"
         }
        },
        {
         "name": "Bad Credit Distribuition",
         "type": "bar",
         "x": {
          "bdata": "AgEDAA==",
          "dtype": "i1"
         },
         "y": {
          "bdata": "ugA4ADMABwA=",
          "dtype": "i2"
         }
        }
       ],
       "layout": {
        "template": {
         "data": {
          "bar": [
           {
            "error_x": {
             "color": "#2a3f5f"
            },
            "error_y": {
             "color": "#2a3f5f"
            },
            "marker": {
             "line": {
              "color": "#E5ECF6",
              "width": 0.5
             },
             "pattern": {
              "fillmode": "overlay",
              "size": 10,
              "solidity": 0.2
             }
            },
            "type": "bar"
           }
          ],
          "barpolar": [
           {
            "marker": {
             "line": {
              "color": "#E5ECF6",
              "width": 0.5
             },
             "pattern": {
              "fillmode": "overlay",
              "size": 10,
              "solidity": 0.2
             }
            },
            "type": "barpolar"
           }
          ],
          "carpet": [
           {
            "aaxis": {
             "endlinecolor": "#2a3f5f",
             "gridcolor": "white",
             "linecolor": "white",
             "minorgridcolor": "white",
             "startlinecolor": "#2a3f5f"
            },
            "baxis": {
             "endlinecolor": "#2a3f5f",
             "gridcolor": "white",
             "linecolor": "white",
             "minorgridcolor": "white",
             "startlinecolor": "#2a3f5f"
            },
            "type": "carpet"
           }
          ],
          "choropleth": [
           {
            "colorbar": {
             "outlinewidth": 0,
             "ticks": ""
            },
            "type": "choropleth"
           }
          ],
          "contour": [
           {
            "colorbar": {
             "outlinewidth": 0,
             "ticks": ""
            },
            "colorscale": [
             [
              0,
              "#0d0887"
             ],
             [
              0.1111111111111111,
              "#46039f"
             ],
             [
              0.2222222222222222,
              "#7201a8"
             ],
             [
              0.3333333333333333,
              "#9c179e"
             ],
             [
              0.4444444444444444,
              "#bd3786"
             ],
             [
              0.5555555555555556,
              "#d8576b"
             ],
             [
              0.6666666666666666,
              "#ed7953"
             ],
             [
              0.7777777777777778,
              "#fb9f3a"
             ],
             [
              0.8888888888888888,
              "#fdca26"
             ],
             [
              1,
              "#f0f921"
             ]
            ],
            "type": "contour"
           }
          ],
          "contourcarpet": [
           {
            "colorbar": {
             "outlinewidth": 0,
             "ticks": ""
            },
            "type": "contourcarpet"
           }
          ],
          "heatmap": [
           {
            "colorbar": {
             "outlinewidth": 0,
             "ticks": ""
            },
            "colorscale": [
             [
              0,
              "#0d0887"
             ],
             [
              0.1111111111111111,
              "#46039f"
             ],
             [
              0.2222222222222222,
              "#7201a8"
             ],
             [
              0.3333333333333333,
              "#9c179e"
             ],
             [
              0.4444444444444444,
              "#bd3786"
             ],
             [
              0.5555555555555556,
              "#d8576b"
             ],
             [
              0.6666666666666666,
              "#ed7953"
             ],
             [
              0.7777777777777778,
              "#fb9f3a"
             ],
             [
              0.8888888888888888,
              "#fdca26"
             ],
             [
              1,
              "#f0f921"
             ]
            ],
            "type": "heatmap"
           }
          ],
          "histogram": [
           {
            "marker": {
             "pattern": {
              "fillmode": "overlay",
              "size": 10,
              "solidity": 0.2
             }
            },
            "type": "histogram"
           }
          ],
          "histogram2d": [
           {
            "colorbar": {
             "outlinewidth": 0,
             "ticks": ""
            },
            "colorscale": [
             [
              0,
              "#0d0887"
             ],
             [
              0.1111111111111111,
              "#46039f"
             ],
             [
              0.2222222222222222,
              "#7201a8"
             ],
             [
              0.3333333333333333,
              "#9c179e"
             ],
             [
              0.4444444444444444,
              "#bd3786"
             ],
             [
              0.5555555555555556,
              "#d8576b"
             ],
             [
              0.6666666666666666,
              "#ed7953"
             ],
             [
              0.7777777777777778,
              "#fb9f3a"
             ],
             [
              0.8888888888888888,
              "#fdca26"
             ],
             [
              1,
              "#f0f921"
             ]
            ],
            "type": "histogram2d"
           }
          ],
          "histogram2dcontour": [
           {
            "colorbar": {
             "outlinewidth": 0,
             "ticks": ""
            },
            "colorscale": [
             [
              0,
              "#0d0887"
             ],
             [
              0.1111111111111111,
              "#46039f"
             ],
             [
              0.2222222222222222,
              "#7201a8"
             ],
             [
              0.3333333333333333,
              "#9c179e"
             ],
             [
              0.4444444444444444,
              "#bd3786"
             ],
             [
              0.5555555555555556,
              "#d8576b"
             ],
             [
              0.6666666666666666,
              "#ed7953"
             ],
             [
              0.7777777777777778,
              "#fb9f3a"
             ],
             [
              0.8888888888888888,
              "#fdca26"
             ],
             [
              1,
              "#f0f921"
             ]
            ],
            "type": "histogram2dcontour"
           }
          ],
          "mesh3d": [
           {
            "colorbar": {
             "outlinewidth": 0,
             "ticks": ""
            },
            "type": "mesh3d"
           }
          ],
          "parcoords": [
           {
            "line": {
             "colorbar": {
              "outlinewidth": 0,
              "ticks": ""
             }
            },
            "type": "parcoords"
           }
          ],
          "pie": [
           {
            "automargin": true,
            "type": "pie"
           }
          ],
          "scatter": [
           {
            "fillpattern": {
             "fillmode": "overlay",
             "size": 10,
             "solidity": 0.2
            },
            "type": "scatter"
           }
          ],
          "scatter3d": [
           {
            "line": {
             "colorbar": {
              "outlinewidth": 0,
              "ticks": ""
             }
            },
            "marker": {
             "colorbar": {
              "outlinewidth": 0,
              "ticks": ""
             }
            },
            "type": "scatter3d"
           }
          ],
          "scattercarpet": [
           {
            "marker": {
             "colorbar": {
              "outlinewidth": 0,
              "ticks": ""
             }
            },
            "type": "scattercarpet"
           }
          ],
          "scattergeo": [
           {
            "marker": {
             "colorbar": {
              "outlinewidth": 0,
              "ticks": ""
             }
            },
            "type": "scattergeo"
           }
          ],
          "scattergl": [
           {
            "marker": {
             "colorbar": {
              "outlinewidth": 0,
              "ticks": ""
             }
            },
            "type": "scattergl"
           }
          ],
          "scattermap": [
           {
            "marker": {
             "colorbar": {
              "outlinewidth": 0,
              "ticks": ""
             }
            },
            "type": "scattermap"
           }
          ],
          "scattermapbox": [
           {
            "marker": {
             "colorbar": {
              "outlinewidth": 0,
              "ticks": ""
             }
            },
            "type": "scattermapbox"
           }
          ],
          "scatterpolar": [
           {
            "marker": {
             "colorbar": {
              "outlinewidth": 0,
              "ticks": ""
             }
            },
            "type": "scatterpolar"
           }
          ],
          "scatterpolargl": [
           {
            "marker": {
             "colorbar": {
              "outlinewidth": 0,
              "ticks": ""
             }
            },
            "type": "scatterpolargl"
           }
          ],
          "scatterternary": [
           {
            "marker": {
             "colorbar": {
              "outlinewidth": 0,
              "ticks": ""
             }
            },
            "type": "scatterternary"
           }
          ],
          "surface": [
           {
            "colorbar": {
             "outlinewidth": 0,
             "ticks": ""
            },
            "colorscale": [
             [
              0,
              "#0d0887"
             ],
             [
              0.1111111111111111,
              "#46039f"
             ],
             [
              0.2222222222222222,
              "#7201a8"
             ],
             [
              0.3333333333333333,
              "#9c179e"
             ],
             [
              0.4444444444444444,
              "#bd3786"
             ],
             [
              0.5555555555555556,
              "#d8576b"
             ],
             [
              0.6666666666666666,
              "#ed7953"
             ],
             [
              0.7777777777777778,
              "#fb9f3a"
             ],
             [
              0.8888888888888888,
              "#fdca26"
             ],
             [
              1,
              "#f0f921"
             ]
            ],
            "type": "surface"
           }
          ],
          "table": [
           {
            "cells": {
             "fill": {
              "color": "#EBF0F8"
             },
             "line": {
              "color": "white"
             }
            },
            "header": {
             "fill": {
              "color": "#C8D4E3"
             },
             "line": {
              "color": "white"
             }
            },
            "type": "table"
           }
          ]
         },
         "layout": {
          "annotationdefaults": {
           "arrowcolor": "#2a3f5f",
           "arrowhead": 0,
           "arrowwidth": 1
          },
          "autotypenumbers": "strict",
          "coloraxis": {
           "colorbar": {
            "outlinewidth": 0,
            "ticks": ""
           }
          },
          "colorscale": {
           "diverging": [
            [
             0,
             "#8e0152"
            ],
            [
             0.1,
             "#c51b7d"
            ],
            [
             0.2,
             "#de77ae"
            ],
            [
             0.3,
             "#f1b6da"
            ],
            [
             0.4,
             "#fde0ef"
            ],
            [
             0.5,
             "#f7f7f7"
            ],
            [
             0.6,
             "#e6f5d0"
            ],
            [
             0.7,
             "#b8e186"
            ],
            [
             0.8,
             "#7fbc41"
            ],
            [
             0.9,
             "#4d9221"
            ],
            [
             1,
             "#276419"
            ]
           ],
           "sequential": [
            [
             0,
             "#0d0887"
            ],
            [
             0.1111111111111111,
             "#46039f"
            ],
            [
             0.2222222222222222,
             "#7201a8"
            ],
            [
             0.3333333333333333,
             "#9c179e"
            ],
            [
             0.4444444444444444,
             "#bd3786"
            ],
            [
             0.5555555555555556,
             "#d8576b"
            ],
            [
             0.6666666666666666,
             "#ed7953"
            ],
            [
             0.7777777777777778,
             "#fb9f3a"
            ],
            [
             0.8888888888888888,
             "#fdca26"
            ],
            [
             1,
             "#f0f921"
            ]
           ],
           "sequentialminus": [
            [
             0,
             "#0d0887"
            ],
            [
             0.1111111111111111,
             "#46039f"
            ],
            [
             0.2222222222222222,
             "#7201a8"
            ],
            [
             0.3333333333333333,
             "#9c179e"
            ],
            [
             0.4444444444444444,
             "#bd3786"
            ],
            [
             0.5555555555555556,
             "#d8576b"
            ],
            [
             0.6666666666666666,
             "#ed7953"
            ],
            [
             0.7777777777777778,
             "#fb9f3a"
            ],
            [
             0.8888888888888888,
             "#fdca26"
            ],
            [
             1,
             "#f0f921"
            ]
           ]
          },
          "colorway": [
           "#636efa",
           "#EF553B",
           "#00cc96",
           "#ab63fa",
           "#FFA15A",
           "#19d3f3",
           "#FF6692",
           "#B6E880",
           "#FF97FF",
           "#FECB52"
          ],
          "font": {
           "color": "#2a3f5f"
          },
          "geo": {
           "bgcolor": "white",
           "lakecolor": "white",
           "landcolor": "#E5ECF6",
           "showlakes": true,
           "showland": true,
           "subunitcolor": "white"
          },
          "hoverlabel": {
           "align": "left"
          },
          "hovermode": "closest",
          "mapbox": {
           "style": "light"
          },
          "paper_bgcolor": "white",
          "plot_bgcolor": "#E5ECF6",
          "polar": {
           "angularaxis": {
            "gridcolor": "white",
            "linecolor": "white",
            "ticks": ""
           },
           "bgcolor": "#E5ECF6",
           "radialaxis": {
            "gridcolor": "white",
            "linecolor": "white",
            "ticks": ""
           }
          },
          "scene": {
           "xaxis": {
            "backgroundcolor": "#E5ECF6",
            "gridcolor": "white",
            "gridwidth": 2,
            "linecolor": "white",
            "showbackground": true,
            "ticks": "",
            "zerolinecolor": "white"
           },
           "yaxis": {
            "backgroundcolor": "#E5ECF6",
            "gridcolor": "white",
            "gridwidth": 2,
            "linecolor": "white",
            "showbackground": true,
            "ticks": "",
            "zerolinecolor": "white"
           },
           "zaxis": {
            "backgroundcolor": "#E5ECF6",
            "gridcolor": "white",
            "gridwidth": 2,
            "linecolor": "white",
            "showbackground": true,
            "ticks": "",
            "zerolinecolor": "white"
           }
          },
          "shapedefaults": {
           "line": {
            "color": "#2a3f5f"
           }
          },
          "ternary": {
           "aaxis": {
            "gridcolor": "white",
            "linecolor": "white",
            "ticks": ""
           },
           "baxis": {
            "gridcolor": "white",
            "linecolor": "white",
            "ticks": ""
           },
           "bgcolor": "#E5ECF6",
           "caxis": {
            "gridcolor": "white",
            "linecolor": "white",
            "ticks": ""
           }
          },
          "title": {
           "x": 0.05
          },
          "xaxis": {
           "automargin": true,
           "gridcolor": "white",
           "linecolor": "white",
           "ticks": "",
           "title": {
            "standoff": 15
           },
           "zerolinecolor": "white",
           "zerolinewidth": 2
          },
          "yaxis": {
           "automargin": true,
           "gridcolor": "white",
           "linecolor": "white",
           "ticks": "",
           "title": {
            "standoff": 15
           },
           "zerolinecolor": "white",
           "zerolinewidth": 2
          }
         }
        },
        "title": {
         "text": "Job Distribuition"
        }
       }
      },
      "text/html": [
       "<div>            <script src=\"https://cdnjs.cloudflare.com/ajax/libs/mathjax/2.7.5/MathJax.js?config=TeX-AMS-MML_SVG\"></script><script type=\"text/javascript\">if (window.MathJax && window.MathJax.Hub && window.MathJax.Hub.Config) {window.MathJax.Hub.Config({SVG: {font: \"STIX-Web\"}});}</script>                <script type=\"text/javascript\">window.PlotlyConfig = {MathJaxConfig: 'local'};</script>\n",
       "        <script charset=\"utf-8\" src=\"https://cdn.plot.ly/plotly-3.0.1.min.js\"></script>                <div id=\"7ad1d9e4-c877-412d-afe5-9de053e56402\" class=\"plotly-graph-div\" style=\"height:525px; width:100%;\"></div>            <script type=\"text/javascript\">                window.PLOTLYENV=window.PLOTLYENV || {};                                if (document.getElementById(\"7ad1d9e4-c877-412d-afe5-9de053e56402\")) {                    Plotly.newPlot(                        \"7ad1d9e4-c877-412d-afe5-9de053e56402\",                        [{\"name\":\"Good credit Distribuition\",\"x\":{\"dtype\":\"i1\",\"bdata\":\"AgEDAA==\"},\"y\":{\"dtype\":\"i2\",\"bdata\":\"vAGQAGEADwA=\"},\"type\":\"bar\"},{\"name\":\"Bad Credit Distribuition\",\"x\":{\"dtype\":\"i1\",\"bdata\":\"AgEDAA==\"},\"y\":{\"dtype\":\"i2\",\"bdata\":\"ugA4ADMABwA=\"},\"type\":\"bar\"}],                        {\"template\":{\"data\":{\"barpolar\":[{\"marker\":{\"line\":{\"color\":\"#E5ECF6\",\"width\":0.5},\"pattern\":{\"fillmode\":\"overlay\",\"size\":10,\"solidity\":0.2}},\"type\":\"barpolar\"}],\"bar\":[{\"error_x\":{\"color\":\"#2a3f5f\"},\"error_y\":{\"color\":\"#2a3f5f\"},\"marker\":{\"line\":{\"color\":\"#E5ECF6\",\"width\":0.5},\"pattern\":{\"fillmode\":\"overlay\",\"size\":10,\"solidity\":0.2}},\"type\":\"bar\"}],\"carpet\":[{\"aaxis\":{\"endlinecolor\":\"#2a3f5f\",\"gridcolor\":\"white\",\"linecolor\":\"white\",\"minorgridcolor\":\"white\",\"startlinecolor\":\"#2a3f5f\"},\"baxis\":{\"endlinecolor\":\"#2a3f5f\",\"gridcolor\":\"white\",\"linecolor\":\"white\",\"minorgridcolor\":\"white\",\"startlinecolor\":\"#2a3f5f\"},\"type\":\"carpet\"}],\"choropleth\":[{\"colorbar\":{\"outlinewidth\":0,\"ticks\":\"\"},\"type\":\"choropleth\"}],\"contourcarpet\":[{\"colorbar\":{\"outlinewidth\":0,\"ticks\":\"\"},\"type\":\"contourcarpet\"}],\"contour\":[{\"colorbar\":{\"outlinewidth\":0,\"ticks\":\"\"},\"colorscale\":[[0.0,\"#0d0887\"],[0.1111111111111111,\"#46039f\"],[0.2222222222222222,\"#7201a8\"],[0.3333333333333333,\"#9c179e\"],[0.4444444444444444,\"#bd3786\"],[0.5555555555555556,\"#d8576b\"],[0.6666666666666666,\"#ed7953\"],[0.7777777777777778,\"#fb9f3a\"],[0.8888888888888888,\"#fdca26\"],[1.0,\"#f0f921\"]],\"type\":\"contour\"}],\"heatmap\":[{\"colorbar\":{\"outlinewidth\":0,\"ticks\":\"\"},\"colorscale\":[[0.0,\"#0d0887\"],[0.1111111111111111,\"#46039f\"],[0.2222222222222222,\"#7201a8\"],[0.3333333333333333,\"#9c179e\"],[0.4444444444444444,\"#bd3786\"],[0.5555555555555556,\"#d8576b\"],[0.6666666666666666,\"#ed7953\"],[0.7777777777777778,\"#fb9f3a\"],[0.8888888888888888,\"#fdca26\"],[1.0,\"#f0f921\"]],\"type\":\"heatmap\"}],\"histogram2dcontour\":[{\"colorbar\":{\"outlinewidth\":0,\"ticks\":\"\"},\"colorscale\":[[0.0,\"#0d0887\"],[0.1111111111111111,\"#46039f\"],[0.2222222222222222,\"#7201a8\"],[0.3333333333333333,\"#9c179e\"],[0.4444444444444444,\"#bd3786\"],[0.5555555555555556,\"#d8576b\"],[0.6666666666666666,\"#ed7953\"],[0.7777777777777778,\"#fb9f3a\"],[0.8888888888888888,\"#fdca26\"],[1.0,\"#f0f921\"]],\"type\":\"histogram2dcontour\"}],\"histogram2d\":[{\"colorbar\":{\"outlinewidth\":0,\"ticks\":\"\"},\"colorscale\":[[0.0,\"#0d0887\"],[0.1111111111111111,\"#46039f\"],[0.2222222222222222,\"#7201a8\"],[0.3333333333333333,\"#9c179e\"],[0.4444444444444444,\"#bd3786\"],[0.5555555555555556,\"#d8576b\"],[0.6666666666666666,\"#ed7953\"],[0.7777777777777778,\"#fb9f3a\"],[0.8888888888888888,\"#fdca26\"],[1.0,\"#f0f921\"]],\"type\":\"histogram2d\"}],\"histogram\":[{\"marker\":{\"pattern\":{\"fillmode\":\"overlay\",\"size\":10,\"solidity\":0.2}},\"type\":\"histogram\"}],\"mesh3d\":[{\"colorbar\":{\"outlinewidth\":0,\"ticks\":\"\"},\"type\":\"mesh3d\"}],\"parcoords\":[{\"line\":{\"colorbar\":{\"outlinewidth\":0,\"ticks\":\"\"}},\"type\":\"parcoords\"}],\"pie\":[{\"automargin\":true,\"type\":\"pie\"}],\"scatter3d\":[{\"line\":{\"colorbar\":{\"outlinewidth\":0,\"ticks\":\"\"}},\"marker\":{\"colorbar\":{\"outlinewidth\":0,\"ticks\":\"\"}},\"type\":\"scatter3d\"}],\"scattercarpet\":[{\"marker\":{\"colorbar\":{\"outlinewidth\":0,\"ticks\":\"\"}},\"type\":\"scattercarpet\"}],\"scattergeo\":[{\"marker\":{\"colorbar\":{\"outlinewidth\":0,\"ticks\":\"\"}},\"type\":\"scattergeo\"}],\"scattergl\":[{\"marker\":{\"colorbar\":{\"outlinewidth\":0,\"ticks\":\"\"}},\"type\":\"scattergl\"}],\"scattermapbox\":[{\"marker\":{\"colorbar\":{\"outlinewidth\":0,\"ticks\":\"\"}},\"type\":\"scattermapbox\"}],\"scattermap\":[{\"marker\":{\"colorbar\":{\"outlinewidth\":0,\"ticks\":\"\"}},\"type\":\"scattermap\"}],\"scatterpolargl\":[{\"marker\":{\"colorbar\":{\"outlinewidth\":0,\"ticks\":\"\"}},\"type\":\"scatterpolargl\"}],\"scatterpolar\":[{\"marker\":{\"colorbar\":{\"outlinewidth\":0,\"ticks\":\"\"}},\"type\":\"scatterpolar\"}],\"scatter\":[{\"fillpattern\":{\"fillmode\":\"overlay\",\"size\":10,\"solidity\":0.2},\"type\":\"scatter\"}],\"scatterternary\":[{\"marker\":{\"colorbar\":{\"outlinewidth\":0,\"ticks\":\"\"}},\"type\":\"scatterternary\"}],\"surface\":[{\"colorbar\":{\"outlinewidth\":0,\"ticks\":\"\"},\"colorscale\":[[0.0,\"#0d0887\"],[0.1111111111111111,\"#46039f\"],[0.2222222222222222,\"#7201a8\"],[0.3333333333333333,\"#9c179e\"],[0.4444444444444444,\"#bd3786\"],[0.5555555555555556,\"#d8576b\"],[0.6666666666666666,\"#ed7953\"],[0.7777777777777778,\"#fb9f3a\"],[0.8888888888888888,\"#fdca26\"],[1.0,\"#f0f921\"]],\"type\":\"surface\"}],\"table\":[{\"cells\":{\"fill\":{\"color\":\"#EBF0F8\"},\"line\":{\"color\":\"white\"}},\"header\":{\"fill\":{\"color\":\"#C8D4E3\"},\"line\":{\"color\":\"white\"}},\"type\":\"table\"}]},\"layout\":{\"annotationdefaults\":{\"arrowcolor\":\"#2a3f5f\",\"arrowhead\":0,\"arrowwidth\":1},\"autotypenumbers\":\"strict\",\"coloraxis\":{\"colorbar\":{\"outlinewidth\":0,\"ticks\":\"\"}},\"colorscale\":{\"diverging\":[[0,\"#8e0152\"],[0.1,\"#c51b7d\"],[0.2,\"#de77ae\"],[0.3,\"#f1b6da\"],[0.4,\"#fde0ef\"],[0.5,\"#f7f7f7\"],[0.6,\"#e6f5d0\"],[0.7,\"#b8e186\"],[0.8,\"#7fbc41\"],[0.9,\"#4d9221\"],[1,\"#276419\"]],\"sequential\":[[0.0,\"#0d0887\"],[0.1111111111111111,\"#46039f\"],[0.2222222222222222,\"#7201a8\"],[0.3333333333333333,\"#9c179e\"],[0.4444444444444444,\"#bd3786\"],[0.5555555555555556,\"#d8576b\"],[0.6666666666666666,\"#ed7953\"],[0.7777777777777778,\"#fb9f3a\"],[0.8888888888888888,\"#fdca26\"],[1.0,\"#f0f921\"]],\"sequentialminus\":[[0.0,\"#0d0887\"],[0.1111111111111111,\"#46039f\"],[0.2222222222222222,\"#7201a8\"],[0.3333333333333333,\"#9c179e\"],[0.4444444444444444,\"#bd3786\"],[0.5555555555555556,\"#d8576b\"],[0.6666666666666666,\"#ed7953\"],[0.7777777777777778,\"#fb9f3a\"],[0.8888888888888888,\"#fdca26\"],[1.0,\"#f0f921\"]]},\"colorway\":[\"#636efa\",\"#EF553B\",\"#00cc96\",\"#ab63fa\",\"#FFA15A\",\"#19d3f3\",\"#FF6692\",\"#B6E880\",\"#FF97FF\",\"#FECB52\"],\"font\":{\"color\":\"#2a3f5f\"},\"geo\":{\"bgcolor\":\"white\",\"lakecolor\":\"white\",\"landcolor\":\"#E5ECF6\",\"showlakes\":true,\"showland\":true,\"subunitcolor\":\"white\"},\"hoverlabel\":{\"align\":\"left\"},\"hovermode\":\"closest\",\"mapbox\":{\"style\":\"light\"},\"paper_bgcolor\":\"white\",\"plot_bgcolor\":\"#E5ECF6\",\"polar\":{\"angularaxis\":{\"gridcolor\":\"white\",\"linecolor\":\"white\",\"ticks\":\"\"},\"bgcolor\":\"#E5ECF6\",\"radialaxis\":{\"gridcolor\":\"white\",\"linecolor\":\"white\",\"ticks\":\"\"}},\"scene\":{\"xaxis\":{\"backgroundcolor\":\"#E5ECF6\",\"gridcolor\":\"white\",\"gridwidth\":2,\"linecolor\":\"white\",\"showbackground\":true,\"ticks\":\"\",\"zerolinecolor\":\"white\"},\"yaxis\":{\"backgroundcolor\":\"#E5ECF6\",\"gridcolor\":\"white\",\"gridwidth\":2,\"linecolor\":\"white\",\"showbackground\":true,\"ticks\":\"\",\"zerolinecolor\":\"white\"},\"zaxis\":{\"backgroundcolor\":\"#E5ECF6\",\"gridcolor\":\"white\",\"gridwidth\":2,\"linecolor\":\"white\",\"showbackground\":true,\"ticks\":\"\",\"zerolinecolor\":\"white\"}},\"shapedefaults\":{\"line\":{\"color\":\"#2a3f5f\"}},\"ternary\":{\"aaxis\":{\"gridcolor\":\"white\",\"linecolor\":\"white\",\"ticks\":\"\"},\"baxis\":{\"gridcolor\":\"white\",\"linecolor\":\"white\",\"ticks\":\"\"},\"bgcolor\":\"#E5ECF6\",\"caxis\":{\"gridcolor\":\"white\",\"linecolor\":\"white\",\"ticks\":\"\"}},\"title\":{\"x\":0.05},\"xaxis\":{\"automargin\":true,\"gridcolor\":\"white\",\"linecolor\":\"white\",\"ticks\":\"\",\"title\":{\"standoff\":15},\"zerolinecolor\":\"white\",\"zerolinewidth\":2},\"yaxis\":{\"automargin\":true,\"gridcolor\":\"white\",\"linecolor\":\"white\",\"ticks\":\"\",\"title\":{\"standoff\":15},\"zerolinecolor\":\"white\",\"zerolinewidth\":2}}},\"title\":{\"text\":\"Job Distribuition\"}},                        {\"responsive\": true}                    ).then(function(){\n",
       "                            \n",
       "var gd = document.getElementById('7ad1d9e4-c877-412d-afe5-9de053e56402');\n",
       "var x = new MutationObserver(function (mutations, observer) {{\n",
       "        var display = window.getComputedStyle(gd).display;\n",
       "        if (!display || display === 'none') {{\n",
       "            console.log([gd, 'removed!']);\n",
       "            Plotly.purge(gd);\n",
       "            observer.disconnect();\n",
       "        }}\n",
       "}});\n",
       "\n",
       "// Listen for the removal of the full notebook cells\n",
       "var notebookContainer = gd.closest('#notebook-container');\n",
       "if (notebookContainer) {{\n",
       "    x.observe(notebookContainer, {childList: true});\n",
       "}}\n",
       "\n",
       "// Listen for the clearing of the current output cell\n",
       "var outputEl = gd.closest('.output');\n",
       "if (outputEl) {{\n",
       "    x.observe(outputEl, {childList: true});\n",
       "}}\n",
       "\n",
       "                        })                };            </script>        </div>"
      ]
     },
     "metadata": {},
     "output_type": "display_data"
    }
   ],
   "source": [
    "#First plot\n",
    "trace0 = go.Bar(\n",
    "    x = df_credit[df_credit[\"Risk\"]== 'good'][\"Job\"].value_counts().index.values,\n",
    "    y = df_credit[df_credit[\"Risk\"]== 'good'][\"Job\"].value_counts().values,\n",
    "    name='Good credit Distribuition'\n",
    ")\n",
    "\n",
    "#Second plot\n",
    "trace1 = go.Bar(\n",
    "    x = df_credit[df_credit[\"Risk\"]== 'bad'][\"Job\"].value_counts().index.values,\n",
    "    y = df_credit[df_credit[\"Risk\"]== 'bad'][\"Job\"].value_counts().values,\n",
    "    name=\"Bad Credit Distribuition\"\n",
    ")\n",
    "\n",
    "data = [trace0, trace1]\n",
    "\n",
    "layout = go.Layout(\n",
    "    title='Job Distribuition'\n",
    ")\n",
    "\n",
    "fig = go.Figure(data=data, layout=layout)\n",
    "\n",
    "py.iplot(fig, filename='grouped-bar')"
   ]
  },
  {
   "cell_type": "markdown",
   "metadata": {
    "_cell_guid": "5ddc12f0-61c9-46fd-9ac5-72054b7e65b3",
    "_uuid": "c120123985f2f09dbab5d1be70e400ca55fe5b15"
   },
   "source": [
    "Looking the distribuition of Credit Amont"
   ]
  },
  {
   "cell_type": "code",
   "execution_count": 13,
   "metadata": {
    "_cell_guid": "08186a5c-7f62-4f92-b2c0-7040143d63d1",
    "_kg_hide-input": true,
    "_kg_hide-output": false,
    "_uuid": "e9820ae878fa287084608d982b26b0f0eb3925d2"
   },
   "outputs": [
    {
     "data": {
      "application/vnd.plotly.v1+json": {
       "config": {
        "linkText": "Export to plot.ly",
        "plotlyServerURL": "https://plot.ly",
        "showLink": false
       },
       "data": [
        {
         "autobinx": false,
         "histnorm": "probability density",
         "legendgroup": "Good Credit",
         "marker": {
          "color": "rgb(31, 119, 180)"
         },
         "name": "Good Credit",
         "opacity": 0.7,
         "type": "histogram",
         "x": {
          "bdata": "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",
          "dtype": "f8"
         },
         "xaxis": "x",
         "xbins": {
          "end": 9.671366322189568,
          "size": 0.2,
          "start": 5.521460917862246
         },
         "yaxis": "y"
        },
        {
         "autobinx": false,
         "histnorm": "probability density",
         "legendgroup": "Bad Credit",
         "marker": {
          "color": "rgb(255, 127, 14)"
         },
         "name": "Bad Credit",
         "opacity": 0.7,
         "type": "histogram",
         "x": {
          "bdata": "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",
          "dtype": "f8"
         },
         "xaxis": "x",
         "xbins": {
          "end": 9.82140944150052,
          "size": 0.2,
          "start": 6.07073772800249
         },
         "yaxis": "y"
        },
        {
         "legendgroup": "Good Credit",
         "marker": {
          "color": "rgb(31, 119, 180)"
         },
         "mode": "lines",
         "name": "Good Credit",
         "showlegend": false,
         "type": "scatter",
         "x": [
          5.521460917862246,
          5.529760728670901,
          5.538060539479555,
          5.54636035028821,
          5.554660161096865,
          5.562959971905519,
          5.571259782714174,
          5.579559593522829,
          5.587859404331483,
          5.596159215140138,
          5.604459025948793,
          5.612758836757447,
          5.621058647566102,
          5.629358458374757,
          5.637658269183411,
          5.645958079992066,
          5.654257890800721,
          5.662557701609375,
          5.67085751241803,
          5.6791573232266845,
          5.687457134035339,
          5.6957569448439935,
          5.7040567556526485,
          5.7123565664613025,
          5.7206563772699575,
          5.728956188078612,
          5.7372559988872665,
          5.745555809695921,
          5.753855620504576,
          5.76215543131323,
          5.770455242121885,
          5.77875505293054,
          5.787054863739194,
          5.795354674547849,
          5.803654485356504,
          5.811954296165158,
          5.820254106973813,
          5.828553917782468,
          5.836853728591122,
          5.845153539399777,
          5.853453350208432,
          5.861753161017086,
          5.870052971825741,
          5.878352782634396,
          5.88665259344305,
          5.894952404251705,
          5.90325221506036,
          5.911552025869014,
          5.919851836677669,
          5.928151647486324,
          5.936451458294978,
          5.944751269103633,
          5.953051079912288,
          5.961350890720942,
          5.969650701529597,
          5.977950512338252,
          5.986250323146906,
          5.994550133955561,
          6.002849944764216,
          6.01114975557287,
          6.019449566381525,
          6.02774937719018,
          6.0360491879988345,
          6.0443489988074885,
          6.0526488096161435,
          6.0609486204247975,
          6.0692484312334525,
          6.077548242042107,
          6.085848052850762,
          6.094147863659416,
          6.102447674468071,
          6.110747485276725,
          6.11904729608538,
          6.127347106894035,
          6.13564691770269,
          6.143946728511344,
          6.152246539319999,
          6.160546350128653,
          6.168846160937308,
          6.177145971745963,
          6.185445782554617,
          6.193745593363272,
          6.202045404171927,
          6.210345214980581,
          6.218645025789236,
          6.226944836597891,
          6.235244647406545,
          6.2435444582152,
          6.251844269023855,
          6.260144079832509,
          6.268443890641164,
          6.276743701449819,
          6.285043512258473,
          6.293343323067128,
          6.301643133875783,
          6.309942944684437,
          6.318242755493092,
          6.326542566301747,
          6.334842377110401,
          6.343142187919056,
          6.351441998727711,
          6.359741809536365,
          6.36804162034502,
          6.376341431153675,
          6.3846412419623295,
          6.392941052770984,
          6.4012408635796385,
          6.409540674388293,
          6.4178404851969475,
          6.426140296005602,
          6.434440106814257,
          6.442739917622911,
          6.451039728431566,
          6.45933953924022,
          6.467639350048875,
          6.47593916085753,
          6.484238971666185,
          6.492538782474839,
          6.500838593283494,
          6.509138404092148,
          6.517438214900803,
          6.525738025709458,
          6.534037836518113,
          6.542337647326767,
          6.550637458135422,
          6.558937268944076,
          6.567237079752731,
          6.575536890561386,
          6.583836701370041,
          6.592136512178695,
          6.60043632298735,
          6.608736133796004,
          6.617035944604659,
          6.625335755413314,
          6.633635566221969,
          6.641935377030623,
          6.650235187839278,
          6.658534998647932,
          6.666834809456587,
          6.675134620265242,
          6.683434431073897,
          6.691734241882551,
          6.700034052691206,
          6.70833386349986,
          6.716633674308515,
          6.72493348511717,
          6.7332332959258245,
          6.741533106734479,
          6.7498329175431335,
          6.758132728351788,
          6.7664325391604425,
          6.7747323499690975,
          6.783032160777752,
          6.7913319715864064,
          6.799631782395061,
          6.807931593203715,
          6.81623140401237,
          6.824531214821025,
          6.83283102562968,
          6.841130836438334,
          6.849430647246989,
          6.857730458055643,
          6.866030268864298,
          6.874330079672953,
          6.882629890481608,
          6.890929701290262,
          6.899229512098917,
          6.907529322907571,
          6.915829133716226,
          6.924128944524881,
          6.932428755333536,
          6.94072856614219,
          6.949028376950845,
          6.957328187759499,
          6.965627998568154,
          6.973927809376809,
          6.982227620185464,
          6.990527430994118,
          6.998827241802773,
          7.007127052611427,
          7.015426863420082,
          7.023726674228737,
          7.032026485037392,
          7.040326295846046,
          7.048626106654701,
          7.056925917463355,
          7.06522572827201,
          7.073525539080665,
          7.0818253498893196,
          7.0901251606979745,
          7.0984249715066285,
          7.106724782315283,
          7.1150245931239375,
          7.1233244039325925,
          7.131624214741247,
          7.1399240255499015,
          7.148223836358556,
          7.1565236471672105,
          7.164823457975865,
          7.17312326878452,
          7.181423079593175,
          7.189722890401829,
          7.198022701210484,
          7.206322512019138,
          7.214622322827793,
          7.222922133636448,
          7.231221944445103,
          7.239521755253757,
          7.247821566062412,
          7.256121376871066,
          7.264421187679721,
          7.272720998488376,
          7.281020809297031,
          7.289320620105685,
          7.29762043091434,
          7.305920241722994,
          7.314220052531649,
          7.322519863340304,
          7.330819674148959,
          7.339119484957613,
          7.347419295766268,
          7.355719106574922,
          7.364018917383577,
          7.372318728192232,
          7.380618539000887,
          7.388918349809541,
          7.397218160618196,
          7.405517971426851,
          7.413817782235505,
          7.42211759304416,
          7.430417403852815,
          7.438717214661469,
          7.447017025470124,
          7.4553168362787785,
          7.4636166470874326,
          7.4719164578960875,
          7.480216268704742,
          7.4885160795133965,
          7.496815890322051,
          7.505115701130706,
          7.51341551193936,
          7.521715322748015,
          7.53001513355667,
          7.538314944365325,
          7.546614755173979,
          7.554914565982633,
          7.563214376791288,
          7.571514187599943,
          7.579813998408598,
          7.588113809217253,
          7.596413620025907,
          7.604713430834561,
          7.613013241643216,
          7.621313052451871,
          7.629612863260526,
          7.637912674069181,
          7.646212484877835,
          7.654512295686489,
          7.662812106495144,
          7.671111917303799,
          7.679411728112454,
          7.687711538921109,
          7.696011349729763,
          7.704311160538417,
          7.712610971347072,
          7.720910782155727,
          7.729210592964382,
          7.737510403773037,
          7.745810214581691,
          7.754110025390345,
          7.762409836199,
          7.770709647007655,
          7.77900945781631,
          7.7873092686249645,
          7.795609079433619,
          7.8039088902422735,
          7.812208701050928,
          7.8205085118595825,
          7.8288083226682375,
          7.837108133476892,
          7.845407944285546,
          7.8537077550942005,
          7.862007565902855,
          7.87030737671151,
          7.878607187520165,
          7.88690699832882,
          7.895206809137474,
          7.903506619946129,
          7.911806430754783,
          7.920106241563438,
          7.928406052372093,
          7.936705863180747,
          7.945005673989402,
          7.953305484798056,
          7.961605295606711,
          7.969905106415366,
          7.978204917224021,
          7.986504728032676,
          7.99480453884133,
          8.003104349649984,
          8.011404160458639,
          8.019703971267294,
          8.028003782075949,
          8.036303592884604,
          8.044603403693259,
          8.052903214501912,
          8.061203025310567,
          8.069502836119222,
          8.077802646927877,
          8.086102457736532,
          8.094402268545185,
          8.10270207935384,
          8.111001890162495,
          8.11930170097115,
          8.127601511779805,
          8.13590132258846,
          8.144201133397114,
          8.152500944205768,
          8.160800755014423,
          8.169100565823078,
          8.177400376631732,
          8.185700187440387,
          8.19399999824904,
          8.202299809057696,
          8.21059961986635,
          8.218899430675005,
          8.22719924148366,
          8.235499052292315,
          8.24379886310097,
          8.252098673909623,
          8.260398484718278,
          8.268698295526933,
          8.276998106335588,
          8.285297917144243,
          8.293597727952896,
          8.301897538761551,
          8.310197349570206,
          8.318497160378861,
          8.326796971187516,
          8.335096781996171,
          8.343396592804826,
          8.351696403613479,
          8.359996214422134,
          8.368296025230789,
          8.376595836039444,
          8.384895646848099,
          8.393195457656752,
          8.401495268465407,
          8.409795079274062,
          8.418094890082717,
          8.426394700891372,
          8.434694511700027,
          8.442994322508682,
          8.451294133317335,
          8.45959394412599,
          8.467893754934645,
          8.4761935657433,
          8.484493376551955,
          8.492793187360608,
          8.501092998169263,
          8.509392808977918,
          8.517692619786573,
          8.525992430595227,
          8.534292241403882,
          8.542592052212537,
          8.550891863021192,
          8.559191673829845,
          8.5674914846385,
          8.575791295447155,
          8.58409110625581,
          8.592390917064463,
          8.600690727873118,
          8.608990538681773,
          8.617290349490428,
          8.625590160299083,
          8.633889971107738,
          8.642189781916393,
          8.650489592725048,
          8.658789403533703,
          8.667089214342356,
          8.675389025151011,
          8.683688835959666,
          8.69198864676832,
          8.700288457576974,
          8.708588268385629,
          8.716888079194284,
          8.725187890002939,
          8.733487700811594,
          8.741787511620249,
          8.750087322428904,
          8.758387133237557,
          8.766686944046212,
          8.774986754854867,
          8.783286565663522,
          8.791586376472175,
          8.79988618728083,
          8.808185998089485,
          8.81648580889814,
          8.824785619706795,
          8.83308543051545,
          8.841385241324105,
          8.84968505213276,
          8.857984862941413,
          8.866284673750068,
          8.874584484558723,
          8.882884295367377,
          8.89118410617603,
          8.899483916984686,
          8.90778372779334,
          8.916083538601995,
          8.92438334941065,
          8.932683160219305,
          8.94098297102796,
          8.949282781836615,
          8.957582592645268,
          8.965882403453923,
          8.974182214262578,
          8.982482025071233,
          8.990781835879886,
          8.999081646688541,
          9.007381457497196,
          9.015681268305851,
          9.023981079114506,
          9.032280889923161,
          9.040580700731816,
          9.048880511540471,
          9.057180322349124,
          9.065480133157779,
          9.073779943966434,
          9.082079754775089,
          9.090379565583742,
          9.098679376392397,
          9.106979187201052,
          9.115278998009707,
          9.123578808818362,
          9.131878619627017,
          9.140178430435672,
          9.148478241244327,
          9.15677805205298,
          9.165077862861635,
          9.17337767367029,
          9.181677484478945,
          9.189977295287598,
          9.198277106096253,
          9.206576916904908,
          9.214876727713563,
          9.223176538522218,
          9.231476349330872,
          9.239776160139527,
          9.248075970948182,
          9.256375781756836,
          9.26467559256549,
          9.272975403374145,
          9.2812752141828,
          9.289575024991455,
          9.297874835800108,
          9.306174646608763,
          9.314474457417418,
          9.322774268226073,
          9.331074079034728,
          9.339373889843383,
          9.347673700652038,
          9.355973511460691,
          9.364273322269346,
          9.372573133078001,
          9.380872943886656,
          9.389172754695311,
          9.397472565503964,
          9.405772376312619,
          9.414072187121274,
          9.422371997929929,
          9.430671808738584,
          9.438971619547239,
          9.447271430355894,
          9.455571241164547,
          9.463871051973202,
          9.472170862781857,
          9.480470673590512,
          9.488770484399167,
          9.49707029520782,
          9.505370106016475,
          9.51366991682513,
          9.521969727633785,
          9.53026953844244,
          9.538569349251095,
          9.54686916005975,
          9.555168970868404,
          9.563468781677058,
          9.571768592485713,
          9.580068403294366,
          9.58836821410302,
          9.596668024911676,
          9.60496783572033,
          9.613267646528985,
          9.62156745733764,
          9.629867268146295,
          9.63816707895495,
          9.646466889763605,
          9.65476670057226,
          9.663066511380915
         ],
         "xaxis": "x",
         "y": {
          "bdata": "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",
          "dtype": "f8"
         },
         "yaxis": "y"
        },
        {
         "legendgroup": "Bad Credit",
         "marker": {
          "color": "rgb(255, 127, 14)"
         },
         "mode": "lines",
         "name": "Bad Credit",
         "showlegend": false,
         "type": "scatter",
         "x": [
          6.07073772800249,
          6.078239071429485,
          6.085740414856482,
          6.093241758283478,
          6.100743101710474,
          6.10824444513747,
          6.115745788564466,
          6.123247131991462,
          6.130748475418458,
          6.138249818845455,
          6.14575116227245,
          6.153252505699446,
          6.160753849126443,
          6.168255192553438,
          6.175756535980435,
          6.183257879407431,
          6.190759222834426,
          6.198260566261423,
          6.205761909688419,
          6.213263253115415,
          6.220764596542411,
          6.228265939969407,
          6.235767283396403,
          6.243268626823399,
          6.250769970250396,
          6.258271313677391,
          6.265772657104387,
          6.273274000531384,
          6.280775343958379,
          6.288276687385375,
          6.295778030812372,
          6.303279374239367,
          6.310780717666364,
          6.31828206109336,
          6.325783404520355,
          6.333284747947352,
          6.340786091374348,
          6.348287434801344,
          6.35578877822834,
          6.363290121655336,
          6.370791465082332,
          6.378292808509328,
          6.385794151936325,
          6.39329549536332,
          6.400796838790316,
          6.408298182217313,
          6.415799525644308,
          6.423300869071305,
          6.430802212498301,
          6.438303555925296,
          6.445804899352293,
          6.453306242779289,
          6.460807586206285,
          6.468308929633281,
          6.475810273060277,
          6.483311616487273,
          6.490812959914269,
          6.498314303341266,
          6.505815646768261,
          6.513316990195257,
          6.520818333622254,
          6.528319677049249,
          6.535821020476245,
          6.543322363903242,
          6.550823707330237,
          6.558325050757234,
          6.56582639418423,
          6.573327737611226,
          6.580829081038222,
          6.588330424465218,
          6.595831767892214,
          6.60333311131921,
          6.610834454746206,
          6.618335798173202,
          6.625837141600198,
          6.633338485027195,
          6.64083982845419,
          6.648341171881187,
          6.655842515308183,
          6.663343858735178,
          6.670845202162175,
          6.678346545589171,
          6.685847889016166,
          6.693349232443163,
          6.700850575870159,
          6.708351919297155,
          6.715853262724151,
          6.7233546061511476,
          6.730855949578143,
          6.738357293005139,
          6.745858636432136,
          6.753359979859131,
          6.760861323286127,
          6.768362666713124,
          6.775864010140119,
          6.783365353567116,
          6.790866696994112,
          6.798368040421107,
          6.805869383848104,
          6.8133707272751,
          6.820872070702096,
          6.828373414129092,
          6.835874757556088,
          6.843376100983084,
          6.85087744441008,
          6.858378787837076,
          6.865880131264072,
          6.873381474691068,
          6.880882818118065,
          6.88838416154506,
          6.895885504972057,
          6.903386848399053,
          6.910888191826048,
          6.918389535253045,
          6.925890878680041,
          6.933392222107036,
          6.940893565534033,
          6.948394908961029,
          6.955896252388025,
          6.963397595815021,
          6.9708989392420175,
          6.978400282669013,
          6.985901626096009,
          6.9934029695230056,
          7.000904312950001,
          7.008405656376997,
          7.015906999803994,
          7.023408343230989,
          7.030909686657986,
          7.038411030084982,
          7.045912373511978,
          7.053413716938974,
          7.06091506036597,
          7.068416403792966,
          7.075917747219962,
          7.083419090646958,
          7.090920434073954,
          7.09842177750095,
          7.1059231209279465,
          7.113424464354942,
          7.120925807781938,
          7.1284271512089346,
          7.13592849463593,
          7.143429838062927,
          7.150931181489923,
          7.158432524916918,
          7.165933868343915,
          7.173435211770911,
          7.180936555197906,
          7.188437898624903,
          7.1959392420518995,
          7.203440585478895,
          7.210941928905891,
          7.2184432723328875,
          7.225944615759883,
          7.233445959186879,
          7.2409473026138755,
          7.248448646040871,
          7.255949989467868,
          7.2634513328948636,
          7.270952676321859,
          7.278454019748856,
          7.285955363175852,
          7.293456706602848,
          7.300958050029844,
          7.30845939345684,
          7.315960736883836,
          7.323462080310832,
          7.330963423737828,
          7.338464767164824,
          7.34596611059182,
          7.3534674540188165,
          7.360968797445812,
          7.368470140872809,
          7.3759714842998045,
          7.3834728277268,
          7.390974171153797,
          7.3984755145807926,
          7.405976858007788,
          7.413478201434785,
          7.4209795448617815,
          7.428480888288777,
          7.435982231715773,
          7.443483575142769,
          7.450984918569765,
          7.458486261996761,
          7.4659876054237575,
          7.473488948850753,
          7.480990292277749,
          7.4884916357047455,
          7.495992979131741,
          7.503494322558737,
          7.5109956659857335,
          7.51849700941273,
          7.525998352839726,
          7.533499696266722,
          7.541001039693718,
          7.548502383120714,
          7.55600372654771,
          7.563505069974706,
          7.571006413401702,
          7.5785077568286985,
          7.586009100255694,
          7.59351044368269,
          7.6010117871096865,
          7.608513130536682,
          7.616014473963679,
          7.6235158173906745,
          7.63101716081767,
          7.638518504244667,
          7.6460198476716625,
          7.653521191098658,
          7.661022534525655,
          7.668523877952651,
          7.676025221379647,
          7.683526564806643,
          7.6910279082336395,
          7.698529251660635,
          7.706030595087631,
          7.7135319385146275,
          7.721033281941623,
          7.728534625368619,
          7.7360359687956155,
          7.743537312222612,
          7.751038655649608,
          7.7585399990766035,
          7.7660413425036,
          7.773542685930596,
          7.7810440293575915,
          7.788545372784588,
          7.796046716211584,
          7.80354805963858,
          7.811049403065576,
          7.818550746492572,
          7.8260520899195685,
          7.833553433346564,
          7.841054776773561,
          7.8485561202005565,
          7.856057463627552,
          7.863558807054549,
          7.8710601504815445,
          7.87856149390854,
          7.886062837335537,
          7.8935641807625325,
          7.901065524189529,
          7.908566867616525,
          7.9160682110435205,
          7.923569554470517,
          7.931070897897513,
          7.9385722413245094,
          7.946073584751505,
          7.953574928178501,
          7.9610762716054975,
          7.968577615032493,
          7.976078958459489,
          7.9835803018864855,
          7.991081645313482,
          7.998582988740478,
          8.006084332167474,
          8.01358567559447,
          8.021087019021465,
          8.028588362448462,
          8.036089705875458,
          8.043591049302455,
          8.05109239272945,
          8.058593736156446,
          8.066095079583443,
          8.073596423010438,
          8.081097766437434,
          8.08859910986443,
          8.096100453291427,
          8.103601796718422,
          8.111103140145419,
          8.118604483572415,
          8.12610582699941,
          8.133607170426407,
          8.141108513853403,
          8.148609857280398,
          8.156111200707395,
          8.163612544134391,
          8.171113887561386,
          8.178615230988383,
          8.18611657441538,
          8.193617917842374,
          8.20111926126937,
          8.208620604696367,
          8.216121948123362,
          8.22362329155036,
          8.231124634977355,
          8.238625978404352,
          8.246127321831347,
          8.253628665258343,
          8.26113000868534,
          8.268631352112337,
          8.276132695539332,
          8.283634038966328,
          8.291135382393325,
          8.29863672582032,
          8.306138069247316,
          8.313639412674313,
          8.321140756101308,
          8.328642099528304,
          8.3361434429553,
          8.343644786382296,
          8.351146129809292,
          8.358647473236289,
          8.366148816663285,
          8.37365016009028,
          8.381151503517277,
          8.388652846944272,
          8.39615419037127,
          8.403655533798265,
          8.411156877225261,
          8.418658220652258,
          8.426159564079253,
          8.43366090750625,
          8.441162250933246,
          8.44866359436024,
          8.456164937787237,
          8.463666281214234,
          8.471167624641229,
          8.478668968068225,
          8.486170311495222,
          8.493671654922217,
          8.501172998349213,
          8.50867434177621,
          8.516175685203205,
          8.523677028630201,
          8.531178372057198,
          8.538679715484195,
          8.54618105891119,
          8.553682402338186,
          8.561183745765183,
          8.56868508919218,
          8.576186432619174,
          8.58368777604617,
          8.591189119473167,
          8.598690462900162,
          8.606191806327159,
          8.613693149754155,
          8.62119449318115,
          8.628695836608147,
          8.636197180035143,
          8.643698523462138,
          8.651199866889135,
          8.658701210316131,
          8.666202553743126,
          8.673703897170123,
          8.68120524059712,
          8.688706584024114,
          8.69620792745111,
          8.703709270878107,
          8.711210614305104,
          8.718711957732099,
          8.726213301159095,
          8.733714644586092,
          8.741215988013089,
          8.748717331440083,
          8.75621867486708,
          8.763720018294077,
          8.771221361721071,
          8.778722705148068,
          8.786224048575065,
          8.79372539200206,
          8.801226735429056,
          8.808728078856053,
          8.816229422283048,
          8.823730765710044,
          8.83123210913704,
          8.838733452564036,
          8.846234795991032,
          8.853736139418029,
          8.861237482845024,
          8.868738826272022,
          8.876240169699017,
          8.883741513126013,
          8.89124285655301,
          8.898744199980005,
          8.906245543407001,
          8.913746886833998,
          8.921248230260993,
          8.92874957368799,
          8.936250917114986,
          8.94375226054198,
          8.951253603968977,
          8.958754947395974,
          8.966256290822969,
          8.973757634249965,
          8.981258977676962,
          8.988760321103957,
          8.996261664530953,
          9.00376300795795,
          9.011264351384947,
          9.018765694811941,
          9.026267038238938,
          9.033768381665935,
          9.041269725092931,
          9.048771068519926,
          9.056272411946923,
          9.06377375537392,
          9.071275098800914,
          9.07877644222791,
          9.086277785654907,
          9.093779129081902,
          9.101280472508899,
          9.108781815935895,
          9.11628315936289,
          9.123784502789887,
          9.131285846216883,
          9.138787189643878,
          9.146288533070875,
          9.153789876497871,
          9.161291219924866,
          9.168792563351863,
          9.17629390677886,
          9.183795250205856,
          9.19129659363285,
          9.198797937059847,
          9.206299280486844,
          9.21380062391384,
          9.221301967340835,
          9.228803310767832,
          9.236304654194829,
          9.243805997621823,
          9.25130734104882,
          9.258808684475817,
          9.266310027902811,
          9.273811371329808,
          9.281312714756805,
          9.2888140581838,
          9.296315401610796,
          9.303816745037793,
          9.311318088464787,
          9.318819431891784,
          9.32632077531878,
          9.333822118745775,
          9.341323462172774,
          9.348824805599769,
          9.356326149026765,
          9.36382749245376,
          9.371328835880757,
          9.378830179307753,
          9.38633152273475,
          9.393832866161745,
          9.401334209588741,
          9.408835553015738,
          9.416336896442733,
          9.42383823986973,
          9.431339583296726,
          9.43884092672372,
          9.446342270150717,
          9.453843613577714,
          9.461344957004709,
          9.468846300431705,
          9.476347643858702,
          9.483848987285699,
          9.491350330712693,
          9.49885167413969,
          9.506353017566685,
          9.513854360993683,
          9.521355704420678,
          9.528857047847675,
          9.536358391274671,
          9.543859734701666,
          9.551361078128663,
          9.55886242155566,
          9.566363764982654,
          9.57386510840965,
          9.581366451836647,
          9.588867795263642,
          9.596369138690639,
          9.603870482117635,
          9.61137182554463,
          9.618873168971627,
          9.626374512398623,
          9.633875855825618,
          9.641377199252615,
          9.648878542679611,
          9.656379886106608,
          9.663881229533603,
          9.6713825729606,
          9.678883916387596,
          9.686385259814593,
          9.693886603241587,
          9.701387946668584,
          9.70888929009558,
          9.716390633522575,
          9.723891976949572,
          9.731393320376569,
          9.738894663803563,
          9.74639600723056,
          9.753897350657557,
          9.761398694084551,
          9.768900037511548,
          9.776401380938545,
          9.78390272436554,
          9.791404067792536,
          9.798905411219533,
          9.806406754646527,
          9.813908098073524
         ],
         "xaxis": "x",
         "y": {
          "bdata": "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",
          "dtype": "f8"
         },
         "yaxis": "y"
        },
        {
         "legendgroup": "Good Credit",
         "marker": {
          "color": "rgb(31, 119, 180)",
          "symbol": "line-ns-open"
         },
         "mode": "markers",
         "name": "Good Credit",
         "showlegend": false,
         "type": "scatter",
         "x": {
          "bdata": "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",
          "dtype": "f8"
         },
         "xaxis": "x",
         "y": [
          "Good Credit",
          "Good Credit",
          "Good Credit",
          "Good Credit",
          "Good Credit",
          "Good Credit",
          "Good Credit",
          "Good Credit",
          "Good Credit",
          "Good Credit",
          "Good Credit",
          "Good Credit",
          "Good Credit",
          "Good Credit",
          "Good Credit",
          "Good Credit",
          "Good Credit",
          "Good Credit",
          "Good Credit",
          "Good Credit",
          "Good Credit",
          "Good Credit",
          "Good Credit",
          "Good Credit",
          "Good Credit",
          "Good Credit",
          "Good Credit",
          "Good Credit",
          "Good Credit",
          "Good Credit",
          "Good Credit",
          "Good Credit",
          "Good Credit",
          "Good Credit",
          "Good Credit",
          "Good Credit",
          "Good Credit",
          "Good Credit",
          "Good Credit",
          "Good Credit",
          "Good Credit",
          "Good Credit",
          "Good Credit",
          "Good Credit",
          "Good Credit",
          "Good Credit",
          "Good Credit",
          "Good Credit",
          "Good Credit",
          "Good Credit",
          "Good Credit",
          "Good Credit",
          "Good Credit",
          "Good Credit",
          "Good Credit",
          "Good Credit",
          "Good Credit",
          "Good Credit",
          "Good Credit",
          "Good Credit",
          "Good Credit",
          "Good Credit",
          "Good Credit",
          "Good Credit",
          "Good Credit",
          "Good Credit",
          "Good Credit",
          "Good Credit",
          "Good Credit",
          "Good Credit",
          "Good Credit",
          "Good Credit",
          "Good Credit",
          "Good Credit",
          "Good Credit",
          "Good Credit",
          "Good Credit",
          "Good Credit",
          "Good Credit",
          "Good Credit",
          "Good Credit",
          "Good Credit",
          "Good Credit",
          "Good Credit",
          "Good Credit",
          "Good Credit",
          "Good Credit",
          "Good Credit",
          "Good Credit",
          "Good Credit",
          "Good Credit",
          "Good Credit",
          "Good Credit",
          "Good Credit",
          "Good Credit",
          "Good Credit",
          "Good Credit",
          "Good Credit",
          "Good Credit",
          "Good Credit",
          "Good Credit",
          "Good Credit",
          "Good Credit",
          "Good Credit",
          "Good Credit",
          "Good Credit",
          "Good Credit",
          "Good Credit",
          "Good Credit",
          "Good Credit",
          "Good Credit",
          "Good Credit",
          "Good Credit",
          "Good Credit",
          "Good Credit",
          "Good Credit",
          "Good Credit",
          "Good Credit",
          "Good Credit",
          "Good Credit",
          "Good Credit",
          "Good Credit",
          "Good Credit",
          "Good Credit",
          "Good Credit",
          "Good Credit",
          "Good Credit",
          "Good Credit",
          "Good Credit",
          "Good Credit",
          "Good Credit",
          "Good Credit",
          "Good Credit",
          "Good Credit",
          "Good Credit",
          "Good Credit",
          "Good Credit",
          "Good Credit",
          "Good Credit",
          "Good Credit",
          "Good Credit",
          "Good Credit",
          "Good Credit",
          "Good Credit",
          "Good Credit",
          "Good Credit",
          "Good Credit",
          "Good Credit",
          "Good Credit",
          "Good Credit",
          "Good Credit",
          "Good Credit",
          "Good Credit",
          "Good Credit",
          "Good Credit",
          "Good Credit",
          "Good Credit",
          "Good Credit",
          "Good Credit",
          "Good Credit",
          "Good Credit",
          "Good Credit",
          "Good Credit",
          "Good Credit",
          "Good Credit",
          "Good Credit",
          "Good Credit",
          "Good Credit",
          "Good Credit",
          "Good Credit",
          "Good Credit",
          "Good Credit",
          "Good Credit",
          "Good Credit",
          "Good Credit",
          "Good Credit",
          "Good Credit",
          "Good Credit",
          "Good Credit",
          "Good Credit",
          "Good Credit",
          "Good Credit",
          "Good Credit",
          "Good Credit",
          "Good Credit",
          "Good Credit",
          "Good Credit",
          "Good Credit",
          "Good Credit",
          "Good Credit",
          "Good Credit",
          "Good Credit",
          "Good Credit",
          "Good Credit",
          "Good Credit",
          "Good Credit",
          "Good Credit",
          "Good Credit",
          "Good Credit",
          "Good Credit",
          "Good Credit",
          "Good Credit",
          "Good Credit",
          "Good Credit",
          "Good Credit",
          "Good Credit",
          "Good Credit",
          "Good Credit",
          "Good Credit",
          "Good Credit",
          "Good Credit",
          "Good Credit",
          "Good Credit",
          "Good Credit",
          "Good Credit",
          "Good Credit",
          "Good Credit",
          "Good Credit",
          "Good Credit",
          "Good Credit",
          "Good Credit",
          "Good Credit",
          "Good Credit",
          "Good Credit",
          "Good Credit",
          "Good Credit",
          "Good Credit",
          "Good Credit",
          "Good Credit",
          "Good Credit",
          "Good Credit",
          "Good Credit",
          "Good Credit",
          "Good Credit",
          "Good Credit",
          "Good Credit",
          "Good Credit",
          "Good Credit",
          "Good Credit",
          "Good Credit",
          "Good Credit",
          "Good Credit",
          "Good Credit",
          "Good Credit",
          "Good Credit",
          "Good Credit",
          "Good Credit",
          "Good Credit",
          "Good Credit",
          "Good Credit",
          "Good Credit",
          "Good Credit",
          "Good Credit",
          "Good Credit",
          "Good Credit",
          "Good Credit",
          "Good Credit",
          "Good Credit",
          "Good Credit",
          "Good Credit",
          "Good Credit",
          "Good Credit",
          "Good Credit",
          "Good Credit",
          "Good Credit",
          "Good Credit",
          "Good Credit",
          "Good Credit",
          "Good Credit",
          "Good Credit",
          "Good Credit",
          "Good Credit",
          "Good Credit",
          "Good Credit",
          "Good Credit",
          "Good Credit",
          "Good Credit",
          "Good Credit",
          "Good Credit",
          "Good Credit",
          "Good Credit",
          "Good Credit",
          "Good Credit",
          "Good Credit",
          "Good Credit",
          "Good Credit",
          "Good Credit",
          "Good Credit",
          "Good Credit",
          "Good Credit",
          "Good Credit",
          "Good Credit",
          "Good Credit",
          "Good Credit",
          "Good Credit",
          "Good Credit",
          "Good Credit",
          "Good Credit",
          "Good Credit",
          "Good Credit",
          "Good Credit",
          "Good Credit",
          "Good Credit",
          "Good Credit",
          "Good Credit",
          "Good Credit",
          "Good Credit",
          "Good Credit",
          "Good Credit",
          "Good Credit",
          "Good Credit",
          "Good Credit",
          "Good Credit",
          "Good Credit",
          "Good Credit",
          "Good Credit",
          "Good Credit",
          "Good Credit",
          "Good Credit",
          "Good Credit",
          "Good Credit",
          "Good Credit",
          "Good Credit",
          "Good Credit",
          "Good Credit",
          "Good Credit",
          "Good Credit",
          "Good Credit",
          "Good Credit",
          "Good Credit",
          "Good Credit",
          "Good Credit",
          "Good Credit",
          "Good Credit",
          "Good Credit",
          "Good Credit",
          "Good Credit",
          "Good Credit",
          "Good Credit",
          "Good Credit",
          "Good Credit",
          "Good Credit",
          "Good Credit",
          "Good Credit",
          "Good Credit",
          "Good Credit",
          "Good Credit",
          "Good Credit",
          "Good Credit",
          "Good Credit",
          "Good Credit",
          "Good Credit",
          "Good Credit",
          "Good Credit",
          "Good Credit",
          "Good Credit",
          "Good Credit",
          "Good Credit",
          "Good Credit",
          "Good Credit",
          "Good Credit",
          "Good Credit",
          "Good Credit",
          "Good Credit",
          "Good Credit",
          "Good Credit",
          "Good Credit",
          "Good Credit",
          "Good Credit",
          "Good Credit",
          "Good Credit",
          "Good Credit",
          "Good Credit",
          "Good Credit",
          "Good Credit",
          "Good Credit",
          "Good Credit",
          "Good Credit",
          "Good Credit",
          "Good Credit",
          "Good Credit",
          "Good Credit",
          "Good Credit",
          "Good Credit",
          "Good Credit",
          "Good Credit",
          "Good Credit",
          "Good Credit",
          "Good Credit",
          "Good Credit",
          "Good Credit",
          "Good Credit",
          "Good Credit",
          "Good Credit",
          "Good Credit",
          "Good Credit",
          "Good Credit",
          "Good Credit",
          "Good Credit",
          "Good Credit",
          "Good Credit",
          "Good Credit",
          "Good Credit",
          "Good Credit",
          "Good Credit",
          "Good Credit",
          "Good Credit",
          "Good Credit",
          "Good Credit",
          "Good Credit",
          "Good Credit",
          "Good Credit",
          "Good Credit",
          "Good Credit",
          "Good Credit",
          "Good Credit",
          "Good Credit",
          "Good Credit",
          "Good Credit",
          "Good Credit",
          "Good Credit",
          "Good Credit",
          "Good Credit",
          "Good Credit",
          "Good Credit",
          "Good Credit",
          "Good Credit",
          "Good Credit",
          "Good Credit",
          "Good Credit",
          "Good Credit",
          "Good Credit",
          "Good Credit",
          "Good Credit",
          "Good Credit",
          "Good Credit",
          "Good Credit",
          "Good Credit",
          "Good Credit",
          "Good Credit",
          "Good Credit",
          "Good Credit",
          "Good Credit",
          "Good Credit",
          "Good Credit",
          "Good Credit",
          "Good Credit",
          "Good Credit",
          "Good Credit",
          "Good Credit",
          "Good Credit",
          "Good Credit",
          "Good Credit",
          "Good Credit",
          "Good Credit",
          "Good Credit",
          "Good Credit",
          "Good Credit",
          "Good Credit",
          "Good Credit",
          "Good Credit",
          "Good Credit",
          "Good Credit",
          "Good Credit",
          "Good Credit",
          "Good Credit",
          "Good Credit",
          "Good Credit",
          "Good Credit",
          "Good Credit",
          "Good Credit",
          "Good Credit",
          "Good Credit",
          "Good Credit",
          "Good Credit",
          "Good Credit",
          "Good Credit",
          "Good Credit",
          "Good Credit",
          "Good Credit",
          "Good Credit",
          "Good Credit",
          "Good Credit",
          "Good Credit",
          "Good Credit",
          "Good Credit",
          "Good Credit",
          "Good Credit",
          "Good Credit",
          "Good Credit",
          "Good Credit",
          "Good Credit",
          "Good Credit",
          "Good Credit",
          "Good Credit",
          "Good Credit",
          "Good Credit",
          "Good Credit",
          "Good Credit",
          "Good Credit",
          "Good Credit",
          "Good Credit",
          "Good Credit",
          "Good Credit",
          "Good Credit",
          "Good Credit",
          "Good Credit",
          "Good Credit",
          "Good Credit",
          "Good Credit",
          "Good Credit",
          "Good Credit",
          "Good Credit",
          "Good Credit",
          "Good Credit",
          "Good Credit",
          "Good Credit",
          "Good Credit",
          "Good Credit",
          "Good Credit",
          "Good Credit",
          "Good Credit",
          "Good Credit",
          "Good Credit",
          "Good Credit",
          "Good Credit",
          "Good Credit",
          "Good Credit",
          "Good Credit",
          "Good Credit",
          "Good Credit",
          "Good Credit",
          "Good Credit",
          "Good Credit",
          "Good Credit",
          "Good Credit",
          "Good Credit",
          "Good Credit",
          "Good Credit",
          "Good Credit",
          "Good Credit",
          "Good Credit",
          "Good Credit",
          "Good Credit",
          "Good Credit",
          "Good Credit",
          "Good Credit",
          "Good Credit",
          "Good Credit",
          "Good Credit",
          "Good Credit",
          "Good Credit",
          "Good Credit",
          "Good Credit",
          "Good Credit",
          "Good Credit",
          "Good Credit",
          "Good Credit",
          "Good Credit",
          "Good Credit",
          "Good Credit",
          "Good Credit",
          "Good Credit",
          "Good Credit",
          "Good Credit",
          "Good Credit",
          "Good Credit",
          "Good Credit",
          "Good Credit",
          "Good Credit",
          "Good Credit",
          "Good Credit",
          "Good Credit",
          "Good Credit",
          "Good Credit",
          "Good Credit",
          "Good Credit",
          "Good Credit",
          "Good Credit",
          "Good Credit",
          "Good Credit",
          "Good Credit",
          "Good Credit",
          "Good Credit",
          "Good Credit",
          "Good Credit",
          "Good Credit",
          "Good Credit",
          "Good Credit",
          "Good Credit",
          "Good Credit",
          "Good Credit",
          "Good Credit",
          "Good Credit",
          "Good Credit",
          "Good Credit",
          "Good Credit",
          "Good Credit",
          "Good Credit",
          "Good Credit",
          "Good Credit",
          "Good Credit",
          "Good Credit",
          "Good Credit",
          "Good Credit",
          "Good Credit",
          "Good Credit",
          "Good Credit",
          "Good Credit",
          "Good Credit",
          "Good Credit",
          "Good Credit",
          "Good Credit",
          "Good Credit",
          "Good Credit",
          "Good Credit",
          "Good Credit",
          "Good Credit",
          "Good Credit",
          "Good Credit",
          "Good Credit",
          "Good Credit",
          "Good Credit",
          "Good Credit",
          "Good Credit",
          "Good Credit",
          "Good Credit",
          "Good Credit",
          "Good Credit",
          "Good Credit",
          "Good Credit",
          "Good Credit",
          "Good Credit",
          "Good Credit",
          "Good Credit",
          "Good Credit",
          "Good Credit",
          "Good Credit",
          "Good Credit",
          "Good Credit",
          "Good Credit",
          "Good Credit",
          "Good Credit",
          "Good Credit",
          "Good Credit",
          "Good Credit",
          "Good Credit",
          "Good Credit",
          "Good Credit",
          "Good Credit",
          "Good Credit",
          "Good Credit",
          "Good Credit",
          "Good Credit",
          "Good Credit",
          "Good Credit",
          "Good Credit",
          "Good Credit",
          "Good Credit",
          "Good Credit",
          "Good Credit",
          "Good Credit",
          "Good Credit",
          "Good Credit",
          "Good Credit",
          "Good Credit",
          "Good Credit",
          "Good Credit",
          "Good Credit",
          "Good Credit",
          "Good Credit",
          "Good Credit",
          "Good Credit",
          "Good Credit",
          "Good Credit",
          "Good Credit",
          "Good Credit",
          "Good Credit",
          "Good Credit",
          "Good Credit",
          "Good Credit",
          "Good Credit",
          "Good Credit",
          "Good Credit",
          "Good Credit",
          "Good Credit",
          "Good Credit",
          "Good Credit",
          "Good Credit",
          "Good Credit",
          "Good Credit",
          "Good Credit",
          "Good Credit",
          "Good Credit",
          "Good Credit",
          "Good Credit",
          "Good Credit",
          "Good Credit",
          "Good Credit",
          "Good Credit"
         ],
         "yaxis": "y2"
        },
        {
         "legendgroup": "Bad Credit",
         "marker": {
          "color": "rgb(255, 127, 14)",
          "symbol": "line-ns-open"
         },
         "mode": "markers",
         "name": "Bad Credit",
         "showlegend": false,
         "type": "scatter",
         "x": {
          "bdata": "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",
          "dtype": "f8"
         },
         "xaxis": "x",
         "y": [
          "Bad Credit",
          "Bad Credit",
          "Bad Credit",
          "Bad Credit",
          "Bad Credit",
          "Bad Credit",
          "Bad Credit",
          "Bad Credit",
          "Bad Credit",
          "Bad Credit",
          "Bad Credit",
          "Bad Credit",
          "Bad Credit",
          "Bad Credit",
          "Bad Credit",
          "Bad Credit",
          "Bad Credit",
          "Bad Credit",
          "Bad Credit",
          "Bad Credit",
          "Bad Credit",
          "Bad Credit",
          "Bad Credit",
          "Bad Credit",
          "Bad Credit",
          "Bad Credit",
          "Bad Credit",
          "Bad Credit",
          "Bad Credit",
          "Bad Credit",
          "Bad Credit",
          "Bad Credit",
          "Bad Credit",
          "Bad Credit",
          "Bad Credit",
          "Bad Credit",
          "Bad Credit",
          "Bad Credit",
          "Bad Credit",
          "Bad Credit",
          "Bad Credit",
          "Bad Credit",
          "Bad Credit",
          "Bad Credit",
          "Bad Credit",
          "Bad Credit",
          "Bad Credit",
          "Bad Credit",
          "Bad Credit",
          "Bad Credit",
          "Bad Credit",
          "Bad Credit",
          "Bad Credit",
          "Bad Credit",
          "Bad Credit",
          "Bad Credit",
          "Bad Credit",
          "Bad Credit",
          "Bad Credit",
          "Bad Credit",
          "Bad Credit",
          "Bad Credit",
          "Bad Credit",
          "Bad Credit",
          "Bad Credit",
          "Bad Credit",
          "Bad Credit",
          "Bad Credit",
          "Bad Credit",
          "Bad Credit",
          "Bad Credit",
          "Bad Credit",
          "Bad Credit",
          "Bad Credit",
          "Bad Credit",
          "Bad Credit",
          "Bad Credit",
          "Bad Credit",
          "Bad Credit",
          "Bad Credit",
          "Bad Credit",
          "Bad Credit",
          "Bad Credit",
          "Bad Credit",
          "Bad Credit",
          "Bad Credit",
          "Bad Credit",
          "Bad Credit",
          "Bad Credit",
          "Bad Credit",
          "Bad Credit",
          "Bad Credit",
          "Bad Credit",
          "Bad Credit",
          "Bad Credit",
          "Bad Credit",
          "Bad Credit",
          "Bad Credit",
          "Bad Credit",
          "Bad Credit",
          "Bad Credit",
          "Bad Credit",
          "Bad Credit",
          "Bad Credit",
          "Bad Credit",
          "Bad Credit",
          "Bad Credit",
          "Bad Credit",
          "Bad Credit",
          "Bad Credit",
          "Bad Credit",
          "Bad Credit",
          "Bad Credit",
          "Bad Credit",
          "Bad Credit",
          "Bad Credit",
          "Bad Credit",
          "Bad Credit",
          "Bad Credit",
          "Bad Credit",
          "Bad Credit",
          "Bad Credit",
          "Bad Credit",
          "Bad Credit",
          "Bad Credit",
          "Bad Credit",
          "Bad Credit",
          "Bad Credit",
          "Bad Credit",
          "Bad Credit",
          "Bad Credit",
          "Bad Credit",
          "Bad Credit",
          "Bad Credit",
          "Bad Credit",
          "Bad Credit",
          "Bad Credit",
          "Bad Credit",
          "Bad Credit",
          "Bad Credit",
          "Bad Credit",
          "Bad Credit",
          "Bad Credit",
          "Bad Credit",
          "Bad Credit",
          "Bad Credit",
          "Bad Credit",
          "Bad Credit",
          "Bad Credit",
          "Bad Credit",
          "Bad Credit",
          "Bad Credit",
          "Bad Credit",
          "Bad Credit",
          "Bad Credit",
          "Bad Credit",
          "Bad Credit",
          "Bad Credit",
          "Bad Credit",
          "Bad Credit",
          "Bad Credit",
          "Bad Credit",
          "Bad Credit",
          "Bad Credit",
          "Bad Credit",
          "Bad Credit",
          "Bad Credit",
          "Bad Credit",
          "Bad Credit",
          "Bad Credit",
          "Bad Credit",
          "Bad Credit",
          "Bad Credit",
          "Bad Credit",
          "Bad Credit",
          "Bad Credit",
          "Bad Credit",
          "Bad Credit",
          "Bad Credit",
          "Bad Credit",
          "Bad Credit",
          "Bad Credit",
          "Bad Credit",
          "Bad Credit",
          "Bad Credit",
          "Bad Credit",
          "Bad Credit",
          "Bad Credit",
          "Bad Credit",
          "Bad Credit",
          "Bad Credit",
          "Bad Credit",
          "Bad Credit",
          "Bad Credit",
          "Bad Credit",
          "Bad Credit",
          "Bad Credit",
          "Bad Credit",
          "Bad Credit",
          "Bad Credit",
          "Bad Credit",
          "Bad Credit",
          "Bad Credit",
          "Bad Credit",
          "Bad Credit",
          "Bad Credit",
          "Bad Credit",
          "Bad Credit",
          "Bad Credit",
          "Bad Credit",
          "Bad Credit",
          "Bad Credit",
          "Bad Credit",
          "Bad Credit",
          "Bad Credit",
          "Bad Credit",
          "Bad Credit",
          "Bad Credit",
          "Bad Credit",
          "Bad Credit",
          "Bad Credit",
          "Bad Credit",
          "Bad Credit",
          "Bad Credit",
          "Bad Credit",
          "Bad Credit",
          "Bad Credit",
          "Bad Credit",
          "Bad Credit",
          "Bad Credit",
          "Bad Credit",
          "Bad Credit",
          "Bad Credit",
          "Bad Credit",
          "Bad Credit",
          "Bad Credit",
          "Bad Credit",
          "Bad Credit",
          "Bad Credit",
          "Bad Credit",
          "Bad Credit",
          "Bad Credit",
          "Bad Credit",
          "Bad Credit",
          "Bad Credit",
          "Bad Credit",
          "Bad Credit",
          "Bad Credit",
          "Bad Credit",
          "Bad Credit",
          "Bad Credit",
          "Bad Credit",
          "Bad Credit",
          "Bad Credit",
          "Bad Credit",
          "Bad Credit",
          "Bad Credit",
          "Bad Credit",
          "Bad Credit",
          "Bad Credit",
          "Bad Credit",
          "Bad Credit",
          "Bad Credit",
          "Bad Credit",
          "Bad Credit",
          "Bad Credit",
          "Bad Credit",
          "Bad Credit",
          "Bad Credit",
          "Bad Credit",
          "Bad Credit",
          "Bad Credit",
          "Bad Credit",
          "Bad Credit",
          "Bad Credit",
          "Bad Credit",
          "Bad Credit",
          "Bad Credit",
          "Bad Credit",
          "Bad Credit",
          "Bad Credit",
          "Bad Credit",
          "Bad Credit",
          "Bad Credit",
          "Bad Credit",
          "Bad Credit",
          "Bad Credit",
          "Bad Credit",
          "Bad Credit",
          "Bad Credit",
          "Bad Credit",
          "Bad Credit",
          "Bad Credit",
          "Bad Credit",
          "Bad Credit",
          "Bad Credit",
          "Bad Credit",
          "Bad Credit",
          "Bad Credit",
          "Bad Credit"
         ],
         "yaxis": "y2"
        }
       ],
       "layout": {
        "barmode": "overlay",
        "hovermode": "closest",
        "legend": {
         "traceorder": "reversed"
        },
        "template": {
         "data": {
          "bar": [
           {
            "error_x": {
             "color": "#2a3f5f"
            },
            "error_y": {
             "color": "#2a3f5f"
            },
            "marker": {
             "line": {
              "color": "#E5ECF6",
              "width": 0.5
             },
             "pattern": {
              "fillmode": "overlay",
              "size": 10,
              "solidity": 0.2
             }
            },
            "type": "bar"
           }
          ],
          "barpolar": [
           {
            "marker": {
             "line": {
              "color": "#E5ECF6",
              "width": 0.5
             },
             "pattern": {
              "fillmode": "overlay",
              "size": 10,
              "solidity": 0.2
             }
            },
            "type": "barpolar"
           }
          ],
          "carpet": [
           {
            "aaxis": {
             "endlinecolor": "#2a3f5f",
             "gridcolor": "white",
             "linecolor": "white",
             "minorgridcolor": "white",
             "startlinecolor": "#2a3f5f"
            },
            "baxis": {
             "endlinecolor": "#2a3f5f",
             "gridcolor": "white",
             "linecolor": "white",
             "minorgridcolor": "white",
             "startlinecolor": "#2a3f5f"
            },
            "type": "carpet"
           }
          ],
          "choropleth": [
           {
            "colorbar": {
             "outlinewidth": 0,
             "ticks": ""
            },
            "type": "choropleth"
           }
          ],
          "contour": [
           {
            "colorbar": {
             "outlinewidth": 0,
             "ticks": ""
            },
            "colorscale": [
             [
              0,
              "#0d0887"
             ],
             [
              0.1111111111111111,
              "#46039f"
             ],
             [
              0.2222222222222222,
              "#7201a8"
             ],
             [
              0.3333333333333333,
              "#9c179e"
             ],
             [
              0.4444444444444444,
              "#bd3786"
             ],
             [
              0.5555555555555556,
              "#d8576b"
             ],
             [
              0.6666666666666666,
              "#ed7953"
             ],
             [
              0.7777777777777778,
              "#fb9f3a"
             ],
             [
              0.8888888888888888,
              "#fdca26"
             ],
             [
              1,
              "#f0f921"
             ]
            ],
            "type": "contour"
           }
          ],
          "contourcarpet": [
           {
            "colorbar": {
             "outlinewidth": 0,
             "ticks": ""
            },
            "type": "contourcarpet"
           }
          ],
          "heatmap": [
           {
            "colorbar": {
             "outlinewidth": 0,
             "ticks": ""
            },
            "colorscale": [
             [
              0,
              "#0d0887"
             ],
             [
              0.1111111111111111,
              "#46039f"
             ],
             [
              0.2222222222222222,
              "#7201a8"
             ],
             [
              0.3333333333333333,
              "#9c179e"
             ],
             [
              0.4444444444444444,
              "#bd3786"
             ],
             [
              0.5555555555555556,
              "#d8576b"
             ],
             [
              0.6666666666666666,
              "#ed7953"
             ],
             [
              0.7777777777777778,
              "#fb9f3a"
             ],
             [
              0.8888888888888888,
              "#fdca26"
             ],
             [
              1,
              "#f0f921"
             ]
            ],
            "type": "heatmap"
           }
          ],
          "histogram": [
           {
            "marker": {
             "pattern": {
              "fillmode": "overlay",
              "size": 10,
              "solidity": 0.2
             }
            },
            "type": "histogram"
           }
          ],
          "histogram2d": [
           {
            "colorbar": {
             "outlinewidth": 0,
             "ticks": ""
            },
            "colorscale": [
             [
              0,
              "#0d0887"
             ],
             [
              0.1111111111111111,
              "#46039f"
             ],
             [
              0.2222222222222222,
              "#7201a8"
             ],
             [
              0.3333333333333333,
              "#9c179e"
             ],
             [
              0.4444444444444444,
              "#bd3786"
             ],
             [
              0.5555555555555556,
              "#d8576b"
             ],
             [
              0.6666666666666666,
              "#ed7953"
             ],
             [
              0.7777777777777778,
              "#fb9f3a"
             ],
             [
              0.8888888888888888,
              "#fdca26"
             ],
             [
              1,
              "#f0f921"
             ]
            ],
            "type": "histogram2d"
           }
          ],
          "histogram2dcontour": [
           {
            "colorbar": {
             "outlinewidth": 0,
             "ticks": ""
            },
            "colorscale": [
             [
              0,
              "#0d0887"
             ],
             [
              0.1111111111111111,
              "#46039f"
             ],
             [
              0.2222222222222222,
              "#7201a8"
             ],
             [
              0.3333333333333333,
              "#9c179e"
             ],
             [
              0.4444444444444444,
              "#bd3786"
             ],
             [
              0.5555555555555556,
              "#d8576b"
             ],
             [
              0.6666666666666666,
              "#ed7953"
             ],
             [
              0.7777777777777778,
              "#fb9f3a"
             ],
             [
              0.8888888888888888,
              "#fdca26"
             ],
             [
              1,
              "#f0f921"
             ]
            ],
            "type": "histogram2dcontour"
           }
          ],
          "mesh3d": [
           {
            "colorbar": {
             "outlinewidth": 0,
             "ticks": ""
            },
            "type": "mesh3d"
           }
          ],
          "parcoords": [
           {
            "line": {
             "colorbar": {
              "outlinewidth": 0,
              "ticks": ""
             }
            },
            "type": "parcoords"
           }
          ],
          "pie": [
           {
            "automargin": true,
            "type": "pie"
           }
          ],
          "scatter": [
           {
            "fillpattern": {
             "fillmode": "overlay",
             "size": 10,
             "solidity": 0.2
            },
            "type": "scatter"
           }
          ],
          "scatter3d": [
           {
            "line": {
             "colorbar": {
              "outlinewidth": 0,
              "ticks": ""
             }
            },
            "marker": {
             "colorbar": {
              "outlinewidth": 0,
              "ticks": ""
             }
            },
            "type": "scatter3d"
           }
          ],
          "scattercarpet": [
           {
            "marker": {
             "colorbar": {
              "outlinewidth": 0,
              "ticks": ""
             }
            },
            "type": "scattercarpet"
           }
          ],
          "scattergeo": [
           {
            "marker": {
             "colorbar": {
              "outlinewidth": 0,
              "ticks": ""
             }
            },
            "type": "scattergeo"
           }
          ],
          "scattergl": [
           {
            "marker": {
             "colorbar": {
              "outlinewidth": 0,
              "ticks": ""
             }
            },
            "type": "scattergl"
           }
          ],
          "scattermap": [
           {
            "marker": {
             "colorbar": {
              "outlinewidth": 0,
              "ticks": ""
             }
            },
            "type": "scattermap"
           }
          ],
          "scattermapbox": [
           {
            "marker": {
             "colorbar": {
              "outlinewidth": 0,
              "ticks": ""
             }
            },
            "type": "scattermapbox"
           }
          ],
          "scatterpolar": [
           {
            "marker": {
             "colorbar": {
              "outlinewidth": 0,
              "ticks": ""
             }
            },
            "type": "scatterpolar"
           }
          ],
          "scatterpolargl": [
           {
            "marker": {
             "colorbar": {
              "outlinewidth": 0,
              "ticks": ""
             }
            },
            "type": "scatterpolargl"
           }
          ],
          "scatterternary": [
           {
            "marker": {
             "colorbar": {
              "outlinewidth": 0,
              "ticks": ""
             }
            },
            "type": "scatterternary"
           }
          ],
          "surface": [
           {
            "colorbar": {
             "outlinewidth": 0,
             "ticks": ""
            },
            "colorscale": [
             [
              0,
              "#0d0887"
             ],
             [
              0.1111111111111111,
              "#46039f"
             ],
             [
              0.2222222222222222,
              "#7201a8"
             ],
             [
              0.3333333333333333,
              "#9c179e"
             ],
             [
              0.4444444444444444,
              "#bd3786"
             ],
             [
              0.5555555555555556,
              "#d8576b"
             ],
             [
              0.6666666666666666,
              "#ed7953"
             ],
             [
              0.7777777777777778,
              "#fb9f3a"
             ],
             [
              0.8888888888888888,
              "#fdca26"
             ],
             [
              1,
              "#f0f921"
             ]
            ],
            "type": "surface"
           }
          ],
          "table": [
           {
            "cells": {
             "fill": {
              "color": "#EBF0F8"
             },
             "line": {
              "color": "white"
             }
            },
            "header": {
             "fill": {
              "color": "#C8D4E3"
             },
             "line": {
              "color": "white"
             }
            },
            "type": "table"
           }
          ]
         },
         "layout": {
          "annotationdefaults": {
           "arrowcolor": "#2a3f5f",
           "arrowhead": 0,
           "arrowwidth": 1
          },
          "autotypenumbers": "strict",
          "coloraxis": {
           "colorbar": {
            "outlinewidth": 0,
            "ticks": ""
           }
          },
          "colorscale": {
           "diverging": [
            [
             0,
             "#8e0152"
            ],
            [
             0.1,
             "#c51b7d"
            ],
            [
             0.2,
             "#de77ae"
            ],
            [
             0.3,
             "#f1b6da"
            ],
            [
             0.4,
             "#fde0ef"
            ],
            [
             0.5,
             "#f7f7f7"
            ],
            [
             0.6,
             "#e6f5d0"
            ],
            [
             0.7,
             "#b8e186"
            ],
            [
             0.8,
             "#7fbc41"
            ],
            [
             0.9,
             "#4d9221"
            ],
            [
             1,
             "#276419"
            ]
           ],
           "sequential": [
            [
             0,
             "#0d0887"
            ],
            [
             0.1111111111111111,
             "#46039f"
            ],
            [
             0.2222222222222222,
             "#7201a8"
            ],
            [
             0.3333333333333333,
             "#9c179e"
            ],
            [
             0.4444444444444444,
             "#bd3786"
            ],
            [
             0.5555555555555556,
             "#d8576b"
            ],
            [
             0.6666666666666666,
             "#ed7953"
            ],
            [
             0.7777777777777778,
             "#fb9f3a"
            ],
            [
             0.8888888888888888,
             "#fdca26"
            ],
            [
             1,
             "#f0f921"
            ]
           ],
           "sequentialminus": [
            [
             0,
             "#0d0887"
            ],
            [
             0.1111111111111111,
             "#46039f"
            ],
            [
             0.2222222222222222,
             "#7201a8"
            ],
            [
             0.3333333333333333,
             "#9c179e"
            ],
            [
             0.4444444444444444,
             "#bd3786"
            ],
            [
             0.5555555555555556,
             "#d8576b"
            ],
            [
             0.6666666666666666,
             "#ed7953"
            ],
            [
             0.7777777777777778,
             "#fb9f3a"
            ],
            [
             0.8888888888888888,
             "#fdca26"
            ],
            [
             1,
             "#f0f921"
            ]
           ]
          },
          "colorway": [
           "#636efa",
           "#EF553B",
           "#00cc96",
           "#ab63fa",
           "#FFA15A",
           "#19d3f3",
           "#FF6692",
           "#B6E880",
           "#FF97FF",
           "#FECB52"
          ],
          "font": {
           "color": "#2a3f5f"
          },
          "geo": {
           "bgcolor": "white",
           "lakecolor": "white",
           "landcolor": "#E5ECF6",
           "showlakes": true,
           "showland": true,
           "subunitcolor": "white"
          },
          "hoverlabel": {
           "align": "left"
          },
          "hovermode": "closest",
          "mapbox": {
           "style": "light"
          },
          "paper_bgcolor": "white",
          "plot_bgcolor": "#E5ECF6",
          "polar": {
           "angularaxis": {
            "gridcolor": "white",
            "linecolor": "white",
            "ticks": ""
           },
           "bgcolor": "#E5ECF6",
           "radialaxis": {
            "gridcolor": "white",
            "linecolor": "white",
            "ticks": ""
           }
          },
          "scene": {
           "xaxis": {
            "backgroundcolor": "#E5ECF6",
            "gridcolor": "white",
            "gridwidth": 2,
            "linecolor": "white",
            "showbackground": true,
            "ticks": "",
            "zerolinecolor": "white"
           },
           "yaxis": {
            "backgroundcolor": "#E5ECF6",
            "gridcolor": "white",
            "gridwidth": 2,
            "linecolor": "white",
            "showbackground": true,
            "ticks": "",
            "zerolinecolor": "white"
           },
           "zaxis": {
            "backgroundcolor": "#E5ECF6",
            "gridcolor": "white",
            "gridwidth": 2,
            "linecolor": "white",
            "showbackground": true,
            "ticks": "",
            "zerolinecolor": "white"
           }
          },
          "shapedefaults": {
           "line": {
            "color": "#2a3f5f"
           }
          },
          "ternary": {
           "aaxis": {
            "gridcolor": "white",
            "linecolor": "white",
            "ticks": ""
           },
           "baxis": {
            "gridcolor": "white",
            "linecolor": "white",
            "ticks": ""
           },
           "bgcolor": "#E5ECF6",
           "caxis": {
            "gridcolor": "white",
            "linecolor": "white",
            "ticks": ""
           }
          },
          "title": {
           "x": 0.05
          },
          "xaxis": {
           "automargin": true,
           "gridcolor": "white",
           "linecolor": "white",
           "ticks": "",
           "title": {
            "standoff": 15
           },
           "zerolinecolor": "white",
           "zerolinewidth": 2
          },
          "yaxis": {
           "automargin": true,
           "gridcolor": "white",
           "linecolor": "white",
           "ticks": "",
           "title": {
            "standoff": 15
           },
           "zerolinecolor": "white",
           "zerolinewidth": 2
          }
         }
        },
        "xaxis": {
         "anchor": "y2",
         "domain": [
          0,
          1
         ],
         "zeroline": false
        },
        "yaxis": {
         "anchor": "free",
         "domain": [
          0.35,
          1
         ],
         "position": 0
        },
        "yaxis2": {
         "anchor": "x",
         "domain": [
          0,
          0.25
         ],
         "dtick": 1,
         "showticklabels": false
        }
       }
      },
      "text/html": [
       "<div>            <script src=\"https://cdnjs.cloudflare.com/ajax/libs/mathjax/2.7.5/MathJax.js?config=TeX-AMS-MML_SVG\"></script><script type=\"text/javascript\">if (window.MathJax && window.MathJax.Hub && window.MathJax.Hub.Config) {window.MathJax.Hub.Config({SVG: {font: \"STIX-Web\"}});}</script>                <script type=\"text/javascript\">window.PlotlyConfig = {MathJaxConfig: 'local'};</script>\n",
       "        <script charset=\"utf-8\" src=\"https://cdn.plot.ly/plotly-3.0.1.min.js\"></script>                <div id=\"c76d1e52-ad78-44f0-a5dd-58a21212f6f8\" class=\"plotly-graph-div\" style=\"height:525px; width:100%;\"></div>            <script type=\"text/javascript\">                window.PLOTLYENV=window.PLOTLYENV || {};                                if (document.getElementById(\"c76d1e52-ad78-44f0-a5dd-58a21212f6f8\")) {                    Plotly.newPlot(                        \"c76d1e52-ad78-44f0-a5dd-58a21212f6f8\",                        [{\"autobinx\":false,\"histnorm\":\"probability density\",\"legendgroup\":\"Good Credit\",\"marker\":{\"color\":\"rgb(31, 119, 180)\"},\"name\":\"Good Credit\",\"opacity\":0.7,\"x\":{\"dtype\":\"f8\",\"bdata\":\"9G1CCnBBHEBa5Z85VZceQNF\\u002fVCbW8SFAfwFMet44IkDt\\u002fDSkl8wfQDIvn1JCsSFAEuW7VjsNIEBFD8n5e20dQAVG++lH\\u002fBxArdBk5TUsH0BGQp87CP4hQCY3QHDXRyBA3C6ERLupHkDYh5GgVIYfQMqmZGnU2x5ASIBFPrX9HUB294ZuDooeQMPQfZ3k5hxAyl6v8r43GEBLp4pYCw4YQJ0UHMdmKB9AY03tQMg5HkDcocZmG5kgQNgA61aWWiFAa84sCXKRHEAR9MYs1S4dQIf0nQV0byFAxfMPU1pxHEABkNL+6YEYQGz8xjIHBR9AYtazpsE3HECg8fgoRXchQNhSAILddSFAHGQkxfT0HEDikIG6\\u002fvUeQAtiz0pd1hxA2y+3yHzFIUBISOq+CIweQGz8xjIHBR9A6G6++CdjIUD9+Crs0o8cQOfU4x8FQCBAV8HoQQynGkAgblAT+lQiQDSCLqsoUx5AhA1YIHzzHEBlHfiZsFkdQDXRRz5BISBA6jKl+uUbIUCHnU50VbseQOx3EzevqBtA77jES3UfH0Cp0LcE4wEiQHHa\\u002fBBHXxpANhtPZww9HEAVqzUKNmIhQNoybb5VUh1AnkRdoczwIECcUJGe+E0iQKMV1LOVgCBAj50KuUVnHEBhkXU2I24dQL3rlW+C4R1A5a8f0Bj9HkAIybwm1AIdQMFdpaBBqhxAr0BdjnrfHkDsm+NjubQZQMFIe5imAB1A0IvuWgVjIECeis+aSLwcQHsleCNzbR5Aj7t1AJ18H0CA8HREyAYfQGJ\\u002fEp06uSFAhEnMb1orHUAplAQmoQAfQNvE+8VtWRtAxxMeKv08HkCLeSAqCzUfQOZ6p8DDbCFAlQgHHUXnIUCpY06UYAEdQBPyy+dQHR1A5QK3dpLiF0DKDRT33nshQJ1XsEfJtB1AdINpaHhdIEDLqh54xageQCVqnTZpEx9Am6XXUV+FIECf2zMWEekdQG9y5M9tpBpAiZFTcXmjHkDsYaagxDUaQDjIrQADHR5A0liDb7MXIkAVgcsqqZ0fQCBBhGMZXx5A6Y2ltQNzIkC0zuHB0H0cQH8u1A4\\u002fHyJADQemHzKlH0DBdhgcgigeQFV\\u002f2FdjQRpAQL0uUl7zIEAubB5bv0UgQMZ+1XAV8R5AmVpzE8BbIEDRZ8RIGQcbQJF451+hGRpARQ91LnMtIUAvYZ9lPXcdQAEZmlfP0RxAg7h0TKc\\u002fHkDAxdKFA1khQKbiBLq36SFAbtdVQ6iyIUBIRhPKtKQcQB7E3vjSTRdAqUueEfBTIEBNPZqouDEeQKdcp8ne2R9ASNWb\\u002fV3YG0D9+Crs0o8cQNNSRIcfyyFAtjtyZNc\\u002fG0BOZzW\\u002f+\\u002f4fQBg+ZZD\\u002fcx1AX2+w8fSSIECc641ejYwaQASYhzJHBB1AckZ46OJqH0CP0xCLzEoXQHzG0OMzVB5Ay9I5\\u002f7ljGUCG\\u002fJDRLnkgQAHAdd5n3BxA9T6\\u002fE65GHEAU0M\\u002fDSysgQOZjBMUtnR5AxE4egNbsHEDBUy07I7EfQGcdjXLQXRtA3kyfso9AHEAuJspLpRQhQG0DfZJRPR1A01W8P6OKIkDbWlzGfUUeQO6nK5d+Cx1A3zcrP3aUIUDiiXC9jQMdQFGy63y8DyBAd6mtRvyAIEDP5K3EiDogQNvE+8VtWRtAF9ggdLUUIEBj6RdmS4sgQFdc3+rUBiBAz7\\u002fGv2nfHEAzje33QcAZQFQkHxo9XBxAx1Co0n4+GkBOZzW\\u002f+\\u002f4fQOv1dblq5CBAGRhspRd5H0DERHgEFBwgQP4u6rGvTh9AvF1uwBWtHkAEvHDYNw4bQBwkx8dXXh1Aky\\u002fJqRanHEBeWV1+y1QfQAL+ob+efx1AglVWpltPHED9PT92X0ogQNnq+beSjBxAXGFgruBMGkAam1V2pV8cQNX4QoMvQB5AoixTFFIBGkChFrGSY+AeQKvjComGqSBAMEBO75F2HkAeeiG5xdIhQC+WkIaLlB9A7fmz0ed9IEC9ZN6TNjQcQCpAT5yrph1AWN9\\u002fSr6EHUCxh4xr1CYhQAEYXf2srB9AhdsvKVt2HED7Q\\u002fADdX8hQD8HWn0FVx1AJyYfU4SgG0AvGh7zHYwfQCqphQCN+xxAY5iOCTTQIkB\\u002f1doofpkfQMhG\\u002fwS6Ix9A\\u002ffgq7NKPHEA9cuGtVjMeQIC4U4iAPiBAiiSEZgxyHUDH4vU\\u002ffBodQNvZegBNTh1Ab1iwvrGGIEDRLtIaY48iQBcA0tWe8iBAmNDy8ffdIUD9K48fqvsbQDNa1sSM7BtAx\\u002fqdiLaIIUCUvz+nefMgQPTyN\\u002fAh4SFA\\u002ftBZXGTmIEBU464u6aMcQEz6tOHyUR9A31Bkpo6rH0COO5QpgQoaQIcCT3e7xxtAJwxo8a1dHUA9\\u002fYf0EvUgQDapUl1KexZAgZ62\\u002fWYuIUDkWZDsnzohQLpXMYZfdSBARa2YKqI8HUC3+DBY8T8aQCzR+lCewSBA7GGmoMQ1GkBj5LsqsGYgQEU3a4VU5x9AXh6lWvaKH0CMHg3A0b0bQGt\\u002fk94KQyBAaVl92eFUIUCnMgnnqVEdQHL3g+7GzyBANVoYdujkG0BgKYvYHJghQGAM7NLFmR5ADBi3rL2rIEDWDYho+U4dQIP6msK8TyFAw8pscndgIEBNzEU0YSYgQC0UidPeyyBASpHkwvuPIED7yyLUWyQdQO\\u002f1TvT2IBtAS7jGzZl2IEDau5rXe9odQCrjwsOBehxA4OXySuwoIEAQBeOKD1saQPp7AGAmBB9AsiGDKNqdGkDRAP9D\\u002fXwcQCr44W8xQyBAtB73VJHeHkBULzpg6OcdQBEY2f4DXR1ACiCR8fuCIEDfHnzHq2cgQDoLEEtuAyBAFA9igpEQIECne3ceF2whQCyq4zx5rx5AnruDSPcOI0BUf19jTv8eQB5B\\u002frRK9hpAadYlLguRF0CF1vr0fc4eQF6xUyu5oBxAt5ppjJDFHEBYdOuaPLggQDnPXj912h5ADGkcoQ8bHEDyy8zzuc8hQN8KvXjzAR9AE\\u002fLL51AdHUCHTt\\u002f+vwYeQKY0Utb7jxtAWZqtoRUsIECCbVtoEVEeQJyZyQSUJB9AGXee+bK+IkCTB+OcSGsfQNn0X0GXCx9A7yJtPZpLHUBSuuxEIy4dQF7kxfbEKx5A2lgeZpm\\u002fGkBe4KG4c+MfQHlSykCGxx5AM8lFkGzWG0DyOpye3ykgQNC8PIRJVh5A6LWUWUHHIUBQ7\\u002fY\\u002f54AdQLwnlPl8WCFA5UzHGbwWIkDCVDeARLkfQH8Z1BoPIiBAj1ubiY91HkDKnOmnmnUbQOfZJ4IMfR1Ahy+YqSm4H0AjODmVz6ofQDg7003ELxxAWYC0PGS4HEAi6Th7hUogQKVkbNKYIx5AwkswAZmEHkBzoffVsKoeQDHOJLgN+BlAVOOuLumjHEAzvUV8cEIgQJvXg94jKh5A0\\u002fRmuIuPHUA\\u002fvHTrV38fQNULrQUdgRxAhY3yKX1qH0DupyuXfgsdQEf1aRkAnyJAskGJgvn\\u002fGECjIPc7xLAfQER2NJQwjx9AtBJ2uaKSH0De6u8mP4ogQMHDpQLWWRdAVbsGenHdIEB6QAAGcmMgQINFFQZ6zR1AkEkwQScGIEB2DF\\u002fbZoAaQMMUGhBmTR5AQUTGqz7sH0Dq+Hn\\u002fMcYhQAGW\\u002fd+esh9ArwTAddTmIED1+mSaKXwcQKhZrtizZx9AYuroxCIYIUDKqw\\u002fMvsYbQPyDupebMR1AOw2xHcFcIED13+J2F10cQHjzPWu6YyBAg0\\u002fiW713G0Chw90YKzwcQHTnoVc8ECBA0aLJ63Z2IECTxre3KwcdQCebC87PVCBA+APQQ\\u002fZEHkDkpgHFVXscQPD2ZX7goRdAsOQRAvWjHkDpGuoJLnkdQMvlqWP9rhxAdO8aMynAHECYF+Ed8zghQAxpHKEPGxxAf2Jgl88QH0DiiXC9jQMdQLc1eg7CHSJAOH03Z5jnIEBsQJVesJUfQPuq6tCHfBlAGlWC\\u002fDTiHkBo1h6ws6UZQPWQFI0o3RxAXlLqpMteHECr60FnTjQaQFrzNMFAOiFAntwuSW1QIECu9Uh+Kw8cQAiMWp5D9yFA8YjmblpWHUDkWAycyEIdQL5W1uQm+xlAgshbLlnqHkDkWAycyEIdQFF0lqDUthxAxv9yrN8UIEDD0H2d5OYcQO5tgApQYiBAfnAyKI4LIEA6S90TlHceQC8F0NMgihxAJwRi0IZyHkDwaGKIomMdQJloIWibLSJAwLPM62+dG0C6B16Flt4dQDyUNcvCZB5ArPDAjmJbHED97gR3KPofQIF57XchGxpAfmJ0o23qIEBFE7ViS2QdQJMH45xIax9AP6rWu9uTIEAVqzUKNmIhQDrwo4pTMyFAE6PAmbHEGkCp7Fl6PvIbQGAkg0N5ux9Ajx74CFjuH0CCzo+6P0EeQFxmyF3oXhtAdYDRR\\u002f8XIEDxxeQkRvEcQLtzsWVAqR5A3\\u002f5Eg4G\\u002fH0BVwAM9gKUcQImVRwUf0BdAcmzJ1j5VHkChl4wYv3AdQGmXY8e1hCBAWsDSW0UDH0AZR597UZocQELfZpIPyh9AaQal287VIECaCqrWG4EeQD4bTtEzrhxAX2QVv9M8IEBRlzXMI2UgQBDq+Xqs0SJAyBoIr5o+IkCg0BQiTmsgQP5VFh2L2BlAUodwlPNnIEDNVMn56BseQESg4uiDXB5AbEKQvQ6hHkDRGlnB5psgQKMV1LOVgCBATM+7YxJpIECoQcPFxhkdQBxkJMX09BxAPtpm6mHoHEA9Iq0lHFEjQIFjo6TyOx1ARSRrEXy0HEADSDZ8CxgeQGKxYbX2Jx5Av1sHQjfcIEBleNKQwtYhQLWhcN63Ch9A1j9e8BWTIEBGtvyz73YiQKSUBW0WsiBAKUab0xCEIUAlbror1qscQMqmZGnU2x5AMOUNpoDTG0AjmgGYktAbQNBn+cREgCFApITEkJlRIECRycoh42EgQJBJMEEnBiBAXZgSEwuoIEC8MW7vpU8hQPcmk0MZfiJAq43wcnyPHkDQ9V6lQtYgQOKQl+DvFyFAJQSZ\\u002fysbH0D3YzqQIyAdQDwqAxpbWh1AXpQbPwztHkD8g7qXmzEdQJMNyDE+EyFAsAx\\u002f31FkIkC02eh6QZEhQNtbFgeS0hxA2yfyb0zWH0BQOFWHia4fQFOIOK\\u002fPZyBAhc06sJ2HG0Aaq9BEH4AfQCKsw01k4h9AMuyb29zqIEBGYfi+Su8eQCrjwsOBehxAlXqBju0FHEDWkwOy0FIbQNkd61hv+x1AUtIGsX01HkDHQqpbIOkcQIWCBxoNTR9AqRUMaTpXH0C3sH4p8yghQPHZXY5YYRxAjcKIZQaiHkCcoxpYysYZQDNCRPrxQR9Ae4EokeolHED+wFq+6d4hQHTnoVc8ECBA62+SNCVEHUDktTFj6hsgQPBV26ygciFA\\u002fluKZymwGkAkcdHZ+RUWQG2dE4O6uhxAGUefe1GaHEDe6mxqb4chQJ2Sm6CEiBpAM9rXfSp1H0ANv3W0UkAgQL1tipVFlSBAObHDBwXFIECayrNHSqMhQAmd6r6CAR9AHJ7A2YzRG0A9daQT3R0gQOI2xQzWRB9A\\u002fq1hDHkeI0DOVYATuvkdQLiY9Z5RUB9AbCTxoJYhIUBE\\u002fuqNLwggQNfVfcqKPBhAH\\u002f7NyzjwGkBLZr8\\u002fOlIhQIm1PBdqrRxAHGQkxfT0HEAQCc7qYw0hQK1fqN5qzx5Ax9pj\\u002fY08H0BL1vKjGTUcQH39m4Io5B9A0IvuWgVjIEDNcvICb6UdQPFL3jlAxB9AfscMWyowIEBEofFVktMeQOWcthT+Mh1ACtpRqEdXIEAuG7MOgFMgQKZbdWLgTCFAwc1ty+aFIEDBPZ9GIkgeQKljTpRgAR1ACEyhSJuMIUBZU+hdqUgeQPUNtgYbkR9Au59aBMutH0BqOEMCMIAhQEdAiPEAbhxAvfvj+fngH0CjO93Ruw0gQGQwC67i9h5A2er5t5KMHEBcYWCu4EwaQGYdG1KnYR1AUO\\u002f2P+eAHUA66gQolvgdQFh065o8uCBABImPaqqIG0AN1N5qfNYhQAPUodc+hRlA+oDOoDpXG0BXxyTvmUUiQB9igfuVPRtAyMU9d3S6GECl8cPcvNMhQDaik6G0yxxAdYI0IfRkHUBH4ZpTvVcjQNUDzcsRBBxAec2OzfsFIEDFtQfsrWAaQFMlpOKWeSBAuVPktBqEHUBxpOUcMp0hQH2D9HxMFx9AKD1nQ1URIUAOO9ggmSUbQEy4QEUpmBlAxK5aorz3H0DO3WDsTngfQAfD9GoQAiBAZlyROT5oHUDjt8ZfpUYgQIyhp994kyBAoP04iziFHEDPv8a\\u002fad8cQNEaWcHmmyBAWpJjGL8sHUDcNEI\\u002fpJYiQBH0xizVLh1ALW+mfs0uG0CMB2f7rzogQImuHcVTXSBADsbAnSVVIUBpBqXbztUgQD3662Gm0h5ArMapOFEdH0CR+Quk2DggQCPb\\u002fpkm0iFA92M4zZDrGUAinnoaaeQhQDDxrGqGzxxAxE4egNbsHEDMesphohcbQLwY8kMvXyBAJwcp+2K\\u002fHEDBPZ9GIkgeQBbDn7DlXyBApp8ca9mhIUAjqNdzZu0hQISQdzBFRSJA00WOKQrAHkDQNEiIRgEcQPVJKlb5yB9AcASvBwmYIUCbGdEVDu4hQIWHZ1HJMx9AJr8PHs0LHkCHnU50VbseQLHNvUDLVCFA9G1CCnBBHEB7TwTFuTIiQMBjXnFYdh9AQKM1ObF9HUADRFByYsIeQJj834D8TyBAOeImVY2DIkD\\u002f+oEkzO8cQIyfWpG5nBxAbxjJfqIJHECP+hoUSHcgQNRz1jEocCBAhs6vOcFfIEDOXbvXgCMgQK+nf\\u002f2YzSBACqmFzbgBIEAWn78pkK0eQCzvCvdG0R9Aa4uYiA8FHkCkMOrkCugiQKI\\u002fxPxYaB5AG3Jl3obSG0B6Z9y22yAeQMyCc4lJ0BxAI\\u002fDgvtTcHUD8lvE9hHAcQNPHHAPaBxlALyUrFl8\\u002fHUAGxlUfFYceQB6wxkBjqSFAEunIsR5WIEAuGxsgq18dQI8N6pkgVhtACPCLJYwhHUD5OhleuBQeQA521+HbDyJAIKZUgjnVH0C8GPJDL18gQILy9ioFLx5AhdsvKVt2HEBNaCsQg2ggQL1k3pM2NBxAbFmvHucOIECbMUxCuNgdQFNV3+PEDR9AqqnV\\u002f09aIEDpWM147ngYQA4noYDmyR1AlxtDkQlcIED3HIuhE8EhQI7gr22vjiBA4IzaLEBKHUB5k6U9C9EhQMNAHoMlyx9A2er5t5KMHECl4n\\u002f0Cn8aQM2vkCF6LR9AUhXNAOXrH0CPW5uJj3UeQEx7jS\\u002fyER1Ai7T8wzx+IUDBSHuYpgAdQKUbr5RRlSFA2rua13vaHUB5aZZQm1sgQMN61lfKbh1AQ1T8NgVGHkCdVe5AR5EgQCTLj+2+HR9A\\u002fQFz71zWHUCe9zoK6oMgQGzgkU8mwhpAAmNa6G7bIEA=\"},\"xaxis\":\"x\",\"xbins\":{\"end\":9.671366322189568,\"size\":0.2,\"start\":5.521460917862246},\"yaxis\":\"y\",\"type\":\"histogram\"},{\"autobinx\":false,\"histnorm\":\"probability density\",\"legendgroup\":\"Bad Credit\",\"marker\":{\"color\":\"rgb(255, 127, 14)\"},\"name\":\"Bad Credit\",\"opacity\":0.7,\"x\":{\"dtype\":\"f8\",\"bdata\":\"iSAd+\\u002fNhIUD9oaSWUPsgQDCMv4A4ICFAwV2loEGqHEAWqzmEiLwgQKzwwI5iWxxAk4O5xOyfHEAydoZfK+EiQEgWwkLwqCFA+VAlAhzuIEBuLO0FSZkeQJuI2gg2ciFAkFGlE37UHkAITKFIm4whQEOHKkZUeSFAyK0rDflOHkD7Bys+IycjQBiHvOsvBh5AI4Sb2XpbHkDBSlO\\u002fDZIgQAtJJalDYSFA8L+gx4LiIkCHYbMxjwocQCTuCvgxuRpAVLZ2tpJaI0Du9gMGZMYiQH+J4nrQiyFAHUBqYxTwIUB7fD7gpcEhQI7jE3NQuSBAXyYdqycPHkCDuHRMpz8eQE5YezHx1hlAm\\u002fNE\\u002fglSIEBgEYV+vqwhQLNBBw+SkBpAwyIPiSM8H0CTg7nE7J8cQPsFKxqZHxxA21pcxn1FHkBuZ9heBG0bQMPTMimUhx5AH+Hpl3JFIEC8rxtDYNchQMtYxkJMVSJA\\u002fwA0arbNIEBVLhTHeKAdQGGUVLZIIxtAF\\u002fr4UNgVIUBkw7YxjA0aQEtz9tob3SBA69wnhC+CIEBSEvJfjosgQK4FDxKGCCBACQuyjGtBHUBf+JkqGG4bQFq6Imk5uyBACzlm3uw3G0BQ4Wu99SUhQFYuJjEaNx5AqmeMsayaIkBhsIklu\\u002fAhQPyDupebMR1A6SJyZ8CwIEBEN8++bwgeQB7Ic4rfKyNAbAxYP7uzH0AcELkHlEYbQN5vpfGq3iBAxnSReG9IGEDgg+BmYbEeQELSMHLnsB5A2lgeZpm\\u002fGkDMtBchfzQiQIXZBi5mDSBAINIdI\\u002fXIIkAUr1GcVd8gQGvIuL7TuRtAr2yutedLIkAlr9NkpGkiQG1DLHXUfCBAzIJziUnQHEDzOrHdJ3IiQBAF44oPWxpA5KYBxVV7HEDq49D4Hx4aQM8HnSHuqx9ArHFQBXm1IEBUIYriE0ceQBkM2yU2Hx5AyLTQ6BTSIUAXuPdlPrciQPW1rXtxpCBAzWdeuu1AIEAZR597UZocQMHzoXMdJBxAMxdiJqx2G0BbiH1723YhQMpoGiPCghxAOQkKk6HOIECcmckElCQfQMIcvim0QB9ADqBybjlKIEDpsgD3yzMjQFnA+Yvg5CFA8ZFQuHcjI0BSF68jFPEiQIUICPytbxxABpQnm1IhIkAmdLCUGXseQI5qGU8XYRtA+D+WVd\\u002fyHkDgOE6\\u002fGOwcQJfSNEeuax9AV2ektqvLG0AegC0f4bEfQN2AZGqrUxxA1wrXa4mrIkBnQ1yfwTUdQGjWHrCzpRlA3yJE47pPGkCH5CdGihIhQK3DLsUNEx5Aly4sp+VIHUDnOJlRtvUgQIRBvCs7QSBAy4jn0+enHUA2Mf2\\u002fuRIgQAlCyOpOaxhAB92LsbPuGUCRiAmq74EcQKUh\\u002fQpbFiBAmJyM2ONjHEBdNWcWZw0iQDc2BbuTAiBAFCHNJa43IkB9XD5R1RcgQAoFPkLNaRxAhhYi1TFiHED5cUloRLUcQDrHVWv8qSFAYbZTeSuHGkDDPUdXSL4hQKCiwI+zIiBAu02LIbW9IUBfZ8uUVPceQBqr0EQfgB9AsxTnXt3+HkA3JsAsDOohQN82P2+wVx1ADR4b+C2DIUBQZQyQA9cfQLYLUy\\u002ffxxxACXFNEOXBGUCXHrnoALUhQPLSPpNVxhxAKJgEMpnsHkDe4GQqHAkhQGuEknq8WSBAOAIYu8dBHkAuGxsgq18dQMMVoXxg2SJAPVJkwmblHED5mJQbEKMhQGmosRi3KSBA5qot9CjHH0CeQMdZVtkbQCUEmf8rGx9AJnSwlBl7HkDiz8W\\u002fpGocQCGiVaQc3h5AFslta2+hH0DMKVEU5tocQMKGG1pUWBtAwPHEcFsYHUAZ6Z0BgrQgQDtrvxGwth9AQ0neHO5JG0AEc3U6RRAeQL+xwASbOyBAZMDnvZKPH0CBYEa3l24aQLTO4cHQfRxAU6Cw2fn\\u002fHUAnnQgde0kgQM1rLvwDVR1AYFod5GyLIEB8Yi0x\\u002fHMfQE+WtebMFB1ARRO1YktkHUD0DtBWCF0eQFNTC1Si2BxADO\\u002fib9nDIEDnsXx49HoaQPQVXkeq4CBAXBF6xSn4IUD\\u002f+oEkzO8cQD3DyzzHaRtAl2kXAKEcGkCYcnColj4eQIel4W7G9x5AYEWzXev+IUBbemY16CcbQJvWC\\u002fmmNRtAN2tO4nf4IECUqG\\u002fnE2wfQKR1va5eQiFA41p2RFQYHEDMr4MypYEhQNWOD4DWkyFAdkI6TuL7H0BJXLTUh1ocQGk4Slz0GCNAUAe5ovDKHEDGdJF4b0gYQCjKYobbcxxAmzop3hloH0AwpNdvDSkeQEoX3kJ5iCFArnb4eaVgHkBA3Mmv6rUiQDFALNQxuSBAkjqRzIOZHEAEiY9qqogbQKbg6cOcZR1AXvNJflGiHEDU6w\\u002fHGZccQIYHPyAOJxpAejnc9uukHkBR+MOUQ+UiQNnkiUBeFSBAzArBhJb9IUCiO2Sfp+QcQAdrrk7lASFAuIOAnh3qGkD7cE4F63ghQNloYBn7ZSFAaux\\u002fd\\u002fJRHEDCfEjEJtkhQBQvwWPwRCJAFgzMn9fuHUAUjGx2VlgiQNKiGhvkCyBAy05E9KSNIEAELxODDNEcQNiZfBgsnx9A9SPqzC6SIEAb6AjbP6sgQD7npLFyDiJACgU+Qs1pHEAlb2WlIcEiQIEOKCZkAh9AqexZej7yG0DTV+HhzxohQD0QD1e3SR5AmsqzR0qjIUBVf9hXY0EaQDyLwpwV2R5AwPHEcFsYHUCdVe5AR5EgQASu0Nhjuh5Ai3FmE4cyH0BwsHDUkM0eQDZ65SYOCh1AUUKCRMydIEBlwrdQn7YaQBYILia7USNAKWUQrMWpIEA\\u002fASrEyH0fQEgrHIsH7SBACyp0jAYeIECgvT\\u002fHj6QjQN1RzOy6NyNAvBJkfWAQH0Aj39df\\u002fjogQL\\u002fAzNfp4BxAtW21tKCrIUDklcSD6C8aQHgU+OGteiJA6YGQPKyuHUDHEx4q\\u002fTweQHpKF\\u002f4adBpADpMl7Cd+IUC\\u002fscAEmzsgQD8HWn0FVx1ApKvmOZZjIEDeBf8N\\u002f64eQDK+Bx\\u002fRpCBAkyNNDkibIkBXJJciUpcgQNv4cJe9IB9AIlF8hvtTH0CDeoFzP1YcQO0WGBdayiFA4YGpU0VbH0BrziwJcpEcQG95IECSESJAzM8H8pL4IEBzPPIZ5QciQPk6GV64FB5A\"},\"xaxis\":\"x\",\"xbins\":{\"end\":9.82140944150052,\"size\":0.2,\"start\":6.07073772800249},\"yaxis\":\"y\",\"type\":\"histogram\"},{\"legendgroup\":\"Good Credit\",\"marker\":{\"color\":\"rgb(31, 119, 180)\"},\"mode\":\"lines\",\"name\":\"Good Credit\",\"showlegend\":false,\"x\":[5.521460917862246,5.529760728670901,5.538060539479555,5.54636035028821,5.554660161096865,5.562959971905519,5.571259782714174,5.579559593522829,5.587859404331483,5.596159215140138,5.604459025948793,5.612758836757447,5.621058647566102,5.629358458374757,5.637658269183411,5.645958079992066,5.654257890800721,5.662557701609375,5.67085751241803,5.6791573232266845,5.687457134035339,5.6957569448439935,5.7040567556526485,5.7123565664613025,5.7206563772699575,5.728956188078612,5.7372559988872665,5.745555809695921,5.753855620504576,5.76215543131323,5.770455242121885,5.77875505293054,5.787054863739194,5.795354674547849,5.803654485356504,5.811954296165158,5.820254106973813,5.828553917782468,5.836853728591122,5.845153539399777,5.853453350208432,5.861753161017086,5.870052971825741,5.878352782634396,5.88665259344305,5.894952404251705,5.90325221506036,5.911552025869014,5.919851836677669,5.928151647486324,5.936451458294978,5.944751269103633,5.953051079912288,5.961350890720942,5.969650701529597,5.977950512338252,5.986250323146906,5.994550133955561,6.002849944764216,6.01114975557287,6.019449566381525,6.02774937719018,6.0360491879988345,6.0443489988074885,6.0526488096161435,6.0609486204247975,6.0692484312334525,6.077548242042107,6.085848052850762,6.094147863659416,6.102447674468071,6.110747485276725,6.11904729608538,6.127347106894035,6.13564691770269,6.143946728511344,6.152246539319999,6.160546350128653,6.168846160937308,6.177145971745963,6.185445782554617,6.193745593363272,6.202045404171927,6.210345214980581,6.218645025789236,6.226944836597891,6.235244647406545,6.2435444582152,6.251844269023855,6.260144079832509,6.268443890641164,6.276743701449819,6.285043512258473,6.293343323067128,6.301643133875783,6.309942944684437,6.318242755493092,6.326542566301747,6.334842377110401,6.343142187919056,6.351441998727711,6.359741809536365,6.36804162034502,6.376341431153675,6.3846412419623295,6.392941052770984,6.4012408635796385,6.409540674388293,6.4178404851969475,6.426140296005602,6.434440106814257,6.442739917622911,6.451039728431566,6.45933953924022,6.467639350048875,6.47593916085753,6.484238971666185,6.492538782474839,6.500838593283494,6.509138404092148,6.517438214900803,6.525738025709458,6.534037836518113,6.542337647326767,6.550637458135422,6.558937268944076,6.567237079752731,6.575536890561386,6.583836701370041,6.592136512178695,6.60043632298735,6.608736133796004,6.617035944604659,6.625335755413314,6.633635566221969,6.641935377030623,6.650235187839278,6.658534998647932,6.666834809456587,6.675134620265242,6.683434431073897,6.691734241882551,6.700034052691206,6.70833386349986,6.716633674308515,6.72493348511717,6.7332332959258245,6.741533106734479,6.7498329175431335,6.758132728351788,6.7664325391604425,6.7747323499690975,6.783032160777752,6.7913319715864064,6.799631782395061,6.807931593203715,6.81623140401237,6.824531214821025,6.83283102562968,6.841130836438334,6.849430647246989,6.857730458055643,6.866030268864298,6.874330079672953,6.882629890481608,6.890929701290262,6.899229512098917,6.907529322907571,6.915829133716226,6.924128944524881,6.932428755333536,6.94072856614219,6.949028376950845,6.957328187759499,6.965627998568154,6.973927809376809,6.982227620185464,6.990527430994118,6.998827241802773,7.007127052611427,7.015426863420082,7.023726674228737,7.032026485037392,7.040326295846046,7.048626106654701,7.056925917463355,7.06522572827201,7.073525539080665,7.0818253498893196,7.0901251606979745,7.0984249715066285,7.106724782315283,7.1150245931239375,7.1233244039325925,7.131624214741247,7.1399240255499015,7.148223836358556,7.1565236471672105,7.164823457975865,7.17312326878452,7.181423079593175,7.189722890401829,7.198022701210484,7.206322512019138,7.214622322827793,7.222922133636448,7.231221944445103,7.239521755253757,7.247821566062412,7.256121376871066,7.264421187679721,7.272720998488376,7.281020809297031,7.289320620105685,7.29762043091434,7.305920241722994,7.314220052531649,7.322519863340304,7.330819674148959,7.339119484957613,7.347419295766268,7.355719106574922,7.364018917383577,7.372318728192232,7.380618539000887,7.388918349809541,7.397218160618196,7.405517971426851,7.413817782235505,7.42211759304416,7.430417403852815,7.438717214661469,7.447017025470124,7.4553168362787785,7.4636166470874326,7.4719164578960875,7.480216268704742,7.4885160795133965,7.496815890322051,7.505115701130706,7.51341551193936,7.521715322748015,7.53001513355667,7.538314944365325,7.546614755173979,7.554914565982633,7.563214376791288,7.571514187599943,7.579813998408598,7.588113809217253,7.596413620025907,7.604713430834561,7.613013241643216,7.621313052451871,7.629612863260526,7.637912674069181,7.646212484877835,7.654512295686489,7.662812106495144,7.671111917303799,7.679411728112454,7.687711538921109,7.696011349729763,7.704311160538417,7.712610971347072,7.720910782155727,7.729210592964382,7.737510403773037,7.745810214581691,7.754110025390345,7.762409836199,7.770709647007655,7.77900945781631,7.7873092686249645,7.795609079433619,7.8039088902422735,7.812208701050928,7.8205085118595825,7.8288083226682375,7.837108133476892,7.845407944285546,7.8537077550942005,7.862007565902855,7.87030737671151,7.878607187520165,7.88690699832882,7.895206809137474,7.903506619946129,7.911806430754783,7.920106241563438,7.928406052372093,7.936705863180747,7.945005673989402,7.953305484798056,7.961605295606711,7.969905106415366,7.978204917224021,7.986504728032676,7.99480453884133,8.003104349649984,8.011404160458639,8.019703971267294,8.028003782075949,8.036303592884604,8.044603403693259,8.052903214501912,8.061203025310567,8.069502836119222,8.077802646927877,8.086102457736532,8.094402268545185,8.10270207935384,8.111001890162495,8.11930170097115,8.127601511779805,8.13590132258846,8.144201133397114,8.152500944205768,8.160800755014423,8.169100565823078,8.177400376631732,8.185700187440387,8.19399999824904,8.202299809057696,8.21059961986635,8.218899430675005,8.22719924148366,8.235499052292315,8.24379886310097,8.252098673909623,8.260398484718278,8.268698295526933,8.276998106335588,8.285297917144243,8.293597727952896,8.301897538761551,8.310197349570206,8.318497160378861,8.326796971187516,8.335096781996171,8.343396592804826,8.351696403613479,8.359996214422134,8.368296025230789,8.376595836039444,8.384895646848099,8.393195457656752,8.401495268465407,8.409795079274062,8.418094890082717,8.426394700891372,8.434694511700027,8.442994322508682,8.451294133317335,8.45959394412599,8.467893754934645,8.4761935657433,8.484493376551955,8.492793187360608,8.501092998169263,8.509392808977918,8.517692619786573,8.525992430595227,8.534292241403882,8.542592052212537,8.550891863021192,8.559191673829845,8.5674914846385,8.575791295447155,8.58409110625581,8.592390917064463,8.600690727873118,8.608990538681773,8.617290349490428,8.625590160299083,8.633889971107738,8.642189781916393,8.650489592725048,8.658789403533703,8.667089214342356,8.675389025151011,8.683688835959666,8.69198864676832,8.700288457576974,8.708588268385629,8.716888079194284,8.725187890002939,8.733487700811594,8.741787511620249,8.750087322428904,8.758387133237557,8.766686944046212,8.774986754854867,8.783286565663522,8.791586376472175,8.79988618728083,8.808185998089485,8.81648580889814,8.824785619706795,8.83308543051545,8.841385241324105,8.84968505213276,8.857984862941413,8.866284673750068,8.874584484558723,8.882884295367377,8.89118410617603,8.899483916984686,8.90778372779334,8.916083538601995,8.92438334941065,8.932683160219305,8.94098297102796,8.949282781836615,8.957582592645268,8.965882403453923,8.974182214262578,8.982482025071233,8.990781835879886,8.999081646688541,9.007381457497196,9.015681268305851,9.023981079114506,9.032280889923161,9.040580700731816,9.048880511540471,9.057180322349124,9.065480133157779,9.073779943966434,9.082079754775089,9.090379565583742,9.098679376392397,9.106979187201052,9.115278998009707,9.123578808818362,9.131878619627017,9.140178430435672,9.148478241244327,9.15677805205298,9.165077862861635,9.17337767367029,9.181677484478945,9.189977295287598,9.198277106096253,9.206576916904908,9.214876727713563,9.223176538522218,9.231476349330872,9.239776160139527,9.248075970948182,9.256375781756836,9.26467559256549,9.272975403374145,9.2812752141828,9.289575024991455,9.297874835800108,9.306174646608763,9.314474457417418,9.322774268226073,9.331074079034728,9.339373889843383,9.347673700652038,9.355973511460691,9.364273322269346,9.372573133078001,9.380872943886656,9.389172754695311,9.397472565503964,9.405772376312619,9.414072187121274,9.422371997929929,9.430671808738584,9.438971619547239,9.447271430355894,9.455571241164547,9.463871051973202,9.472170862781857,9.480470673590512,9.488770484399167,9.49707029520782,9.505370106016475,9.51366991682513,9.521969727633785,9.53026953844244,9.538569349251095,9.54686916005975,9.555168970868404,9.563468781677058,9.571768592485713,9.580068403294366,9.58836821410302,9.596668024911676,9.60496783572033,9.613267646528985,9.62156745733764,9.629867268146295,9.63816707895495,9.646466889763605,9.65476670057226,9.663066511380915],\"xaxis\":\"x\",\"y\":{\"dtype\":\"f8\",\"bdata\":\"tpR\\u002fuYwIhD\\u002fyj+QlOdOEP152qMUPo4U\\u002fOmcDOyF4hj+59BBtfFKHP0mUPBYuMog\\u002fGtbGTUAXiT\\u002fVYt8NugGKP4rQ9bee8Yo\\u002f9pMEme3miz8uBrVvoeGMPybyUPav4Y0\\u002fKceEcgnnjj+T\\u002fPxMmPGPP3eEdFmggJA\\u002fOSKzIfAKkT+ekGLlppeRPxyqwYasJpI\\u002fUv1aUuW3kj8n8Lv2MUuTP+gVYYZv4JM\\u002fv7dwhHd3lD9tkr\\u002f8HxCVPyNafKc7qpU\\u002ftRG9GJpFlj\\u002fyMAb8B+KWPxxsv1tPf5c\\u002fgChl9DcdmD8H1CCTh7uYP8DrTX8CWpk\\u002f0\\u002fZN7mv4mT\\u002fsneuAhpaaP5u3bMkUNJs\\u002fDgxV2dnQmz+cE8DVmWycP39XH5EaB50\\u002fU6gVKSSgnT+yRRWngTeeP7h6WKIBzZ4\\u002fcTrB4XZgnz8r6yT8uPGfPxLwwnpSQKA\\u002fcu\\u002fd646GoD89NIiihsugP40arQEyD6E\\u002f75oWP41RoT9AqGCfmJKhPzjeIKxY0qE\\u002f1pSkY9YQoj8XvLFhH06iP71GwgBGiqI\\u002fsEM+c2HFoj9Q\\u002fEXUjf+iP3tsqy\\u002fsOKM\\u002fpBbJgKJxoz8MgvOn26mjP6WJUlbH4aM\\u002fqPj\\u002f75kZpD+QuVlkjFGkP\\u002foKh\\u002fzbiaQ\\u002f9bhBIMrCpD+BNgYRnPykPzqd35uaN6U\\u002fW\\u002f8WwhF0pT\\u002fHFCBZULKlP9AOMKKn8qU\\u002f+TX+2Wo1pj86zUDB7nqmPyB8ix6Jw6Y\\u002fKQ5HOpAPpz\\u002fukoxVWl+nPz6svxw9s6c\\u002fwfTUFo0LqD+hr0ESnWioP3A2oZC9yqg\\u002f1ZYqMjwyqT\\u002fUXR0iY5+pP6dZV4V4Eqo\\u002fu\\u002fxN7L2Lqj8ZsqzJbwurPyGw3e7Ekas\\u002fIGjED+4erD9kYO9OFbOsPwnrgtNdTq0\\u002fVY0WauPwrT+O9rMxupquP2j2F1buS68\\u002f3vch7EECsD88ZiwzO2KwP1G\\u002fzaHcxbA\\u002fc1+zoBstsT8eDddk6ZexP77Yyf0yBrI\\u002fF0w2beF3sj8Y37PH2eyyP5ac8F79ZLM\\u002fW\\u002fMf9Sngsz9fHYf5OV60P36S6M0E37Q\\u002fXN94FF9itT8uQPAFG+i1PxrUNc8IcLY\\u002f+l0L9vb5tj+HqgvEsoW3P88YOrcIE7g\\u002fk6pP98ShuD\\u002fwuuHOszG5P5AzcCeiwrk\\u002f3BFdB15Uuj9ia8UQt+a6P2UdLQB\\u002febs\\u002f5+vpKYoMvD9+Rjn1r5+8P9YX7VPLMr0\\u002f2AygNbvFvT\\u002f1gmj1Yli+P8nDCsGq6r4\\u002fUzS3+H98vz+XwTfD6gbAP4w9HxZST8A\\u002frlVAZHWXwD9zMMhHV9\\u002fAPz2NHp39JsE\\u002fZr9GlHFuwT8KQDG8v7XBPyNJ1Qf4\\u002fME\\u002fNhr2zC1Ewj8\\u002fsYO8d4vCP1i1ktTv0sI\\u002fcfLyS7Mawz8f83Z34mLDP5bjCamgq8M\\u002fPuO6CBT1wz8nKe5nZT\\u002fEP37b7A7AisQ\\u002fTicUhVHXxD86A+tTSSXFP7QYbMXYdMU\\u002fJ5nWnTLGxT9NWF3RihnGP6ZtDzYWb8Y\\u002fLvZYMgrHxj\\u002fSaX1onCHHP1Rtb18Cf8c\\u002fXzlsKXHfxz8ArcIIHUPIP5gOMBM5qsg\\u002fM20+1PYUyT\\u002fwnRLvhYPJP+MEGsAT9sk\\u002fIsoK\\u002f8psyj8eyqth0+fKP\\u002fCK3D9RZ8s\\u002fl7lYOWXryz8mKLbdK3TMP0nkH1e9Ac0\\u002fELZUGC2UzT+6AHOOiSvOP9yHH9fbx84\\u002fQc2Xeydpzz\\u002fhvKEYtQfQP0YmLdBNXdA\\u002f2aOamFa10D\\u002fz9nDwxA\\u002fRPyWnxg6LbNE\\u002fSQKt1ZfL0T\\u002fBExjJ1izSP0IIiAowkNI\\u002flH60WYj10j\\u002fCOHUawVzTP26GHWC4xdM\\u002f+IJ4\\u002fkgw1D+W5IugSpzUP8aWPeWRCdU\\u002f8MntgfB31T86dgtrNefVP+u7nAItV9Y\\u002f7Q2nTKHH1j\\u002fx1VQpWjjXP6Zop5Qdqdc\\u002fTtZ0668Z2D9ihmE11InYP\\u002fLqdXNM+dg\\u002fOAfh8tln2T+pUGmjPdXZP3\\u002fN\\u002fnA4Qdo\\u002fI3zTn4ur2j\\u002fgMVIq+RPbPxKRQCBEets\\u002f5JBOBjHe2z+kmU01hj\\u002fcPzKiQjgMntw\\u002fUySCKI753D82WgIH2lHdP5AiEBLBpt0\\u002fjTWVFhj43T8NICO8t0XeP5vA\\u002fcp8j94\\u002fBslpa0jV3j9rA5BdABffP3e5VCmPVN8\\u002fFH+TReSN3z8FpkI29MLfP+OTFqG4898\\u002fxvApLBgQ4D+VqMutLyTgP7EAOmcnNuA\\u002fh0JxcgZG4D\\u002fGK8ti1lPgPw0cNTGjX+A\\u002fJnSXI3tp4D8VI6GvbnHgPz8yN1mQd+A\\u002fWF\\u002fUjPR74D+WTzB2sX7gP8J2kNPef+A\\u002fL0suxpV\\u002f4D9Opiag8H3gP4EibbAKe+A\\u002f+8dDDQB34D+VVLtd7XHgP6fNwqLva+A\\u002fpc1NACRl4D8hHBiHp13gP0yYiv+WVeA\\u002fSFtBtg5N4D9LSq1KKkTgP50mRIAEO+A\\u002fpqOpErcx4D8oRTKNWijgPw3jFSYGH+A\\u002fHdybnc8V4D8lYH4hywzgPygBtTQLBOA\\u002fLTKSN0H33z8zaZGbNOffP\\u002fqhvdMK2N8\\u002f6AcUY9rJ3z\\u002flh7oOtrzfP79mU+SssN8\\u002fYFjISMql3z\\u002fTABwPFpzfP8MyvJaUk98\\u002fAty88EaM3z8LolMLK4bfPybM3uI7gd8\\u002fS263t3F93z9G2QZIwnrfP+o30gwhed8\\u002fhN5seX943z8VMoI8zXjfP+n+6oH4ed8\\u002fkYiHNO573z\\u002fUXV8\\u002fmn7fPyzWUc3ngd8\\u002fqOKthsGF3z8iRBXMEYrfP2ILHu7Cjt8\\u002fczo1Yb+T3z+iNlbt8ZjfP\\u002fEqPNlFnt8\\u002f+kXEEKej3z8pqElGAqnfP4aX1Q5Frt8\\u002fFvoP+V2z3z8m9eyePLjfP4+uJLLRvN8\\u002fpW2RAw\\u002fB3z8mkJ6F58TfPxni\\u002f0lPyN8\\u002fKcn0ejvL3z+6U2VQos3fPzGIMAF7z98\\u002fSFALsb3Q3z+fAFZbY9HfPyvZU7tl0d8\\u002fCewzMr\\u002fQ3z9urV2ras\\u002ffP18VdX9jzd8\\u002f2sCKVqXK3z998esJLMffP626BIbzwt8\\u002fxCjErPe93z\\u002fMyO44NLjfP+C6x6Kksd8\\u002fJ3lzBkSq3z+WvXEMDaLfP6KEhdT5mN8\\u002fjxlb4wOP3z9UajQTJITfPzqi24dSeN8\\u002fskATpoZr3z+3mbEOt13fP6\\u002fqi53ZTt8\\u002flgZLbOM+3z8LDjnZyC3fP\\u002f\\u002fMDJJ9G98\\u002f7jasovQH3z8BL9SHIPPePzRfiEXz3N4\\u002fj3cigV7F3j\\u002fW3MyeU6zeP7OtKeLDkd4\\u002fjT7ckaB13j8t1aAd21feP\\u002fCylEZlON4\\u002fYnxHSTEX3j8J6yYJMvTdP5aczjxbz90\\u002fjtm\\u002fmqGo3T\\u002f5fwAG+3\\u002fdPyTxHLpeVd0\\u002fpBMHdsUo3T8EQEylKfrcP\\u002f5UHYeHydw\\u002fNUinUt2W3D9dSj9YK2LcP4AP7B50K9w\\u002fxeDdfbzy2z+uynCxC7jbP1FhX2tre9s\\u002fjhTZ3ec82z8dxTzBj\\u002fzaP9wMR1R0uto\\u002fZkKTVql22j+Ce179RDHaPyB2jOJf6tk\\u002feBv\\u002f7RSi2T+0FWI5gVjZP4danO7DDdk\\u002fMnYpIf7B2D90gauiUnXYPx\\u002fKFNPlJ9g\\u002f4CfVbN3Z1z9FhIJNYIvXP00ifjuWPNc\\u002fWY4gqaft1j8Us\\u002fx1vZ7WP1FQz64AUNY\\u002fa+iyTJoB1j\\u002fLMDH0srPVP2ofyrRyZtU\\u002fj\\u002fKFyQAa1T9DByNbg87UP8YoakQfhNQ\\u002fnlAs2fc61D++uGOwLvPTP4HT53HjrNM\\u002ff2YYqDNo0z+KzdeVOiXTP++PHxER5NI\\u002f1RhtYs2k0j9qxjYpg2fSP1\\u002fOi0VDLNI\\u002fydnzxhvz0T814pXgF7zRP\\u002fzqoOI\\u002fh9E\\u002f99jkOJlU0T\\u002fw\\u002fn1uJiTRP0saazbn9dA\\u002fSYbbeNjJ0D9kbPpk9J\\u002fQPwTD84YyeNA\\u002fhATp4YdS0D+DtIUN5y7QPx8Q31ZADdA\\u002fTjONyAPbzz8VKWm3L5\\u002fPP1fW2xbZZs8\\u002fYacQKdExzz88lt8t5v\\u002fOPwowI73j0M4\\u002fWcelIpOkzj+EDve6u3rOP1iwgVAjU84\\u002fMOg\\u002feI4tzj9wcXbtwAnOP8s\\u002f5ut9580\\u002fyCXvh4jGzT+buycEpKbNPwBX+SOUh80\\u002f\\u002f5nZeh1pzT8z4cW3BUvNP6+fr+wTLc0\\u002fZFOT0RAPzT9vK\\u002f4Cx\\u002fDMP\\u002f+a0DsD0sw\\u002fcuAVipSyzD8\\u002f79F+TJLMPxkksFj\\u002fcMw\\u002fEauFKYROzD9ui6L2tCrMP03U89NuBcw\\u002fAnQA+pHeyz8S2NDWAbbLP\\u002f+K1xmli8s\\u002fVq72umVfyz9hZcP8MDHLPwIaLWr3AMs\\u002fm\\u002fGyz6zOyj\\u002f841UwSJrKP7CoebbDY8o\\u002fRCjqoBwryj9RUj4sU\\u002fDJPxkr1Hhqs8k\\u002ff5KkbWh0yT\\u002f4wi+YVTPJP+m+xQk98Mg\\u002fvudvMiyryD\\u002fuu8K5MmTIP3g+4FViG8g\\u002fxMj0oM7Qxz8A+3jtjITHP8khhBm0Nsc\\u002fDLF6YVznxj9cWmQyn5bGP3HHNPyWRMY\\u002fGQ1RBF\\u002fxxT8ChJo4E53FP2LORQPQR8U\\u002fk2nCH7LxxD97PPRw1prEPy8f\\u002fdhZQ8Q\\u002fOmDQElnrwz98zcWN8JLDP\\u002fjPXEs8OsM\\u002firpav1fhwj\\u002fQlmmyXYjCP+CHVidoL8I\\u002fM1kIQ5DWwT9zF0A37n3BP4SsLjCZJcE\\u002fbYXjRKfNwD+hU5FqLXbAP2spn2o\\u002fH8A\\u002f4A\\u002frtt+Rvz\\u002fpNeE3oOa+P3rBtaLgPL4\\u002ftOObz76UvT8LOKQpVu68P1ozIri\\u002fSbw\\u002fI9vYKxKnuz+2v4nvYQa7P46RfDvBZ7o\\u002fmpqSK0DLuT9u1XfX7DC5PyRpg2zTmLg\\u002fV9TaSP4CuD\\u002fNE24Xdm+3P\\u002fdvZ+xB3rY\\u002fwUavYWdPtj\\u002fA7iqz6sK1PyOlZdrOOLU\\u002fNBpbqRWxtD\\u002f1iCTkvyu0P\\u002fsXU1nNqLM\\u002flGnM+Dwosz\\u002fPhgjpDKqyPw+Kmpo6LrI\\u002fcm732cK0sT\\u002f9A3jfoT2xP8sTnF3TyLA\\u002fjSCdjVJWsD+WcM10NMyvP\\u002fXkIZRJ8K4\\u002fzqf+i9gYrj8b0JXD1EWtPzimQwIxd6w\\u002fDPuRed+sqz\\u002fKZtvN0eaqP0ps6h35JKo\\u002fmbbuCUZnqT8Q3B66qK2oPwGKV+UQ+Kc\\u002flcoB2G1Gpz+Hh4F7rpimP\\u002fa1Y17B7qU\\u002fT\\u002fB4vZRIpT9S+\\u002f2NFqakP70I6Ig0B6Q\\u002fX7ReN9xroz9zEGIA+9OiP1+9jzd+P6I\\u002fy1bvLFOuoT9WjqQ9ZyChP1ZkXOWnlaA\\u002fVyJD0AIOoD\\u002fPf5TayxKfPydyAAF\\u002fD54\\u002fr39xavwRnT8s+4JfIhqcP2YGvjzQJ5s\\u002f5aqckuY6mj+hphNDR1OZPxe3J5zVcJg\\u002fTgQdb3aTlz\\u002fQd9sjELuWP1LrMMiK55U\\u002f9\\u002fSpGtAYlT8yScuQy06UPw==\"},\"yaxis\":\"y\",\"type\":\"scatter\"},{\"legendgroup\":\"Bad Credit\",\"marker\":{\"color\":\"rgb(255, 127, 14)\"},\"mode\":\"lines\",\"name\":\"Bad Credit\",\"showlegend\":false,\"x\":[6.07073772800249,6.078239071429485,6.085740414856482,6.093241758283478,6.100743101710474,6.10824444513747,6.115745788564466,6.123247131991462,6.130748475418458,6.138249818845455,6.14575116227245,6.153252505699446,6.160753849126443,6.168255192553438,6.175756535980435,6.183257879407431,6.190759222834426,6.198260566261423,6.205761909688419,6.213263253115415,6.220764596542411,6.228265939969407,6.235767283396403,6.243268626823399,6.250769970250396,6.258271313677391,6.265772657104387,6.273274000531384,6.280775343958379,6.288276687385375,6.295778030812372,6.303279374239367,6.310780717666364,6.31828206109336,6.325783404520355,6.333284747947352,6.340786091374348,6.348287434801344,6.35578877822834,6.363290121655336,6.370791465082332,6.378292808509328,6.385794151936325,6.39329549536332,6.400796838790316,6.408298182217313,6.415799525644308,6.423300869071305,6.430802212498301,6.438303555925296,6.445804899352293,6.453306242779289,6.460807586206285,6.468308929633281,6.475810273060277,6.483311616487273,6.490812959914269,6.498314303341266,6.505815646768261,6.513316990195257,6.520818333622254,6.528319677049249,6.535821020476245,6.543322363903242,6.550823707330237,6.558325050757234,6.56582639418423,6.573327737611226,6.580829081038222,6.588330424465218,6.595831767892214,6.60333311131921,6.610834454746206,6.618335798173202,6.625837141600198,6.633338485027195,6.64083982845419,6.648341171881187,6.655842515308183,6.663343858735178,6.670845202162175,6.678346545589171,6.685847889016166,6.693349232443163,6.700850575870159,6.708351919297155,6.715853262724151,6.7233546061511476,6.730855949578143,6.738357293005139,6.745858636432136,6.753359979859131,6.760861323286127,6.768362666713124,6.775864010140119,6.783365353567116,6.790866696994112,6.798368040421107,6.805869383848104,6.8133707272751,6.820872070702096,6.828373414129092,6.835874757556088,6.843376100983084,6.85087744441008,6.858378787837076,6.865880131264072,6.873381474691068,6.880882818118065,6.88838416154506,6.895885504972057,6.903386848399053,6.910888191826048,6.918389535253045,6.925890878680041,6.933392222107036,6.940893565534033,6.948394908961029,6.955896252388025,6.963397595815021,6.9708989392420175,6.978400282669013,6.985901626096009,6.9934029695230056,7.000904312950001,7.008405656376997,7.015906999803994,7.023408343230989,7.030909686657986,7.038411030084982,7.045912373511978,7.053413716938974,7.06091506036597,7.068416403792966,7.075917747219962,7.083419090646958,7.090920434073954,7.09842177750095,7.1059231209279465,7.113424464354942,7.120925807781938,7.1284271512089346,7.13592849463593,7.143429838062927,7.150931181489923,7.158432524916918,7.165933868343915,7.173435211770911,7.180936555197906,7.188437898624903,7.1959392420518995,7.203440585478895,7.210941928905891,7.2184432723328875,7.225944615759883,7.233445959186879,7.2409473026138755,7.248448646040871,7.255949989467868,7.2634513328948636,7.270952676321859,7.278454019748856,7.285955363175852,7.293456706602848,7.300958050029844,7.30845939345684,7.315960736883836,7.323462080310832,7.330963423737828,7.338464767164824,7.34596611059182,7.3534674540188165,7.360968797445812,7.368470140872809,7.3759714842998045,7.3834728277268,7.390974171153797,7.3984755145807926,7.405976858007788,7.413478201434785,7.4209795448617815,7.428480888288777,7.435982231715773,7.443483575142769,7.450984918569765,7.458486261996761,7.4659876054237575,7.473488948850753,7.480990292277749,7.4884916357047455,7.495992979131741,7.503494322558737,7.5109956659857335,7.51849700941273,7.525998352839726,7.533499696266722,7.541001039693718,7.548502383120714,7.55600372654771,7.563505069974706,7.571006413401702,7.5785077568286985,7.586009100255694,7.59351044368269,7.6010117871096865,7.608513130536682,7.616014473963679,7.6235158173906745,7.63101716081767,7.638518504244667,7.6460198476716625,7.653521191098658,7.661022534525655,7.668523877952651,7.676025221379647,7.683526564806643,7.6910279082336395,7.698529251660635,7.706030595087631,7.7135319385146275,7.721033281941623,7.728534625368619,7.7360359687956155,7.743537312222612,7.751038655649608,7.7585399990766035,7.7660413425036,7.773542685930596,7.7810440293575915,7.788545372784588,7.796046716211584,7.80354805963858,7.811049403065576,7.818550746492572,7.8260520899195685,7.833553433346564,7.841054776773561,7.8485561202005565,7.856057463627552,7.863558807054549,7.8710601504815445,7.87856149390854,7.886062837335537,7.8935641807625325,7.901065524189529,7.908566867616525,7.9160682110435205,7.923569554470517,7.931070897897513,7.9385722413245094,7.946073584751505,7.953574928178501,7.9610762716054975,7.968577615032493,7.976078958459489,7.9835803018864855,7.991081645313482,7.998582988740478,8.006084332167474,8.01358567559447,8.021087019021465,8.028588362448462,8.036089705875458,8.043591049302455,8.05109239272945,8.058593736156446,8.066095079583443,8.073596423010438,8.081097766437434,8.08859910986443,8.096100453291427,8.103601796718422,8.111103140145419,8.118604483572415,8.12610582699941,8.133607170426407,8.141108513853403,8.148609857280398,8.156111200707395,8.163612544134391,8.171113887561386,8.178615230988383,8.18611657441538,8.193617917842374,8.20111926126937,8.208620604696367,8.216121948123362,8.22362329155036,8.231124634977355,8.238625978404352,8.246127321831347,8.253628665258343,8.26113000868534,8.268631352112337,8.276132695539332,8.283634038966328,8.291135382393325,8.29863672582032,8.306138069247316,8.313639412674313,8.321140756101308,8.328642099528304,8.3361434429553,8.343644786382296,8.351146129809292,8.358647473236289,8.366148816663285,8.37365016009028,8.381151503517277,8.388652846944272,8.39615419037127,8.403655533798265,8.411156877225261,8.418658220652258,8.426159564079253,8.43366090750625,8.441162250933246,8.44866359436024,8.456164937787237,8.463666281214234,8.471167624641229,8.478668968068225,8.486170311495222,8.493671654922217,8.501172998349213,8.50867434177621,8.516175685203205,8.523677028630201,8.531178372057198,8.538679715484195,8.54618105891119,8.553682402338186,8.561183745765183,8.56868508919218,8.576186432619174,8.58368777604617,8.591189119473167,8.598690462900162,8.606191806327159,8.613693149754155,8.62119449318115,8.628695836608147,8.636197180035143,8.643698523462138,8.651199866889135,8.658701210316131,8.666202553743126,8.673703897170123,8.68120524059712,8.688706584024114,8.69620792745111,8.703709270878107,8.711210614305104,8.718711957732099,8.726213301159095,8.733714644586092,8.741215988013089,8.748717331440083,8.75621867486708,8.763720018294077,8.771221361721071,8.778722705148068,8.786224048575065,8.79372539200206,8.801226735429056,8.808728078856053,8.816229422283048,8.823730765710044,8.83123210913704,8.838733452564036,8.846234795991032,8.853736139418029,8.861237482845024,8.868738826272022,8.876240169699017,8.883741513126013,8.89124285655301,8.898744199980005,8.906245543407001,8.913746886833998,8.921248230260993,8.92874957368799,8.936250917114986,8.94375226054198,8.951253603968977,8.958754947395974,8.966256290822969,8.973757634249965,8.981258977676962,8.988760321103957,8.996261664530953,9.00376300795795,9.011264351384947,9.018765694811941,9.026267038238938,9.033768381665935,9.041269725092931,9.048771068519926,9.056272411946923,9.06377375537392,9.071275098800914,9.07877644222791,9.086277785654907,9.093779129081902,9.101280472508899,9.108781815935895,9.11628315936289,9.123784502789887,9.131285846216883,9.138787189643878,9.146288533070875,9.153789876497871,9.161291219924866,9.168792563351863,9.17629390677886,9.183795250205856,9.19129659363285,9.198797937059847,9.206299280486844,9.21380062391384,9.221301967340835,9.228803310767832,9.236304654194829,9.243805997621823,9.25130734104882,9.258808684475817,9.266310027902811,9.273811371329808,9.281312714756805,9.2888140581838,9.296315401610796,9.303816745037793,9.311318088464787,9.318819431891784,9.32632077531878,9.333822118745775,9.341323462172774,9.348824805599769,9.356326149026765,9.36382749245376,9.371328835880757,9.378830179307753,9.38633152273475,9.393832866161745,9.401334209588741,9.408835553015738,9.416336896442733,9.42383823986973,9.431339583296726,9.43884092672372,9.446342270150717,9.453843613577714,9.461344957004709,9.468846300431705,9.476347643858702,9.483848987285699,9.491350330712693,9.49885167413969,9.506353017566685,9.513854360993683,9.521355704420678,9.528857047847675,9.536358391274671,9.543859734701666,9.551361078128663,9.55886242155566,9.566363764982654,9.57386510840965,9.581366451836647,9.588867795263642,9.596369138690639,9.603870482117635,9.61137182554463,9.618873168971627,9.626374512398623,9.633875855825618,9.641377199252615,9.648878542679611,9.656379886106608,9.663881229533603,9.6713825729606,9.678883916387596,9.686385259814593,9.693886603241587,9.701387946668584,9.70888929009558,9.716390633522575,9.723891976949572,9.731393320376569,9.738894663803563,9.74639600723056,9.753897350657557,9.761398694084551,9.768900037511548,9.776401380938545,9.78390272436554,9.791404067792536,9.798905411219533,9.806406754646527,9.813908098073524],\"xaxis\":\"x\",\"y\":{\"dtype\":\"f8\",\"bdata\":\"sPmFS4PToj\\u002f8+cAb\\u002fWSjP7XhuoIt+qM\\u002fCg6fsCaTpD+AR7pc+i+lP6J75rG50KU\\u002fX3nPOnV1pj9j9SzOPB6nP6wyD3sfy6c\\u002f\\u002fZBcdSt8qD9I954CbjGpP\\u002fyYQGfz6qk\\u002fzt1X1Maoqj9OTiJW8mqrPxlFTsN+Maw\\u002fmcIyrXP8rD93LhRR18utP8r0k4qun64\\u002f4N5nx\\u002fx3rz+RWzr+YSqwP0gdM04Cm7A\\u002fY0zux94NsT894aIX9oKxP49JOx9G+rE\\u002fd78K9ctzsj\\u002fN5nLjg++yP2HYf2lpbbM\\u002f+EZ\\u002fPHftsz\\u002ft45VKp2+0PyORVL7y87Q\\u002f70VNA1J6tT9R36XLvAK2P6hbpRYqjbY\\u002fpkQ2OJAZtz\\u002f2T1fh5Ke3PzyAcSkdOLg\\u002fAlyJmC3KuD+BIT8yCl65P8Y4kIGm87k\\u002fyJZKpfWKuj+UOyFd6iO7P0SNTxd3vrs\\u002fs\\u002fq3\\u002fo1avD9+FGkJIfi8P2Mycwcil70\\u002fCbr3sYI3vj\\u002fARlq6NNm+P6E4e9kpfL8\\u002fOFRx7ykQwD8cKeFf0mLAP+Bp2lIHtsA\\u002f4kKQ\\u002fsEJwT9YLJLB+13BP6yweimussE\\u002fyR5K+dIHwj8WDGEvZF3CP\\u002fXyDgtcs8I\\u002fxrmpEbUJwz+fgCMTamDDP\\u002fu\\u002fFC52t8M\\u002ftH0x09QOxD9tMCHIgWbEPzTNsSl5vsQ\\u002fRG5fbbcWxT8pCCtiOW\\u002fFP1y1uzD8x8U\\u002fRT7HWv0gxj\\u002fDsb+5OnrGPywTxXyy08Y\\u002fG2HbJWMtxz+Ad2aGS4fHP8uU7rpq4cc\\u002fWpAxJsA7yD8\\u002fE4ZrS5bIP6Zol2gM8cg\\u002fBLeBLgNMyT86p1f6L6fJPxetGy2TAso\\u002fJUI4Qy1eyj\\u002fsd4PL\\u002frnKPzNH210IFss\\u002fXvNokUpyyz+ttZryxc7LP3ip4\\u002fh6K8w\\u002fZ6NS\\u002fGmIzD\\u002fdNBErk+XMPyeW3H72Qs0\\u002f35aKspOgzT8S86w3av7NPz6WZSx5XM4\\u002fSFl+Ub+6zj\\u002festYAOxnPP4eaOSTqd88\\u002f\\u002fIWtLMrWzz9q+icF7BrQPwKzZhKIStA\\u002fYu9CKjd60D9zqzbu9qnQPzY3W7LE2dA\\u002fbGAqe50J0T9Og7H7fTnRP9j2O5RiadE\\u002fb595UUeZ0T84uCXsJ8nRP\\u002f4jMcn\\u002f+NE\\u002fIMty+sko0j\\u002fDut8\\u002fgVjSP6ngSwkgiNI\\u002fFmSzeKC30j+XuQtl\\u002fObSP9Gvml0tFtM\\u002fsM7QrSxF0z8rg6Nh83PTPzaxYkp6otM\\u002feGwEBLrQ0z\\u002f1wuD6qv7TP6y41nFFLNQ\\u002fnM3SiIFZ1D9Lr65DV4bUP7gHYZG+stQ\\u002fJbxzU6\\u002fe1D8oWrZlIQrVP0zxIaYMNdU\\u002fTiPj\\u002fGhf1T8i135kLonVP+isBfJUstU\\u002fQBdK3dTa1T8A2QyJpgLWPwWWE4vCKdY\\u002fZCgdtCFQ1j\\u002fUhacXvXXWP\\u002fYuexOOmtY\\u002fqWTwVo6+1j9oueLpt+HWPzn\\u002fRzMFBNc\\u002fxxRg\\u002f3Al1z9opXOF9kXXPwKXGG2RZdc\\u002f0pXz0j2E1z9V9O5M+KHXP+3q3+29vtc\\u002fISSUSIza1z8CcEJyYfXXP\\u002f9vWgQ8D9g\\u002fZQ2wHRso2D8skQBj\\u002fj\\u002fYPxk\\u002f0P7lVtg\\u002fa2OgoNJs2D8y0H57xYHYP8rT8EPAldg\\u002fRrw8LcWo2D9g\\u002fxXm1rrYP+UcsZT4y9g\\u002fskVF0i3c2D\\u002fTuwKmeuvYP9y+hX\\u002fj+dg\\u002fDKfOMG0H2T+lksjnHBTZPxe6aCf4H9k\\u002faBxxwAQr2T8XweHJSDXZPyNEJJnKPtk\\u002f2sL9uZBH2T+0jFPmoU\\u002fZP1Azz\\u002f0EV9k\\u002fDbVu\\u002fcBd2T\\u002fAhw333GPZP7c+8whgadk\\u002fyGN0VVFu2T\\u002fZ5LH6t3LZP6Eqgwqbdtk\\u002fIoyWggF62T80XtNE8nzZP3pXCBB0f9k\\u002ftmjweI2B2T\\u002fvgZfjRIPZPz0DKH2ghNk\\u002fIdcoNqaF2T9LYTO9W4bZP\\u002fqTJ3rGhtk\\u002ftZrjieuG2T8GoYO6z4bZP+lLLYh3htk\\u002fIY1pGueF2T+6gw5CIoXZP0MruncshNk\\u002faKrd2giD2T9YJlgxuoHZP5gXn+dCgNk\\u002f6T5xEaV+2T+dfhBr4nzZP68R\\u002flr8etk\\u002fftQz9PN42T+gntT4yXbZP6oCTd1+dNk\\u002fWi7dyxJy2T\\u002fdGYSohW\\u002fZP4i4QxXXbNk\\u002fgXG1dgZq2T9ezOX4EmfZP8DybZT7Y9k\\u002fF3DBE79g2T+icKYYXF3ZPxSqziHRWdk\\u002fHxOHkBxW2T\\u002fmmXSuPFLZPykkVLMvTtk\\u002fQk+0yvNJ2T+Ynp8Zh0XZP4sQLsTnQNk\\u002fEmX18hM82T+NxE\\u002fYCTfZP1nhcLXHMdk\\u002f2idC30ss2T\\u002fsD\\u002f\\u002fClCbZP90ui+qgINk\\u002fXzh8AG8a2T\\u002f+tNLT\\u002fRPZP3vRXFtMDdk\\u002fIkq\\u002fuFkG2T\\u002fgGSE7Jf\\u002fYP704d2Gu99g\\u002fA11u3PTv2D+4VvGP+OfYP+tCS5S539g\\u002fkHXlNjjX2D+7mKH6dM7YP5ka0Zdwxdg\\u002f3prL+yu82D97lyZIqLLYP5clkdHmqNg\\u002fxwRXHume2D892Y7ksJTYP9\\u002fL9wdAitg\\u002fuTyLl5h\\u002f2D8ClsfKvHTYP7youf6uadg\\u002fvEvKsnFe2D+oPFaFB1PYP3yAFjBzR9g\\u002fsbFfhLc72D8T1j5n1y\\u002fYP7tyes3VI9g\\u002fcKp+t7UX2D8KPjstegvYP29G+jkm\\u002f9c\\u002fHHg26Lzy1z9MrXc9QebXP9pYPDa22dc\\u002fM1\\u002f2wR7N1z\\u002fCpSG\\u002ffcDXP0ZzevfVs9c\\u002f8H1ZHCqn1z+\\u002fPjvDfJrXP4TUd2LQjdc\\u002fg20wTieB1z8U1Ha1g3TXPyxbs5\\u002fnZ9c\\u002flwBN6lRb1z9UMZdGzU7XP9UsCDhSQtc\\u002fo4+6EuU11z+UGDz6hinXP91Bq+A4Hdc\\u002fT8skhvsQ1z\\u002fZ1YF4zwTXP3qyZhO1+NY\\u002fIAiigKzs1j8+ddu4teDWPwZVkITQ1NY\\u002fSNRcffzI1j\\u002fBCI8POb3WP1ZHAXyFsdY\\u002fVoI42uCl1j\\u002fCC8MaSprWP5Gs0wnAjtY\\u002fs58UUkGD1j8soa1\\u002fzHfWP8jqdwNgbNY\\u002fC6paNvpg1j8tMspcmVXWPy3wY6o7StY\\u002f\\u002fO+gRd8+1j8Gl5hLgjPWP0wVzdMiKNY\\u002fpvf6874c1j9jN+XDVBHWP3YhF2HiBdY\\u002fo3iV8mX61T8oSHis3e7VPxn9ZtNH49U\\u002fWITwv6LX1T\\u002fKYbnh7MvVPx3zecIkwNU\\u002fVVzHCEm01T\\u002f07qF6WKjVP5A7xP9RnNU\\u002fHWSuozSQ1T8stmmX\\u002f4PVP6YKATOyd9U\\u002fm+mq9ktr1T\\u002fT9KKLzF7VP0yosMQzUtU\\u002fzg9anoFF1T+WpME+tjjVP4kcL\\u002fXRK9U\\u002ffY5DOdUe1T\\u002fF5tmpwBHVP1hBlQuVBNU\\u002f5VUfR1P31D+Jtxln\\u002fOnUP706xZWR3NQ\\u002fnmBjGhTP1D+QLVZWhcHUP6xQA8Lms9Q\\u002fRPl\\u002f6Tmm1D+cJgtpgJjUP5WjXOm7itQ\\u002fdDnPG+581D+R9Wy2GG\\u002fUPzOf5G89YdQ\\u002fzLJv+11T1D86X7AEfEXUP5gfjyuZN9Q\\u002fDpcfALcp1D+LVpT+1hvUP5YjSYv6DdQ\\u002fQTvr7iIA1D9a4sZSUfLTP41ZQb2G5NM\\u002fkAeGDsTW0z9iV239CcnTPyVpoxRZu9M\\u002f50gUsLGt0z+256L6E6DTPxSTL+x\\u002fktM\\u002fChzyR\\u002fWE0z8TTiubc3fTP6W6MDz6adM\\u002fh0DVSYhc0z\\u002fNDzCrHE\\u002fTPwFEww+2QdM\\u002feoMC8FI00z\\u002fcZTmO8SbTP6O50PePGdM\\u002fTxTxBiwM0z81c4Bkw\\u002f7SP08NeIpT8dI\\u002fptiOxtnj0j8drjQ9U9bSP9Bj2ey8yNI\\u002fvK96sRO70j88JHNIVK3SP6QjhFR7n9I\\u002fZD8UYoWR0j9rGZvrboPSP0KOM140ddI\\u002feapMHtJm0j\\u002feuHGMRFjSP+SOIQqISdI\\u002f+SKt\\u002fpg60j9hbRXccyvSP1iY4CMVHNI\\u002fuJPea3kM0j9IQtVinfzRPwWiDNV97NE\\u002fFI2zsBfc0T9g9xUKaMvRP1fhnR9sutE\\u002fK5eYXSGp0T9XPrphhZfRPysnWv6VhdE\\u002fNNViPVFz0T+ANvFitWDRP7MOn+\\u002fATdE\\u002fwCt1onI60T+kk4J6ySbRPxFzFrjEEtE\\u002f8zSb3WP+0D\\u002fwyBGwpunQPy2\\u002fLDeN1NA\\u002f0n4LvRe\\u002f0D9DepbNRqnQP6HefTUbk9A\\u002fHNLcAJZ80D8L6IN5uGXQP8L77SSETtA\\u002ftCnjwfo20D8HHM5FHh\\u002fQP4dUyNnwBtA\\u002fbRXFrunczz+3L12KWavPP1mFIaY2ec8\\u002fgBW9rIZGzz\\u002fbraKLTxPPP5hCp2qX384\\u002fEs5eo2Srzj+Yh0m4vXbOPx5o30upQc4\\u002fLAiIFy4Mzj+C2YziUtbNP+imE3keoM0\\u002fABEvo5dpzT9OdhIcxTLNP1NZdomt+8w\\u002fL+g5c1fEzD9fw007yYzMP\\u002fWO8xUJVcw\\u002fDzRdAh0dzD9kArbDCuXLP1khn9rXrMs\\u002fW\\u002fInf4l0yz\\u002fwKkqbJDzLP5ON8MWtA8s\\u002fDz2OPinLyj\\u002fxt0vpmpLKP0SUzUsGWso\\u002fTB6Yim4hyj9MBRJn1ujJP5VJJz5AsMk\\u002fkamMB653yT\\u002fk2qJVIT\\u002fJPwPu91WbBsk\\u002fAVVk0hzOyD\\u002faJ8AyppXIPy1nLH83Xcg\\u002fijXrYtAkyD+vOsEvcOzHP3Cx2eEVtMc\\u002fgPUlJMB7xz\\u002f5yzBVbUPHP7wWXYwbC8c\\u002feyCHn8jSxj98Q\\u002f8ocprGP2FN1I0VYsY\\u002fVrFjBLApxj\\u002fGWyWbPvHFP6DMqD++uMU\\u002fnPm4xSuAxT8DcZzug0fFP4ouZ3DDDsU\\u002fjalT\\u002febVxD\\u002fZvRhL65zEP20\\u002fMhrNY8Q\\u002fUEMSPYkqxD8mcDGfHPHDP6j79EuEt8M\\u002f0Vxhdb19wz9\\u002fI5F6xUPDP+bb5+2ZCcM\\u002fqWL5mjjPwj9+lR6Mn5TCP1rYsA\\u002fNWcI\\u002f1HzmvL8ewj+Bs0p4duPBP31KzHfwp8E\\u002foiBfRi1swT9e1izHLDDBP37sUTjv88A\\u002fFyQlNXW3wD8MnAe4v3rAPw7HvBvQPcA\\u002fLv1JHKgAwD\\u002f0Cbyuk4a\\u002fP1obg5hvC78\\u002fkVWktumPvj+P3hOKCBS+PxaoLFHTl70\\u002fmzEDBFIbvT\\u002fsk+RPjZ68PxoaCpKOIbw\\u002fLIWK0V+kuz8A3ZK4Cye7P65s8Yydqbo\\u002fvS3+JyEsuj+Mc+ztoq65P8ssksQvMbk\\u002f6nuxCdWzuD+8vNGIoDa4PxhZtXCgubc\\u002fz\\u002fp5SOM8tz8tz3Dkd8C2P1uWvFptRLY\\u002fpDnD99LItT\\u002f1iIAyuE21P5+bx6As07Q\\u002fiROA6z9ZtD8OPuzCAeCzP4S2BNOBZ7M\\u002fDsf1t8\\u002fvsj96Vcry+niyP4esT94SA7I\\u002fzOU8pCaOsT\\u002frKKgyRRqxP0hZ0zF9p7A\\u002fCCRZ+tw1sD8\\u002fdIUX5YqvP4WhGweXrK4\\u002fiJhTKerQrT+OhuT+9\\u002fesPw==\"},\"yaxis\":\"y\",\"type\":\"scatter\"},{\"legendgroup\":\"Good Credit\",\"marker\":{\"color\":\"rgb(31, 119, 180)\",\"symbol\":\"line-ns-open\"},\"mode\":\"markers\",\"name\":\"Good Credit\",\"showlegend\":false,\"x\":{\"dtype\":\"f8\",\"bdata\":\"9G1CCnBBHEBa5Z85VZceQNF\\u002fVCbW8SFAfwFMet44IkDt\\u002fDSkl8wfQDIvn1JCsSFAEuW7VjsNIEBFD8n5e20dQAVG++lH\\u002fBxArdBk5TUsH0BGQp87CP4hQCY3QHDXRyBA3C6ERLupHkDYh5GgVIYfQMqmZGnU2x5ASIBFPrX9HUB294ZuDooeQMPQfZ3k5hxAyl6v8r43GEBLp4pYCw4YQJ0UHMdmKB9AY03tQMg5HkDcocZmG5kgQNgA61aWWiFAa84sCXKRHEAR9MYs1S4dQIf0nQV0byFAxfMPU1pxHEABkNL+6YEYQGz8xjIHBR9AYtazpsE3HECg8fgoRXchQNhSAILddSFAHGQkxfT0HEDikIG6\\u002fvUeQAtiz0pd1hxA2y+3yHzFIUBISOq+CIweQGz8xjIHBR9A6G6++CdjIUD9+Crs0o8cQOfU4x8FQCBAV8HoQQynGkAgblAT+lQiQDSCLqsoUx5AhA1YIHzzHEBlHfiZsFkdQDXRRz5BISBA6jKl+uUbIUCHnU50VbseQOx3EzevqBtA77jES3UfH0Cp0LcE4wEiQHHa\\u002fBBHXxpANhtPZww9HEAVqzUKNmIhQNoybb5VUh1AnkRdoczwIECcUJGe+E0iQKMV1LOVgCBAj50KuUVnHEBhkXU2I24dQL3rlW+C4R1A5a8f0Bj9HkAIybwm1AIdQMFdpaBBqhxAr0BdjnrfHkDsm+NjubQZQMFIe5imAB1A0IvuWgVjIECeis+aSLwcQHsleCNzbR5Aj7t1AJ18H0CA8HREyAYfQGJ\\u002fEp06uSFAhEnMb1orHUAplAQmoQAfQNvE+8VtWRtAxxMeKv08HkCLeSAqCzUfQOZ6p8DDbCFAlQgHHUXnIUCpY06UYAEdQBPyy+dQHR1A5QK3dpLiF0DKDRT33nshQJ1XsEfJtB1AdINpaHhdIEDLqh54xageQCVqnTZpEx9Am6XXUV+FIECf2zMWEekdQG9y5M9tpBpAiZFTcXmjHkDsYaagxDUaQDjIrQADHR5A0liDb7MXIkAVgcsqqZ0fQCBBhGMZXx5A6Y2ltQNzIkC0zuHB0H0cQH8u1A4\\u002fHyJADQemHzKlH0DBdhgcgigeQFV\\u002f2FdjQRpAQL0uUl7zIEAubB5bv0UgQMZ+1XAV8R5AmVpzE8BbIEDRZ8RIGQcbQJF451+hGRpARQ91LnMtIUAvYZ9lPXcdQAEZmlfP0RxAg7h0TKc\\u002fHkDAxdKFA1khQKbiBLq36SFAbtdVQ6iyIUBIRhPKtKQcQB7E3vjSTRdAqUueEfBTIEBNPZqouDEeQKdcp8ne2R9ASNWb\\u002fV3YG0D9+Crs0o8cQNNSRIcfyyFAtjtyZNc\\u002fG0BOZzW\\u002f+\\u002f4fQBg+ZZD\\u002fcx1AX2+w8fSSIECc641ejYwaQASYhzJHBB1AckZ46OJqH0CP0xCLzEoXQHzG0OMzVB5Ay9I5\\u002f7ljGUCG\\u002fJDRLnkgQAHAdd5n3BxA9T6\\u002fE65GHEAU0M\\u002fDSysgQOZjBMUtnR5AxE4egNbsHEDBUy07I7EfQGcdjXLQXRtA3kyfso9AHEAuJspLpRQhQG0DfZJRPR1A01W8P6OKIkDbWlzGfUUeQO6nK5d+Cx1A3zcrP3aUIUDiiXC9jQMdQFGy63y8DyBAd6mtRvyAIEDP5K3EiDogQNvE+8VtWRtAF9ggdLUUIEBj6RdmS4sgQFdc3+rUBiBAz7\\u002fGv2nfHEAzje33QcAZQFQkHxo9XBxAx1Co0n4+GkBOZzW\\u002f+\\u002f4fQOv1dblq5CBAGRhspRd5H0DERHgEFBwgQP4u6rGvTh9AvF1uwBWtHkAEvHDYNw4bQBwkx8dXXh1Aky\\u002fJqRanHEBeWV1+y1QfQAL+ob+efx1AglVWpltPHED9PT92X0ogQNnq+beSjBxAXGFgruBMGkAam1V2pV8cQNX4QoMvQB5AoixTFFIBGkChFrGSY+AeQKvjComGqSBAMEBO75F2HkAeeiG5xdIhQC+WkIaLlB9A7fmz0ed9IEC9ZN6TNjQcQCpAT5yrph1AWN9\\u002fSr6EHUCxh4xr1CYhQAEYXf2srB9AhdsvKVt2HED7Q\\u002fADdX8hQD8HWn0FVx1AJyYfU4SgG0AvGh7zHYwfQCqphQCN+xxAY5iOCTTQIkB\\u002f1doofpkfQMhG\\u002fwS6Ix9A\\u002ffgq7NKPHEA9cuGtVjMeQIC4U4iAPiBAiiSEZgxyHUDH4vU\\u002ffBodQNvZegBNTh1Ab1iwvrGGIEDRLtIaY48iQBcA0tWe8iBAmNDy8ffdIUD9K48fqvsbQDNa1sSM7BtAx\\u002fqdiLaIIUCUvz+nefMgQPTyN\\u002fAh4SFA\\u002ftBZXGTmIEBU464u6aMcQEz6tOHyUR9A31Bkpo6rH0COO5QpgQoaQIcCT3e7xxtAJwxo8a1dHUA9\\u002fYf0EvUgQDapUl1KexZAgZ62\\u002fWYuIUDkWZDsnzohQLpXMYZfdSBARa2YKqI8HUC3+DBY8T8aQCzR+lCewSBA7GGmoMQ1GkBj5LsqsGYgQEU3a4VU5x9AXh6lWvaKH0CMHg3A0b0bQGt\\u002fk94KQyBAaVl92eFUIUCnMgnnqVEdQHL3g+7GzyBANVoYdujkG0BgKYvYHJghQGAM7NLFmR5ADBi3rL2rIEDWDYho+U4dQIP6msK8TyFAw8pscndgIEBNzEU0YSYgQC0UidPeyyBASpHkwvuPIED7yyLUWyQdQO\\u002f1TvT2IBtAS7jGzZl2IEDau5rXe9odQCrjwsOBehxA4OXySuwoIEAQBeOKD1saQPp7AGAmBB9AsiGDKNqdGkDRAP9D\\u002fXwcQCr44W8xQyBAtB73VJHeHkBULzpg6OcdQBEY2f4DXR1ACiCR8fuCIEDfHnzHq2cgQDoLEEtuAyBAFA9igpEQIECne3ceF2whQCyq4zx5rx5AnruDSPcOI0BUf19jTv8eQB5B\\u002frRK9hpAadYlLguRF0CF1vr0fc4eQF6xUyu5oBxAt5ppjJDFHEBYdOuaPLggQDnPXj912h5ADGkcoQ8bHEDyy8zzuc8hQN8KvXjzAR9AE\\u002fLL51AdHUCHTt\\u002f+vwYeQKY0Utb7jxtAWZqtoRUsIECCbVtoEVEeQJyZyQSUJB9AGXee+bK+IkCTB+OcSGsfQNn0X0GXCx9A7yJtPZpLHUBSuuxEIy4dQF7kxfbEKx5A2lgeZpm\\u002fGkBe4KG4c+MfQHlSykCGxx5AM8lFkGzWG0DyOpye3ykgQNC8PIRJVh5A6LWUWUHHIUBQ7\\u002fY\\u002f54AdQLwnlPl8WCFA5UzHGbwWIkDCVDeARLkfQH8Z1BoPIiBAj1ubiY91HkDKnOmnmnUbQOfZJ4IMfR1Ahy+YqSm4H0AjODmVz6ofQDg7003ELxxAWYC0PGS4HEAi6Th7hUogQKVkbNKYIx5AwkswAZmEHkBzoffVsKoeQDHOJLgN+BlAVOOuLumjHEAzvUV8cEIgQJvXg94jKh5A0\\u002fRmuIuPHUA\\u002fvHTrV38fQNULrQUdgRxAhY3yKX1qH0DupyuXfgsdQEf1aRkAnyJAskGJgvn\\u002fGECjIPc7xLAfQER2NJQwjx9AtBJ2uaKSH0De6u8mP4ogQMHDpQLWWRdAVbsGenHdIEB6QAAGcmMgQINFFQZ6zR1AkEkwQScGIEB2DF\\u002fbZoAaQMMUGhBmTR5AQUTGqz7sH0Dq+Hn\\u002fMcYhQAGW\\u002fd+esh9ArwTAddTmIED1+mSaKXwcQKhZrtizZx9AYuroxCIYIUDKqw\\u002fMvsYbQPyDupebMR1AOw2xHcFcIED13+J2F10cQHjzPWu6YyBAg0\\u002fiW713G0Chw90YKzwcQHTnoVc8ECBA0aLJ63Z2IECTxre3KwcdQCebC87PVCBA+APQQ\\u002fZEHkDkpgHFVXscQPD2ZX7goRdAsOQRAvWjHkDpGuoJLnkdQMvlqWP9rhxAdO8aMynAHECYF+Ed8zghQAxpHKEPGxxAf2Jgl88QH0DiiXC9jQMdQLc1eg7CHSJAOH03Z5jnIEBsQJVesJUfQPuq6tCHfBlAGlWC\\u002fDTiHkBo1h6ws6UZQPWQFI0o3RxAXlLqpMteHECr60FnTjQaQFrzNMFAOiFAntwuSW1QIECu9Uh+Kw8cQAiMWp5D9yFA8YjmblpWHUDkWAycyEIdQL5W1uQm+xlAgshbLlnqHkDkWAycyEIdQFF0lqDUthxAxv9yrN8UIEDD0H2d5OYcQO5tgApQYiBAfnAyKI4LIEA6S90TlHceQC8F0NMgihxAJwRi0IZyHkDwaGKIomMdQJloIWibLSJAwLPM62+dG0C6B16Flt4dQDyUNcvCZB5ArPDAjmJbHED97gR3KPofQIF57XchGxpAfmJ0o23qIEBFE7ViS2QdQJMH45xIax9AP6rWu9uTIEAVqzUKNmIhQDrwo4pTMyFAE6PAmbHEGkCp7Fl6PvIbQGAkg0N5ux9Ajx74CFjuH0CCzo+6P0EeQFxmyF3oXhtAdYDRR\\u002f8XIEDxxeQkRvEcQLtzsWVAqR5A3\\u002f5Eg4G\\u002fH0BVwAM9gKUcQImVRwUf0BdAcmzJ1j5VHkChl4wYv3AdQGmXY8e1hCBAWsDSW0UDH0AZR597UZocQELfZpIPyh9AaQal287VIECaCqrWG4EeQD4bTtEzrhxAX2QVv9M8IEBRlzXMI2UgQBDq+Xqs0SJAyBoIr5o+IkCg0BQiTmsgQP5VFh2L2BlAUodwlPNnIEDNVMn56BseQESg4uiDXB5AbEKQvQ6hHkDRGlnB5psgQKMV1LOVgCBATM+7YxJpIECoQcPFxhkdQBxkJMX09BxAPtpm6mHoHEA9Iq0lHFEjQIFjo6TyOx1ARSRrEXy0HEADSDZ8CxgeQGKxYbX2Jx5Av1sHQjfcIEBleNKQwtYhQLWhcN63Ch9A1j9e8BWTIEBGtvyz73YiQKSUBW0WsiBAKUab0xCEIUAlbror1qscQMqmZGnU2x5AMOUNpoDTG0AjmgGYktAbQNBn+cREgCFApITEkJlRIECRycoh42EgQJBJMEEnBiBAXZgSEwuoIEC8MW7vpU8hQPcmk0MZfiJAq43wcnyPHkDQ9V6lQtYgQOKQl+DvFyFAJQSZ\\u002fysbH0D3YzqQIyAdQDwqAxpbWh1AXpQbPwztHkD8g7qXmzEdQJMNyDE+EyFAsAx\\u002f31FkIkC02eh6QZEhQNtbFgeS0hxA2yfyb0zWH0BQOFWHia4fQFOIOK\\u002fPZyBAhc06sJ2HG0Aaq9BEH4AfQCKsw01k4h9AMuyb29zqIEBGYfi+Su8eQCrjwsOBehxAlXqBju0FHEDWkwOy0FIbQNkd61hv+x1AUtIGsX01HkDHQqpbIOkcQIWCBxoNTR9AqRUMaTpXH0C3sH4p8yghQPHZXY5YYRxAjcKIZQaiHkCcoxpYysYZQDNCRPrxQR9Ae4EokeolHED+wFq+6d4hQHTnoVc8ECBA62+SNCVEHUDktTFj6hsgQPBV26ygciFA\\u002fluKZymwGkAkcdHZ+RUWQG2dE4O6uhxAGUefe1GaHEDe6mxqb4chQJ2Sm6CEiBpAM9rXfSp1H0ANv3W0UkAgQL1tipVFlSBAObHDBwXFIECayrNHSqMhQAmd6r6CAR9AHJ7A2YzRG0A9daQT3R0gQOI2xQzWRB9A\\u002fq1hDHkeI0DOVYATuvkdQLiY9Z5RUB9AbCTxoJYhIUBE\\u002fuqNLwggQNfVfcqKPBhAH\\u002f7NyzjwGkBLZr8\\u002fOlIhQIm1PBdqrRxAHGQkxfT0HEAQCc7qYw0hQK1fqN5qzx5Ax9pj\\u002fY08H0BL1vKjGTUcQH39m4Io5B9A0IvuWgVjIEDNcvICb6UdQPFL3jlAxB9AfscMWyowIEBEofFVktMeQOWcthT+Mh1ACtpRqEdXIEAuG7MOgFMgQKZbdWLgTCFAwc1ty+aFIEDBPZ9GIkgeQKljTpRgAR1ACEyhSJuMIUBZU+hdqUgeQPUNtgYbkR9Au59aBMutH0BqOEMCMIAhQEdAiPEAbhxAvfvj+fngH0CjO93Ruw0gQGQwC67i9h5A2er5t5KMHEBcYWCu4EwaQGYdG1KnYR1AUO\\u002f2P+eAHUA66gQolvgdQFh065o8uCBABImPaqqIG0AN1N5qfNYhQAPUodc+hRlA+oDOoDpXG0BXxyTvmUUiQB9igfuVPRtAyMU9d3S6GECl8cPcvNMhQDaik6G0yxxAdYI0IfRkHUBH4ZpTvVcjQNUDzcsRBBxAec2OzfsFIEDFtQfsrWAaQFMlpOKWeSBAuVPktBqEHUBxpOUcMp0hQH2D9HxMFx9AKD1nQ1URIUAOO9ggmSUbQEy4QEUpmBlAxK5aorz3H0DO3WDsTngfQAfD9GoQAiBAZlyROT5oHUDjt8ZfpUYgQIyhp994kyBAoP04iziFHEDPv8a\\u002fad8cQNEaWcHmmyBAWpJjGL8sHUDcNEI\\u002fpJYiQBH0xizVLh1ALW+mfs0uG0CMB2f7rzogQImuHcVTXSBADsbAnSVVIUBpBqXbztUgQD3662Gm0h5ArMapOFEdH0CR+Quk2DggQCPb\\u002fpkm0iFA92M4zZDrGUAinnoaaeQhQDDxrGqGzxxAxE4egNbsHEDMesphohcbQLwY8kMvXyBAJwcp+2K\\u002fHEDBPZ9GIkgeQBbDn7DlXyBApp8ca9mhIUAjqNdzZu0hQISQdzBFRSJA00WOKQrAHkDQNEiIRgEcQPVJKlb5yB9AcASvBwmYIUCbGdEVDu4hQIWHZ1HJMx9AJr8PHs0LHkCHnU50VbseQLHNvUDLVCFA9G1CCnBBHEB7TwTFuTIiQMBjXnFYdh9AQKM1ObF9HUADRFByYsIeQJj834D8TyBAOeImVY2DIkD\\u002f+oEkzO8cQIyfWpG5nBxAbxjJfqIJHECP+hoUSHcgQNRz1jEocCBAhs6vOcFfIEDOXbvXgCMgQK+nf\\u002f2YzSBACqmFzbgBIEAWn78pkK0eQCzvCvdG0R9Aa4uYiA8FHkCkMOrkCugiQKI\\u002fxPxYaB5AG3Jl3obSG0B6Z9y22yAeQMyCc4lJ0BxAI\\u002fDgvtTcHUD8lvE9hHAcQNPHHAPaBxlALyUrFl8\\u002fHUAGxlUfFYceQB6wxkBjqSFAEunIsR5WIEAuGxsgq18dQI8N6pkgVhtACPCLJYwhHUD5OhleuBQeQA521+HbDyJAIKZUgjnVH0C8GPJDL18gQILy9ioFLx5AhdsvKVt2HEBNaCsQg2ggQL1k3pM2NBxAbFmvHucOIECbMUxCuNgdQFNV3+PEDR9AqqnV\\u002f09aIEDpWM147ngYQA4noYDmyR1AlxtDkQlcIED3HIuhE8EhQI7gr22vjiBA4IzaLEBKHUB5k6U9C9EhQMNAHoMlyx9A2er5t5KMHECl4n\\u002f0Cn8aQM2vkCF6LR9AUhXNAOXrH0CPW5uJj3UeQEx7jS\\u002fyER1Ai7T8wzx+IUDBSHuYpgAdQKUbr5RRlSFA2rua13vaHUB5aZZQm1sgQMN61lfKbh1AQ1T8NgVGHkCdVe5AR5EgQCTLj+2+HR9A\\u002fQFz71zWHUCe9zoK6oMgQGzgkU8mwhpAAmNa6G7bIEA=\"},\"xaxis\":\"x\",\"y\":[\"Good Credit\",\"Good Credit\",\"Good Credit\",\"Good Credit\",\"Good Credit\",\"Good Credit\",\"Good Credit\",\"Good Credit\",\"Good Credit\",\"Good Credit\",\"Good Credit\",\"Good Credit\",\"Good Credit\",\"Good Credit\",\"Good Credit\",\"Good Credit\",\"Good Credit\",\"Good Credit\",\"Good Credit\",\"Good Credit\",\"Good Credit\",\"Good Credit\",\"Good Credit\",\"Good Credit\",\"Good Credit\",\"Good Credit\",\"Good Credit\",\"Good Credit\",\"Good Credit\",\"Good Credit\",\"Good Credit\",\"Good Credit\",\"Good Credit\",\"Good Credit\",\"Good Credit\",\"Good Credit\",\"Good Credit\",\"Good Credit\",\"Good Credit\",\"Good Credit\",\"Good Credit\",\"Good Credit\",\"Good Credit\",\"Good Credit\",\"Good Credit\",\"Good Credit\",\"Good Credit\",\"Good Credit\",\"Good Credit\",\"Good Credit\",\"Good Credit\",\"Good Credit\",\"Good Credit\",\"Good Credit\",\"Good Credit\",\"Good Credit\",\"Good Credit\",\"Good Credit\",\"Good Credit\",\"Good Credit\",\"Good Credit\",\"Good Credit\",\"Good Credit\",\"Good Credit\",\"Good Credit\",\"Good Credit\",\"Good Credit\",\"Good Credit\",\"Good Credit\",\"Good Credit\",\"Good Credit\",\"Good Credit\",\"Good Credit\",\"Good Credit\",\"Good Credit\",\"Good Credit\",\"Good Credit\",\"Good Credit\",\"Good Credit\",\"Good Credit\",\"Good Credit\",\"Good Credit\",\"Good Credit\",\"Good Credit\",\"Good Credit\",\"Good Credit\",\"Good Credit\",\"Good Credit\",\"Good Credit\",\"Good Credit\",\"Good Credit\",\"Good Credit\",\"Good Credit\",\"Good Credit\",\"Good Credit\",\"Good Credit\",\"Good Credit\",\"Good Credit\",\"Good Credit\",\"Good Credit\",\"Good Credit\",\"Good Credit\",\"Good Credit\",\"Good Credit\",\"Good Credit\",\"Good Credit\",\"Good Credit\",\"Good Credit\",\"Good Credit\",\"Good Credit\",\"Good Credit\",\"Good Credit\",\"Good Credit\",\"Good Credit\",\"Good Credit\",\"Good Credit\",\"Good Credit\",\"Good Credit\",\"Good Credit\",\"Good Credit\",\"Good Credit\",\"Good Credit\",\"Good Credit\",\"Good Credit\",\"Good Credit\",\"Good Credit\",\"Good Credit\",\"Good Credit\",\"Good Credit\",\"Good Credit\",\"Good Credit\",\"Good Credit\",\"Good Credit\",\"Good Credit\",\"Good Credit\",\"Good Credit\",\"Good Credit\",\"Good Credit\",\"Good Credit\",\"Good Credit\",\"Good Credit\",\"Good Credit\",\"Good Credit\",\"Good Credit\",\"Good Credit\",\"Good Credit\",\"Good Credit\",\"Good Credit\",\"Good Credit\",\"Good Credit\",\"Good Credit\",\"Good Credit\",\"Good Credit\",\"Good Credit\",\"Good Credit\",\"Good Credit\",\"Good Credit\",\"Good Credit\",\"Good Credit\",\"Good Credit\",\"Good Credit\",\"Good Credit\",\"Good Credit\",\"Good Credit\",\"Good Credit\",\"Good Credit\",\"Good Credit\",\"Good Credit\",\"Good Credit\",\"Good Credit\",\"Good Credit\",\"Good Credit\",\"Good Credit\",\"Good Credit\",\"Good Credit\",\"Good Credit\",\"Good Credit\",\"Good Credit\",\"Good Credit\",\"Good Credit\",\"Good Credit\",\"Good Credit\",\"Good Credit\",\"Good Credit\",\"Good Credit\",\"Good Credit\",\"Good Credit\",\"Good Credit\",\"Good Credit\",\"Good Credit\",\"Good Credit\",\"Good Credit\",\"Good Credit\",\"Good Credit\",\"Good Credit\",\"Good Credit\",\"Good Credit\",\"Good Credit\",\"Good Credit\",\"Good Credit\",\"Good Credit\",\"Good Credit\",\"Good Credit\",\"Good Credit\",\"Good Credit\",\"Good Credit\",\"Good Credit\",\"Good Credit\",\"Good Credit\",\"Good Credit\",\"Good Credit\",\"Good Credit\",\"Good Credit\",\"Good Credit\",\"Good Credit\",\"Good Credit\",\"Good Credit\",\"Good Credit\",\"Good Credit\",\"Good Credit\",\"Good Credit\",\"Good Credit\",\"Good Credit\",\"Good Credit\",\"Good Credit\",\"Good Credit\",\"Good Credit\",\"Good Credit\",\"Good Credit\",\"Good Credit\",\"Good Credit\",\"Good Credit\",\"Good Credit\",\"Good Credit\",\"Good Credit\",\"Good Credit\",\"Good Credit\",\"Good Credit\",\"Good Credit\",\"Good Credit\",\"Good Credit\",\"Good Credit\",\"Good Credit\",\"Good Credit\",\"Good Credit\",\"Good Credit\",\"Good Credit\",\"Good Credit\",\"Good Credit\",\"Good Credit\",\"Good Credit\",\"Good Credit\",\"Good Credit\",\"Good Credit\",\"Good Credit\",\"Good Credit\",\"Good Credit\",\"Good Credit\",\"Good Credit\",\"Good Credit\",\"Good Credit\",\"Good Credit\",\"Good Credit\",\"Good Credit\",\"Good Credit\",\"Good Credit\",\"Good Credit\",\"Good Credit\",\"Good Credit\",\"Good Credit\",\"Good Credit\",\"Good Credit\",\"Good Credit\",\"Good Credit\",\"Good Credit\",\"Good Credit\",\"Good Credit\",\"Good Credit\",\"Good Credit\",\"Good Credit\",\"Good Credit\",\"Good Credit\",\"Good Credit\",\"Good Credit\",\"Good Credit\",\"Good Credit\",\"Good Credit\",\"Good Credit\",\"Good Credit\",\"Good Credit\",\"Good Credit\",\"Good Credit\",\"Good Credit\",\"Good Credit\",\"Good Credit\",\"Good Credit\",\"Good Credit\",\"Good Credit\",\"Good Credit\",\"Good Credit\",\"Good Credit\",\"Good Credit\",\"Good Credit\",\"Good Credit\",\"Good Credit\",\"Good Credit\",\"Good Credit\",\"Good Credit\",\"Good Credit\",\"Good Credit\",\"Good Credit\",\"Good Credit\",\"Good Credit\",\"Good Credit\",\"Good Credit\",\"Good Credit\",\"Good Credit\",\"Good Credit\",\"Good Credit\",\"Good Credit\",\"Good Credit\",\"Good Credit\",\"Good Credit\",\"Good Credit\",\"Good Credit\",\"Good Credit\",\"Good Credit\",\"Good Credit\",\"Good Credit\",\"Good Credit\",\"Good Credit\",\"Good Credit\",\"Good Credit\",\"Good Credit\",\"Good Credit\",\"Good Credit\",\"Good Credit\",\"Good Credit\",\"Good Credit\",\"Good Credit\",\"Good Credit\",\"Good Credit\",\"Good Credit\",\"Good Credit\",\"Good Credit\",\"Good Credit\",\"Good Credit\",\"Good Credit\",\"Good Credit\",\"Good Credit\",\"Good Credit\",\"Good Credit\",\"Good Credit\",\"Good Credit\",\"Good Credit\",\"Good Credit\",\"Good Credit\",\"Good Credit\",\"Good Credit\",\"Good Credit\",\"Good Credit\",\"Good Credit\",\"Good Credit\",\"Good Credit\",\"Good Credit\",\"Good Credit\",\"Good Credit\",\"Good Credit\",\"Good Credit\",\"Good Credit\",\"Good Credit\",\"Good Credit\",\"Good Credit\",\"Good Credit\",\"Good Credit\",\"Good Credit\",\"Good Credit\",\"Good Credit\",\"Good Credit\",\"Good Credit\",\"Good Credit\",\"Good Credit\",\"Good Credit\",\"Good Credit\",\"Good Credit\",\"Good Credit\",\"Good Credit\",\"Good Credit\",\"Good Credit\",\"Good Credit\",\"Good Credit\",\"Good Credit\",\"Good Credit\",\"Good Credit\",\"Good Credit\",\"Good Credit\",\"Good Credit\",\"Good Credit\",\"Good Credit\",\"Good Credit\",\"Good Credit\",\"Good Credit\",\"Good Credit\",\"Good Credit\",\"Good Credit\",\"Good Credit\",\"Good Credit\",\"Good Credit\",\"Good Credit\",\"Good Credit\",\"Good Credit\",\"Good Credit\",\"Good Credit\",\"Good Credit\",\"Good Credit\",\"Good Credit\",\"Good Credit\",\"Good Credit\",\"Good Credit\",\"Good Credit\",\"Good Credit\",\"Good Credit\",\"Good Credit\",\"Good Credit\",\"Good Credit\",\"Good Credit\",\"Good Credit\",\"Good Credit\",\"Good Credit\",\"Good Credit\",\"Good Credit\",\"Good Credit\",\"Good Credit\",\"Good Credit\",\"Good Credit\",\"Good Credit\",\"Good Credit\",\"Good Credit\",\"Good Credit\",\"Good Credit\",\"Good Credit\",\"Good Credit\",\"Good Credit\",\"Good Credit\",\"Good Credit\",\"Good Credit\",\"Good Credit\",\"Good Credit\",\"Good Credit\",\"Good Credit\",\"Good Credit\",\"Good Credit\",\"Good Credit\",\"Good Credit\",\"Good Credit\",\"Good Credit\",\"Good Credit\",\"Good Credit\",\"Good Credit\",\"Good Credit\",\"Good Credit\",\"Good Credit\",\"Good Credit\",\"Good Credit\",\"Good Credit\",\"Good Credit\",\"Good Credit\",\"Good Credit\",\"Good Credit\",\"Good Credit\",\"Good Credit\",\"Good Credit\",\"Good Credit\",\"Good Credit\",\"Good Credit\",\"Good Credit\",\"Good Credit\",\"Good Credit\",\"Good Credit\",\"Good Credit\",\"Good Credit\",\"Good Credit\",\"Good Credit\",\"Good Credit\",\"Good Credit\",\"Good Credit\",\"Good Credit\",\"Good Credit\",\"Good Credit\",\"Good Credit\",\"Good Credit\",\"Good Credit\",\"Good Credit\",\"Good Credit\",\"Good Credit\",\"Good Credit\",\"Good Credit\",\"Good Credit\",\"Good Credit\",\"Good Credit\",\"Good Credit\",\"Good Credit\",\"Good Credit\",\"Good Credit\",\"Good Credit\",\"Good Credit\",\"Good Credit\",\"Good Credit\",\"Good Credit\",\"Good Credit\",\"Good Credit\",\"Good Credit\",\"Good Credit\",\"Good Credit\",\"Good Credit\",\"Good Credit\",\"Good Credit\",\"Good Credit\",\"Good Credit\",\"Good Credit\",\"Good Credit\",\"Good Credit\",\"Good Credit\",\"Good Credit\",\"Good Credit\",\"Good Credit\",\"Good Credit\",\"Good Credit\",\"Good Credit\",\"Good Credit\",\"Good Credit\",\"Good Credit\",\"Good Credit\",\"Good Credit\",\"Good Credit\",\"Good Credit\",\"Good Credit\",\"Good Credit\",\"Good Credit\",\"Good Credit\",\"Good Credit\",\"Good Credit\",\"Good Credit\",\"Good Credit\",\"Good Credit\",\"Good Credit\",\"Good Credit\",\"Good Credit\",\"Good Credit\",\"Good Credit\",\"Good Credit\",\"Good Credit\",\"Good Credit\",\"Good Credit\",\"Good Credit\",\"Good Credit\",\"Good Credit\",\"Good Credit\",\"Good Credit\",\"Good Credit\",\"Good Credit\",\"Good Credit\",\"Good Credit\",\"Good Credit\",\"Good Credit\",\"Good Credit\",\"Good Credit\",\"Good Credit\",\"Good Credit\",\"Good Credit\",\"Good Credit\",\"Good Credit\",\"Good Credit\",\"Good Credit\",\"Good Credit\",\"Good Credit\",\"Good Credit\",\"Good Credit\",\"Good Credit\",\"Good Credit\",\"Good Credit\",\"Good Credit\",\"Good Credit\",\"Good Credit\",\"Good Credit\",\"Good Credit\",\"Good Credit\",\"Good Credit\",\"Good Credit\",\"Good Credit\",\"Good Credit\",\"Good Credit\",\"Good Credit\",\"Good Credit\",\"Good Credit\",\"Good Credit\",\"Good Credit\",\"Good Credit\",\"Good Credit\",\"Good Credit\",\"Good Credit\",\"Good Credit\",\"Good Credit\",\"Good Credit\",\"Good Credit\",\"Good Credit\",\"Good Credit\",\"Good Credit\",\"Good Credit\",\"Good Credit\",\"Good Credit\",\"Good Credit\",\"Good Credit\",\"Good Credit\",\"Good Credit\",\"Good Credit\",\"Good Credit\",\"Good Credit\",\"Good Credit\",\"Good Credit\",\"Good Credit\",\"Good Credit\",\"Good Credit\",\"Good Credit\",\"Good Credit\",\"Good Credit\",\"Good Credit\",\"Good Credit\",\"Good Credit\",\"Good Credit\",\"Good Credit\",\"Good Credit\",\"Good Credit\",\"Good Credit\",\"Good Credit\",\"Good Credit\",\"Good Credit\",\"Good Credit\",\"Good Credit\",\"Good Credit\",\"Good Credit\",\"Good Credit\",\"Good Credit\",\"Good Credit\",\"Good Credit\",\"Good Credit\",\"Good Credit\",\"Good Credit\",\"Good Credit\",\"Good Credit\",\"Good Credit\",\"Good Credit\",\"Good Credit\",\"Good Credit\",\"Good Credit\",\"Good Credit\",\"Good Credit\",\"Good Credit\",\"Good Credit\",\"Good Credit\",\"Good Credit\",\"Good Credit\",\"Good Credit\",\"Good Credit\",\"Good Credit\",\"Good Credit\",\"Good Credit\",\"Good Credit\",\"Good Credit\",\"Good Credit\",\"Good Credit\",\"Good Credit\",\"Good Credit\",\"Good Credit\",\"Good Credit\",\"Good Credit\",\"Good Credit\",\"Good Credit\",\"Good Credit\",\"Good Credit\",\"Good Credit\",\"Good Credit\",\"Good Credit\",\"Good Credit\",\"Good Credit\",\"Good Credit\",\"Good Credit\",\"Good Credit\",\"Good Credit\",\"Good Credit\",\"Good Credit\",\"Good Credit\",\"Good Credit\",\"Good Credit\",\"Good Credit\",\"Good Credit\",\"Good Credit\",\"Good Credit\",\"Good Credit\",\"Good Credit\"],\"yaxis\":\"y2\",\"type\":\"scatter\"},{\"legendgroup\":\"Bad Credit\",\"marker\":{\"color\":\"rgb(255, 127, 14)\",\"symbol\":\"line-ns-open\"},\"mode\":\"markers\",\"name\":\"Bad Credit\",\"showlegend\":false,\"x\":{\"dtype\":\"f8\",\"bdata\":\"iSAd+\\u002fNhIUD9oaSWUPsgQDCMv4A4ICFAwV2loEGqHEAWqzmEiLwgQKzwwI5iWxxAk4O5xOyfHEAydoZfK+EiQEgWwkLwqCFA+VAlAhzuIEBuLO0FSZkeQJuI2gg2ciFAkFGlE37UHkAITKFIm4whQEOHKkZUeSFAyK0rDflOHkD7Bys+IycjQBiHvOsvBh5AI4Sb2XpbHkDBSlO\\u002fDZIgQAtJJalDYSFA8L+gx4LiIkCHYbMxjwocQCTuCvgxuRpAVLZ2tpJaI0Du9gMGZMYiQH+J4nrQiyFAHUBqYxTwIUB7fD7gpcEhQI7jE3NQuSBAXyYdqycPHkCDuHRMpz8eQE5YezHx1hlAm\\u002fNE\\u002fglSIEBgEYV+vqwhQLNBBw+SkBpAwyIPiSM8H0CTg7nE7J8cQPsFKxqZHxxA21pcxn1FHkBuZ9heBG0bQMPTMimUhx5AH+Hpl3JFIEC8rxtDYNchQMtYxkJMVSJA\\u002fwA0arbNIEBVLhTHeKAdQGGUVLZIIxtAF\\u002fr4UNgVIUBkw7YxjA0aQEtz9tob3SBA69wnhC+CIEBSEvJfjosgQK4FDxKGCCBACQuyjGtBHUBf+JkqGG4bQFq6Imk5uyBACzlm3uw3G0BQ4Wu99SUhQFYuJjEaNx5AqmeMsayaIkBhsIklu\\u002fAhQPyDupebMR1A6SJyZ8CwIEBEN8++bwgeQB7Ic4rfKyNAbAxYP7uzH0AcELkHlEYbQN5vpfGq3iBAxnSReG9IGEDgg+BmYbEeQELSMHLnsB5A2lgeZpm\\u002fGkDMtBchfzQiQIXZBi5mDSBAINIdI\\u002fXIIkAUr1GcVd8gQGvIuL7TuRtAr2yutedLIkAlr9NkpGkiQG1DLHXUfCBAzIJziUnQHEDzOrHdJ3IiQBAF44oPWxpA5KYBxVV7HEDq49D4Hx4aQM8HnSHuqx9ArHFQBXm1IEBUIYriE0ceQBkM2yU2Hx5AyLTQ6BTSIUAXuPdlPrciQPW1rXtxpCBAzWdeuu1AIEAZR597UZocQMHzoXMdJBxAMxdiJqx2G0BbiH1723YhQMpoGiPCghxAOQkKk6HOIECcmckElCQfQMIcvim0QB9ADqBybjlKIEDpsgD3yzMjQFnA+Yvg5CFA8ZFQuHcjI0BSF68jFPEiQIUICPytbxxABpQnm1IhIkAmdLCUGXseQI5qGU8XYRtA+D+WVd\\u002fyHkDgOE6\\u002fGOwcQJfSNEeuax9AV2ektqvLG0AegC0f4bEfQN2AZGqrUxxA1wrXa4mrIkBnQ1yfwTUdQGjWHrCzpRlA3yJE47pPGkCH5CdGihIhQK3DLsUNEx5Aly4sp+VIHUDnOJlRtvUgQIRBvCs7QSBAy4jn0+enHUA2Mf2\\u002fuRIgQAlCyOpOaxhAB92LsbPuGUCRiAmq74EcQKUh\\u002fQpbFiBAmJyM2ONjHEBdNWcWZw0iQDc2BbuTAiBAFCHNJa43IkB9XD5R1RcgQAoFPkLNaRxAhhYi1TFiHED5cUloRLUcQDrHVWv8qSFAYbZTeSuHGkDDPUdXSL4hQKCiwI+zIiBAu02LIbW9IUBfZ8uUVPceQBqr0EQfgB9AsxTnXt3+HkA3JsAsDOohQN82P2+wVx1ADR4b+C2DIUBQZQyQA9cfQLYLUy\\u002ffxxxACXFNEOXBGUCXHrnoALUhQPLSPpNVxhxAKJgEMpnsHkDe4GQqHAkhQGuEknq8WSBAOAIYu8dBHkAuGxsgq18dQMMVoXxg2SJAPVJkwmblHED5mJQbEKMhQGmosRi3KSBA5qot9CjHH0CeQMdZVtkbQCUEmf8rGx9AJnSwlBl7HkDiz8W\\u002fpGocQCGiVaQc3h5AFslta2+hH0DMKVEU5tocQMKGG1pUWBtAwPHEcFsYHUAZ6Z0BgrQgQDtrvxGwth9AQ0neHO5JG0AEc3U6RRAeQL+xwASbOyBAZMDnvZKPH0CBYEa3l24aQLTO4cHQfRxAU6Cw2fn\\u002fHUAnnQgde0kgQM1rLvwDVR1AYFod5GyLIEB8Yi0x\\u002fHMfQE+WtebMFB1ARRO1YktkHUD0DtBWCF0eQFNTC1Si2BxADO\\u002fib9nDIEDnsXx49HoaQPQVXkeq4CBAXBF6xSn4IUD\\u002f+oEkzO8cQD3DyzzHaRtAl2kXAKEcGkCYcnColj4eQIel4W7G9x5AYEWzXev+IUBbemY16CcbQJvWC\\u002fmmNRtAN2tO4nf4IECUqG\\u002fnE2wfQKR1va5eQiFA41p2RFQYHEDMr4MypYEhQNWOD4DWkyFAdkI6TuL7H0BJXLTUh1ocQGk4Slz0GCNAUAe5ovDKHEDGdJF4b0gYQCjKYobbcxxAmzop3hloH0AwpNdvDSkeQEoX3kJ5iCFArnb4eaVgHkBA3Mmv6rUiQDFALNQxuSBAkjqRzIOZHEAEiY9qqogbQKbg6cOcZR1AXvNJflGiHEDU6w\\u002fHGZccQIYHPyAOJxpAejnc9uukHkBR+MOUQ+UiQNnkiUBeFSBAzArBhJb9IUCiO2Sfp+QcQAdrrk7lASFAuIOAnh3qGkD7cE4F63ghQNloYBn7ZSFAaux\\u002fd\\u002fJRHEDCfEjEJtkhQBQvwWPwRCJAFgzMn9fuHUAUjGx2VlgiQNKiGhvkCyBAy05E9KSNIEAELxODDNEcQNiZfBgsnx9A9SPqzC6SIEAb6AjbP6sgQD7npLFyDiJACgU+Qs1pHEAlb2WlIcEiQIEOKCZkAh9AqexZej7yG0DTV+HhzxohQD0QD1e3SR5AmsqzR0qjIUBVf9hXY0EaQDyLwpwV2R5AwPHEcFsYHUCdVe5AR5EgQASu0Nhjuh5Ai3FmE4cyH0BwsHDUkM0eQDZ65SYOCh1AUUKCRMydIEBlwrdQn7YaQBYILia7USNAKWUQrMWpIEA\\u002fASrEyH0fQEgrHIsH7SBACyp0jAYeIECgvT\\u002fHj6QjQN1RzOy6NyNAvBJkfWAQH0Aj39df\\u002fjogQL\\u002fAzNfp4BxAtW21tKCrIUDklcSD6C8aQHgU+OGteiJA6YGQPKyuHUDHEx4q\\u002fTweQHpKF\\u002f4adBpADpMl7Cd+IUC\\u002fscAEmzsgQD8HWn0FVx1ApKvmOZZjIEDeBf8N\\u002f64eQDK+Bx\\u002fRpCBAkyNNDkibIkBXJJciUpcgQNv4cJe9IB9AIlF8hvtTH0CDeoFzP1YcQO0WGBdayiFA4YGpU0VbH0BrziwJcpEcQG95IECSESJAzM8H8pL4IEBzPPIZ5QciQPk6GV64FB5A\"},\"xaxis\":\"x\",\"y\":[\"Bad Credit\",\"Bad Credit\",\"Bad Credit\",\"Bad Credit\",\"Bad Credit\",\"Bad Credit\",\"Bad Credit\",\"Bad Credit\",\"Bad Credit\",\"Bad Credit\",\"Bad Credit\",\"Bad Credit\",\"Bad Credit\",\"Bad Credit\",\"Bad Credit\",\"Bad Credit\",\"Bad Credit\",\"Bad Credit\",\"Bad Credit\",\"Bad Credit\",\"Bad Credit\",\"Bad Credit\",\"Bad Credit\",\"Bad Credit\",\"Bad Credit\",\"Bad Credit\",\"Bad Credit\",\"Bad Credit\",\"Bad Credit\",\"Bad Credit\",\"Bad Credit\",\"Bad Credit\",\"Bad Credit\",\"Bad Credit\",\"Bad Credit\",\"Bad Credit\",\"Bad Credit\",\"Bad Credit\",\"Bad Credit\",\"Bad Credit\",\"Bad Credit\",\"Bad Credit\",\"Bad Credit\",\"Bad Credit\",\"Bad Credit\",\"Bad Credit\",\"Bad Credit\",\"Bad Credit\",\"Bad Credit\",\"Bad Credit\",\"Bad Credit\",\"Bad Credit\",\"Bad Credit\",\"Bad Credit\",\"Bad Credit\",\"Bad Credit\",\"Bad Credit\",\"Bad Credit\",\"Bad Credit\",\"Bad Credit\",\"Bad Credit\",\"Bad Credit\",\"Bad Credit\",\"Bad Credit\",\"Bad Credit\",\"Bad Credit\",\"Bad Credit\",\"Bad Credit\",\"Bad Credit\",\"Bad Credit\",\"Bad Credit\",\"Bad Credit\",\"Bad Credit\",\"Bad Credit\",\"Bad Credit\",\"Bad Credit\",\"Bad Credit\",\"Bad Credit\",\"Bad Credit\",\"Bad Credit\",\"Bad Credit\",\"Bad Credit\",\"Bad Credit\",\"Bad Credit\",\"Bad Credit\",\"Bad Credit\",\"Bad Credit\",\"Bad Credit\",\"Bad Credit\",\"Bad Credit\",\"Bad Credit\",\"Bad Credit\",\"Bad Credit\",\"Bad Credit\",\"Bad Credit\",\"Bad Credit\",\"Bad Credit\",\"Bad Credit\",\"Bad Credit\",\"Bad Credit\",\"Bad Credit\",\"Bad Credit\",\"Bad Credit\",\"Bad Credit\",\"Bad Credit\",\"Bad Credit\",\"Bad Credit\",\"Bad Credit\",\"Bad Credit\",\"Bad Credit\",\"Bad Credit\",\"Bad Credit\",\"Bad Credit\",\"Bad Credit\",\"Bad Credit\",\"Bad Credit\",\"Bad Credit\",\"Bad Credit\",\"Bad Credit\",\"Bad Credit\",\"Bad Credit\",\"Bad Credit\",\"Bad Credit\",\"Bad Credit\",\"Bad Credit\",\"Bad Credit\",\"Bad Credit\",\"Bad Credit\",\"Bad Credit\",\"Bad Credit\",\"Bad Credit\",\"Bad Credit\",\"Bad Credit\",\"Bad Credit\",\"Bad Credit\",\"Bad Credit\",\"Bad Credit\",\"Bad Credit\",\"Bad Credit\",\"Bad Credit\",\"Bad Credit\",\"Bad Credit\",\"Bad Credit\",\"Bad Credit\",\"Bad Credit\",\"Bad Credit\",\"Bad Credit\",\"Bad Credit\",\"Bad Credit\",\"Bad Credit\",\"Bad Credit\",\"Bad Credit\",\"Bad Credit\",\"Bad Credit\",\"Bad Credit\",\"Bad Credit\",\"Bad Credit\",\"Bad Credit\",\"Bad Credit\",\"Bad Credit\",\"Bad Credit\",\"Bad Credit\",\"Bad Credit\",\"Bad Credit\",\"Bad Credit\",\"Bad Credit\",\"Bad Credit\",\"Bad Credit\",\"Bad Credit\",\"Bad Credit\",\"Bad Credit\",\"Bad Credit\",\"Bad Credit\",\"Bad Credit\",\"Bad Credit\",\"Bad Credit\",\"Bad Credit\",\"Bad Credit\",\"Bad Credit\",\"Bad Credit\",\"Bad Credit\",\"Bad Credit\",\"Bad Credit\",\"Bad Credit\",\"Bad Credit\",\"Bad Credit\",\"Bad Credit\",\"Bad Credit\",\"Bad Credit\",\"Bad Credit\",\"Bad Credit\",\"Bad Credit\",\"Bad Credit\",\"Bad Credit\",\"Bad Credit\",\"Bad Credit\",\"Bad Credit\",\"Bad Credit\",\"Bad Credit\",\"Bad Credit\",\"Bad Credit\",\"Bad Credit\",\"Bad Credit\",\"Bad Credit\",\"Bad Credit\",\"Bad Credit\",\"Bad Credit\",\"Bad Credit\",\"Bad Credit\",\"Bad Credit\",\"Bad Credit\",\"Bad Credit\",\"Bad Credit\",\"Bad Credit\",\"Bad Credit\",\"Bad Credit\",\"Bad Credit\",\"Bad Credit\",\"Bad Credit\",\"Bad Credit\",\"Bad Credit\",\"Bad Credit\",\"Bad Credit\",\"Bad Credit\",\"Bad Credit\",\"Bad Credit\",\"Bad Credit\",\"Bad Credit\",\"Bad Credit\",\"Bad Credit\",\"Bad Credit\",\"Bad Credit\",\"Bad Credit\",\"Bad Credit\",\"Bad Credit\",\"Bad Credit\",\"Bad Credit\",\"Bad Credit\",\"Bad Credit\",\"Bad Credit\",\"Bad Credit\",\"Bad Credit\",\"Bad Credit\",\"Bad Credit\",\"Bad Credit\",\"Bad Credit\",\"Bad Credit\",\"Bad Credit\",\"Bad Credit\",\"Bad Credit\",\"Bad Credit\",\"Bad Credit\",\"Bad Credit\",\"Bad Credit\",\"Bad Credit\",\"Bad Credit\",\"Bad Credit\",\"Bad Credit\",\"Bad Credit\",\"Bad Credit\",\"Bad Credit\",\"Bad Credit\",\"Bad Credit\",\"Bad Credit\",\"Bad Credit\",\"Bad Credit\",\"Bad Credit\",\"Bad Credit\",\"Bad Credit\",\"Bad Credit\",\"Bad Credit\",\"Bad Credit\",\"Bad Credit\",\"Bad Credit\",\"Bad Credit\",\"Bad Credit\",\"Bad Credit\",\"Bad Credit\",\"Bad Credit\",\"Bad Credit\",\"Bad Credit\",\"Bad Credit\",\"Bad Credit\",\"Bad Credit\",\"Bad Credit\",\"Bad Credit\",\"Bad Credit\",\"Bad Credit\",\"Bad Credit\",\"Bad Credit\",\"Bad Credit\",\"Bad Credit\",\"Bad Credit\",\"Bad Credit\",\"Bad Credit\",\"Bad Credit\",\"Bad Credit\",\"Bad Credit\",\"Bad Credit\",\"Bad Credit\"],\"yaxis\":\"y2\",\"type\":\"scatter\"}],                        {\"barmode\":\"overlay\",\"hovermode\":\"closest\",\"legend\":{\"traceorder\":\"reversed\"},\"template\":{\"data\":{\"barpolar\":[{\"marker\":{\"line\":{\"color\":\"#E5ECF6\",\"width\":0.5},\"pattern\":{\"fillmode\":\"overlay\",\"size\":10,\"solidity\":0.2}},\"type\":\"barpolar\"}],\"bar\":[{\"error_x\":{\"color\":\"#2a3f5f\"},\"error_y\":{\"color\":\"#2a3f5f\"},\"marker\":{\"line\":{\"color\":\"#E5ECF6\",\"width\":0.5},\"pattern\":{\"fillmode\":\"overlay\",\"size\":10,\"solidity\":0.2}},\"type\":\"bar\"}],\"carpet\":[{\"aaxis\":{\"endlinecolor\":\"#2a3f5f\",\"gridcolor\":\"white\",\"linecolor\":\"white\",\"minorgridcolor\":\"white\",\"startlinecolor\":\"#2a3f5f\"},\"baxis\":{\"endlinecolor\":\"#2a3f5f\",\"gridcolor\":\"white\",\"linecolor\":\"white\",\"minorgridcolor\":\"white\",\"startlinecolor\":\"#2a3f5f\"},\"type\":\"carpet\"}],\"choropleth\":[{\"colorbar\":{\"outlinewidth\":0,\"ticks\":\"\"},\"type\":\"choropleth\"}],\"contourcarpet\":[{\"colorbar\":{\"outlinewidth\":0,\"ticks\":\"\"},\"type\":\"contourcarpet\"}],\"contour\":[{\"colorbar\":{\"outlinewidth\":0,\"ticks\":\"\"},\"colorscale\":[[0.0,\"#0d0887\"],[0.1111111111111111,\"#46039f\"],[0.2222222222222222,\"#7201a8\"],[0.3333333333333333,\"#9c179e\"],[0.4444444444444444,\"#bd3786\"],[0.5555555555555556,\"#d8576b\"],[0.6666666666666666,\"#ed7953\"],[0.7777777777777778,\"#fb9f3a\"],[0.8888888888888888,\"#fdca26\"],[1.0,\"#f0f921\"]],\"type\":\"contour\"}],\"heatmap\":[{\"colorbar\":{\"outlinewidth\":0,\"ticks\":\"\"},\"colorscale\":[[0.0,\"#0d0887\"],[0.1111111111111111,\"#46039f\"],[0.2222222222222222,\"#7201a8\"],[0.3333333333333333,\"#9c179e\"],[0.4444444444444444,\"#bd3786\"],[0.5555555555555556,\"#d8576b\"],[0.6666666666666666,\"#ed7953\"],[0.7777777777777778,\"#fb9f3a\"],[0.8888888888888888,\"#fdca26\"],[1.0,\"#f0f921\"]],\"type\":\"heatmap\"}],\"histogram2dcontour\":[{\"colorbar\":{\"outlinewidth\":0,\"ticks\":\"\"},\"colorscale\":[[0.0,\"#0d0887\"],[0.1111111111111111,\"#46039f\"],[0.2222222222222222,\"#7201a8\"],[0.3333333333333333,\"#9c179e\"],[0.4444444444444444,\"#bd3786\"],[0.5555555555555556,\"#d8576b\"],[0.6666666666666666,\"#ed7953\"],[0.7777777777777778,\"#fb9f3a\"],[0.8888888888888888,\"#fdca26\"],[1.0,\"#f0f921\"]],\"type\":\"histogram2dcontour\"}],\"histogram2d\":[{\"colorbar\":{\"outlinewidth\":0,\"ticks\":\"\"},\"colorscale\":[[0.0,\"#0d0887\"],[0.1111111111111111,\"#46039f\"],[0.2222222222222222,\"#7201a8\"],[0.3333333333333333,\"#9c179e\"],[0.4444444444444444,\"#bd3786\"],[0.5555555555555556,\"#d8576b\"],[0.6666666666666666,\"#ed7953\"],[0.7777777777777778,\"#fb9f3a\"],[0.8888888888888888,\"#fdca26\"],[1.0,\"#f0f921\"]],\"type\":\"histogram2d\"}],\"histogram\":[{\"marker\":{\"pattern\":{\"fillmode\":\"overlay\",\"size\":10,\"solidity\":0.2}},\"type\":\"histogram\"}],\"mesh3d\":[{\"colorbar\":{\"outlinewidth\":0,\"ticks\":\"\"},\"type\":\"mesh3d\"}],\"parcoords\":[{\"line\":{\"colorbar\":{\"outlinewidth\":0,\"ticks\":\"\"}},\"type\":\"parcoords\"}],\"pie\":[{\"automargin\":true,\"type\":\"pie\"}],\"scatter3d\":[{\"line\":{\"colorbar\":{\"outlinewidth\":0,\"ticks\":\"\"}},\"marker\":{\"colorbar\":{\"outlinewidth\":0,\"ticks\":\"\"}},\"type\":\"scatter3d\"}],\"scattercarpet\":[{\"marker\":{\"colorbar\":{\"outlinewidth\":0,\"ticks\":\"\"}},\"type\":\"scattercarpet\"}],\"scattergeo\":[{\"marker\":{\"colorbar\":{\"outlinewidth\":0,\"ticks\":\"\"}},\"type\":\"scattergeo\"}],\"scattergl\":[{\"marker\":{\"colorbar\":{\"outlinewidth\":0,\"ticks\":\"\"}},\"type\":\"scattergl\"}],\"scattermapbox\":[{\"marker\":{\"colorbar\":{\"outlinewidth\":0,\"ticks\":\"\"}},\"type\":\"scattermapbox\"}],\"scattermap\":[{\"marker\":{\"colorbar\":{\"outlinewidth\":0,\"ticks\":\"\"}},\"type\":\"scattermap\"}],\"scatterpolargl\":[{\"marker\":{\"colorbar\":{\"outlinewidth\":0,\"ticks\":\"\"}},\"type\":\"scatterpolargl\"}],\"scatterpolar\":[{\"marker\":{\"colorbar\":{\"outlinewidth\":0,\"ticks\":\"\"}},\"type\":\"scatterpolar\"}],\"scatter\":[{\"fillpattern\":{\"fillmode\":\"overlay\",\"size\":10,\"solidity\":0.2},\"type\":\"scatter\"}],\"scatterternary\":[{\"marker\":{\"colorbar\":{\"outlinewidth\":0,\"ticks\":\"\"}},\"type\":\"scatterternary\"}],\"surface\":[{\"colorbar\":{\"outlinewidth\":0,\"ticks\":\"\"},\"colorscale\":[[0.0,\"#0d0887\"],[0.1111111111111111,\"#46039f\"],[0.2222222222222222,\"#7201a8\"],[0.3333333333333333,\"#9c179e\"],[0.4444444444444444,\"#bd3786\"],[0.5555555555555556,\"#d8576b\"],[0.6666666666666666,\"#ed7953\"],[0.7777777777777778,\"#fb9f3a\"],[0.8888888888888888,\"#fdca26\"],[1.0,\"#f0f921\"]],\"type\":\"surface\"}],\"table\":[{\"cells\":{\"fill\":{\"color\":\"#EBF0F8\"},\"line\":{\"color\":\"white\"}},\"header\":{\"fill\":{\"color\":\"#C8D4E3\"},\"line\":{\"color\":\"white\"}},\"type\":\"table\"}]},\"layout\":{\"annotationdefaults\":{\"arrowcolor\":\"#2a3f5f\",\"arrowhead\":0,\"arrowwidth\":1},\"autotypenumbers\":\"strict\",\"coloraxis\":{\"colorbar\":{\"outlinewidth\":0,\"ticks\":\"\"}},\"colorscale\":{\"diverging\":[[0,\"#8e0152\"],[0.1,\"#c51b7d\"],[0.2,\"#de77ae\"],[0.3,\"#f1b6da\"],[0.4,\"#fde0ef\"],[0.5,\"#f7f7f7\"],[0.6,\"#e6f5d0\"],[0.7,\"#b8e186\"],[0.8,\"#7fbc41\"],[0.9,\"#4d9221\"],[1,\"#276419\"]],\"sequential\":[[0.0,\"#0d0887\"],[0.1111111111111111,\"#46039f\"],[0.2222222222222222,\"#7201a8\"],[0.3333333333333333,\"#9c179e\"],[0.4444444444444444,\"#bd3786\"],[0.5555555555555556,\"#d8576b\"],[0.6666666666666666,\"#ed7953\"],[0.7777777777777778,\"#fb9f3a\"],[0.8888888888888888,\"#fdca26\"],[1.0,\"#f0f921\"]],\"sequentialminus\":[[0.0,\"#0d0887\"],[0.1111111111111111,\"#46039f\"],[0.2222222222222222,\"#7201a8\"],[0.3333333333333333,\"#9c179e\"],[0.4444444444444444,\"#bd3786\"],[0.5555555555555556,\"#d8576b\"],[0.6666666666666666,\"#ed7953\"],[0.7777777777777778,\"#fb9f3a\"],[0.8888888888888888,\"#fdca26\"],[1.0,\"#f0f921\"]]},\"colorway\":[\"#636efa\",\"#EF553B\",\"#00cc96\",\"#ab63fa\",\"#FFA15A\",\"#19d3f3\",\"#FF6692\",\"#B6E880\",\"#FF97FF\",\"#FECB52\"],\"font\":{\"color\":\"#2a3f5f\"},\"geo\":{\"bgcolor\":\"white\",\"lakecolor\":\"white\",\"landcolor\":\"#E5ECF6\",\"showlakes\":true,\"showland\":true,\"subunitcolor\":\"white\"},\"hoverlabel\":{\"align\":\"left\"},\"hovermode\":\"closest\",\"mapbox\":{\"style\":\"light\"},\"paper_bgcolor\":\"white\",\"plot_bgcolor\":\"#E5ECF6\",\"polar\":{\"angularaxis\":{\"gridcolor\":\"white\",\"linecolor\":\"white\",\"ticks\":\"\"},\"bgcolor\":\"#E5ECF6\",\"radialaxis\":{\"gridcolor\":\"white\",\"linecolor\":\"white\",\"ticks\":\"\"}},\"scene\":{\"xaxis\":{\"backgroundcolor\":\"#E5ECF6\",\"gridcolor\":\"white\",\"gridwidth\":2,\"linecolor\":\"white\",\"showbackground\":true,\"ticks\":\"\",\"zerolinecolor\":\"white\"},\"yaxis\":{\"backgroundcolor\":\"#E5ECF6\",\"gridcolor\":\"white\",\"gridwidth\":2,\"linecolor\":\"white\",\"showbackground\":true,\"ticks\":\"\",\"zerolinecolor\":\"white\"},\"zaxis\":{\"backgroundcolor\":\"#E5ECF6\",\"gridcolor\":\"white\",\"gridwidth\":2,\"linecolor\":\"white\",\"showbackground\":true,\"ticks\":\"\",\"zerolinecolor\":\"white\"}},\"shapedefaults\":{\"line\":{\"color\":\"#2a3f5f\"}},\"ternary\":{\"aaxis\":{\"gridcolor\":\"white\",\"linecolor\":\"white\",\"ticks\":\"\"},\"baxis\":{\"gridcolor\":\"white\",\"linecolor\":\"white\",\"ticks\":\"\"},\"bgcolor\":\"#E5ECF6\",\"caxis\":{\"gridcolor\":\"white\",\"linecolor\":\"white\",\"ticks\":\"\"}},\"title\":{\"x\":0.05},\"xaxis\":{\"automargin\":true,\"gridcolor\":\"white\",\"linecolor\":\"white\",\"ticks\":\"\",\"title\":{\"standoff\":15},\"zerolinecolor\":\"white\",\"zerolinewidth\":2},\"yaxis\":{\"automargin\":true,\"gridcolor\":\"white\",\"linecolor\":\"white\",\"ticks\":\"\",\"title\":{\"standoff\":15},\"zerolinecolor\":\"white\",\"zerolinewidth\":2}}},\"xaxis\":{\"anchor\":\"y2\",\"domain\":[0.0,1.0],\"zeroline\":false},\"yaxis\":{\"anchor\":\"free\",\"domain\":[0.35,1],\"position\":0.0},\"yaxis2\":{\"anchor\":\"x\",\"domain\":[0,0.25],\"dtick\":1,\"showticklabels\":false}},                        {\"responsive\": true}                    ).then(function(){\n",
       "                            \n",
       "var gd = document.getElementById('c76d1e52-ad78-44f0-a5dd-58a21212f6f8');\n",
       "var x = new MutationObserver(function (mutations, observer) {{\n",
       "        var display = window.getComputedStyle(gd).display;\n",
       "        if (!display || display === 'none') {{\n",
       "            console.log([gd, 'removed!']);\n",
       "            Plotly.purge(gd);\n",
       "            observer.disconnect();\n",
       "        }}\n",
       "}});\n",
       "\n",
       "// Listen for the removal of the full notebook cells\n",
       "var notebookContainer = gd.closest('#notebook-container');\n",
       "if (notebookContainer) {{\n",
       "    x.observe(notebookContainer, {childList: true});\n",
       "}}\n",
       "\n",
       "// Listen for the clearing of the current output cell\n",
       "var outputEl = gd.closest('.output');\n",
       "if (outputEl) {{\n",
       "    x.observe(outputEl, {childList: true});\n",
       "}}\n",
       "\n",
       "                        })                };            </script>        </div>"
      ]
     },
     "metadata": {},
     "output_type": "display_data"
    }
   ],
   "source": [
    "import plotly.figure_factory as ff\n",
    "\n",
    "import numpy as np\n",
    "\n",
    "# Add histogram data\n",
    "x1 = np.log(df_good['Credit amount']) \n",
    "x2 = np.log(df_bad[\"Credit amount\"])\n",
    "\n",
    "# Group data together\n",
    "hist_data = [x1, x2]\n",
    "\n",
    "group_labels = ['Good Credit', 'Bad Credit']\n",
    "\n",
    "# Create distplot with custom bin_size\n",
    "fig = ff.create_distplot(hist_data, group_labels, bin_size=.2)\n",
    "\n",
    "# Plot!\n",
    "py.iplot(fig, filename='Distplot with Multiple Datasets')"
   ]
  },
  {
   "cell_type": "markdown",
   "metadata": {
    "_cell_guid": "7c43a4cd-cf0a-433c-9549-ee4edc46b8a9",
    "_uuid": "f50b556b07c699f82314235d23a912fcc9a93371"
   },
   "source": [
    "Distruibution of Saving accounts by Risk"
   ]
  },
  {
   "cell_type": "code",
   "execution_count": 14,
   "metadata": {
    "_cell_guid": "ba0ae362-7005-490b-b682-140fbed017b1",
    "_kg_hide-input": true,
    "_uuid": "68625a64933accf95647b5a097d14508bc78a1e7"
   },
   "outputs": [
    {
     "name": "stderr",
     "output_type": "stream",
     "text": [
      "C:\\Users\\USER\\anaconda3\\Lib\\site-packages\\plotly\\tools.py:452: DeprecationWarning:\n",
      "\n",
      "plotly.tools.make_subplots is deprecated, please use plotly.subplots.make_subplots instead\n",
      "\n"
     ]
    },
    {
     "data": {
      "application/vnd.plotly.v1+json": {
       "config": {
        "linkText": "Export to plot.ly",
        "plotlyServerURL": "https://plot.ly",
        "showLink": false
       },
       "data": [
        {
         "name": "Good credit",
         "type": "bar",
         "x": [
          "little",
          "moderate",
          "quite rich",
          "rich"
         ],
         "xaxis": "x",
         "y": {
          "bdata": "ggFFADQAKgA=",
          "dtype": "i2"
         },
         "yaxis": "y"
        },
        {
         "name": "Bad credit",
         "type": "bar",
         "x": [
          "little",
          "moderate",
          "quite rich",
          "rich"
         ],
         "xaxis": "x",
         "y": {
          "bdata": "2QAiAAsABgA=",
          "dtype": "i2"
         },
         "yaxis": "y"
        },
        {
         "name": "Bad credit",
         "type": "box",
         "x": [
          "little",
          "little",
          "little",
          "little",
          "little",
          "little",
          "moderate",
          "little",
          "little",
          "little",
          "little",
          "little",
          "little",
          null,
          "little",
          "little",
          "little",
          "little",
          null,
          "little",
          null,
          "moderate",
          "little",
          null,
          "little",
          "little",
          "little",
          "little",
          null,
          "quite rich",
          "little",
          null,
          "little",
          "little",
          "little",
          "quite rich",
          "little",
          "little",
          "little",
          "little",
          "little",
          "little",
          "little",
          null,
          "little",
          "little",
          null,
          "little",
          "little",
          "moderate",
          "rich",
          "moderate",
          "little",
          "moderate",
          "little",
          "moderate",
          "little",
          "little",
          "little",
          "little",
          "rich",
          "little",
          "little",
          "little",
          "little",
          null,
          "moderate",
          null,
          "little",
          "little",
          "little",
          "little",
          "little",
          "little",
          "little",
          "little",
          "little",
          "little",
          "little",
          "little",
          "little",
          null,
          "quite rich",
          "moderate",
          "little",
          "little",
          "little",
          "little",
          "little",
          "moderate",
          "moderate",
          "moderate",
          "little",
          "little",
          null,
          "rich",
          "little",
          "little",
          "little",
          "little",
          "little",
          "little",
          "little",
          "moderate",
          "little",
          "little",
          "little",
          "little",
          "little",
          "little",
          "quite rich",
          "little",
          null,
          "little",
          null,
          null,
          "little",
          "little",
          null,
          "little",
          "little",
          "little",
          "little",
          "rich",
          "little",
          "little",
          "little",
          "moderate",
          "little",
          "little",
          "little",
          "little",
          "little",
          "little",
          null,
          "moderate",
          "little",
          "moderate",
          "little",
          null,
          "moderate",
          "little",
          "little",
          "little",
          "little",
          "little",
          "moderate",
          "little",
          "little",
          "little",
          null,
          "little",
          "little",
          "little",
          "little",
          "little",
          "moderate",
          null,
          "little",
          "little",
          "little",
          null,
          "little",
          "little",
          "little",
          "little",
          "little",
          "little",
          "little",
          "little",
          "little",
          "little",
          null,
          "moderate",
          "little",
          "little",
          "little",
          "little",
          "little",
          "little",
          "moderate",
          "moderate",
          "moderate",
          "little",
          "moderate",
          "little",
          null,
          "little",
          "moderate",
          "little",
          "little",
          "little",
          "little",
          "little",
          "moderate",
          null,
          "quite rich",
          "little",
          "little",
          "little",
          "little",
          "moderate",
          "little",
          null,
          "little",
          "quite rich",
          "moderate",
          "quite rich",
          "little",
          "moderate",
          "little",
          "little",
          "little",
          "little",
          "rich",
          "little",
          "little",
          "little",
          "little",
          "little",
          "little",
          "moderate",
          "little",
          "little",
          "rich",
          null,
          null,
          "little",
          "little",
          null,
          "little",
          "little",
          null,
          "little",
          "moderate",
          "little",
          "little",
          "little",
          null,
          "little",
          "little",
          "little",
          "little",
          "little",
          "little",
          "little",
          "little",
          "little",
          null,
          "little",
          "little",
          "little",
          "little",
          "little",
          "little",
          null,
          "little",
          "little",
          "little",
          "little",
          "little",
          "little",
          "little",
          "little",
          "little",
          "little",
          "little",
          "little",
          "little",
          "little",
          "little",
          "little",
          "little",
          "moderate",
          "little",
          "little",
          "little",
          "little",
          "little",
          "little",
          "moderate",
          "little",
          "little",
          "quite rich",
          "little",
          "moderate",
          "little",
          "quite rich",
          "little",
          "little",
          "quite rich",
          "quite rich",
          "little",
          "little",
          "little",
          "moderate",
          "little",
          "little",
          "little",
          "little"
         ],
         "xaxis": "x2",
         "y": {
          "bdata": "PxcGE3IUDwXUEK8EAgUjMbQaihI0CP8XsQhEGVUYoQdVOBsHuQd9DzcXRDFUBB0DST6iLjoZrx4GHLkQKweEB38Cqw3nGv4CngkCBWsEjwe2AxAIVg09HWQlZxFvBnQDCRSiAu8RBA9LD9cL3QW3A8kQhgOtFHQH0Sq5HsYFchAfB9s4zwqTA/0RsQFmCGUIIgMSI/QL3i4DEgAEtiToJtwOQAWPJ9cC1QStAroKmRCSB0gH8BxGLQ4QOA37BHAEvwM3GN4EbxFmCakJdg2+OQUe7jewMscEyCH3B6sD9AhlBRMKEgTKCqYEQCzMBWECzwLoEzIH6AXREjoNewYUDMABjgLdBCoMuQR+ILQLSiMzDMAEtwQdBcIa9wLXG3YMzxv+CEcKDwlTHv4FzhgwCzUFcgJXGzMF5giLE+ANiAcKBmUwXAVmGqIMBAsgBFAJ9wfBBMYIngpOBaMDogWRENcKlgMtBxUNbwrlAtgEEAdxDfoFSg8oCp0FEQa8B0sFEhHuAg8SLB9qBbMDrAKCB/8Ilh94A4QD6xIUCtsVYwS7GKAZmQuuBMs2OQWxAcwECgpaBxAZwwcoLbgQ+gTQAxMGBQX3BLMCTAiIMSQMgR9bBUUTRANQGG4XpARXHTck8gadJesLWw9BBZgKfg9FEI8gwAQoLhcJOgQ7FJcHaRrFArsIogV3D3kIhwmiCI4F2Q8bAzg9ORBBCoASWQz4RzA6NwkRDVYF2Bq5AjkohgZ/B+kCkBgVDf0FJQ5hCBEQ3iqmD10J2AmpBIEc6gnwBMIg7BIlIDUH",
          "dtype": "i2"
         },
         "yaxis": "y2"
        },
        {
         "name": "Good credit",
         "type": "box",
         "x": [
          null,
          "little",
          "little",
          null,
          "quite rich",
          "little",
          "rich",
          "little",
          "little",
          null,
          null,
          "quite rich",
          "little",
          "quite rich",
          "little",
          "moderate",
          null,
          "little",
          "little",
          "rich",
          "little",
          "rich",
          "little",
          "moderate",
          null,
          "little",
          "little",
          "little",
          "little",
          "quite rich",
          "quite rich",
          "little",
          "moderate",
          "little",
          "quite rich",
          "quite rich",
          "little",
          "moderate",
          null,
          "little",
          "little",
          null,
          null,
          "little",
          "little",
          "little",
          null,
          "little",
          null,
          "little",
          "rich",
          null,
          "little",
          null,
          "little",
          "little",
          "little",
          "little",
          null,
          "little",
          "quite rich",
          "moderate",
          "little",
          "little",
          "little",
          "little",
          "moderate",
          "little",
          "little",
          null,
          "rich",
          null,
          "moderate",
          "little",
          null,
          "moderate",
          "little",
          "little",
          "little",
          null,
          "little",
          null,
          "quite rich",
          "moderate",
          "little",
          "little",
          "quite rich",
          null,
          null,
          "quite rich",
          "little",
          "little",
          "little",
          "little",
          "little",
          "little",
          null,
          "little",
          "little",
          "moderate",
          null,
          "rich",
          null,
          "little",
          "rich",
          "little",
          "little",
          "little",
          "moderate",
          "little",
          "moderate",
          "little",
          "rich",
          "moderate",
          "little",
          "little",
          "rich",
          "moderate",
          "moderate",
          "little",
          "moderate",
          null,
          "moderate",
          "little",
          "quite rich",
          "little",
          "quite rich",
          "quite rich",
          "rich",
          "little",
          "little",
          "little",
          "little",
          "quite rich",
          "little",
          "little",
          "rich",
          "little",
          "little",
          "little",
          "little",
          "little",
          null,
          "quite rich",
          "little",
          "little",
          "little",
          "little",
          "little",
          "little",
          "little",
          "rich",
          null,
          null,
          null,
          null,
          "little",
          "little",
          "little",
          "little",
          "little",
          null,
          "little",
          null,
          "little",
          "little",
          "little",
          "quite rich",
          "moderate",
          "little",
          "little",
          "little",
          "little",
          "little",
          "little",
          "quite rich",
          "little",
          "little",
          "moderate",
          "little",
          "rich",
          "little",
          "moderate",
          null,
          null,
          "little",
          "moderate",
          "moderate",
          "little",
          "little",
          "little",
          "little",
          "little",
          null,
          "little",
          null,
          null,
          "quite rich",
          null,
          "little",
          "little",
          null,
          "moderate",
          "rich",
          "little",
          null,
          null,
          "moderate",
          "little",
          "little",
          "moderate",
          "little",
          "little",
          "little",
          "little",
          null,
          null,
          null,
          "little",
          "rich",
          "little",
          "little",
          "rich",
          null,
          "little",
          null,
          "moderate",
          "little",
          null,
          "little",
          null,
          "little",
          "little",
          "little",
          "rich",
          "little",
          "little",
          null,
          "rich",
          "little",
          "little",
          "little",
          "little",
          "little",
          "little",
          "little",
          "little",
          "quite rich",
          "little",
          "little",
          "little",
          "little",
          "quite rich",
          "moderate",
          "little",
          null,
          "quite rich",
          null,
          "little",
          null,
          null,
          "little",
          "little",
          "little",
          "little",
          "little",
          "little",
          null,
          "little",
          "little",
          null,
          "little",
          null,
          "moderate",
          null,
          null,
          "little",
          "moderate",
          "little",
          null,
          "little",
          "quite rich",
          "little",
          "little",
          "rich",
          "little",
          "little",
          "little",
          "moderate",
          "little",
          "little",
          "rich",
          "little",
          null,
          "little",
          null,
          null,
          "little",
          "quite rich",
          "little",
          "little",
          "quite rich",
          "little",
          null,
          "quite rich",
          "rich",
          null,
          "little",
          "moderate",
          "little",
          "little",
          "rich",
          "little",
          "little",
          "little",
          "little",
          "little",
          "quite rich",
          "rich",
          "little",
          "little",
          "little",
          "little",
          null,
          "little",
          null,
          null,
          "little",
          "little",
          "little",
          "little",
          "little",
          "little",
          "little",
          "little",
          "little",
          "little",
          null,
          "little",
          "little",
          null,
          "little",
          "little",
          null,
          "quite rich",
          "little",
          "moderate",
          "little",
          "little",
          "little",
          "rich",
          "rich",
          "quite rich",
          "little",
          "little",
          "moderate",
          "little",
          "little",
          "moderate",
          null,
          "little",
          "little",
          "little",
          "moderate",
          "little",
          "moderate",
          "quite rich",
          "little",
          "moderate",
          "little",
          "little",
          "little",
          null,
          "little",
          "little",
          "moderate",
          null,
          "little",
          "moderate",
          "little",
          "little",
          "moderate",
          "little",
          "little",
          "little",
          "little",
          "moderate",
          null,
          null,
          "little",
          "little",
          "little",
          "little",
          "little",
          "little",
          null,
          null,
          "quite rich",
          "moderate",
          "little",
          null,
          "little",
          null,
          "moderate",
          "rich",
          null,
          "little",
          null,
          "little",
          "little",
          "little",
          "little",
          null,
          "little",
          "little",
          "little",
          null,
          "little",
          "little",
          "little",
          null,
          "rich",
          "little",
          "little",
          "little",
          "quite rich",
          "little",
          "little",
          null,
          "rich",
          "little",
          null,
          null,
          "little",
          "little",
          "little",
          "little",
          null,
          "little",
          "quite rich",
          null,
          "little",
          null,
          "little",
          "quite rich",
          "little",
          "little",
          "little",
          "little",
          "little",
          "little",
          "little",
          "little",
          "little",
          null,
          "little",
          "little",
          "little",
          "little",
          "little",
          "little",
          "little",
          "rich",
          "little",
          "little",
          "moderate",
          "moderate",
          "little",
          "quite rich",
          "little",
          "little",
          "little",
          "little",
          "little",
          null,
          "little",
          "little",
          "moderate",
          null,
          null,
          "moderate",
          "moderate",
          "rich",
          "little",
          "moderate",
          "moderate",
          null,
          "little",
          "quite rich",
          "little",
          "little",
          "little",
          "little",
          "moderate",
          "moderate",
          "little",
          "quite rich",
          "little",
          "little",
          "quite rich",
          null,
          "little",
          null,
          null,
          "little",
          null,
          "moderate",
          "quite rich",
          "rich",
          "quite rich",
          "rich",
          "little",
          "little",
          "rich",
          "little",
          null,
          "moderate",
          "little",
          "moderate",
          "little",
          null,
          "quite rich",
          null,
          "little",
          "little",
          null,
          "little",
          "little",
          "moderate",
          "little",
          "little",
          "little",
          null,
          "little",
          "moderate",
          "little",
          null,
          "little",
          "little",
          null,
          "little",
          "moderate",
          "quite rich",
          "little",
          "little",
          "rich",
          "little",
          "rich",
          "little",
          null,
          "rich",
          "quite rich",
          null,
          null,
          null,
          "little",
          "quite rich",
          "moderate",
          "little",
          null,
          null,
          "little",
          "little",
          "little",
          null,
          null,
          "little",
          null,
          "little",
          "little",
          "little",
          "little",
          "quite rich",
          "little",
          "little",
          "little",
          "little",
          "little",
          "little",
          "little",
          null,
          "quite rich",
          null,
          null,
          "little",
          "little",
          "little",
          "little",
          "little",
          "little",
          null,
          "little",
          "little",
          null,
          "little",
          "little",
          "moderate",
          null,
          "little",
          "moderate",
          "rich",
          "rich",
          "quite rich",
          "little",
          "little",
          null,
          "little",
          "quite rich",
          "little",
          "moderate",
          null,
          "little",
          "rich",
          "little",
          "little",
          null,
          "little",
          null,
          null,
          "little",
          null,
          "little",
          null,
          "little",
          "little",
          "little",
          "little",
          null,
          null,
          "little",
          "rich",
          null,
          null,
          null,
          null,
          "little",
          "little",
          null,
          null,
          "little",
          null,
          "little",
          null,
          "rich",
          "moderate",
          "little",
          "quite rich",
          "little",
          "little",
          null,
          "little",
          "little",
          "little",
          "quite rich",
          "little",
          "little",
          null,
          null,
          "little",
          null,
          "little",
          "little",
          "quite rich",
          null,
          "little",
          "little",
          "rich",
          null,
          "little",
          "moderate",
          "little",
          "little",
          null,
          "little",
          null,
          "little",
          null,
          "little",
          "moderate",
          "little",
          "little",
          "quite rich",
          "little",
          null,
          "moderate",
          "little",
          "little",
          "little",
          "moderate",
          "little",
          "little",
          null,
          "moderate",
          null,
          "little",
          null,
          "little",
          "little",
          "little",
          "moderate"
         ],
         "xaxis": "x2",
         "y": {
          "bdata": "kQQwCMoeXyMTCyQb8wsfBnsFeAmIH2YNVghXCsEIDAcVCF4FqgGZAW8JeQe0D+oW8ATCBd4XyQTKAR0JhgQ8GCsYcQX7CEgFPBwZCB0JTRfuBDINDwNeJakHbwUBBm0MRhR7CO8DWgnFH9oCjARCF/YFoxLcJPgOvQQgBtsGCwmEBQ8FyQhqAoEFIQ4mBdwHPgohCZEbvQUTCaQDfweNCb4XKR6CBakFiAF0GJAG+g1UCD4JHA/oBg0DSQi9AkQHJyGUCsAHoCfYBKUhqApZB8UCuxJYDfAI7g1cA6oC+xQuBkIFhAfYFk4eNxsIBVMBuA1qBzgLHwTuBIwcjQOiCykGhA/7AoYFEQpSAasHOwLBDlAFlwSsDDwIZgXICqgDkAT9E9cFfymPB5AFqBmFBQIM+w4ODaQDIAxJD80LVAVxArAEwwKiCzESNQpNDMsJXQhiAwgGCwXaCTsGoQR3DeoEzQK0BIUHmgLLCDcQ7gf6HHwK5A6CBHkGQwa2FLwKzwSgGP0F5wNmCnoFiS+JCmQJ7gRtBygNJgalBfAFJg/iKbQSnh1EBDQEExm8Es0dQxIHBdMJuQqgAg4EBwbLEhQBBRWHFaUO1gXEAv8QvQI7Dl4LYwoEBEYNqRb1BXkRLATXGTUISRDxBW8WDw6NDFcRbQ+zBXIDrg7PBtQEnQzXAhsJCAPXBEcNxwjmBgYGCg9CDrkLBwy2F2IIvDUQCU4DagGkCAMFMgWwEL4IZgTOHBYJqQUcB9cDsQylB2YJ8C0SCiwJ7AXBBV8HIgNTC5UIHQSjDK8HVRw9BtIWFyHeCnIM7Ae+AzcG2wq3Cn0EIQV4DVAHCghYCJQCBwVCDVwHVAZFCtwEEAqQBS4rBgLHCm4KdwpBD1cB8hEkDrkGyQvyAp4HbAtGHMwKRxLWBAkKIBQNBMYF9Q2xBCYOwAOLBAUMrQ6KBb4NjgfVBHABSggxBhUFKwV1FWYEOAmFBYwhThJ/CkkCzwhhAlEFswS8AoMVoA1ZBB4f/AXfBZYC4QjfBR8FIQxeBRwO6QvwB+cE5gcQBpoi5APWBssHrwSUC6sCaBIRBhIKiw9CFzkVJgM6BOQKcguHB6kDNAxsBVUI7woJBYEBrQckBhcPGQn7BAwLrhEDCBQFHQ0wDqwvxSNcDoACRA5CB7sHRAjKD/gOTA6kBXEFYAUlPdUFHAU7B1gH5xE0HSoJhQ/uJ30Q2RgRBcEIGgQXBKoYqA0ZDskLKxBuFn4oIAiyER4UUAmtBQIG5wjGBe8TgSZ/GUMFLgvBCkMOzwNHClALbBLsCNQETwSeAwgHcQdhBccJ4AnMFLYERgh1AqwJcgSsHQUM4QVMDAQYFgP6ACQF+wQDGfgCKwo0DZYPHBFpGhUJGARYDLMJYzcFB88JgBTVC6wBSQOLFhMFcQW1E6YInwmDBFULIQ53BvwKywyvCMgFzw21DU8WIA+UB4IFRBmVB3MKvwqpGMUETAv2C/0I6gTNAg0GPQYDB7AQ0AMwHU4CogNDJIsD5AEIHToFEgbxPU0EyAvbAsQOQgYZGkcJ3BN2A1kCjQszCrELFwZeDYgP4QRUBcoPvwV7KsIFfgMPDfkNrBauEa0IVQkDDfEcjAL+HT8FZgVqAwYOKgWUBwsOVhqGHj0khQhKBAkL1hmQHooJJQd7CKgWkQTzIi4KOAaKCJ0N7ShqBf4EUwSzDn8OCg57DGYRrwteCCALGQfNMdIHGQRLB0AF0wbIBAoC2gUPCLoaxw0KBqEDrwU1B6YgKwsGDmUHzwRIDoIE/QvMBjEJ5A3GAbMG8A3+G2MP6gXhHA8L6gTxAnsJawvsB5kFkRiBBbMZzwbtDSEGkAd3D1YJyAYRDyQD4BE=",
          "dtype": "i2"
         },
         "yaxis": "y2"
        },
        {
         "name": "Good credit",
         "type": "box",
         "x": [
          null,
          "little",
          "little",
          null,
          "quite rich",
          "little",
          "rich",
          "little",
          "little",
          null,
          null,
          "quite rich",
          "little",
          "quite rich",
          "little",
          "moderate",
          null,
          "little",
          "little",
          "rich",
          "little",
          "rich",
          "little",
          "moderate",
          null,
          "little",
          "little",
          "little",
          "little",
          "quite rich",
          "quite rich",
          "little",
          "moderate",
          "little",
          "quite rich",
          "quite rich",
          "little",
          "moderate",
          null,
          "little",
          "little",
          null,
          null,
          "little",
          "little",
          "little",
          null,
          "little",
          null,
          "little",
          "rich",
          null,
          "little",
          null,
          "little",
          "little",
          "little",
          "little",
          null,
          "little",
          "quite rich",
          "moderate",
          "little",
          "little",
          "little",
          "little",
          "moderate",
          "little",
          "little",
          null,
          "rich",
          null,
          "moderate",
          "little",
          null,
          "moderate",
          "little",
          "little",
          "little",
          null,
          "little",
          null,
          "quite rich",
          "moderate",
          "little",
          "little",
          "quite rich",
          null,
          null,
          "quite rich",
          "little",
          "little",
          "little",
          "little",
          "little",
          "little",
          null,
          "little",
          "little",
          "moderate",
          null,
          "rich",
          null,
          "little",
          "rich",
          "little",
          "little",
          "little",
          "moderate",
          "little",
          "moderate",
          "little",
          "rich",
          "moderate",
          "little",
          "little",
          "rich",
          "moderate",
          "moderate",
          "little",
          "moderate",
          null,
          "moderate",
          "little",
          "quite rich",
          "little",
          "quite rich",
          "quite rich",
          "rich",
          "little",
          "little",
          "little",
          "little",
          "quite rich",
          "little",
          "little",
          "rich",
          "little",
          "little",
          "little",
          "little",
          "little",
          null,
          "quite rich",
          "little",
          "little",
          "little",
          "little",
          "little",
          "little",
          "little",
          "rich",
          null,
          null,
          null,
          null,
          "little",
          "little",
          "little",
          "little",
          "little",
          null,
          "little",
          null,
          "little",
          "little",
          "little",
          "quite rich",
          "moderate",
          "little",
          "little",
          "little",
          "little",
          "little",
          "little",
          "quite rich",
          "little",
          "little",
          "moderate",
          "little",
          "rich",
          "little",
          "moderate",
          null,
          null,
          "little",
          "moderate",
          "moderate",
          "little",
          "little",
          "little",
          "little",
          "little",
          null,
          "little",
          null,
          null,
          "quite rich",
          null,
          "little",
          "little",
          null,
          "moderate",
          "rich",
          "little",
          null,
          null,
          "moderate",
          "little",
          "little",
          "moderate",
          "little",
          "little",
          "little",
          "little",
          null,
          null,
          null,
          "little",
          "rich",
          "little",
          "little",
          "rich",
          null,
          "little",
          null,
          "moderate",
          "little",
          null,
          "little",
          null,
          "little",
          "little",
          "little",
          "rich",
          "little",
          "little",
          null,
          "rich",
          "little",
          "little",
          "little",
          "little",
          "little",
          "little",
          "little",
          "little",
          "quite rich",
          "little",
          "little",
          "little",
          "little",
          "quite rich",
          "moderate",
          "little",
          null,
          "quite rich",
          null,
          "little",
          null,
          null,
          "little",
          "little",
          "little",
          "little",
          "little",
          "little",
          null,
          "little",
          "little",
          null,
          "little",
          null,
          "moderate",
          null,
          null,
          "little",
          "moderate",
          "little",
          null,
          "little",
          "quite rich",
          "little",
          "little",
          "rich",
          "little",
          "little",
          "little",
          "moderate",
          "little",
          "little",
          "rich",
          "little",
          null,
          "little",
          null,
          null,
          "little",
          "quite rich",
          "little",
          "little",
          "quite rich",
          "little",
          null,
          "quite rich",
          "rich",
          null,
          "little",
          "moderate",
          "little",
          "little",
          "rich",
          "little",
          "little",
          "little",
          "little",
          "little",
          "quite rich",
          "rich",
          "little",
          "little",
          "little",
          "little",
          null,
          "little",
          null,
          null,
          "little",
          "little",
          "little",
          "little",
          "little",
          "little",
          "little",
          "little",
          "little",
          "little",
          null,
          "little",
          "little",
          null,
          "little",
          "little",
          null,
          "quite rich",
          "little",
          "moderate",
          "little",
          "little",
          "little",
          "rich",
          "rich",
          "quite rich",
          "little",
          "little",
          "moderate",
          "little",
          "little",
          "moderate",
          null,
          "little",
          "little",
          "little",
          "moderate",
          "little",
          "moderate",
          "quite rich",
          "little",
          "moderate",
          "little",
          "little",
          "little",
          null,
          "little",
          "little",
          "moderate",
          null,
          "little",
          "moderate",
          "little",
          "little",
          "moderate",
          "little",
          "little",
          "little",
          "little",
          "moderate",
          null,
          null,
          "little",
          "little",
          "little",
          "little",
          "little",
          "little",
          null,
          null,
          "quite rich",
          "moderate",
          "little",
          null,
          "little",
          null,
          "moderate",
          "rich",
          null,
          "little",
          null,
          "little",
          "little",
          "little",
          "little",
          null,
          "little",
          "little",
          "little",
          null,
          "little",
          "little",
          "little",
          null,
          "rich",
          "little",
          "little",
          "little",
          "quite rich",
          "little",
          "little",
          null,
          "rich",
          "little",
          null,
          null,
          "little",
          "little",
          "little",
          "little",
          null,
          "little",
          "quite rich",
          null,
          "little",
          null,
          "little",
          "quite rich",
          "little",
          "little",
          "little",
          "little",
          "little",
          "little",
          "little",
          "little",
          "little",
          null,
          "little",
          "little",
          "little",
          "little",
          "little",
          "little",
          "little",
          "rich",
          "little",
          "little",
          "moderate",
          "moderate",
          "little",
          "quite rich",
          "little",
          "little",
          "little",
          "little",
          "little",
          null,
          "little",
          "little",
          "moderate",
          null,
          null,
          "moderate",
          "moderate",
          "rich",
          "little",
          "moderate",
          "moderate",
          null,
          "little",
          "quite rich",
          "little",
          "little",
          "little",
          "little",
          "moderate",
          "moderate",
          "little",
          "quite rich",
          "little",
          "little",
          "quite rich",
          null,
          "little",
          null,
          null,
          "little",
          null,
          "moderate",
          "quite rich",
          "rich",
          "quite rich",
          "rich",
          "little",
          "little",
          "rich",
          "little",
          null,
          "moderate",
          "little",
          "moderate",
          "little",
          null,
          "quite rich",
          null,
          "little",
          "little",
          null,
          "little",
          "little",
          "moderate",
          "little",
          "little",
          "little",
          null,
          "little",
          "moderate",
          "little",
          null,
          "little",
          "little",
          null,
          "little",
          "moderate",
          "quite rich",
          "little",
          "little",
          "rich",
          "little",
          "rich",
          "little",
          null,
          "rich",
          "quite rich",
          null,
          null,
          null,
          "little",
          "quite rich",
          "moderate",
          "little",
          null,
          null,
          "little",
          "little",
          "little",
          null,
          null,
          "little",
          null,
          "little",
          "little",
          "little",
          "little",
          "quite rich",
          "little",
          "little",
          "little",
          "little",
          "little",
          "little",
          "little",
          null,
          "quite rich",
          null,
          null,
          "little",
          "little",
          "little",
          "little",
          "little",
          "little",
          null,
          "little",
          "little",
          null,
          "little",
          "little",
          "moderate",
          null,
          "little",
          "moderate",
          "rich",
          "rich",
          "quite rich",
          "little",
          "little",
          null,
          "little",
          "quite rich",
          "little",
          "moderate",
          null,
          "little",
          "rich",
          "little",
          "little",
          null,
          "little",
          null,
          null,
          "little",
          null,
          "little",
          null,
          "little",
          "little",
          "little",
          "little",
          null,
          null,
          "little",
          "rich",
          null,
          null,
          null,
          null,
          "little",
          "little",
          null,
          null,
          "little",
          null,
          "little",
          null,
          "rich",
          "moderate",
          "little",
          "quite rich",
          "little",
          "little",
          null,
          "little",
          "little",
          "little",
          "quite rich",
          "little",
          "little",
          null,
          null,
          "little",
          null,
          "little",
          "little",
          "quite rich",
          null,
          "little",
          "little",
          "rich",
          null,
          "little",
          "moderate",
          "little",
          "little",
          null,
          "little",
          null,
          "little",
          null,
          "little",
          "moderate",
          "little",
          "little",
          "quite rich",
          "little",
          null,
          "moderate",
          "little",
          "little",
          "little",
          "moderate",
          "little",
          "little",
          null,
          "moderate",
          null,
          "little",
          null,
          "little",
          "little",
          "little",
          "moderate"
         ],
         "xaxis": "x3",
         "y": {
          "bdata": "QzEtIzUjPRYcNRkfMCwwLBokJyoiJBseOSEfJRgeGiwYIycXJxwdHhkfGh8XGzIaMB0WGR4uMylCMycWLxg6NB0bHjg2FDY9IiQkKRgYIxogHiMfFxwjLxskKRg/HigiGBsvFSYbIywbHhsXHiczHC4qJhgdJDAtJiIkHiRGJCAUGRohKjQfQTIfRCEdHCQ0GxomJisaFTchLTMnHxcYQBoXHiAeGxYzIxkqIyczGyMZNCMaJy4jGBsjFzkbNyQ5ICQmGSAlJCAaMR0XMjE/JSMaHzEaLDguFC0rIDYxIRgWKBkaHSYwIBsiHCQnMSIfHEsXHB8YGhkhJSsXFyIXJi4xHD0lJBUkGxYoJCEXPyIkNCcZGhoZFSgbGx4TJx8fIDcuKyccGysrGxoUIygjFx8UHi8iFR0uFEokIRkXJUEnHh0pIzceHSIjHSQbICUkIiYiPyAaIyQYGScsFxo5Hiw0PiMaGhsmJyggHCoxJBwtIBoUNiUoKyQsFxoeHyopICkaGUslLTw9JSAjFy0bQzEdJRciKSYaFhsYGyEbMRo0JBU6KiQgLRcWSiEtHRYwGyUxGxYjKSRAHBcvHBUiJiEgIDIjFiUcKRcyIzIbIhsvGx8qGBohQBo4JSEvHyIbHiMfGRkdLBwyHSYYKC8pICMZJSAuGT8oIB8fQikvJCEsHCUdIy0gFykWHhwXGiExFxlKHzsYGygfHD8aJDRCJRkmQzwfPCMoJikbMyAWFjYjNjAYIxgaQTcaHDY+GCsbGC8jHiYsKhUXPy4cMi8jHDsrIy0hKBwaGyAUGyolGCguGhgdKCQcJCYwJEEiIigrLiYiHR8cIyEsKigkFBgbLiEiGRwgHCUeFTorGB4qFx4uLR8fKi4eJigdOTElHh4vHRYaNh0oFishOUAqHB4ZIUAdMCUiFx4yHygmGw==",
          "dtype": "i1"
         },
         "yaxis": "y3"
        },
        {
         "name": "Bad credit",
         "type": "box",
         "x": [
          "little",
          "little",
          "little",
          "little",
          "little",
          "little",
          "moderate",
          "little",
          "little",
          "little",
          "little",
          "little",
          "little",
          null,
          "little",
          "little",
          "little",
          "little",
          null,
          "little",
          null,
          "moderate",
          "little",
          null,
          "little",
          "little",
          "little",
          "little",
          null,
          "quite rich",
          "little",
          null,
          "little",
          "little",
          "little",
          "quite rich",
          "little",
          "little",
          "little",
          "little",
          "little",
          "little",
          "little",
          null,
          "little",
          "little",
          null,
          "little",
          "little",
          "moderate",
          "rich",
          "moderate",
          "little",
          "moderate",
          "little",
          "moderate",
          "little",
          "little",
          "little",
          "little",
          "rich",
          "little",
          "little",
          "little",
          "little",
          null,
          "moderate",
          null,
          "little",
          "little",
          "little",
          "little",
          "little",
          "little",
          "little",
          "little",
          "little",
          "little",
          "little",
          "little",
          "little",
          null,
          "quite rich",
          "moderate",
          "little",
          "little",
          "little",
          "little",
          "little",
          "moderate",
          "moderate",
          "moderate",
          "little",
          "little",
          null,
          "rich",
          "little",
          "little",
          "little",
          "little",
          "little",
          "little",
          "little",
          "moderate",
          "little",
          "little",
          "little",
          "little",
          "little",
          "little",
          "quite rich",
          "little",
          null,
          "little",
          null,
          null,
          "little",
          "little",
          null,
          "little",
          "little",
          "little",
          "little",
          "rich",
          "little",
          "little",
          "little",
          "moderate",
          "little",
          "little",
          "little",
          "little",
          "little",
          "little",
          null,
          "moderate",
          "little",
          "moderate",
          "little",
          null,
          "moderate",
          "little",
          "little",
          "little",
          "little",
          "little",
          "moderate",
          "little",
          "little",
          "little",
          null,
          "little",
          "little",
          "little",
          "little",
          "little",
          "moderate",
          null,
          "little",
          "little",
          "little",
          null,
          "little",
          "little",
          "little",
          "little",
          "little",
          "little",
          "little",
          "little",
          "little",
          "little",
          null,
          "moderate",
          "little",
          "little",
          "little",
          "little",
          "little",
          "little",
          "moderate",
          "moderate",
          "moderate",
          "little",
          "moderate",
          "little",
          null,
          "little",
          "moderate",
          "little",
          "little",
          "little",
          "little",
          "little",
          "moderate",
          null,
          "quite rich",
          "little",
          "little",
          "little",
          "little",
          "moderate",
          "little",
          null,
          "little",
          "quite rich",
          "moderate",
          "quite rich",
          "little",
          "moderate",
          "little",
          "little",
          "little",
          "little",
          "rich",
          "little",
          "little",
          "little",
          "little",
          "little",
          "little",
          "moderate",
          "little",
          "little",
          "rich",
          null,
          null,
          "little",
          "little",
          null,
          "little",
          "little",
          null,
          "little",
          "moderate",
          "little",
          "little",
          "little",
          null,
          "little",
          "little",
          "little",
          "little",
          "little",
          "little",
          "little",
          "little",
          "little",
          null,
          "little",
          "little",
          "little",
          "little",
          "little",
          "little",
          null,
          "little",
          "little",
          "little",
          "little",
          "little",
          "little",
          "little",
          "little",
          "little",
          "little",
          "little",
          "little",
          "little",
          "little",
          "little",
          "little",
          "little",
          "moderate",
          "little",
          "little",
          "little",
          "little",
          "little",
          "little",
          "moderate",
          "little",
          "little",
          "quite rich",
          "little",
          "moderate",
          "little",
          "quite rich",
          "little",
          "little",
          "quite rich",
          "quite rich",
          "little",
          "little",
          "little",
          "moderate",
          "little",
          "little",
          "little",
          "little"
         ],
         "xaxis": "x3",
         "y": {
          "bdata": "FjUcGRg8ICw/GSU6OTQXPRklKCIsLxwhOicnGR4XGRseHR1CFhQhHyEiGjUcHigkShQ2IiQVIhsoFTJCGzUWGh4XPR0YFhgdJS0cIiAwHBoqJSwhGBkfHCAeGBgXLBggHRwXGhcZKjwlOSYuGxYcKiMhIRk3HRkaKR4iPR8jHRYXHCEaLyoUHRsmGBsiGhcYNR8cISoXHyIrGCIWHB0bHxglJB8XGx4hFC88FCggFyQfHiIcMhYwFhUgJkEdLBMZGhsoGxomKCUtKikXKykYHS4YGSMbIhgYFRk7FRcaJRc3ICcjGB4fGRkZFzIbJzMYGhg2LhopISQvFx0ZMB0XRDkhIB0cIxkbKzUXKisZHyBEIScWNy4nFh4cKh4rHxgcGi0jFx0kLxkxIRoX",
          "dtype": "i1"
         },
         "yaxis": "y3"
        }
       ],
       "layout": {
        "annotations": [
         {
          "font": {
           "size": 16
          },
          "showarrow": false,
          "text": "Count Saving Accounts",
          "x": 0.225,
          "xanchor": "center",
          "xref": "paper",
          "y": 1,
          "yanchor": "bottom",
          "yref": "paper"
         },
         {
          "font": {
           "size": 16
          },
          "showarrow": false,
          "text": "Credit Amount by Savings Acc",
          "x": 0.775,
          "xanchor": "center",
          "xref": "paper",
          "y": 1,
          "yanchor": "bottom",
          "yref": "paper"
         },
         {
          "font": {
           "size": 16
          },
          "showarrow": false,
          "text": "Age by Saving accounts",
          "x": 0.5,
          "xanchor": "center",
          "xref": "paper",
          "y": 0.375,
          "yanchor": "bottom",
          "yref": "paper"
         }
        ],
        "boxmode": "group",
        "height": 700,
        "template": {
         "data": {
          "bar": [
           {
            "error_x": {
             "color": "#2a3f5f"
            },
            "error_y": {
             "color": "#2a3f5f"
            },
            "marker": {
             "line": {
              "color": "#E5ECF6",
              "width": 0.5
             },
             "pattern": {
              "fillmode": "overlay",
              "size": 10,
              "solidity": 0.2
             }
            },
            "type": "bar"
           }
          ],
          "barpolar": [
           {
            "marker": {
             "line": {
              "color": "#E5ECF6",
              "width": 0.5
             },
             "pattern": {
              "fillmode": "overlay",
              "size": 10,
              "solidity": 0.2
             }
            },
            "type": "barpolar"
           }
          ],
          "carpet": [
           {
            "aaxis": {
             "endlinecolor": "#2a3f5f",
             "gridcolor": "white",
             "linecolor": "white",
             "minorgridcolor": "white",
             "startlinecolor": "#2a3f5f"
            },
            "baxis": {
             "endlinecolor": "#2a3f5f",
             "gridcolor": "white",
             "linecolor": "white",
             "minorgridcolor": "white",
             "startlinecolor": "#2a3f5f"
            },
            "type": "carpet"
           }
          ],
          "choropleth": [
           {
            "colorbar": {
             "outlinewidth": 0,
             "ticks": ""
            },
            "type": "choropleth"
           }
          ],
          "contour": [
           {
            "colorbar": {
             "outlinewidth": 0,
             "ticks": ""
            },
            "colorscale": [
             [
              0,
              "#0d0887"
             ],
             [
              0.1111111111111111,
              "#46039f"
             ],
             [
              0.2222222222222222,
              "#7201a8"
             ],
             [
              0.3333333333333333,
              "#9c179e"
             ],
             [
              0.4444444444444444,
              "#bd3786"
             ],
             [
              0.5555555555555556,
              "#d8576b"
             ],
             [
              0.6666666666666666,
              "#ed7953"
             ],
             [
              0.7777777777777778,
              "#fb9f3a"
             ],
             [
              0.8888888888888888,
              "#fdca26"
             ],
             [
              1,
              "#f0f921"
             ]
            ],
            "type": "contour"
           }
          ],
          "contourcarpet": [
           {
            "colorbar": {
             "outlinewidth": 0,
             "ticks": ""
            },
            "type": "contourcarpet"
           }
          ],
          "heatmap": [
           {
            "colorbar": {
             "outlinewidth": 0,
             "ticks": ""
            },
            "colorscale": [
             [
              0,
              "#0d0887"
             ],
             [
              0.1111111111111111,
              "#46039f"
             ],
             [
              0.2222222222222222,
              "#7201a8"
             ],
             [
              0.3333333333333333,
              "#9c179e"
             ],
             [
              0.4444444444444444,
              "#bd3786"
             ],
             [
              0.5555555555555556,
              "#d8576b"
             ],
             [
              0.6666666666666666,
              "#ed7953"
             ],
             [
              0.7777777777777778,
              "#fb9f3a"
             ],
             [
              0.8888888888888888,
              "#fdca26"
             ],
             [
              1,
              "#f0f921"
             ]
            ],
            "type": "heatmap"
           }
          ],
          "histogram": [
           {
            "marker": {
             "pattern": {
              "fillmode": "overlay",
              "size": 10,
              "solidity": 0.2
             }
            },
            "type": "histogram"
           }
          ],
          "histogram2d": [
           {
            "colorbar": {
             "outlinewidth": 0,
             "ticks": ""
            },
            "colorscale": [
             [
              0,
              "#0d0887"
             ],
             [
              0.1111111111111111,
              "#46039f"
             ],
             [
              0.2222222222222222,
              "#7201a8"
             ],
             [
              0.3333333333333333,
              "#9c179e"
             ],
             [
              0.4444444444444444,
              "#bd3786"
             ],
             [
              0.5555555555555556,
              "#d8576b"
             ],
             [
              0.6666666666666666,
              "#ed7953"
             ],
             [
              0.7777777777777778,
              "#fb9f3a"
             ],
             [
              0.8888888888888888,
              "#fdca26"
             ],
             [
              1,
              "#f0f921"
             ]
            ],
            "type": "histogram2d"
           }
          ],
          "histogram2dcontour": [
           {
            "colorbar": {
             "outlinewidth": 0,
             "ticks": ""
            },
            "colorscale": [
             [
              0,
              "#0d0887"
             ],
             [
              0.1111111111111111,
              "#46039f"
             ],
             [
              0.2222222222222222,
              "#7201a8"
             ],
             [
              0.3333333333333333,
              "#9c179e"
             ],
             [
              0.4444444444444444,
              "#bd3786"
             ],
             [
              0.5555555555555556,
              "#d8576b"
             ],
             [
              0.6666666666666666,
              "#ed7953"
             ],
             [
              0.7777777777777778,
              "#fb9f3a"
             ],
             [
              0.8888888888888888,
              "#fdca26"
             ],
             [
              1,
              "#f0f921"
             ]
            ],
            "type": "histogram2dcontour"
           }
          ],
          "mesh3d": [
           {
            "colorbar": {
             "outlinewidth": 0,
             "ticks": ""
            },
            "type": "mesh3d"
           }
          ],
          "parcoords": [
           {
            "line": {
             "colorbar": {
              "outlinewidth": 0,
              "ticks": ""
             }
            },
            "type": "parcoords"
           }
          ],
          "pie": [
           {
            "automargin": true,
            "type": "pie"
           }
          ],
          "scatter": [
           {
            "fillpattern": {
             "fillmode": "overlay",
             "size": 10,
             "solidity": 0.2
            },
            "type": "scatter"
           }
          ],
          "scatter3d": [
           {
            "line": {
             "colorbar": {
              "outlinewidth": 0,
              "ticks": ""
             }
            },
            "marker": {
             "colorbar": {
              "outlinewidth": 0,
              "ticks": ""
             }
            },
            "type": "scatter3d"
           }
          ],
          "scattercarpet": [
           {
            "marker": {
             "colorbar": {
              "outlinewidth": 0,
              "ticks": ""
             }
            },
            "type": "scattercarpet"
           }
          ],
          "scattergeo": [
           {
            "marker": {
             "colorbar": {
              "outlinewidth": 0,
              "ticks": ""
             }
            },
            "type": "scattergeo"
           }
          ],
          "scattergl": [
           {
            "marker": {
             "colorbar": {
              "outlinewidth": 0,
              "ticks": ""
             }
            },
            "type": "scattergl"
           }
          ],
          "scattermap": [
           {
            "marker": {
             "colorbar": {
              "outlinewidth": 0,
              "ticks": ""
             }
            },
            "type": "scattermap"
           }
          ],
          "scattermapbox": [
           {
            "marker": {
             "colorbar": {
              "outlinewidth": 0,
              "ticks": ""
             }
            },
            "type": "scattermapbox"
           }
          ],
          "scatterpolar": [
           {
            "marker": {
             "colorbar": {
              "outlinewidth": 0,
              "ticks": ""
             }
            },
            "type": "scatterpolar"
           }
          ],
          "scatterpolargl": [
           {
            "marker": {
             "colorbar": {
              "outlinewidth": 0,
              "ticks": ""
             }
            },
            "type": "scatterpolargl"
           }
          ],
          "scatterternary": [
           {
            "marker": {
             "colorbar": {
              "outlinewidth": 0,
              "ticks": ""
             }
            },
            "type": "scatterternary"
           }
          ],
          "surface": [
           {
            "colorbar": {
             "outlinewidth": 0,
             "ticks": ""
            },
            "colorscale": [
             [
              0,
              "#0d0887"
             ],
             [
              0.1111111111111111,
              "#46039f"
             ],
             [
              0.2222222222222222,
              "#7201a8"
             ],
             [
              0.3333333333333333,
              "#9c179e"
             ],
             [
              0.4444444444444444,
              "#bd3786"
             ],
             [
              0.5555555555555556,
              "#d8576b"
             ],
             [
              0.6666666666666666,
              "#ed7953"
             ],
             [
              0.7777777777777778,
              "#fb9f3a"
             ],
             [
              0.8888888888888888,
              "#fdca26"
             ],
             [
              1,
              "#f0f921"
             ]
            ],
            "type": "surface"
           }
          ],
          "table": [
           {
            "cells": {
             "fill": {
              "color": "#EBF0F8"
             },
             "line": {
              "color": "white"
             }
            },
            "header": {
             "fill": {
              "color": "#C8D4E3"
             },
             "line": {
              "color": "white"
             }
            },
            "type": "table"
           }
          ]
         },
         "layout": {
          "annotationdefaults": {
           "arrowcolor": "#2a3f5f",
           "arrowhead": 0,
           "arrowwidth": 1
          },
          "autotypenumbers": "strict",
          "coloraxis": {
           "colorbar": {
            "outlinewidth": 0,
            "ticks": ""
           }
          },
          "colorscale": {
           "diverging": [
            [
             0,
             "#8e0152"
            ],
            [
             0.1,
             "#c51b7d"
            ],
            [
             0.2,
             "#de77ae"
            ],
            [
             0.3,
             "#f1b6da"
            ],
            [
             0.4,
             "#fde0ef"
            ],
            [
             0.5,
             "#f7f7f7"
            ],
            [
             0.6,
             "#e6f5d0"
            ],
            [
             0.7,
             "#b8e186"
            ],
            [
             0.8,
             "#7fbc41"
            ],
            [
             0.9,
             "#4d9221"
            ],
            [
             1,
             "#276419"
            ]
           ],
           "sequential": [
            [
             0,
             "#0d0887"
            ],
            [
             0.1111111111111111,
             "#46039f"
            ],
            [
             0.2222222222222222,
             "#7201a8"
            ],
            [
             0.3333333333333333,
             "#9c179e"
            ],
            [
             0.4444444444444444,
             "#bd3786"
            ],
            [
             0.5555555555555556,
             "#d8576b"
            ],
            [
             0.6666666666666666,
             "#ed7953"
            ],
            [
             0.7777777777777778,
             "#fb9f3a"
            ],
            [
             0.8888888888888888,
             "#fdca26"
            ],
            [
             1,
             "#f0f921"
            ]
           ],
           "sequentialminus": [
            [
             0,
             "#0d0887"
            ],
            [
             0.1111111111111111,
             "#46039f"
            ],
            [
             0.2222222222222222,
             "#7201a8"
            ],
            [
             0.3333333333333333,
             "#9c179e"
            ],
            [
             0.4444444444444444,
             "#bd3786"
            ],
            [
             0.5555555555555556,
             "#d8576b"
            ],
            [
             0.6666666666666666,
             "#ed7953"
            ],
            [
             0.7777777777777778,
             "#fb9f3a"
            ],
            [
             0.8888888888888888,
             "#fdca26"
            ],
            [
             1,
             "#f0f921"
            ]
           ]
          },
          "colorway": [
           "#636efa",
           "#EF553B",
           "#00cc96",
           "#ab63fa",
           "#FFA15A",
           "#19d3f3",
           "#FF6692",
           "#B6E880",
           "#FF97FF",
           "#FECB52"
          ],
          "font": {
           "color": "#2a3f5f"
          },
          "geo": {
           "bgcolor": "white",
           "lakecolor": "white",
           "landcolor": "#E5ECF6",
           "showlakes": true,
           "showland": true,
           "subunitcolor": "white"
          },
          "hoverlabel": {
           "align": "left"
          },
          "hovermode": "closest",
          "mapbox": {
           "style": "light"
          },
          "paper_bgcolor": "white",
          "plot_bgcolor": "#E5ECF6",
          "polar": {
           "angularaxis": {
            "gridcolor": "white",
            "linecolor": "white",
            "ticks": ""
           },
           "bgcolor": "#E5ECF6",
           "radialaxis": {
            "gridcolor": "white",
            "linecolor": "white",
            "ticks": ""
           }
          },
          "scene": {
           "xaxis": {
            "backgroundcolor": "#E5ECF6",
            "gridcolor": "white",
            "gridwidth": 2,
            "linecolor": "white",
            "showbackground": true,
            "ticks": "",
            "zerolinecolor": "white"
           },
           "yaxis": {
            "backgroundcolor": "#E5ECF6",
            "gridcolor": "white",
            "gridwidth": 2,
            "linecolor": "white",
            "showbackground": true,
            "ticks": "",
            "zerolinecolor": "white"
           },
           "zaxis": {
            "backgroundcolor": "#E5ECF6",
            "gridcolor": "white",
            "gridwidth": 2,
            "linecolor": "white",
            "showbackground": true,
            "ticks": "",
            "zerolinecolor": "white"
           }
          },
          "shapedefaults": {
           "line": {
            "color": "#2a3f5f"
           }
          },
          "ternary": {
           "aaxis": {
            "gridcolor": "white",
            "linecolor": "white",
            "ticks": ""
           },
           "baxis": {
            "gridcolor": "white",
            "linecolor": "white",
            "ticks": ""
           },
           "bgcolor": "#E5ECF6",
           "caxis": {
            "gridcolor": "white",
            "linecolor": "white",
            "ticks": ""
           }
          },
          "title": {
           "x": 0.05
          },
          "xaxis": {
           "automargin": true,
           "gridcolor": "white",
           "linecolor": "white",
           "ticks": "",
           "title": {
            "standoff": 15
           },
           "zerolinecolor": "white",
           "zerolinewidth": 2
          },
          "yaxis": {
           "automargin": true,
           "gridcolor": "white",
           "linecolor": "white",
           "ticks": "",
           "title": {
            "standoff": 15
           },
           "zerolinecolor": "white",
           "zerolinewidth": 2
          }
         }
        },
        "title": {
         "text": "Saving Accounts Exploration"
        },
        "width": 800,
        "xaxis": {
         "anchor": "y",
         "domain": [
          0,
          0.45
         ]
        },
        "xaxis2": {
         "anchor": "y2",
         "domain": [
          0.55,
          1
         ]
        },
        "xaxis3": {
         "anchor": "y3",
         "domain": [
          0,
          1
         ]
        },
        "yaxis": {
         "anchor": "x",
         "domain": [
          0.625,
          1
         ]
        },
        "yaxis2": {
         "anchor": "x2",
         "domain": [
          0.625,
          1
         ]
        },
        "yaxis3": {
         "anchor": "x3",
         "domain": [
          0,
          0.375
         ]
        }
       }
      },
      "text/html": [
       "<div>            <script src=\"https://cdnjs.cloudflare.com/ajax/libs/mathjax/2.7.5/MathJax.js?config=TeX-AMS-MML_SVG\"></script><script type=\"text/javascript\">if (window.MathJax && window.MathJax.Hub && window.MathJax.Hub.Config) {window.MathJax.Hub.Config({SVG: {font: \"STIX-Web\"}});}</script>                <script type=\"text/javascript\">window.PlotlyConfig = {MathJaxConfig: 'local'};</script>\n",
       "        <script charset=\"utf-8\" src=\"https://cdn.plot.ly/plotly-3.0.1.min.js\"></script>                <div id=\"251a8e0e-070e-4232-9c35-f1e5289f6ed2\" class=\"plotly-graph-div\" style=\"height:700px; width:800px;\"></div>            <script type=\"text/javascript\">                window.PLOTLYENV=window.PLOTLYENV || {};                                if (document.getElementById(\"251a8e0e-070e-4232-9c35-f1e5289f6ed2\")) {                    Plotly.newPlot(                        \"251a8e0e-070e-4232-9c35-f1e5289f6ed2\",                        [{\"name\":\"Good credit\",\"x\":[\"little\",\"moderate\",\"quite rich\",\"rich\"],\"xaxis\":\"x\",\"y\":{\"dtype\":\"i2\",\"bdata\":\"ggFFADQAKgA=\"},\"yaxis\":\"y\",\"type\":\"bar\"},{\"name\":\"Bad credit\",\"x\":[\"little\",\"moderate\",\"quite rich\",\"rich\"],\"xaxis\":\"x\",\"y\":{\"dtype\":\"i2\",\"bdata\":\"2QAiAAsABgA=\"},\"yaxis\":\"y\",\"type\":\"bar\"},{\"name\":\"Bad credit\",\"x\":[\"little\",\"little\",\"little\",\"little\",\"little\",\"little\",\"moderate\",\"little\",\"little\",\"little\",\"little\",\"little\",\"little\",null,\"little\",\"little\",\"little\",\"little\",null,\"little\",null,\"moderate\",\"little\",null,\"little\",\"little\",\"little\",\"little\",null,\"quite rich\",\"little\",null,\"little\",\"little\",\"little\",\"quite rich\",\"little\",\"little\",\"little\",\"little\",\"little\",\"little\",\"little\",null,\"little\",\"little\",null,\"little\",\"little\",\"moderate\",\"rich\",\"moderate\",\"little\",\"moderate\",\"little\",\"moderate\",\"little\",\"little\",\"little\",\"little\",\"rich\",\"little\",\"little\",\"little\",\"little\",null,\"moderate\",null,\"little\",\"little\",\"little\",\"little\",\"little\",\"little\",\"little\",\"little\",\"little\",\"little\",\"little\",\"little\",\"little\",null,\"quite rich\",\"moderate\",\"little\",\"little\",\"little\",\"little\",\"little\",\"moderate\",\"moderate\",\"moderate\",\"little\",\"little\",null,\"rich\",\"little\",\"little\",\"little\",\"little\",\"little\",\"little\",\"little\",\"moderate\",\"little\",\"little\",\"little\",\"little\",\"little\",\"little\",\"quite rich\",\"little\",null,\"little\",null,null,\"little\",\"little\",null,\"little\",\"little\",\"little\",\"little\",\"rich\",\"little\",\"little\",\"little\",\"moderate\",\"little\",\"little\",\"little\",\"little\",\"little\",\"little\",null,\"moderate\",\"little\",\"moderate\",\"little\",null,\"moderate\",\"little\",\"little\",\"little\",\"little\",\"little\",\"moderate\",\"little\",\"little\",\"little\",null,\"little\",\"little\",\"little\",\"little\",\"little\",\"moderate\",null,\"little\",\"little\",\"little\",null,\"little\",\"little\",\"little\",\"little\",\"little\",\"little\",\"little\",\"little\",\"little\",\"little\",null,\"moderate\",\"little\",\"little\",\"little\",\"little\",\"little\",\"little\",\"moderate\",\"moderate\",\"moderate\",\"little\",\"moderate\",\"little\",null,\"little\",\"moderate\",\"little\",\"little\",\"little\",\"little\",\"little\",\"moderate\",null,\"quite rich\",\"little\",\"little\",\"little\",\"little\",\"moderate\",\"little\",null,\"little\",\"quite rich\",\"moderate\",\"quite rich\",\"little\",\"moderate\",\"little\",\"little\",\"little\",\"little\",\"rich\",\"little\",\"little\",\"little\",\"little\",\"little\",\"little\",\"moderate\",\"little\",\"little\",\"rich\",null,null,\"little\",\"little\",null,\"little\",\"little\",null,\"little\",\"moderate\",\"little\",\"little\",\"little\",null,\"little\",\"little\",\"little\",\"little\",\"little\",\"little\",\"little\",\"little\",\"little\",null,\"little\",\"little\",\"little\",\"little\",\"little\",\"little\",null,\"little\",\"little\",\"little\",\"little\",\"little\",\"little\",\"little\",\"little\",\"little\",\"little\",\"little\",\"little\",\"little\",\"little\",\"little\",\"little\",\"little\",\"moderate\",\"little\",\"little\",\"little\",\"little\",\"little\",\"little\",\"moderate\",\"little\",\"little\",\"quite rich\",\"little\",\"moderate\",\"little\",\"quite rich\",\"little\",\"little\",\"quite rich\",\"quite rich\",\"little\",\"little\",\"little\",\"moderate\",\"little\",\"little\",\"little\",\"little\"],\"xaxis\":\"x2\",\"y\":{\"dtype\":\"i2\",\"bdata\":\"PxcGE3IUDwXUEK8EAgUjMbQaihI0CP8XsQhEGVUYoQdVOBsHuQd9DzcXRDFUBB0DST6iLjoZrx4GHLkQKweEB38Cqw3nGv4CngkCBWsEjwe2AxAIVg09HWQlZxFvBnQDCRSiAu8RBA9LD9cL3QW3A8kQhgOtFHQH0Sq5HsYFchAfB9s4zwqTA\\u002f0RsQFmCGUIIgMSI\\u002fQL3i4DEgAEtiToJtwOQAWPJ9cC1QStAroKmRCSB0gH8BxGLQ4QOA37BHAEvwM3GN4EbxFmCakJdg2+OQUe7jewMscEyCH3B6sD9AhlBRMKEgTKCqYEQCzMBWECzwLoEzIH6AXREjoNewYUDMABjgLdBCoMuQR+ILQLSiMzDMAEtwQdBcIa9wLXG3YMzxv+CEcKDwlTHv4FzhgwCzUFcgJXGzMF5giLE+ANiAcKBmUwXAVmGqIMBAsgBFAJ9wfBBMYIngpOBaMDogWRENcKlgMtBxUNbwrlAtgEEAdxDfoFSg8oCp0FEQa8B0sFEhHuAg8SLB9qBbMDrAKCB\\u002f8Ilh94A4QD6xIUCtsVYwS7GKAZmQuuBMs2OQWxAcwECgpaBxAZwwcoLbgQ+gTQAxMGBQX3BLMCTAiIMSQMgR9bBUUTRANQGG4XpARXHTck8gadJesLWw9BBZgKfg9FEI8gwAQoLhcJOgQ7FJcHaRrFArsIogV3D3kIhwmiCI4F2Q8bAzg9ORBBCoASWQz4RzA6NwkRDVYF2Bq5AjkohgZ\\u002fB+kCkBgVDf0FJQ5hCBEQ3iqmD10J2AmpBIEc6gnwBMIg7BIlIDUH\"},\"yaxis\":\"y2\",\"type\":\"box\"},{\"name\":\"Good credit\",\"x\":[null,\"little\",\"little\",null,\"quite rich\",\"little\",\"rich\",\"little\",\"little\",null,null,\"quite rich\",\"little\",\"quite rich\",\"little\",\"moderate\",null,\"little\",\"little\",\"rich\",\"little\",\"rich\",\"little\",\"moderate\",null,\"little\",\"little\",\"little\",\"little\",\"quite rich\",\"quite rich\",\"little\",\"moderate\",\"little\",\"quite rich\",\"quite rich\",\"little\",\"moderate\",null,\"little\",\"little\",null,null,\"little\",\"little\",\"little\",null,\"little\",null,\"little\",\"rich\",null,\"little\",null,\"little\",\"little\",\"little\",\"little\",null,\"little\",\"quite rich\",\"moderate\",\"little\",\"little\",\"little\",\"little\",\"moderate\",\"little\",\"little\",null,\"rich\",null,\"moderate\",\"little\",null,\"moderate\",\"little\",\"little\",\"little\",null,\"little\",null,\"quite rich\",\"moderate\",\"little\",\"little\",\"quite rich\",null,null,\"quite rich\",\"little\",\"little\",\"little\",\"little\",\"little\",\"little\",null,\"little\",\"little\",\"moderate\",null,\"rich\",null,\"little\",\"rich\",\"little\",\"little\",\"little\",\"moderate\",\"little\",\"moderate\",\"little\",\"rich\",\"moderate\",\"little\",\"little\",\"rich\",\"moderate\",\"moderate\",\"little\",\"moderate\",null,\"moderate\",\"little\",\"quite rich\",\"little\",\"quite rich\",\"quite rich\",\"rich\",\"little\",\"little\",\"little\",\"little\",\"quite rich\",\"little\",\"little\",\"rich\",\"little\",\"little\",\"little\",\"little\",\"little\",null,\"quite rich\",\"little\",\"little\",\"little\",\"little\",\"little\",\"little\",\"little\",\"rich\",null,null,null,null,\"little\",\"little\",\"little\",\"little\",\"little\",null,\"little\",null,\"little\",\"little\",\"little\",\"quite rich\",\"moderate\",\"little\",\"little\",\"little\",\"little\",\"little\",\"little\",\"quite rich\",\"little\",\"little\",\"moderate\",\"little\",\"rich\",\"little\",\"moderate\",null,null,\"little\",\"moderate\",\"moderate\",\"little\",\"little\",\"little\",\"little\",\"little\",null,\"little\",null,null,\"quite rich\",null,\"little\",\"little\",null,\"moderate\",\"rich\",\"little\",null,null,\"moderate\",\"little\",\"little\",\"moderate\",\"little\",\"little\",\"little\",\"little\",null,null,null,\"little\",\"rich\",\"little\",\"little\",\"rich\",null,\"little\",null,\"moderate\",\"little\",null,\"little\",null,\"little\",\"little\",\"little\",\"rich\",\"little\",\"little\",null,\"rich\",\"little\",\"little\",\"little\",\"little\",\"little\",\"little\",\"little\",\"little\",\"quite rich\",\"little\",\"little\",\"little\",\"little\",\"quite rich\",\"moderate\",\"little\",null,\"quite rich\",null,\"little\",null,null,\"little\",\"little\",\"little\",\"little\",\"little\",\"little\",null,\"little\",\"little\",null,\"little\",null,\"moderate\",null,null,\"little\",\"moderate\",\"little\",null,\"little\",\"quite rich\",\"little\",\"little\",\"rich\",\"little\",\"little\",\"little\",\"moderate\",\"little\",\"little\",\"rich\",\"little\",null,\"little\",null,null,\"little\",\"quite rich\",\"little\",\"little\",\"quite rich\",\"little\",null,\"quite rich\",\"rich\",null,\"little\",\"moderate\",\"little\",\"little\",\"rich\",\"little\",\"little\",\"little\",\"little\",\"little\",\"quite rich\",\"rich\",\"little\",\"little\",\"little\",\"little\",null,\"little\",null,null,\"little\",\"little\",\"little\",\"little\",\"little\",\"little\",\"little\",\"little\",\"little\",\"little\",null,\"little\",\"little\",null,\"little\",\"little\",null,\"quite rich\",\"little\",\"moderate\",\"little\",\"little\",\"little\",\"rich\",\"rich\",\"quite rich\",\"little\",\"little\",\"moderate\",\"little\",\"little\",\"moderate\",null,\"little\",\"little\",\"little\",\"moderate\",\"little\",\"moderate\",\"quite rich\",\"little\",\"moderate\",\"little\",\"little\",\"little\",null,\"little\",\"little\",\"moderate\",null,\"little\",\"moderate\",\"little\",\"little\",\"moderate\",\"little\",\"little\",\"little\",\"little\",\"moderate\",null,null,\"little\",\"little\",\"little\",\"little\",\"little\",\"little\",null,null,\"quite rich\",\"moderate\",\"little\",null,\"little\",null,\"moderate\",\"rich\",null,\"little\",null,\"little\",\"little\",\"little\",\"little\",null,\"little\",\"little\",\"little\",null,\"little\",\"little\",\"little\",null,\"rich\",\"little\",\"little\",\"little\",\"quite rich\",\"little\",\"little\",null,\"rich\",\"little\",null,null,\"little\",\"little\",\"little\",\"little\",null,\"little\",\"quite rich\",null,\"little\",null,\"little\",\"quite rich\",\"little\",\"little\",\"little\",\"little\",\"little\",\"little\",\"little\",\"little\",\"little\",null,\"little\",\"little\",\"little\",\"little\",\"little\",\"little\",\"little\",\"rich\",\"little\",\"little\",\"moderate\",\"moderate\",\"little\",\"quite rich\",\"little\",\"little\",\"little\",\"little\",\"little\",null,\"little\",\"little\",\"moderate\",null,null,\"moderate\",\"moderate\",\"rich\",\"little\",\"moderate\",\"moderate\",null,\"little\",\"quite rich\",\"little\",\"little\",\"little\",\"little\",\"moderate\",\"moderate\",\"little\",\"quite rich\",\"little\",\"little\",\"quite rich\",null,\"little\",null,null,\"little\",null,\"moderate\",\"quite rich\",\"rich\",\"quite rich\",\"rich\",\"little\",\"little\",\"rich\",\"little\",null,\"moderate\",\"little\",\"moderate\",\"little\",null,\"quite rich\",null,\"little\",\"little\",null,\"little\",\"little\",\"moderate\",\"little\",\"little\",\"little\",null,\"little\",\"moderate\",\"little\",null,\"little\",\"little\",null,\"little\",\"moderate\",\"quite rich\",\"little\",\"little\",\"rich\",\"little\",\"rich\",\"little\",null,\"rich\",\"quite rich\",null,null,null,\"little\",\"quite rich\",\"moderate\",\"little\",null,null,\"little\",\"little\",\"little\",null,null,\"little\",null,\"little\",\"little\",\"little\",\"little\",\"quite rich\",\"little\",\"little\",\"little\",\"little\",\"little\",\"little\",\"little\",null,\"quite rich\",null,null,\"little\",\"little\",\"little\",\"little\",\"little\",\"little\",null,\"little\",\"little\",null,\"little\",\"little\",\"moderate\",null,\"little\",\"moderate\",\"rich\",\"rich\",\"quite rich\",\"little\",\"little\",null,\"little\",\"quite rich\",\"little\",\"moderate\",null,\"little\",\"rich\",\"little\",\"little\",null,\"little\",null,null,\"little\",null,\"little\",null,\"little\",\"little\",\"little\",\"little\",null,null,\"little\",\"rich\",null,null,null,null,\"little\",\"little\",null,null,\"little\",null,\"little\",null,\"rich\",\"moderate\",\"little\",\"quite rich\",\"little\",\"little\",null,\"little\",\"little\",\"little\",\"quite rich\",\"little\",\"little\",null,null,\"little\",null,\"little\",\"little\",\"quite rich\",null,\"little\",\"little\",\"rich\",null,\"little\",\"moderate\",\"little\",\"little\",null,\"little\",null,\"little\",null,\"little\",\"moderate\",\"little\",\"little\",\"quite rich\",\"little\",null,\"moderate\",\"little\",\"little\",\"little\",\"moderate\",\"little\",\"little\",null,\"moderate\",null,\"little\",null,\"little\",\"little\",\"little\",\"moderate\"],\"xaxis\":\"x2\",\"y\":{\"dtype\":\"i2\",\"bdata\":\"kQQwCMoeXyMTCyQb8wsfBnsFeAmIH2YNVghXCsEIDAcVCF4FqgGZAW8JeQe0D+oW8ATCBd4XyQTKAR0JhgQ8GCsYcQX7CEgFPBwZCB0JTRfuBDINDwNeJakHbwUBBm0MRhR7CO8DWgnFH9oCjARCF\\u002fYFoxLcJPgOvQQgBtsGCwmEBQ8FyQhqAoEFIQ4mBdwHPgohCZEbvQUTCaQDfweNCb4XKR6CBakFiAF0GJAG+g1UCD4JHA\\u002foBg0DSQi9AkQHJyGUCsAHoCfYBKUhqApZB8UCuxJYDfAI7g1cA6oC+xQuBkIFhAfYFk4eNxsIBVMBuA1qBzgLHwTuBIwcjQOiCykGhA\\u002f7AoYFEQpSAasHOwLBDlAFlwSsDDwIZgXICqgDkAT9E9cFfymPB5AFqBmFBQIM+w4ODaQDIAxJD80LVAVxArAEwwKiCzESNQpNDMsJXQhiAwgGCwXaCTsGoQR3DeoEzQK0BIUHmgLLCDcQ7gf6HHwK5A6CBHkGQwa2FLwKzwSgGP0F5wNmCnoFiS+JCmQJ7gRtBygNJgalBfAFJg\\u002fiKbQSnh1EBDQEExm8Es0dQxIHBdMJuQqgAg4EBwbLEhQBBRWHFaUO1gXEAv8QvQI7Dl4LYwoEBEYNqRb1BXkRLATXGTUISRDxBW8WDw6NDFcRbQ+zBXIDrg7PBtQEnQzXAhsJCAPXBEcNxwjmBgYGCg9CDrkLBwy2F2IIvDUQCU4DagGkCAMFMgWwEL4IZgTOHBYJqQUcB9cDsQylB2YJ8C0SCiwJ7AXBBV8HIgNTC5UIHQSjDK8HVRw9BtIWFyHeCnIM7Ae+AzcG2wq3Cn0EIQV4DVAHCghYCJQCBwVCDVwHVAZFCtwEEAqQBS4rBgLHCm4KdwpBD1cB8hEkDrkGyQvyAp4HbAtGHMwKRxLWBAkKIBQNBMYF9Q2xBCYOwAOLBAUMrQ6KBb4NjgfVBHABSggxBhUFKwV1FWYEOAmFBYwhThJ\\u002fCkkCzwhhAlEFswS8AoMVoA1ZBB4f\\u002fAXfBZYC4QjfBR8FIQxeBRwO6QvwB+cE5gcQBpoi5APWBssHrwSUC6sCaBIRBhIKiw9CFzkVJgM6BOQKcguHB6kDNAxsBVUI7woJBYEBrQckBhcPGQn7BAwLrhEDCBQFHQ0wDqwvxSNcDoACRA5CB7sHRAjKD\\u002fgOTA6kBXEFYAUlPdUFHAU7B1gH5xE0HSoJhQ\\u002fuJ30Q2RgRBcEIGgQXBKoYqA0ZDskLKxBuFn4oIAiyER4UUAmtBQIG5wjGBe8TgSZ\\u002fGUMFLgvBCkMOzwNHClALbBLsCNQETwSeAwgHcQdhBccJ4AnMFLYERgh1AqwJcgSsHQUM4QVMDAQYFgP6ACQF+wQDGfgCKwo0DZYPHBFpGhUJGARYDLMJYzcFB88JgBTVC6wBSQOLFhMFcQW1E6YInwmDBFULIQ53BvwKywyvCMgFzw21DU8WIA+UB4IFRBmVB3MKvwqpGMUETAv2C\\u002f0I6gTNAg0GPQYDB7AQ0AMwHU4CogNDJIsD5AEIHToFEgbxPU0EyAvbAsQOQgYZGkcJ3BN2A1kCjQszCrELFwZeDYgP4QRUBcoPvwV7KsIFfgMPDfkNrBauEa0IVQkDDfEcjAL+HT8FZgVqAwYOKgWUBwsOVhqGHj0khQhKBAkL1hmQHooJJQd7CKgWkQTzIi4KOAaKCJ0N7ShqBf4EUwSzDn8OCg57DGYRrwteCCALGQfNMdIHGQRLB0AF0wbIBAoC2gUPCLoaxw0KBqEDrwU1B6YgKwsGDmUHzwRIDoIE\\u002fQvMBjEJ5A3GAbMG8A3+G2MP6gXhHA8L6gTxAnsJawvsB5kFkRiBBbMZzwbtDSEGkAd3D1YJyAYRDyQD4BE=\"},\"yaxis\":\"y2\",\"type\":\"box\"},{\"name\":\"Good credit\",\"x\":[null,\"little\",\"little\",null,\"quite rich\",\"little\",\"rich\",\"little\",\"little\",null,null,\"quite rich\",\"little\",\"quite rich\",\"little\",\"moderate\",null,\"little\",\"little\",\"rich\",\"little\",\"rich\",\"little\",\"moderate\",null,\"little\",\"little\",\"little\",\"little\",\"quite rich\",\"quite rich\",\"little\",\"moderate\",\"little\",\"quite rich\",\"quite rich\",\"little\",\"moderate\",null,\"little\",\"little\",null,null,\"little\",\"little\",\"little\",null,\"little\",null,\"little\",\"rich\",null,\"little\",null,\"little\",\"little\",\"little\",\"little\",null,\"little\",\"quite rich\",\"moderate\",\"little\",\"little\",\"little\",\"little\",\"moderate\",\"little\",\"little\",null,\"rich\",null,\"moderate\",\"little\",null,\"moderate\",\"little\",\"little\",\"little\",null,\"little\",null,\"quite rich\",\"moderate\",\"little\",\"little\",\"quite rich\",null,null,\"quite rich\",\"little\",\"little\",\"little\",\"little\",\"little\",\"little\",null,\"little\",\"little\",\"moderate\",null,\"rich\",null,\"little\",\"rich\",\"little\",\"little\",\"little\",\"moderate\",\"little\",\"moderate\",\"little\",\"rich\",\"moderate\",\"little\",\"little\",\"rich\",\"moderate\",\"moderate\",\"little\",\"moderate\",null,\"moderate\",\"little\",\"quite rich\",\"little\",\"quite rich\",\"quite rich\",\"rich\",\"little\",\"little\",\"little\",\"little\",\"quite rich\",\"little\",\"little\",\"rich\",\"little\",\"little\",\"little\",\"little\",\"little\",null,\"quite rich\",\"little\",\"little\",\"little\",\"little\",\"little\",\"little\",\"little\",\"rich\",null,null,null,null,\"little\",\"little\",\"little\",\"little\",\"little\",null,\"little\",null,\"little\",\"little\",\"little\",\"quite rich\",\"moderate\",\"little\",\"little\",\"little\",\"little\",\"little\",\"little\",\"quite rich\",\"little\",\"little\",\"moderate\",\"little\",\"rich\",\"little\",\"moderate\",null,null,\"little\",\"moderate\",\"moderate\",\"little\",\"little\",\"little\",\"little\",\"little\",null,\"little\",null,null,\"quite rich\",null,\"little\",\"little\",null,\"moderate\",\"rich\",\"little\",null,null,\"moderate\",\"little\",\"little\",\"moderate\",\"little\",\"little\",\"little\",\"little\",null,null,null,\"little\",\"rich\",\"little\",\"little\",\"rich\",null,\"little\",null,\"moderate\",\"little\",null,\"little\",null,\"little\",\"little\",\"little\",\"rich\",\"little\",\"little\",null,\"rich\",\"little\",\"little\",\"little\",\"little\",\"little\",\"little\",\"little\",\"little\",\"quite rich\",\"little\",\"little\",\"little\",\"little\",\"quite rich\",\"moderate\",\"little\",null,\"quite rich\",null,\"little\",null,null,\"little\",\"little\",\"little\",\"little\",\"little\",\"little\",null,\"little\",\"little\",null,\"little\",null,\"moderate\",null,null,\"little\",\"moderate\",\"little\",null,\"little\",\"quite rich\",\"little\",\"little\",\"rich\",\"little\",\"little\",\"little\",\"moderate\",\"little\",\"little\",\"rich\",\"little\",null,\"little\",null,null,\"little\",\"quite rich\",\"little\",\"little\",\"quite rich\",\"little\",null,\"quite rich\",\"rich\",null,\"little\",\"moderate\",\"little\",\"little\",\"rich\",\"little\",\"little\",\"little\",\"little\",\"little\",\"quite rich\",\"rich\",\"little\",\"little\",\"little\",\"little\",null,\"little\",null,null,\"little\",\"little\",\"little\",\"little\",\"little\",\"little\",\"little\",\"little\",\"little\",\"little\",null,\"little\",\"little\",null,\"little\",\"little\",null,\"quite rich\",\"little\",\"moderate\",\"little\",\"little\",\"little\",\"rich\",\"rich\",\"quite rich\",\"little\",\"little\",\"moderate\",\"little\",\"little\",\"moderate\",null,\"little\",\"little\",\"little\",\"moderate\",\"little\",\"moderate\",\"quite rich\",\"little\",\"moderate\",\"little\",\"little\",\"little\",null,\"little\",\"little\",\"moderate\",null,\"little\",\"moderate\",\"little\",\"little\",\"moderate\",\"little\",\"little\",\"little\",\"little\",\"moderate\",null,null,\"little\",\"little\",\"little\",\"little\",\"little\",\"little\",null,null,\"quite rich\",\"moderate\",\"little\",null,\"little\",null,\"moderate\",\"rich\",null,\"little\",null,\"little\",\"little\",\"little\",\"little\",null,\"little\",\"little\",\"little\",null,\"little\",\"little\",\"little\",null,\"rich\",\"little\",\"little\",\"little\",\"quite rich\",\"little\",\"little\",null,\"rich\",\"little\",null,null,\"little\",\"little\",\"little\",\"little\",null,\"little\",\"quite rich\",null,\"little\",null,\"little\",\"quite rich\",\"little\",\"little\",\"little\",\"little\",\"little\",\"little\",\"little\",\"little\",\"little\",null,\"little\",\"little\",\"little\",\"little\",\"little\",\"little\",\"little\",\"rich\",\"little\",\"little\",\"moderate\",\"moderate\",\"little\",\"quite rich\",\"little\",\"little\",\"little\",\"little\",\"little\",null,\"little\",\"little\",\"moderate\",null,null,\"moderate\",\"moderate\",\"rich\",\"little\",\"moderate\",\"moderate\",null,\"little\",\"quite rich\",\"little\",\"little\",\"little\",\"little\",\"moderate\",\"moderate\",\"little\",\"quite rich\",\"little\",\"little\",\"quite rich\",null,\"little\",null,null,\"little\",null,\"moderate\",\"quite rich\",\"rich\",\"quite rich\",\"rich\",\"little\",\"little\",\"rich\",\"little\",null,\"moderate\",\"little\",\"moderate\",\"little\",null,\"quite rich\",null,\"little\",\"little\",null,\"little\",\"little\",\"moderate\",\"little\",\"little\",\"little\",null,\"little\",\"moderate\",\"little\",null,\"little\",\"little\",null,\"little\",\"moderate\",\"quite rich\",\"little\",\"little\",\"rich\",\"little\",\"rich\",\"little\",null,\"rich\",\"quite rich\",null,null,null,\"little\",\"quite rich\",\"moderate\",\"little\",null,null,\"little\",\"little\",\"little\",null,null,\"little\",null,\"little\",\"little\",\"little\",\"little\",\"quite rich\",\"little\",\"little\",\"little\",\"little\",\"little\",\"little\",\"little\",null,\"quite rich\",null,null,\"little\",\"little\",\"little\",\"little\",\"little\",\"little\",null,\"little\",\"little\",null,\"little\",\"little\",\"moderate\",null,\"little\",\"moderate\",\"rich\",\"rich\",\"quite rich\",\"little\",\"little\",null,\"little\",\"quite rich\",\"little\",\"moderate\",null,\"little\",\"rich\",\"little\",\"little\",null,\"little\",null,null,\"little\",null,\"little\",null,\"little\",\"little\",\"little\",\"little\",null,null,\"little\",\"rich\",null,null,null,null,\"little\",\"little\",null,null,\"little\",null,\"little\",null,\"rich\",\"moderate\",\"little\",\"quite rich\",\"little\",\"little\",null,\"little\",\"little\",\"little\",\"quite rich\",\"little\",\"little\",null,null,\"little\",null,\"little\",\"little\",\"quite rich\",null,\"little\",\"little\",\"rich\",null,\"little\",\"moderate\",\"little\",\"little\",null,\"little\",null,\"little\",null,\"little\",\"moderate\",\"little\",\"little\",\"quite rich\",\"little\",null,\"moderate\",\"little\",\"little\",\"little\",\"moderate\",\"little\",\"little\",null,\"moderate\",null,\"little\",null,\"little\",\"little\",\"little\",\"moderate\"],\"xaxis\":\"x3\",\"y\":{\"dtype\":\"i1\",\"bdata\":\"QzEtIzUjPRYcNRkfMCwwLBokJyoiJBseOSEfJRgeGiwYIycXJxwdHhkfGh8XGzIaMB0WGR4uMylCMycWLxg6NB0bHjg2FDY9IiQkKRgYIxogHiMfFxwjLxskKRg\\u002fHigiGBsvFSYbIywbHhsXHiczHC4qJhgdJDAtJiIkHiRGJCAUGRohKjQfQTIfRCEdHCQ0GxomJisaFTchLTMnHxcYQBoXHiAeGxYzIxkqIyczGyMZNCMaJy4jGBsjFzkbNyQ5ICQmGSAlJCAaMR0XMjE\\u002fJSMaHzEaLDguFC0rIDYxIRgWKBkaHSYwIBsiHCQnMSIfHEsXHB8YGhkhJSsXFyIXJi4xHD0lJBUkGxYoJCEXPyIkNCcZGhoZFSgbGx4TJx8fIDcuKyccGysrGxoUIygjFx8UHi8iFR0uFEokIRkXJUEnHh0pIzceHSIjHSQbICUkIiYiPyAaIyQYGScsFxo5Hiw0PiMaGhsmJyggHCoxJBwtIBoUNiUoKyQsFxoeHyopICkaGUslLTw9JSAjFy0bQzEdJRciKSYaFhsYGyEbMRo0JBU6KiQgLRcWSiEtHRYwGyUxGxYjKSRAHBcvHBUiJiEgIDIjFiUcKRcyIzIbIhsvGx8qGBohQBo4JSEvHyIbHiMfGRkdLBwyHSYYKC8pICMZJSAuGT8oIB8fQikvJCEsHCUdIy0gFykWHhwXGiExFxlKHzsYGygfHD8aJDRCJRkmQzwfPCMoJikbMyAWFjYjNjAYIxgaQTcaHDY+GCsbGC8jHiYsKhUXPy4cMi8jHDsrIy0hKBwaGyAUGyolGCguGhgdKCQcJCYwJEEiIigrLiYiHR8cIyEsKigkFBgbLiEiGRwgHCUeFTorGB4qFx4uLR8fKi4eJigdOTElHh4vHRYaNh0oFishOUAqHB4ZIUAdMCUiFx4yHygmGw==\"},\"yaxis\":\"y3\",\"type\":\"box\"},{\"name\":\"Bad credit\",\"x\":[\"little\",\"little\",\"little\",\"little\",\"little\",\"little\",\"moderate\",\"little\",\"little\",\"little\",\"little\",\"little\",\"little\",null,\"little\",\"little\",\"little\",\"little\",null,\"little\",null,\"moderate\",\"little\",null,\"little\",\"little\",\"little\",\"little\",null,\"quite rich\",\"little\",null,\"little\",\"little\",\"little\",\"quite rich\",\"little\",\"little\",\"little\",\"little\",\"little\",\"little\",\"little\",null,\"little\",\"little\",null,\"little\",\"little\",\"moderate\",\"rich\",\"moderate\",\"little\",\"moderate\",\"little\",\"moderate\",\"little\",\"little\",\"little\",\"little\",\"rich\",\"little\",\"little\",\"little\",\"little\",null,\"moderate\",null,\"little\",\"little\",\"little\",\"little\",\"little\",\"little\",\"little\",\"little\",\"little\",\"little\",\"little\",\"little\",\"little\",null,\"quite rich\",\"moderate\",\"little\",\"little\",\"little\",\"little\",\"little\",\"moderate\",\"moderate\",\"moderate\",\"little\",\"little\",null,\"rich\",\"little\",\"little\",\"little\",\"little\",\"little\",\"little\",\"little\",\"moderate\",\"little\",\"little\",\"little\",\"little\",\"little\",\"little\",\"quite rich\",\"little\",null,\"little\",null,null,\"little\",\"little\",null,\"little\",\"little\",\"little\",\"little\",\"rich\",\"little\",\"little\",\"little\",\"moderate\",\"little\",\"little\",\"little\",\"little\",\"little\",\"little\",null,\"moderate\",\"little\",\"moderate\",\"little\",null,\"moderate\",\"little\",\"little\",\"little\",\"little\",\"little\",\"moderate\",\"little\",\"little\",\"little\",null,\"little\",\"little\",\"little\",\"little\",\"little\",\"moderate\",null,\"little\",\"little\",\"little\",null,\"little\",\"little\",\"little\",\"little\",\"little\",\"little\",\"little\",\"little\",\"little\",\"little\",null,\"moderate\",\"little\",\"little\",\"little\",\"little\",\"little\",\"little\",\"moderate\",\"moderate\",\"moderate\",\"little\",\"moderate\",\"little\",null,\"little\",\"moderate\",\"little\",\"little\",\"little\",\"little\",\"little\",\"moderate\",null,\"quite rich\",\"little\",\"little\",\"little\",\"little\",\"moderate\",\"little\",null,\"little\",\"quite rich\",\"moderate\",\"quite rich\",\"little\",\"moderate\",\"little\",\"little\",\"little\",\"little\",\"rich\",\"little\",\"little\",\"little\",\"little\",\"little\",\"little\",\"moderate\",\"little\",\"little\",\"rich\",null,null,\"little\",\"little\",null,\"little\",\"little\",null,\"little\",\"moderate\",\"little\",\"little\",\"little\",null,\"little\",\"little\",\"little\",\"little\",\"little\",\"little\",\"little\",\"little\",\"little\",null,\"little\",\"little\",\"little\",\"little\",\"little\",\"little\",null,\"little\",\"little\",\"little\",\"little\",\"little\",\"little\",\"little\",\"little\",\"little\",\"little\",\"little\",\"little\",\"little\",\"little\",\"little\",\"little\",\"little\",\"moderate\",\"little\",\"little\",\"little\",\"little\",\"little\",\"little\",\"moderate\",\"little\",\"little\",\"quite rich\",\"little\",\"moderate\",\"little\",\"quite rich\",\"little\",\"little\",\"quite rich\",\"quite rich\",\"little\",\"little\",\"little\",\"moderate\",\"little\",\"little\",\"little\",\"little\"],\"xaxis\":\"x3\",\"y\":{\"dtype\":\"i1\",\"bdata\":\"FjUcGRg8ICw\\u002fGSU6OTQXPRklKCIsLxwhOicnGR4XGRseHR1CFhQhHyEiGjUcHigkShQ2IiQVIhsoFTJCGzUWGh4XPR0YFhgdJS0cIiAwHBoqJSwhGBkfHCAeGBgXLBggHRwXGhcZKjwlOSYuGxYcKiMhIRk3HRkaKR4iPR8jHRYXHCEaLyoUHRsmGBsiGhcYNR8cISoXHyIrGCIWHB0bHxglJB8XGx4hFC88FCggFyQfHiIcMhYwFhUgJkEdLBMZGhsoGxomKCUtKikXKykYHS4YGSMbIhgYFRk7FRcaJRc3ICcjGB4fGRkZFzIbJzMYGhg2LhopISQvFx0ZMB0XRDkhIB0cIxkbKzUXKisZHyBEIScWNy4nFh4cKh4rHxgcGi0jFx0kLxkxIRoX\"},\"yaxis\":\"y3\",\"type\":\"box\"}],                        {\"annotations\":[{\"font\":{\"size\":16},\"showarrow\":false,\"text\":\"Count Saving Accounts\",\"x\":0.225,\"xanchor\":\"center\",\"xref\":\"paper\",\"y\":1.0,\"yanchor\":\"bottom\",\"yref\":\"paper\"},{\"font\":{\"size\":16},\"showarrow\":false,\"text\":\"Credit Amount by Savings Acc\",\"x\":0.775,\"xanchor\":\"center\",\"xref\":\"paper\",\"y\":1.0,\"yanchor\":\"bottom\",\"yref\":\"paper\"},{\"font\":{\"size\":16},\"showarrow\":false,\"text\":\"Age by Saving accounts\",\"x\":0.5,\"xanchor\":\"center\",\"xref\":\"paper\",\"y\":0.375,\"yanchor\":\"bottom\",\"yref\":\"paper\"}],\"boxmode\":\"group\",\"height\":700,\"template\":{\"data\":{\"barpolar\":[{\"marker\":{\"line\":{\"color\":\"#E5ECF6\",\"width\":0.5},\"pattern\":{\"fillmode\":\"overlay\",\"size\":10,\"solidity\":0.2}},\"type\":\"barpolar\"}],\"bar\":[{\"error_x\":{\"color\":\"#2a3f5f\"},\"error_y\":{\"color\":\"#2a3f5f\"},\"marker\":{\"line\":{\"color\":\"#E5ECF6\",\"width\":0.5},\"pattern\":{\"fillmode\":\"overlay\",\"size\":10,\"solidity\":0.2}},\"type\":\"bar\"}],\"carpet\":[{\"aaxis\":{\"endlinecolor\":\"#2a3f5f\",\"gridcolor\":\"white\",\"linecolor\":\"white\",\"minorgridcolor\":\"white\",\"startlinecolor\":\"#2a3f5f\"},\"baxis\":{\"endlinecolor\":\"#2a3f5f\",\"gridcolor\":\"white\",\"linecolor\":\"white\",\"minorgridcolor\":\"white\",\"startlinecolor\":\"#2a3f5f\"},\"type\":\"carpet\"}],\"choropleth\":[{\"colorbar\":{\"outlinewidth\":0,\"ticks\":\"\"},\"type\":\"choropleth\"}],\"contourcarpet\":[{\"colorbar\":{\"outlinewidth\":0,\"ticks\":\"\"},\"type\":\"contourcarpet\"}],\"contour\":[{\"colorbar\":{\"outlinewidth\":0,\"ticks\":\"\"},\"colorscale\":[[0.0,\"#0d0887\"],[0.1111111111111111,\"#46039f\"],[0.2222222222222222,\"#7201a8\"],[0.3333333333333333,\"#9c179e\"],[0.4444444444444444,\"#bd3786\"],[0.5555555555555556,\"#d8576b\"],[0.6666666666666666,\"#ed7953\"],[0.7777777777777778,\"#fb9f3a\"],[0.8888888888888888,\"#fdca26\"],[1.0,\"#f0f921\"]],\"type\":\"contour\"}],\"heatmap\":[{\"colorbar\":{\"outlinewidth\":0,\"ticks\":\"\"},\"colorscale\":[[0.0,\"#0d0887\"],[0.1111111111111111,\"#46039f\"],[0.2222222222222222,\"#7201a8\"],[0.3333333333333333,\"#9c179e\"],[0.4444444444444444,\"#bd3786\"],[0.5555555555555556,\"#d8576b\"],[0.6666666666666666,\"#ed7953\"],[0.7777777777777778,\"#fb9f3a\"],[0.8888888888888888,\"#fdca26\"],[1.0,\"#f0f921\"]],\"type\":\"heatmap\"}],\"histogram2dcontour\":[{\"colorbar\":{\"outlinewidth\":0,\"ticks\":\"\"},\"colorscale\":[[0.0,\"#0d0887\"],[0.1111111111111111,\"#46039f\"],[0.2222222222222222,\"#7201a8\"],[0.3333333333333333,\"#9c179e\"],[0.4444444444444444,\"#bd3786\"],[0.5555555555555556,\"#d8576b\"],[0.6666666666666666,\"#ed7953\"],[0.7777777777777778,\"#fb9f3a\"],[0.8888888888888888,\"#fdca26\"],[1.0,\"#f0f921\"]],\"type\":\"histogram2dcontour\"}],\"histogram2d\":[{\"colorbar\":{\"outlinewidth\":0,\"ticks\":\"\"},\"colorscale\":[[0.0,\"#0d0887\"],[0.1111111111111111,\"#46039f\"],[0.2222222222222222,\"#7201a8\"],[0.3333333333333333,\"#9c179e\"],[0.4444444444444444,\"#bd3786\"],[0.5555555555555556,\"#d8576b\"],[0.6666666666666666,\"#ed7953\"],[0.7777777777777778,\"#fb9f3a\"],[0.8888888888888888,\"#fdca26\"],[1.0,\"#f0f921\"]],\"type\":\"histogram2d\"}],\"histogram\":[{\"marker\":{\"pattern\":{\"fillmode\":\"overlay\",\"size\":10,\"solidity\":0.2}},\"type\":\"histogram\"}],\"mesh3d\":[{\"colorbar\":{\"outlinewidth\":0,\"ticks\":\"\"},\"type\":\"mesh3d\"}],\"parcoords\":[{\"line\":{\"colorbar\":{\"outlinewidth\":0,\"ticks\":\"\"}},\"type\":\"parcoords\"}],\"pie\":[{\"automargin\":true,\"type\":\"pie\"}],\"scatter3d\":[{\"line\":{\"colorbar\":{\"outlinewidth\":0,\"ticks\":\"\"}},\"marker\":{\"colorbar\":{\"outlinewidth\":0,\"ticks\":\"\"}},\"type\":\"scatter3d\"}],\"scattercarpet\":[{\"marker\":{\"colorbar\":{\"outlinewidth\":0,\"ticks\":\"\"}},\"type\":\"scattercarpet\"}],\"scattergeo\":[{\"marker\":{\"colorbar\":{\"outlinewidth\":0,\"ticks\":\"\"}},\"type\":\"scattergeo\"}],\"scattergl\":[{\"marker\":{\"colorbar\":{\"outlinewidth\":0,\"ticks\":\"\"}},\"type\":\"scattergl\"}],\"scattermapbox\":[{\"marker\":{\"colorbar\":{\"outlinewidth\":0,\"ticks\":\"\"}},\"type\":\"scattermapbox\"}],\"scattermap\":[{\"marker\":{\"colorbar\":{\"outlinewidth\":0,\"ticks\":\"\"}},\"type\":\"scattermap\"}],\"scatterpolargl\":[{\"marker\":{\"colorbar\":{\"outlinewidth\":0,\"ticks\":\"\"}},\"type\":\"scatterpolargl\"}],\"scatterpolar\":[{\"marker\":{\"colorbar\":{\"outlinewidth\":0,\"ticks\":\"\"}},\"type\":\"scatterpolar\"}],\"scatter\":[{\"fillpattern\":{\"fillmode\":\"overlay\",\"size\":10,\"solidity\":0.2},\"type\":\"scatter\"}],\"scatterternary\":[{\"marker\":{\"colorbar\":{\"outlinewidth\":0,\"ticks\":\"\"}},\"type\":\"scatterternary\"}],\"surface\":[{\"colorbar\":{\"outlinewidth\":0,\"ticks\":\"\"},\"colorscale\":[[0.0,\"#0d0887\"],[0.1111111111111111,\"#46039f\"],[0.2222222222222222,\"#7201a8\"],[0.3333333333333333,\"#9c179e\"],[0.4444444444444444,\"#bd3786\"],[0.5555555555555556,\"#d8576b\"],[0.6666666666666666,\"#ed7953\"],[0.7777777777777778,\"#fb9f3a\"],[0.8888888888888888,\"#fdca26\"],[1.0,\"#f0f921\"]],\"type\":\"surface\"}],\"table\":[{\"cells\":{\"fill\":{\"color\":\"#EBF0F8\"},\"line\":{\"color\":\"white\"}},\"header\":{\"fill\":{\"color\":\"#C8D4E3\"},\"line\":{\"color\":\"white\"}},\"type\":\"table\"}]},\"layout\":{\"annotationdefaults\":{\"arrowcolor\":\"#2a3f5f\",\"arrowhead\":0,\"arrowwidth\":1},\"autotypenumbers\":\"strict\",\"coloraxis\":{\"colorbar\":{\"outlinewidth\":0,\"ticks\":\"\"}},\"colorscale\":{\"diverging\":[[0,\"#8e0152\"],[0.1,\"#c51b7d\"],[0.2,\"#de77ae\"],[0.3,\"#f1b6da\"],[0.4,\"#fde0ef\"],[0.5,\"#f7f7f7\"],[0.6,\"#e6f5d0\"],[0.7,\"#b8e186\"],[0.8,\"#7fbc41\"],[0.9,\"#4d9221\"],[1,\"#276419\"]],\"sequential\":[[0.0,\"#0d0887\"],[0.1111111111111111,\"#46039f\"],[0.2222222222222222,\"#7201a8\"],[0.3333333333333333,\"#9c179e\"],[0.4444444444444444,\"#bd3786\"],[0.5555555555555556,\"#d8576b\"],[0.6666666666666666,\"#ed7953\"],[0.7777777777777778,\"#fb9f3a\"],[0.8888888888888888,\"#fdca26\"],[1.0,\"#f0f921\"]],\"sequentialminus\":[[0.0,\"#0d0887\"],[0.1111111111111111,\"#46039f\"],[0.2222222222222222,\"#7201a8\"],[0.3333333333333333,\"#9c179e\"],[0.4444444444444444,\"#bd3786\"],[0.5555555555555556,\"#d8576b\"],[0.6666666666666666,\"#ed7953\"],[0.7777777777777778,\"#fb9f3a\"],[0.8888888888888888,\"#fdca26\"],[1.0,\"#f0f921\"]]},\"colorway\":[\"#636efa\",\"#EF553B\",\"#00cc96\",\"#ab63fa\",\"#FFA15A\",\"#19d3f3\",\"#FF6692\",\"#B6E880\",\"#FF97FF\",\"#FECB52\"],\"font\":{\"color\":\"#2a3f5f\"},\"geo\":{\"bgcolor\":\"white\",\"lakecolor\":\"white\",\"landcolor\":\"#E5ECF6\",\"showlakes\":true,\"showland\":true,\"subunitcolor\":\"white\"},\"hoverlabel\":{\"align\":\"left\"},\"hovermode\":\"closest\",\"mapbox\":{\"style\":\"light\"},\"paper_bgcolor\":\"white\",\"plot_bgcolor\":\"#E5ECF6\",\"polar\":{\"angularaxis\":{\"gridcolor\":\"white\",\"linecolor\":\"white\",\"ticks\":\"\"},\"bgcolor\":\"#E5ECF6\",\"radialaxis\":{\"gridcolor\":\"white\",\"linecolor\":\"white\",\"ticks\":\"\"}},\"scene\":{\"xaxis\":{\"backgroundcolor\":\"#E5ECF6\",\"gridcolor\":\"white\",\"gridwidth\":2,\"linecolor\":\"white\",\"showbackground\":true,\"ticks\":\"\",\"zerolinecolor\":\"white\"},\"yaxis\":{\"backgroundcolor\":\"#E5ECF6\",\"gridcolor\":\"white\",\"gridwidth\":2,\"linecolor\":\"white\",\"showbackground\":true,\"ticks\":\"\",\"zerolinecolor\":\"white\"},\"zaxis\":{\"backgroundcolor\":\"#E5ECF6\",\"gridcolor\":\"white\",\"gridwidth\":2,\"linecolor\":\"white\",\"showbackground\":true,\"ticks\":\"\",\"zerolinecolor\":\"white\"}},\"shapedefaults\":{\"line\":{\"color\":\"#2a3f5f\"}},\"ternary\":{\"aaxis\":{\"gridcolor\":\"white\",\"linecolor\":\"white\",\"ticks\":\"\"},\"baxis\":{\"gridcolor\":\"white\",\"linecolor\":\"white\",\"ticks\":\"\"},\"bgcolor\":\"#E5ECF6\",\"caxis\":{\"gridcolor\":\"white\",\"linecolor\":\"white\",\"ticks\":\"\"}},\"title\":{\"x\":0.05},\"xaxis\":{\"automargin\":true,\"gridcolor\":\"white\",\"linecolor\":\"white\",\"ticks\":\"\",\"title\":{\"standoff\":15},\"zerolinecolor\":\"white\",\"zerolinewidth\":2},\"yaxis\":{\"automargin\":true,\"gridcolor\":\"white\",\"linecolor\":\"white\",\"ticks\":\"\",\"title\":{\"standoff\":15},\"zerolinecolor\":\"white\",\"zerolinewidth\":2}}},\"title\":{\"text\":\"Saving Accounts Exploration\"},\"width\":800,\"xaxis\":{\"anchor\":\"y\",\"domain\":[0.0,0.45]},\"yaxis\":{\"anchor\":\"x\",\"domain\":[0.625,1.0]},\"xaxis2\":{\"anchor\":\"y2\",\"domain\":[0.55,1.0]},\"yaxis2\":{\"anchor\":\"x2\",\"domain\":[0.625,1.0]},\"xaxis3\":{\"anchor\":\"y3\",\"domain\":[0.0,1.0]},\"yaxis3\":{\"anchor\":\"x3\",\"domain\":[0.0,0.375]}},                        {\"responsive\": true}                    ).then(function(){\n",
       "                            \n",
       "var gd = document.getElementById('251a8e0e-070e-4232-9c35-f1e5289f6ed2');\n",
       "var x = new MutationObserver(function (mutations, observer) {{\n",
       "        var display = window.getComputedStyle(gd).display;\n",
       "        if (!display || display === 'none') {{\n",
       "            console.log([gd, 'removed!']);\n",
       "            Plotly.purge(gd);\n",
       "            observer.disconnect();\n",
       "        }}\n",
       "}});\n",
       "\n",
       "// Listen for the removal of the full notebook cells\n",
       "var notebookContainer = gd.closest('#notebook-container');\n",
       "if (notebookContainer) {{\n",
       "    x.observe(notebookContainer, {childList: true});\n",
       "}}\n",
       "\n",
       "// Listen for the clearing of the current output cell\n",
       "var outputEl = gd.closest('.output');\n",
       "if (outputEl) {{\n",
       "    x.observe(outputEl, {childList: true});\n",
       "}}\n",
       "\n",
       "                        })                };            </script>        </div>"
      ]
     },
     "metadata": {},
     "output_type": "display_data"
    }
   ],
   "source": [
    "from plotly import tools\n",
    "import numpy as np\n",
    "import plotly.graph_objs as go\n",
    "\n",
    "count_good = go.Bar(\n",
    "    x = df_good[\"Saving accounts\"].value_counts().index.values,\n",
    "    y = df_good[\"Saving accounts\"].value_counts().values,\n",
    "    name='Good credit'\n",
    ")\n",
    "count_bad = go.Bar(\n",
    "    x = df_bad[\"Saving accounts\"].value_counts().index.values,\n",
    "    y = df_bad[\"Saving accounts\"].value_counts().values,\n",
    "    name='Bad credit'\n",
    ")\n",
    "\n",
    "\n",
    "box_1 = go.Box(\n",
    "    x=df_good[\"Saving accounts\"],\n",
    "    y=df_good[\"Credit amount\"],\n",
    "    name='Good credit'\n",
    ")\n",
    "box_2 = go.Box(\n",
    "    x=df_bad[\"Saving accounts\"],\n",
    "    y=df_bad[\"Credit amount\"],\n",
    "    name='Bad credit'\n",
    ")\n",
    "\n",
    "scat_1 = go.Box(\n",
    "    x=df_good[\"Saving accounts\"],\n",
    "    y=df_good[\"Age\"],\n",
    "    name='Good credit'\n",
    ")\n",
    "scat_2 = go.Box(\n",
    "    x=df_bad[\"Saving accounts\"],\n",
    "    y=df_bad[\"Age\"],\n",
    "    name='Bad credit'\n",
    ")\n",
    "\n",
    "data = [scat_1, scat_2, box_1, box_2, count_good, count_bad]\n",
    "\n",
    "fig = tools.make_subplots(rows=2, cols=2, specs=[[{}, {}], [{'colspan': 2}, None]],\n",
    "                          subplot_titles=('Count Saving Accounts','Credit Amount by Savings Acc', \n",
    "                                          'Age by Saving accounts'))\n",
    "\n",
    "fig.append_trace(count_good, 1, 1)\n",
    "fig.append_trace(count_bad, 1, 1)\n",
    "\n",
    "fig.append_trace(box_2, 1, 2)\n",
    "fig.append_trace(box_1, 1, 2)\n",
    "\n",
    "fig.append_trace(scat_1, 2, 1)\n",
    "fig.append_trace(scat_2, 2, 1)\n",
    "\n",
    "\n",
    "\n",
    "fig['layout'].update(height=700, width=800, title='Saving Accounts Exploration', boxmode='group')\n",
    "\n",
    "py.iplot(fig, filename='combined-savings')\n"
   ]
  },
  {
   "cell_type": "markdown",
   "metadata": {
    "_cell_guid": "9a936151-e4f1-4297-a87e-7f2bf2e4d3d0",
    "_uuid": "bc422a23f5310a21f16e4c44442afa75723d40c3"
   },
   "source": [
    "How can I better configure the legends?  I am trying to substitute the graph below, so how can I use the violinplot on subplots of plotly?"
   ]
  },
  {
   "cell_type": "markdown",
   "metadata": {
    "_cell_guid": "e692d92b-024c-4a3a-915a-51eaed3a6ee0",
    "_uuid": "0a3d67e8cff0c4da83190cd33e2b30d4192eb226"
   },
   "source": [
    "Pretty and interesting distribution..."
   ]
  },
  {
   "cell_type": "markdown",
   "metadata": {
    "_cell_guid": "202f3cfa-adcb-4903-bc87-c77dbb18c151",
    "_uuid": "65b2d7708d9234540d38f9c6f1f7c2f40f527baa"
   },
   "source": [
    "Duration of the loans distribuition and density"
   ]
  },
  {
   "cell_type": "code",
   "execution_count": 15,
   "metadata": {
    "_cell_guid": "d2cf1369-8f55-468f-9f95-4fec12237325",
    "_uuid": "de0f1619a2b148a438242c4a84b0c3f636b3bbfb"
   },
   "outputs": [
    {
     "data": {
      "image/png": "[encoded data removed]",
      "text/plain": [
       "<Figure size 1200x1400 with 3 Axes>"
      ]
     },
     "metadata": {},
     "output_type": "display_data"
    }
   ],
   "source": [
    "plt.figure(figsize = (12,14))\n",
    "\n",
    "g= plt.subplot(311)\n",
    "g = sns.countplot(x=\"Duration\", data=df_credit, \n",
    "              palette=\"hls\",  hue = \"Risk\")\n",
    "g.set_xlabel(\"Duration Distribuition\", fontsize=12)\n",
    "g.set_ylabel(\"Count\", fontsize=12)\n",
    "g.set_title(\"Duration Count\", fontsize=20)\n",
    "\n",
    "g1 = plt.subplot(312)\n",
    "g1 = sns.pointplot(x=\"Duration\", y =\"Credit amount\",data=df_credit,\n",
    "                   hue=\"Risk\", palette=\"hls\")\n",
    "g1.set_xlabel(\"Duration\", fontsize=12)\n",
    "g1.set_ylabel(\"Credit Amount(US)\", fontsize=12)\n",
    "g1.set_title(\"Credit Amount distribuition by Duration\", fontsize=20)\n",
    "\n",
    "g2 = plt.subplot(313)\n",
    "g2 = sns.distplot(df_good[\"Duration\"], color='g')\n",
    "g2 = sns.distplot(df_bad[\"Duration\"], color='r')\n",
    "g2.set_xlabel(\"Duration\", fontsize=12)\n",
    "g2.set_ylabel(\"Frequency\", fontsize=12)\n",
    "g2.set_title(\"Duration Frequency x good and bad Credit\", fontsize=20)\n",
    "\n",
    "plt.subplots_adjust(wspace = 0.4, hspace = 0.4,top = 0.9)\n",
    "\n",
    "plt.show()"
   ]
  },
  {
   "cell_type": "markdown",
   "metadata": {
    "_cell_guid": "0a37eb7a-da07-4b52-a24e-f5c9ad9cfad1",
    "_uuid": "9b6a11a2a266a52520e580c01968ee38a71c33b3"
   },
   "source": [
    "\n",
    "Interesting, we can see that the highest duration have the high amounts. <br>\n",
    "The highest density is between [12 ~ 18 ~ 24] months<br>\n",
    "It all make sense.\n"
   ]
  },
  {
   "cell_type": "markdown",
   "metadata": {
    "_cell_guid": "575d3bcb-618b-499e-a211-f5eff8df488e",
    "_uuid": "f89cbb713a6a6fcbf8b1aac5b83e749ae437da25"
   },
   "source": [
    "<h2> Checking Account variable </h2>"
   ]
  },
  {
   "cell_type": "markdown",
   "metadata": {
    "_cell_guid": "e825b44c-77b1-4118-bb9a-e4a344545821",
    "_uuid": "8eaa1e295c81198428e5e5acf68efc901be3cd3f"
   },
   "source": [
    "First, let's look the distribuition "
   ]
  },
  {
   "cell_type": "code",
   "execution_count": 16,
   "metadata": {
    "_cell_guid": "7eee1a85-051c-4fd3-a42f-b7c10afed165",
    "_kg_hide-input": true,
    "_kg_hide-output": false,
    "_uuid": "f6b6400dccab94229969a881fc805ffacc2dad32"
   },
   "outputs": [
    {
     "data": {
      "application/vnd.plotly.v1+json": {
       "config": {
        "linkText": "Export to plot.ly",
        "plotlyServerURL": "https://plot.ly",
        "showLink": false
       },
       "data": [
        {
         "name": "Good credit Distribuition",
         "type": "bar",
         "x": [
          "moderate",
          "little",
          "rich"
         ],
         "y": {
          "bdata": "pACLADEA",
          "dtype": "i2"
         }
        },
        {
         "name": "Bad Credit Distribuition",
         "type": "bar",
         "x": [
          "little",
          "moderate",
          "rich"
         ],
         "y": {
          "bdata": "hwBpAA4A",
          "dtype": "i2"
         }
        }
       ],
       "layout": {
        "barmode": "group",
        "template": {
         "data": {
          "bar": [
           {
            "error_x": {
             "color": "#2a3f5f"
            },
            "error_y": {
             "color": "#2a3f5f"
            },
            "marker": {
             "line": {
              "color": "#E5ECF6",
              "width": 0.5
             },
             "pattern": {
              "fillmode": "overlay",
              "size": 10,
              "solidity": 0.2
             }
            },
            "type": "bar"
           }
          ],
          "barpolar": [
           {
            "marker": {
             "line": {
              "color": "#E5ECF6",
              "width": 0.5
             },
             "pattern": {
              "fillmode": "overlay",
              "size": 10,
              "solidity": 0.2
             }
            },
            "type": "barpolar"
           }
          ],
          "carpet": [
           {
            "aaxis": {
             "endlinecolor": "#2a3f5f",
             "gridcolor": "white",
             "linecolor": "white",
             "minorgridcolor": "white",
             "startlinecolor": "#2a3f5f"
            },
            "baxis": {
             "endlinecolor": "#2a3f5f",
             "gridcolor": "white",
             "linecolor": "white",
             "minorgridcolor": "white",
             "startlinecolor": "#2a3f5f"
            },
            "type": "carpet"
           }
          ],
          "choropleth": [
           {
            "colorbar": {
             "outlinewidth": 0,
             "ticks": ""
            },
            "type": "choropleth"
           }
          ],
          "contour": [
           {
            "colorbar": {
             "outlinewidth": 0,
             "ticks": ""
            },
            "colorscale": [
             [
              0,
              "#0d0887"
             ],
             [
              0.1111111111111111,
              "#46039f"
             ],
             [
              0.2222222222222222,
              "#7201a8"
             ],
             [
              0.3333333333333333,
              "#9c179e"
             ],
             [
              0.4444444444444444,
              "#bd3786"
             ],
             [
              0.5555555555555556,
              "#d8576b"
             ],
             [
              0.6666666666666666,
              "#ed7953"
             ],
             [
              0.7777777777777778,
              "#fb9f3a"
             ],
             [
              0.8888888888888888,
              "#fdca26"
             ],
             [
              1,
              "#f0f921"
             ]
            ],
            "type": "contour"
           }
          ],
          "contourcarpet": [
           {
            "colorbar": {
             "outlinewidth": 0,
             "ticks": ""
            },
            "type": "contourcarpet"
           }
          ],
          "heatmap": [
           {
            "colorbar": {
             "outlinewidth": 0,
             "ticks": ""
            },
            "colorscale": [
             [
              0,
              "#0d0887"
             ],
             [
              0.1111111111111111,
              "#46039f"
             ],
             [
              0.2222222222222222,
              "#7201a8"
             ],
             [
              0.3333333333333333,
              "#9c179e"
             ],
             [
              0.4444444444444444,
              "#bd3786"
             ],
             [
              0.5555555555555556,
              "#d8576b"
             ],
             [
              0.6666666666666666,
              "#ed7953"
             ],
             [
              0.7777777777777778,
              "#fb9f3a"
             ],
             [
              0.8888888888888888,
              "#fdca26"
             ],
             [
              1,
              "#f0f921"
             ]
            ],
            "type": "heatmap"
           }
          ],
          "histogram": [
           {
            "marker": {
             "pattern": {
              "fillmode": "overlay",
              "size": 10,
              "solidity": 0.2
             }
            },
            "type": "histogram"
           }
          ],
          "histogram2d": [
           {
            "colorbar": {
             "outlinewidth": 0,
             "ticks": ""
            },
            "colorscale": [
             [
              0,
              "#0d0887"
             ],
             [
              0.1111111111111111,
              "#46039f"
             ],
             [
              0.2222222222222222,
              "#7201a8"
             ],
             [
              0.3333333333333333,
              "#9c179e"
             ],
             [
              0.4444444444444444,
              "#bd3786"
             ],
             [
              0.5555555555555556,
              "#d8576b"
             ],
             [
              0.6666666666666666,
              "#ed7953"
             ],
             [
              0.7777777777777778,
              "#fb9f3a"
             ],
             [
              0.8888888888888888,
              "#fdca26"
             ],
             [
              1,
              "#f0f921"
             ]
            ],
            "type": "histogram2d"
           }
          ],
          "histogram2dcontour": [
           {
            "colorbar": {
             "outlinewidth": 0,
             "ticks": ""
            },
            "colorscale": [
             [
              0,
              "#0d0887"
             ],
             [
              0.1111111111111111,
              "#46039f"
             ],
             [
              0.2222222222222222,
              "#7201a8"
             ],
             [
              0.3333333333333333,
              "#9c179e"
             ],
             [
              0.4444444444444444,
              "#bd3786"
             ],
             [
              0.5555555555555556,
              "#d8576b"
             ],
             [
              0.6666666666666666,
              "#ed7953"
             ],
             [
              0.7777777777777778,
              "#fb9f3a"
             ],
             [
              0.8888888888888888,
              "#fdca26"
             ],
             [
              1,
              "#f0f921"
             ]
            ],
            "type": "histogram2dcontour"
           }
          ],
          "mesh3d": [
           {
            "colorbar": {
             "outlinewidth": 0,
             "ticks": ""
            },
            "type": "mesh3d"
           }
          ],
          "parcoords": [
           {
            "line": {
             "colorbar": {
              "outlinewidth": 0,
              "ticks": ""
             }
            },
            "type": "parcoords"
           }
          ],
          "pie": [
           {
            "automargin": true,
            "type": "pie"
           }
          ],
          "scatter": [
           {
            "fillpattern": {
             "fillmode": "overlay",
             "size": 10,
             "solidity": 0.2
            },
            "type": "scatter"
           }
          ],
          "scatter3d": [
           {
            "line": {
             "colorbar": {
              "outlinewidth": 0,
              "ticks": ""
             }
            },
            "marker": {
             "colorbar": {
              "outlinewidth": 0,
              "ticks": ""
             }
            },
            "type": "scatter3d"
           }
          ],
          "scattercarpet": [
           {
            "marker": {
             "colorbar": {
              "outlinewidth": 0,
              "ticks": ""
             }
            },
            "type": "scattercarpet"
           }
          ],
          "scattergeo": [
           {
            "marker": {
             "colorbar": {
              "outlinewidth": 0,
              "ticks": ""
             }
            },
            "type": "scattergeo"
           }
          ],
          "scattergl": [
           {
            "marker": {
             "colorbar": {
              "outlinewidth": 0,
              "ticks": ""
             }
            },
            "type": "scattergl"
           }
          ],
          "scattermap": [
           {
            "marker": {
             "colorbar": {
              "outlinewidth": 0,
              "ticks": ""
             }
            },
            "type": "scattermap"
           }
          ],
          "scattermapbox": [
           {
            "marker": {
             "colorbar": {
              "outlinewidth": 0,
              "ticks": ""
             }
            },
            "type": "scattermapbox"
           }
          ],
          "scatterpolar": [
           {
            "marker": {
             "colorbar": {
              "outlinewidth": 0,
              "ticks": ""
             }
            },
            "type": "scatterpolar"
           }
          ],
          "scatterpolargl": [
           {
            "marker": {
             "colorbar": {
              "outlinewidth": 0,
              "ticks": ""
             }
            },
            "type": "scatterpolargl"
           }
          ],
          "scatterternary": [
           {
            "marker": {
             "colorbar": {
              "outlinewidth": 0,
              "ticks": ""
             }
            },
            "type": "scatterternary"
           }
          ],
          "surface": [
           {
            "colorbar": {
             "outlinewidth": 0,
             "ticks": ""
            },
            "colorscale": [
             [
              0,
              "#0d0887"
             ],
             [
              0.1111111111111111,
              "#46039f"
             ],
             [
              0.2222222222222222,
              "#7201a8"
             ],
             [
              0.3333333333333333,
              "#9c179e"
             ],
             [
              0.4444444444444444,
              "#bd3786"
             ],
             [
              0.5555555555555556,
              "#d8576b"
             ],
             [
              0.6666666666666666,
              "#ed7953"
             ],
             [
              0.7777777777777778,
              "#fb9f3a"
             ],
             [
              0.8888888888888888,
              "#fdca26"
             ],
             [
              1,
              "#f0f921"
             ]
            ],
            "type": "surface"
           }
          ],
          "table": [
           {
            "cells": {
             "fill": {
              "color": "#EBF0F8"
             },
             "line": {
              "color": "white"
             }
            },
            "header": {
             "fill": {
              "color": "#C8D4E3"
             },
             "line": {
              "color": "white"
             }
            },
            "type": "table"
           }
          ]
         },
         "layout": {
          "annotationdefaults": {
           "arrowcolor": "#2a3f5f",
           "arrowhead": 0,
           "arrowwidth": 1
          },
          "autotypenumbers": "strict",
          "coloraxis": {
           "colorbar": {
            "outlinewidth": 0,
            "ticks": ""
           }
          },
          "colorscale": {
           "diverging": [
            [
             0,
             "#8e0152"
            ],
            [
             0.1,
             "#c51b7d"
            ],
            [
             0.2,
             "#de77ae"
            ],
            [
             0.3,
             "#f1b6da"
            ],
            [
             0.4,
             "#fde0ef"
            ],
            [
             0.5,
             "#f7f7f7"
            ],
            [
             0.6,
             "#e6f5d0"
            ],
            [
             0.7,
             "#b8e186"
            ],
            [
             0.8,
             "#7fbc41"
            ],
            [
             0.9,
             "#4d9221"
            ],
            [
             1,
             "#276419"
            ]
           ],
           "sequential": [
            [
             0,
             "#0d0887"
            ],
            [
             0.1111111111111111,
             "#46039f"
            ],
            [
             0.2222222222222222,
             "#7201a8"
            ],
            [
             0.3333333333333333,
             "#9c179e"
            ],
            [
             0.4444444444444444,
             "#bd3786"
            ],
            [
             0.5555555555555556,
             "#d8576b"
            ],
            [
             0.6666666666666666,
             "#ed7953"
            ],
            [
             0.7777777777777778,
             "#fb9f3a"
            ],
            [
             0.8888888888888888,
             "#fdca26"
            ],
            [
             1,
             "#f0f921"
            ]
           ],
           "sequentialminus": [
            [
             0,
             "#0d0887"
            ],
            [
             0.1111111111111111,
             "#46039f"
            ],
            [
             0.2222222222222222,
             "#7201a8"
            ],
            [
             0.3333333333333333,
             "#9c179e"
            ],
            [
             0.4444444444444444,
             "#bd3786"
            ],
            [
             0.5555555555555556,
             "#d8576b"
            ],
            [
             0.6666666666666666,
             "#ed7953"
            ],
            [
             0.7777777777777778,
             "#fb9f3a"
            ],
            [
             0.8888888888888888,
             "#fdca26"
            ],
            [
             1,
             "#f0f921"
            ]
           ]
          },
          "colorway": [
           "#636efa",
           "#EF553B",
           "#00cc96",
           "#ab63fa",
           "#FFA15A",
           "#19d3f3",
           "#FF6692",
           "#B6E880",
           "#FF97FF",
           "#FECB52"
          ],
          "font": {
           "color": "#2a3f5f"
          },
          "geo": {
           "bgcolor": "white",
           "lakecolor": "white",
           "landcolor": "#E5ECF6",
           "showlakes": true,
           "showland": true,
           "subunitcolor": "white"
          },
          "hoverlabel": {
           "align": "left"
          },
          "hovermode": "closest",
          "mapbox": {
           "style": "light"
          },
          "paper_bgcolor": "white",
          "plot_bgcolor": "#E5ECF6",
          "polar": {
           "angularaxis": {
            "gridcolor": "white",
            "linecolor": "white",
            "ticks": ""
           },
           "bgcolor": "#E5ECF6",
           "radialaxis": {
            "gridcolor": "white",
            "linecolor": "white",
            "ticks": ""
           }
          },
          "scene": {
           "xaxis": {
            "backgroundcolor": "#E5ECF6",
            "gridcolor": "white",
            "gridwidth": 2,
            "linecolor": "white",
            "showbackground": true,
            "ticks": "",
            "zerolinecolor": "white"
           },
           "yaxis": {
            "backgroundcolor": "#E5ECF6",
            "gridcolor": "white",
            "gridwidth": 2,
            "linecolor": "white",
            "showbackground": true,
            "ticks": "",
            "zerolinecolor": "white"
           },
           "zaxis": {
            "backgroundcolor": "#E5ECF6",
            "gridcolor": "white",
            "gridwidth": 2,
            "linecolor": "white",
            "showbackground": true,
            "ticks": "",
            "zerolinecolor": "white"
           }
          },
          "shapedefaults": {
           "line": {
            "color": "#2a3f5f"
           }
          },
          "ternary": {
           "aaxis": {
            "gridcolor": "white",
            "linecolor": "white",
            "ticks": ""
           },
           "baxis": {
            "gridcolor": "white",
            "linecolor": "white",
            "ticks": ""
           },
           "bgcolor": "#E5ECF6",
           "caxis": {
            "gridcolor": "white",
            "linecolor": "white",
            "ticks": ""
           }
          },
          "title": {
           "x": 0.05
          },
          "xaxis": {
           "automargin": true,
           "gridcolor": "white",
           "linecolor": "white",
           "ticks": "",
           "title": {
            "standoff": 15
           },
           "zerolinecolor": "white",
           "zerolinewidth": 2
          },
          "yaxis": {
           "automargin": true,
           "gridcolor": "white",
           "linecolor": "white",
           "ticks": "",
           "title": {
            "standoff": 15
           },
           "zerolinecolor": "white",
           "zerolinewidth": 2
          }
         }
        },
        "title": {
         "text": "Checking accounts Distribuition"
        },
        "xaxis": {
         "title": {
          "text": "Checking accounts name"
         }
        },
        "yaxis": {
         "title": {
          "text": "Count"
         }
        }
       }
      },
      "text/html": [
       "<div>            <script src=\"https://cdnjs.cloudflare.com/ajax/libs/mathjax/2.7.5/MathJax.js?config=TeX-AMS-MML_SVG\"></script><script type=\"text/javascript\">if (window.MathJax && window.MathJax.Hub && window.MathJax.Hub.Config) {window.MathJax.Hub.Config({SVG: {font: \"STIX-Web\"}});}</script>                <script type=\"text/javascript\">window.PlotlyConfig = {MathJaxConfig: 'local'};</script>\n",
       "        <script charset=\"utf-8\" src=\"https://cdn.plot.ly/plotly-3.0.1.min.js\"></script>                <div id=\"9e59f402-3565-4176-bdd3-e2c0d5e95294\" class=\"plotly-graph-div\" style=\"height:525px; width:100%;\"></div>            <script type=\"text/javascript\">                window.PLOTLYENV=window.PLOTLYENV || {};                                if (document.getElementById(\"9e59f402-3565-4176-bdd3-e2c0d5e95294\")) {                    Plotly.newPlot(                        \"9e59f402-3565-4176-bdd3-e2c0d5e95294\",                        [{\"name\":\"Good credit Distribuition\",\"x\":[\"moderate\",\"little\",\"rich\"],\"y\":{\"dtype\":\"i2\",\"bdata\":\"pACLADEA\"},\"type\":\"bar\"},{\"name\":\"Bad Credit Distribuition\",\"x\":[\"little\",\"moderate\",\"rich\"],\"y\":{\"dtype\":\"i2\",\"bdata\":\"hwBpAA4A\"},\"type\":\"bar\"}],                        {\"barmode\":\"group\",\"title\":{\"text\":\"Checking accounts Distribuition\"},\"xaxis\":{\"title\":{\"text\":\"Checking accounts name\"}},\"yaxis\":{\"title\":{\"text\":\"Count\"}},\"template\":{\"data\":{\"histogram2dcontour\":[{\"type\":\"histogram2dcontour\",\"colorbar\":{\"outlinewidth\":0,\"ticks\":\"\"},\"colorscale\":[[0.0,\"#0d0887\"],[0.1111111111111111,\"#46039f\"],[0.2222222222222222,\"#7201a8\"],[0.3333333333333333,\"#9c179e\"],[0.4444444444444444,\"#bd3786\"],[0.5555555555555556,\"#d8576b\"],[0.6666666666666666,\"#ed7953\"],[0.7777777777777778,\"#fb9f3a\"],[0.8888888888888888,\"#fdca26\"],[1.0,\"#f0f921\"]]}],\"choropleth\":[{\"type\":\"choropleth\",\"colorbar\":{\"outlinewidth\":0,\"ticks\":\"\"}}],\"histogram2d\":[{\"type\":\"histogram2d\",\"colorbar\":{\"outlinewidth\":0,\"ticks\":\"\"},\"colorscale\":[[0.0,\"#0d0887\"],[0.1111111111111111,\"#46039f\"],[0.2222222222222222,\"#7201a8\"],[0.3333333333333333,\"#9c179e\"],[0.4444444444444444,\"#bd3786\"],[0.5555555555555556,\"#d8576b\"],[0.6666666666666666,\"#ed7953\"],[0.7777777777777778,\"#fb9f3a\"],[0.8888888888888888,\"#fdca26\"],[1.0,\"#f0f921\"]]}],\"heatmap\":[{\"type\":\"heatmap\",\"colorbar\":{\"outlinewidth\":0,\"ticks\":\"\"},\"colorscale\":[[0.0,\"#0d0887\"],[0.1111111111111111,\"#46039f\"],[0.2222222222222222,\"#7201a8\"],[0.3333333333333333,\"#9c179e\"],[0.4444444444444444,\"#bd3786\"],[0.5555555555555556,\"#d8576b\"],[0.6666666666666666,\"#ed7953\"],[0.7777777777777778,\"#fb9f3a\"],[0.8888888888888888,\"#fdca26\"],[1.0,\"#f0f921\"]]}],\"contourcarpet\":[{\"type\":\"contourcarpet\",\"colorbar\":{\"outlinewidth\":0,\"ticks\":\"\"}}],\"contour\":[{\"type\":\"contour\",\"colorbar\":{\"outlinewidth\":0,\"ticks\":\"\"},\"colorscale\":[[0.0,\"#0d0887\"],[0.1111111111111111,\"#46039f\"],[0.2222222222222222,\"#7201a8\"],[0.3333333333333333,\"#9c179e\"],[0.4444444444444444,\"#bd3786\"],[0.5555555555555556,\"#d8576b\"],[0.6666666666666666,\"#ed7953\"],[0.7777777777777778,\"#fb9f3a\"],[0.8888888888888888,\"#fdca26\"],[1.0,\"#f0f921\"]]}],\"surface\":[{\"type\":\"surface\",\"colorbar\":{\"outlinewidth\":0,\"ticks\":\"\"},\"colorscale\":[[0.0,\"#0d0887\"],[0.1111111111111111,\"#46039f\"],[0.2222222222222222,\"#7201a8\"],[0.3333333333333333,\"#9c179e\"],[0.4444444444444444,\"#bd3786\"],[0.5555555555555556,\"#d8576b\"],[0.6666666666666666,\"#ed7953\"],[0.7777777777777778,\"#fb9f3a\"],[0.8888888888888888,\"#fdca26\"],[1.0,\"#f0f921\"]]}],\"mesh3d\":[{\"type\":\"mesh3d\",\"colorbar\":{\"outlinewidth\":0,\"ticks\":\"\"}}],\"scatter\":[{\"fillpattern\":{\"fillmode\":\"overlay\",\"size\":10,\"solidity\":0.2},\"type\":\"scatter\"}],\"parcoords\":[{\"type\":\"parcoords\",\"line\":{\"colorbar\":{\"outlinewidth\":0,\"ticks\":\"\"}}}],\"scatterpolargl\":[{\"type\":\"scatterpolargl\",\"marker\":{\"colorbar\":{\"outlinewidth\":0,\"ticks\":\"\"}}}],\"bar\":[{\"error_x\":{\"color\":\"#2a3f5f\"},\"error_y\":{\"color\":\"#2a3f5f\"},\"marker\":{\"line\":{\"color\":\"#E5ECF6\",\"width\":0.5},\"pattern\":{\"fillmode\":\"overlay\",\"size\":10,\"solidity\":0.2}},\"type\":\"bar\"}],\"scattergeo\":[{\"type\":\"scattergeo\",\"marker\":{\"colorbar\":{\"outlinewidth\":0,\"ticks\":\"\"}}}],\"scatterpolar\":[{\"type\":\"scatterpolar\",\"marker\":{\"colorbar\":{\"outlinewidth\":0,\"ticks\":\"\"}}}],\"histogram\":[{\"marker\":{\"pattern\":{\"fillmode\":\"overlay\",\"size\":10,\"solidity\":0.2}},\"type\":\"histogram\"}],\"scattergl\":[{\"type\":\"scattergl\",\"marker\":{\"colorbar\":{\"outlinewidth\":0,\"ticks\":\"\"}}}],\"scatter3d\":[{\"type\":\"scatter3d\",\"line\":{\"colorbar\":{\"outlinewidth\":0,\"ticks\":\"\"}},\"marker\":{\"colorbar\":{\"outlinewidth\":0,\"ticks\":\"\"}}}],\"scattermap\":[{\"type\":\"scattermap\",\"marker\":{\"colorbar\":{\"outlinewidth\":0,\"ticks\":\"\"}}}],\"scattermapbox\":[{\"type\":\"scattermapbox\",\"marker\":{\"colorbar\":{\"outlinewidth\":0,\"ticks\":\"\"}}}],\"scatterternary\":[{\"type\":\"scatterternary\",\"marker\":{\"colorbar\":{\"outlinewidth\":0,\"ticks\":\"\"}}}],\"scattercarpet\":[{\"type\":\"scattercarpet\",\"marker\":{\"colorbar\":{\"outlinewidth\":0,\"ticks\":\"\"}}}],\"carpet\":[{\"aaxis\":{\"endlinecolor\":\"#2a3f5f\",\"gridcolor\":\"white\",\"linecolor\":\"white\",\"minorgridcolor\":\"white\",\"startlinecolor\":\"#2a3f5f\"},\"baxis\":{\"endlinecolor\":\"#2a3f5f\",\"gridcolor\":\"white\",\"linecolor\":\"white\",\"minorgridcolor\":\"white\",\"startlinecolor\":\"#2a3f5f\"},\"type\":\"carpet\"}],\"table\":[{\"cells\":{\"fill\":{\"color\":\"#EBF0F8\"},\"line\":{\"color\":\"white\"}},\"header\":{\"fill\":{\"color\":\"#C8D4E3\"},\"line\":{\"color\":\"white\"}},\"type\":\"table\"}],\"barpolar\":[{\"marker\":{\"line\":{\"color\":\"#E5ECF6\",\"width\":0.5},\"pattern\":{\"fillmode\":\"overlay\",\"size\":10,\"solidity\":0.2}},\"type\":\"barpolar\"}],\"pie\":[{\"automargin\":true,\"type\":\"pie\"}]},\"layout\":{\"autotypenumbers\":\"strict\",\"colorway\":[\"#636efa\",\"#EF553B\",\"#00cc96\",\"#ab63fa\",\"#FFA15A\",\"#19d3f3\",\"#FF6692\",\"#B6E880\",\"#FF97FF\",\"#FECB52\"],\"font\":{\"color\":\"#2a3f5f\"},\"hovermode\":\"closest\",\"hoverlabel\":{\"align\":\"left\"},\"paper_bgcolor\":\"white\",\"plot_bgcolor\":\"#E5ECF6\",\"polar\":{\"bgcolor\":\"#E5ECF6\",\"angularaxis\":{\"gridcolor\":\"white\",\"linecolor\":\"white\",\"ticks\":\"\"},\"radialaxis\":{\"gridcolor\":\"white\",\"linecolor\":\"white\",\"ticks\":\"\"}},\"ternary\":{\"bgcolor\":\"#E5ECF6\",\"aaxis\":{\"gridcolor\":\"white\",\"linecolor\":\"white\",\"ticks\":\"\"},\"baxis\":{\"gridcolor\":\"white\",\"linecolor\":\"white\",\"ticks\":\"\"},\"caxis\":{\"gridcolor\":\"white\",\"linecolor\":\"white\",\"ticks\":\"\"}},\"coloraxis\":{\"colorbar\":{\"outlinewidth\":0,\"ticks\":\"\"}},\"colorscale\":{\"sequential\":[[0.0,\"#0d0887\"],[0.1111111111111111,\"#46039f\"],[0.2222222222222222,\"#7201a8\"],[0.3333333333333333,\"#9c179e\"],[0.4444444444444444,\"#bd3786\"],[0.5555555555555556,\"#d8576b\"],[0.6666666666666666,\"#ed7953\"],[0.7777777777777778,\"#fb9f3a\"],[0.8888888888888888,\"#fdca26\"],[1.0,\"#f0f921\"]],\"sequentialminus\":[[0.0,\"#0d0887\"],[0.1111111111111111,\"#46039f\"],[0.2222222222222222,\"#7201a8\"],[0.3333333333333333,\"#9c179e\"],[0.4444444444444444,\"#bd3786\"],[0.5555555555555556,\"#d8576b\"],[0.6666666666666666,\"#ed7953\"],[0.7777777777777778,\"#fb9f3a\"],[0.8888888888888888,\"#fdca26\"],[1.0,\"#f0f921\"]],\"diverging\":[[0,\"#8e0152\"],[0.1,\"#c51b7d\"],[0.2,\"#de77ae\"],[0.3,\"#f1b6da\"],[0.4,\"#fde0ef\"],[0.5,\"#f7f7f7\"],[0.6,\"#e6f5d0\"],[0.7,\"#b8e186\"],[0.8,\"#7fbc41\"],[0.9,\"#4d9221\"],[1,\"#276419\"]]},\"xaxis\":{\"gridcolor\":\"white\",\"linecolor\":\"white\",\"ticks\":\"\",\"title\":{\"standoff\":15},\"zerolinecolor\":\"white\",\"automargin\":true,\"zerolinewidth\":2},\"yaxis\":{\"gridcolor\":\"white\",\"linecolor\":\"white\",\"ticks\":\"\",\"title\":{\"standoff\":15},\"zerolinecolor\":\"white\",\"automargin\":true,\"zerolinewidth\":2},\"scene\":{\"xaxis\":{\"backgroundcolor\":\"#E5ECF6\",\"gridcolor\":\"white\",\"linecolor\":\"white\",\"showbackground\":true,\"ticks\":\"\",\"zerolinecolor\":\"white\",\"gridwidth\":2},\"yaxis\":{\"backgroundcolor\":\"#E5ECF6\",\"gridcolor\":\"white\",\"linecolor\":\"white\",\"showbackground\":true,\"ticks\":\"\",\"zerolinecolor\":\"white\",\"gridwidth\":2},\"zaxis\":{\"backgroundcolor\":\"#E5ECF6\",\"gridcolor\":\"white\",\"linecolor\":\"white\",\"showbackground\":true,\"ticks\":\"\",\"zerolinecolor\":\"white\",\"gridwidth\":2}},\"shapedefaults\":{\"line\":{\"color\":\"#2a3f5f\"}},\"annotationdefaults\":{\"arrowcolor\":\"#2a3f5f\",\"arrowhead\":0,\"arrowwidth\":1},\"geo\":{\"bgcolor\":\"white\",\"landcolor\":\"#E5ECF6\",\"subunitcolor\":\"white\",\"showland\":true,\"showlakes\":true,\"lakecolor\":\"white\"},\"title\":{\"x\":0.05},\"mapbox\":{\"style\":\"light\"}}}},                        {\"responsive\": true}                    ).then(function(){\n",
       "                            \n",
       "var gd = document.getElementById('9e59f402-3565-4176-bdd3-e2c0d5e95294');\n",
       "var x = new MutationObserver(function (mutations, observer) {{\n",
       "        var display = window.getComputedStyle(gd).display;\n",
       "        if (!display || display === 'none') {{\n",
       "            console.log([gd, 'removed!']);\n",
       "            Plotly.purge(gd);\n",
       "            observer.disconnect();\n",
       "        }}\n",
       "}});\n",
       "\n",
       "// Listen for the removal of the full notebook cells\n",
       "var notebookContainer = gd.closest('#notebook-container');\n",
       "if (notebookContainer) {{\n",
       "    x.observe(notebookContainer, {childList: true});\n",
       "}}\n",
       "\n",
       "// Listen for the clearing of the current output cell\n",
       "var outputEl = gd.closest('.output');\n",
       "if (outputEl) {{\n",
       "    x.observe(outputEl, {childList: true});\n",
       "}}\n",
       "\n",
       "                        })                };            </script>        </div>"
      ]
     },
     "metadata": {},
     "output_type": "display_data"
    }
   ],
   "source": [
    "#First plot\n",
    "trace0 = go.Bar(\n",
    "    x = df_credit[df_credit[\"Risk\"]== 'good'][\"Checking account\"].value_counts().index.values,\n",
    "    y = df_credit[df_credit[\"Risk\"]== 'good'][\"Checking account\"].value_counts().values,\n",
    "    name='Good credit Distribuition' \n",
    "    \n",
    ")\n",
    "\n",
    "#Second plot\n",
    "trace1 = go.Bar(\n",
    "    x = df_credit[df_credit[\"Risk\"]== 'bad'][\"Checking account\"].value_counts().index.values,\n",
    "    y = df_credit[df_credit[\"Risk\"]== 'bad'][\"Checking account\"].value_counts().values,\n",
    "    name=\"Bad Credit Distribuition\"\n",
    ")\n",
    "\n",
    "data = [trace0, trace1]\n",
    "\n",
    "layout = go.Layout(\n",
    "    title='Checking accounts Distribuition',\n",
    "    xaxis=dict(title='Checking accounts name'),\n",
    "    yaxis=dict(title='Count'),\n",
    "    barmode='group'\n",
    ")\n",
    "\n",
    "\n",
    "fig = go.Figure(data=data, layout=layout)\n",
    "\n",
    "py.iplot(fig, filename = 'Age-ba', validate = False)"
   ]
  },
  {
   "cell_type": "markdown",
   "metadata": {
    "_uuid": "fc4cdbe7701069d2bf7c7309c865fa63374238f8"
   },
   "source": [
    "## Create variable Dummies of the values"
   ]
  },
  {
   "cell_type": "code",
   "execution_count": 17,
   "metadata": {
    "_uuid": "909b478bf2af28cd21e7f9e90f99848c49007a23"
   },
   "outputs": [],
   "source": [
    "def one_hot_encoder(df, nan_as_category = False):\n",
    "    original_columns = list(df.columns)\n",
    "    categorical_columns = [col for col in df.columns if df[col].dtype == 'object']\n",
    "    df = pd.get_dummies(df, columns= categorical_columns, dummy_na= nan_as_category, drop_first=True)\n",
    "    new_columns = [c for c in df.columns if c not in original_columns]\n",
    "    return df, new_columns"
   ]
  },
  {
   "cell_type": "markdown",
   "metadata": {
    "_uuid": "d3ac3838812794fd1b1213732fe5ebe4d22d6775"
   },
   "source": [
    "## Transforming the data into Dummy variables"
   ]
  },
  {
   "cell_type": "code",
   "execution_count": 18,
   "metadata": {
    "_uuid": "bd8cedad464868cff47f03f01a83c902a4a60644"
   },
   "outputs": [],
   "source": [
    "df_credit['Saving accounts'] = df_credit['Saving accounts'].fillna('no_inf')\n",
    "df_credit['Checking account'] = df_credit['Checking account'].fillna('no_inf')\n",
    "\n",
    "#Purpose to Dummies Variable\n",
    "df_credit = df_credit.merge(pd.get_dummies(df_credit.Purpose, drop_first=True, prefix='Purpose'), left_index=True, right_index=True)\n",
    "#Sex feature in dummies\n",
    "df_credit = df_credit.merge(pd.get_dummies(df_credit.Sex, drop_first=True, prefix='Sex'), left_index=True, right_index=True)\n",
    "# Housing get dummies\n",
    "df_credit = df_credit.merge(pd.get_dummies(df_credit.Housing, drop_first=True, prefix='Housing'), left_index=True, right_index=True)\n",
    "# Housing get Saving Accounts\n",
    "df_credit = df_credit.merge(pd.get_dummies(df_credit[\"Saving accounts\"], drop_first=True, prefix='Savings'), left_index=True, right_index=True)\n",
    "# Housing get Risk\n",
    "df_credit = df_credit.merge(pd.get_dummies(df_credit.Risk, prefix='Risk'), left_index=True, right_index=True)\n",
    "# Housing get Checking Account\n",
    "df_credit = df_credit.merge(pd.get_dummies(df_credit[\"Checking account\"], drop_first=True, prefix='Check'), left_index=True, right_index=True)\n",
    "# Housing get Age categorical\n",
    "df_credit = df_credit.merge(pd.get_dummies(df_credit[\"Age_cat\"], drop_first=True, prefix='Age_cat'), left_index=True, right_index=True)"
   ]
  },
  {
   "cell_type": "markdown",
   "metadata": {
    "_uuid": "35deba00af149bdeee83e89db70464e735c3bdff",
    "collapsed": true,
    "jupyter": {
     "outputs_hidden": true
    }
   },
   "source": [
    "## Deleting the old features"
   ]
  },
  {
   "cell_type": "code",
   "execution_count": 19,
   "metadata": {
    "_uuid": "3a7d9792cbcb54c6aa4f9f6628303762696d426e"
   },
   "outputs": [],
   "source": [
    "#Excluding the missing columns\n",
    "del df_credit[\"Saving accounts\"]\n",
    "del df_credit[\"Checking account\"]\n",
    "del df_credit[\"Purpose\"]\n",
    "del df_credit[\"Sex\"]\n",
    "del df_credit[\"Housing\"]\n",
    "del df_credit[\"Age_cat\"]\n",
    "del df_credit[\"Risk\"]\n",
    "del df_credit['Risk_good']"
   ]
  },
  {
   "cell_type": "markdown",
   "metadata": {
    "_uuid": "338474de1adaa3ff6075f0eef44cb3eec08bd9a3"
   },
   "source": []
  },
  {
   "cell_type": "markdown",
   "metadata": {
    "_cell_guid": "f98f6b74-20d1-4b32-a549-14b0079fd4e1",
    "_uuid": "783e1c6f2d23d827800df319ce41c9bc200c0e67"
   },
   "source": [
    "# **6. Preprocessing:** <a id=\"Preprocessing\"></a> <br>\n",
    "- Importing ML librarys\n",
    "- Setting X and y variables to the prediction\n",
    "- Splitting Data\n"
   ]
  },
  {
   "cell_type": "code",
   "execution_count": 20,
   "metadata": {
    "_cell_guid": "7d5906f7-bebd-49e1-a1a5-9db82ae75e16",
    "_uuid": "32b245afaf3c349eedddfe0c106b24eede56af60"
   },
   "outputs": [],
   "source": [
    "from sklearn.model_selection import train_test_split, KFold, cross_val_score # to split the data\n",
    "from sklearn.metrics import accuracy_score, confusion_matrix, classification_report, fbeta_score #To evaluate our model\n",
    "\n",
    "from sklearn.model_selection import GridSearchCV\n",
    "\n",
    "# Algorithmns models to be compared\n",
    "from sklearn.ensemble import RandomForestClassifier\n",
    "from sklearn.linear_model import LogisticRegression\n",
    "from sklearn.tree import DecisionTreeClassifier\n",
    "from sklearn.neighbors import KNeighborsClassifier\n",
    "from sklearn.ensemble import RandomForestClassifier\n",
    "from sklearn.discriminant_analysis import LinearDiscriminantAnalysis\n",
    "from sklearn.naive_bayes import GaussianNB\n",
    "from sklearn.svm import SVC\n",
    "from xgboost import XGBClassifier\n"
   ]
  },
  {
   "cell_type": "code",
   "execution_count": 21,
   "metadata": {
    "_uuid": "34718c735d0ddbd8ad676e34cba8950755998809"
   },
   "outputs": [],
   "source": [
    "df_credit['Credit amount'] = np.log(df_credit['Credit amount'])"
   ]
  },
  {
   "cell_type": "code",
   "execution_count": 22,
   "metadata": {},
   "outputs": [
    {
     "data": {
      "text/plain": [
       "np.int64(300)"
      ]
     },
     "execution_count": 22,
     "metadata": {},
     "output_type": "execute_result"
    }
   ],
   "source": [
    "df_credit[\"Risk_bad\"].sum()"
   ]
  },
  {
   "cell_type": "code",
   "execution_count": 24,
   "metadata": {
    "_cell_guid": "be683db1-dc4f-49f3-86fa-e17eb90c3aef",
    "_uuid": "b0eb1cac1b343143c7ff5ccff82931768167c2de"
   },
   "outputs": [],
   "source": [
    "# Creating the X and y variables\n",
    "X = df_credit.drop('Risk_bad', axis=1).values\n",
    "y = df_credit['Risk_bad'].values\n",
    "\n",
    "# Splitting X and y into train and test sets\n",
    "X_train, X_test, y_train, y_test = train_test_split(\n",
    "    X, y, \n",
    "    test_size=0.25, \n",
    "    random_state=42, \n",
    "    stratify=y  # use y directly here instead of df_credit[\"Risk_bad\"]\n",
    ")"
   ]
  },
  {
   "cell_type": "code",
   "execution_count": 25,
   "metadata": {},
   "outputs": [
    {
     "data": {
      "text/plain": [
       "((1000, 24), (1000,))"
      ]
     },
     "execution_count": 25,
     "metadata": {},
     "output_type": "execute_result"
    }
   ],
   "source": [
    "X.shape, y.shape"
   ]
  },
  {
   "cell_type": "markdown",
   "metadata": {
    "_cell_guid": "dc9dca9e-02a8-4fea-8265-eaf631ae39cd",
    "_uuid": "55565ef692e7418af62bbd6f23babd7994cd2fc2"
   },
   "source": [
    "# **7.1 Model 1 :** <a id=\"Modelling 1\"></a> <br>\n",
    "- Using Random Forest and grid search cv to predictict the credit score \n",
    "- Some of Validation Parameters"
   ]
  },
  {
   "cell_type": "code",
   "execution_count": 26,
   "metadata": {},
   "outputs": [
    {
     "data": {
      "text/plain": [
       "(750, 24)"
      ]
     },
     "execution_count": 26,
     "metadata": {},
     "output_type": "execute_result"
    }
   ],
   "source": [
    "X_train.shape"
   ]
  },
  {
   "cell_type": "code",
   "execution_count": 27,
   "metadata": {
    "_cell_guid": "700ab26d-2e82-4b1c-b575-1f5f5f7a2daf",
    "_kg_hide-output": true,
    "_uuid": "69d73aabd9ed02ca77fe5bd29ab943960f0c99ee"
   },
   "outputs": [
    {
     "name": "stdout",
     "output_type": "stream",
     "text": [
      "Fitting 5 folds for each of 36 candidates, totalling 180 fits\n",
      "[CV 1/5] END max_depth=3, max_features=4, n_estimators=3;, score=0.067 total time=   0.0s\n",
      "[CV 2/5] END max_depth=3, max_features=4, n_estimators=3;, score=0.000 total time=   0.0s\n",
      "[CV 3/5] END max_depth=3, max_features=4, n_estimators=3;, score=0.022 total time=   0.0s\n",
      "[CV 4/5] END max_depth=3, max_features=4, n_estimators=3;, score=0.067 total time=   0.0s\n",
      "[CV 5/5] END max_depth=3, max_features=4, n_estimators=3;, score=0.044 total time=   0.0s\n",
      "[CV 1/5] END max_depth=3, max_features=4, n_estimators=5;, score=0.044 total time=   0.0s\n",
      "[CV 2/5] END max_depth=3, max_features=4, n_estimators=5;, score=0.000 total time=   0.0s\n",
      "[CV 3/5] END max_depth=3, max_features=4, n_estimators=5;, score=0.067 total time=   0.0s\n",
      "[CV 4/5] END max_depth=3, max_features=4, n_estimators=5;, score=0.111 total time=   0.0s\n",
      "[CV 5/5] END max_depth=3, max_features=4, n_estimators=5;, score=0.022 total time=   0.0s\n",
      "[CV 1/5] END max_depth=3, max_features=4, n_estimators=10;, score=0.022 total time=   0.0s\n",
      "[CV 2/5] END max_depth=3, max_features=4, n_estimators=10;, score=0.022 total time=   0.0s\n",
      "[CV 3/5] END max_depth=3, max_features=4, n_estimators=10;, score=0.044 total time=   0.0s\n",
      "[CV 4/5] END max_depth=3, max_features=4, n_estimators=10;, score=0.067 total time=   0.0s\n",
      "[CV 5/5] END max_depth=3, max_features=4, n_estimators=10;, score=0.022 total time=   0.0s\n",
      "[CV 1/5] END max_depth=3, max_features=4, n_estimators=25;, score=0.022 total time=   0.0s\n",
      "[CV 2/5] END max_depth=3, max_features=4, n_estimators=25;, score=0.022 total time=   0.0s\n",
      "[CV 3/5] END max_depth=3, max_features=4, n_estimators=25;, score=0.067 total time=   0.0s\n",
      "[CV 4/5] END max_depth=3, max_features=4, n_estimators=25;, score=0.000 total time=   0.0s\n",
      "[CV 5/5] END max_depth=3, max_features=4, n_estimators=25;, score=0.022 total time=   0.0s\n",
      "[CV 1/5] END max_depth=3, max_features=7, n_estimators=3;, score=0.156 total time=   0.0s\n",
      "[CV 2/5] END max_depth=3, max_features=7, n_estimators=3;, score=0.156 total time=   0.0s\n",
      "[CV 3/5] END max_depth=3, max_features=7, n_estimators=3;, score=0.111 total time=   0.0s\n",
      "[CV 4/5] END max_depth=3, max_features=7, n_estimators=3;, score=0.089 total time=   0.0s\n",
      "[CV 5/5] END max_depth=3, max_features=7, n_estimators=3;, score=0.467 total time=   0.0s\n",
      "[CV 1/5] END max_depth=3, max_features=7, n_estimators=5;, score=0.067 total time=   0.0s\n",
      "[CV 2/5] END max_depth=3, max_features=7, n_estimators=5;, score=0.133 total time=   0.0s\n",
      "[CV 3/5] END max_depth=3, max_features=7, n_estimators=5;, score=0.111 total time=   0.0s\n",
      "[CV 4/5] END max_depth=3, max_features=7, n_estimators=5;, score=0.133 total time=   0.0s\n",
      "[CV 5/5] END max_depth=3, max_features=7, n_estimators=5;, score=0.333 total time=   0.0s\n",
      "[CV 1/5] END max_depth=3, max_features=7, n_estimators=10;, score=0.067 total time=   0.0s\n",
      "[CV 2/5] END max_depth=3, max_features=7, n_estimators=10;, score=0.156 total time=   0.0s\n",
      "[CV 3/5] END max_depth=3, max_features=7, n_estimators=10;, score=0.089 total time=   0.0s\n",
      "[CV 4/5] END max_depth=3, max_features=7, n_estimators=10;, score=0.089 total time=   0.0s\n",
      "[CV 5/5] END max_depth=3, max_features=7, n_estimators=10;, score=0.089 total time=   0.0s\n",
      "[CV 1/5] END max_depth=3, max_features=7, n_estimators=25;, score=0.044 total time=   0.0s\n",
      "[CV 2/5] END max_depth=3, max_features=7, n_estimators=25;, score=0.133 total time=   0.0s\n",
      "[CV 3/5] END max_depth=3, max_features=7, n_estimators=25;, score=0.089 total time=   0.0s\n",
      "[CV 4/5] END max_depth=3, max_features=7, n_estimators=25;, score=0.022 total time=   0.0s\n",
      "[CV 5/5] END max_depth=3, max_features=7, n_estimators=25;, score=0.022 total time=   0.0s\n",
      "[CV 1/5] END max_depth=3, max_features=15, n_estimators=3;, score=0.133 total time=   0.0s\n",
      "[CV 2/5] END max_depth=3, max_features=15, n_estimators=3;, score=0.200 total time=   0.0s\n",
      "[CV 3/5] END max_depth=3, max_features=15, n_estimators=3;, score=0.133 total time=   0.0s\n",
      "[CV 4/5] END max_depth=3, max_features=15, n_estimators=3;, score=0.111 total time=   0.0s\n",
      "[CV 5/5] END max_depth=3, max_features=15, n_estimators=3;, score=0.156 total time=   0.0s\n",
      "[CV 1/5] END max_depth=3, max_features=15, n_estimators=5;, score=0.133 total time=   0.0s\n",
      "[CV 2/5] END max_depth=3, max_features=15, n_estimators=5;, score=0.267 total time=   0.0s\n",
      "[CV 3/5] END max_depth=3, max_features=15, n_estimators=5;, score=0.133 total time=   0.0s\n",
      "[CV 4/5] END max_depth=3, max_features=15, n_estimators=5;, score=0.111 total time=   0.0s\n",
      "[CV 5/5] END max_depth=3, max_features=15, n_estimators=5;, score=0.044 total time=   0.0s\n",
      "[CV 1/5] END max_depth=3, max_features=15, n_estimators=10;, score=0.044 total time=   0.0s\n",
      "[CV 2/5] END max_depth=3, max_features=15, n_estimators=10;, score=0.289 total time=   0.0s\n",
      "[CV 3/5] END max_depth=3, max_features=15, n_estimators=10;, score=0.111 total time=   0.0s\n",
      "[CV 4/5] END max_depth=3, max_features=15, n_estimators=10;, score=0.156 total time=   0.0s\n",
      "[CV 5/5] END max_depth=3, max_features=15, n_estimators=10;, score=0.067 total time=   0.0s\n",
      "[CV 1/5] END max_depth=3, max_features=15, n_estimators=25;, score=0.067 total time=   0.0s\n",
      "[CV 2/5] END max_depth=3, max_features=15, n_estimators=25;, score=0.289 total time=   0.0s\n",
      "[CV 3/5] END max_depth=3, max_features=15, n_estimators=25;, score=0.067 total time=   0.0s\n",
      "[CV 4/5] END max_depth=3, max_features=15, n_estimators=25;, score=0.156 total time=   0.0s\n",
      "[CV 5/5] END max_depth=3, max_features=15, n_estimators=25;, score=0.044 total time=   0.0s\n",
      "[CV 1/5] END max_depth=5, max_features=4, n_estimators=3;, score=0.178 total time=   0.0s\n",
      "[CV 2/5] END max_depth=5, max_features=4, n_estimators=3;, score=0.222 total time=   0.0s\n",
      "[CV 3/5] END max_depth=5, max_features=4, n_estimators=3;, score=0.200 total time=   0.0s\n",
      "[CV 4/5] END max_depth=5, max_features=4, n_estimators=3;, score=0.200 total time=   0.0s\n",
      "[CV 5/5] END max_depth=5, max_features=4, n_estimators=3;, score=0.111 total time=   0.0s\n",
      "[CV 1/5] END max_depth=5, max_features=4, n_estimators=5;, score=0.156 total time=   0.0s\n",
      "[CV 2/5] END max_depth=5, max_features=4, n_estimators=5;, score=0.222 total time=   0.0s\n",
      "[CV 3/5] END max_depth=5, max_features=4, n_estimators=5;, score=0.222 total time=   0.0s\n",
      "[CV 4/5] END max_depth=5, max_features=4, n_estimators=5;, score=0.289 total time=   0.0s\n",
      "[CV 5/5] END max_depth=5, max_features=4, n_estimators=5;, score=0.133 total time=   0.0s\n",
      "[CV 1/5] END max_depth=5, max_features=4, n_estimators=10;, score=0.044 total time=   0.0s\n",
      "[CV 2/5] END max_depth=5, max_features=4, n_estimators=10;, score=0.200 total time=   0.0s\n",
      "[CV 3/5] END max_depth=5, max_features=4, n_estimators=10;, score=0.178 total time=   0.0s\n",
      "[CV 4/5] END max_depth=5, max_features=4, n_estimators=10;, score=0.067 total time=   0.0s\n",
      "[CV 5/5] END max_depth=5, max_features=4, n_estimators=10;, score=0.133 total time=   0.0s\n",
      "[CV 1/5] END max_depth=5, max_features=4, n_estimators=25;, score=0.044 total time=   0.0s\n",
      "[CV 2/5] END max_depth=5, max_features=4, n_estimators=25;, score=0.244 total time=   0.0s\n",
      "[CV 3/5] END max_depth=5, max_features=4, n_estimators=25;, score=0.133 total time=   0.0s\n",
      "[CV 4/5] END max_depth=5, max_features=4, n_estimators=25;, score=0.067 total time=   0.0s\n",
      "[CV 5/5] END max_depth=5, max_features=4, n_estimators=25;, score=0.089 total time=   0.0s\n",
      "[CV 1/5] END max_depth=5, max_features=7, n_estimators=3;, score=0.267 total time=   0.0s\n",
      "[CV 2/5] END max_depth=5, max_features=7, n_estimators=3;, score=0.289 total time=   0.0s\n",
      "[CV 3/5] END max_depth=5, max_features=7, n_estimators=3;, score=0.289 total time=   0.0s\n",
      "[CV 4/5] END max_depth=5, max_features=7, n_estimators=3;, score=0.422 total time=   0.0s\n",
      "[CV 5/5] END max_depth=5, max_features=7, n_estimators=3;, score=0.200 total time=   0.0s\n",
      "[CV 1/5] END max_depth=5, max_features=7, n_estimators=5;, score=0.200 total time=   0.0s\n",
      "[CV 2/5] END max_depth=5, max_features=7, n_estimators=5;, score=0.356 total time=   0.0s\n",
      "[CV 3/5] END max_depth=5, max_features=7, n_estimators=5;, score=0.244 total time=   0.0s\n",
      "[CV 4/5] END max_depth=5, max_features=7, n_estimators=5;, score=0.289 total time=   0.0s\n",
      "[CV 5/5] END max_depth=5, max_features=7, n_estimators=5;, score=0.222 total time=   0.0s\n",
      "[CV 1/5] END max_depth=5, max_features=7, n_estimators=10;, score=0.111 total time=   0.0s\n",
      "[CV 2/5] END max_depth=5, max_features=7, n_estimators=10;, score=0.356 total time=   0.0s\n",
      "[CV 3/5] END max_depth=5, max_features=7, n_estimators=10;, score=0.156 total time=   0.0s\n",
      "[CV 4/5] END max_depth=5, max_features=7, n_estimators=10;, score=0.200 total time=   0.0s\n",
      "[CV 5/5] END max_depth=5, max_features=7, n_estimators=10;, score=0.200 total time=   0.0s\n",
      "[CV 1/5] END max_depth=5, max_features=7, n_estimators=25;, score=0.111 total time=   0.0s\n",
      "[CV 2/5] END max_depth=5, max_features=7, n_estimators=25;, score=0.244 total time=   0.0s\n",
      "[CV 3/5] END max_depth=5, max_features=7, n_estimators=25;, score=0.111 total time=   0.0s\n",
      "[CV 4/5] END max_depth=5, max_features=7, n_estimators=25;, score=0.267 total time=   0.0s\n",
      "[CV 5/5] END max_depth=5, max_features=7, n_estimators=25;, score=0.178 total time=   0.0s\n",
      "[CV 1/5] END max_depth=5, max_features=15, n_estimators=3;, score=0.200 total time=   0.0s\n",
      "[CV 2/5] END max_depth=5, max_features=15, n_estimators=3;, score=0.422 total time=   0.0s\n",
      "[CV 3/5] END max_depth=5, max_features=15, n_estimators=3;, score=0.222 total time=   0.0s\n",
      "[CV 4/5] END max_depth=5, max_features=15, n_estimators=3;, score=0.200 total time=   0.0s\n",
      "[CV 5/5] END max_depth=5, max_features=15, n_estimators=3;, score=0.378 total time=   0.0s\n",
      "[CV 1/5] END max_depth=5, max_features=15, n_estimators=5;, score=0.200 total time=   0.0s\n",
      "[CV 2/5] END max_depth=5, max_features=15, n_estimators=5;, score=0.356 total time=   0.0s\n",
      "[CV 3/5] END max_depth=5, max_features=15, n_estimators=5;, score=0.267 total time=   0.0s\n",
      "[CV 4/5] END max_depth=5, max_features=15, n_estimators=5;, score=0.222 total time=   0.0s\n",
      "[CV 5/5] END max_depth=5, max_features=15, n_estimators=5;, score=0.311 total time=   0.0s\n",
      "[CV 1/5] END max_depth=5, max_features=15, n_estimators=10;, score=0.222 total time=   0.0s\n",
      "[CV 2/5] END max_depth=5, max_features=15, n_estimators=10;, score=0.289 total time=   0.0s\n",
      "[CV 3/5] END max_depth=5, max_features=15, n_estimators=10;, score=0.244 total time=   0.0s\n",
      "[CV 4/5] END max_depth=5, max_features=15, n_estimators=10;, score=0.267 total time=   0.0s\n",
      "[CV 5/5] END max_depth=5, max_features=15, n_estimators=10;, score=0.244 total time=   0.0s\n",
      "[CV 1/5] END max_depth=5, max_features=15, n_estimators=25;, score=0.244 total time=   0.1s\n",
      "[CV 2/5] END max_depth=5, max_features=15, n_estimators=25;, score=0.400 total time=   0.0s\n",
      "[CV 3/5] END max_depth=5, max_features=15, n_estimators=25;, score=0.222 total time=   0.0s\n",
      "[CV 4/5] END max_depth=5, max_features=15, n_estimators=25;, score=0.311 total time=   0.0s\n",
      "[CV 5/5] END max_depth=5, max_features=15, n_estimators=25;, score=0.244 total time=   0.0s\n",
      "[CV 1/5] END max_depth=None, max_features=4, n_estimators=3;, score=0.444 total time=   0.0s\n",
      "[CV 2/5] END max_depth=None, max_features=4, n_estimators=3;, score=0.400 total time=   0.0s\n",
      "[CV 3/5] END max_depth=None, max_features=4, n_estimators=3;, score=0.400 total time=   0.0s\n",
      "[CV 4/5] END max_depth=None, max_features=4, n_estimators=3;, score=0.289 total time=   0.0s\n",
      "[CV 5/5] END max_depth=None, max_features=4, n_estimators=3;, score=0.356 total time=   0.0s\n",
      "[CV 1/5] END max_depth=None, max_features=4, n_estimators=5;, score=0.422 total time=   0.0s\n",
      "[CV 2/5] END max_depth=None, max_features=4, n_estimators=5;, score=0.489 total time=   0.0s\n",
      "[CV 3/5] END max_depth=None, max_features=4, n_estimators=5;, score=0.422 total time=   0.0s\n",
      "[CV 4/5] END max_depth=None, max_features=4, n_estimators=5;, score=0.289 total time=   0.0s\n",
      "[CV 5/5] END max_depth=None, max_features=4, n_estimators=5;, score=0.356 total time=   0.0s\n",
      "[CV 1/5] END max_depth=None, max_features=4, n_estimators=10;, score=0.289 total time=   0.0s\n",
      "[CV 2/5] END max_depth=None, max_features=4, n_estimators=10;, score=0.444 total time=   0.0s\n",
      "[CV 3/5] END max_depth=None, max_features=4, n_estimators=10;, score=0.400 total time=   0.0s\n",
      "[CV 4/5] END max_depth=None, max_features=4, n_estimators=10;, score=0.200 total time=   0.0s\n",
      "[CV 5/5] END max_depth=None, max_features=4, n_estimators=10;, score=0.289 total time=   0.0s\n",
      "[CV 1/5] END max_depth=None, max_features=4, n_estimators=25;, score=0.422 total time=   0.0s\n",
      "[CV 2/5] END max_depth=None, max_features=4, n_estimators=25;, score=0.422 total time=   0.0s\n",
      "[CV 3/5] END max_depth=None, max_features=4, n_estimators=25;, score=0.378 total time=   0.0s\n",
      "[CV 4/5] END max_depth=None, max_features=4, n_estimators=25;, score=0.289 total time=   0.0s\n",
      "[CV 5/5] END max_depth=None, max_features=4, n_estimators=25;, score=0.311 total time=   0.0s\n",
      "[CV 1/5] END max_depth=None, max_features=7, n_estimators=3;, score=0.400 total time=   0.0s\n",
      "[CV 2/5] END max_depth=None, max_features=7, n_estimators=3;, score=0.356 total time=   0.0s\n",
      "[CV 3/5] END max_depth=None, max_features=7, n_estimators=3;, score=0.378 total time=   0.0s\n",
      "[CV 4/5] END max_depth=None, max_features=7, n_estimators=3;, score=0.378 total time=   0.0s\n",
      "[CV 5/5] END max_depth=None, max_features=7, n_estimators=3;, score=0.378 total time=   0.0s\n",
      "[CV 1/5] END max_depth=None, max_features=7, n_estimators=5;, score=0.400 total time=   0.0s\n",
      "[CV 2/5] END max_depth=None, max_features=7, n_estimators=5;, score=0.467 total time=   0.0s\n",
      "[CV 3/5] END max_depth=None, max_features=7, n_estimators=5;, score=0.378 total time=   0.0s\n",
      "[CV 4/5] END max_depth=None, max_features=7, n_estimators=5;, score=0.489 total time=   0.0s\n",
      "[CV 5/5] END max_depth=None, max_features=7, n_estimators=5;, score=0.356 total time=   0.0s\n",
      "[CV 1/5] END max_depth=None, max_features=7, n_estimators=10;, score=0.289 total time=   0.0s\n",
      "[CV 2/5] END max_depth=None, max_features=7, n_estimators=10;, score=0.400 total time=   0.0s\n",
      "[CV 3/5] END max_depth=None, max_features=7, n_estimators=10;, score=0.356 total time=   0.0s\n",
      "[CV 4/5] END max_depth=None, max_features=7, n_estimators=10;, score=0.311 total time=   0.0s\n",
      "[CV 5/5] END max_depth=None, max_features=7, n_estimators=10;, score=0.267 total time=   0.0s\n",
      "[CV 1/5] END max_depth=None, max_features=7, n_estimators=25;, score=0.378 total time=   0.0s\n",
      "[CV 2/5] END max_depth=None, max_features=7, n_estimators=25;, score=0.444 total time=   0.0s\n",
      "[CV 3/5] END max_depth=None, max_features=7, n_estimators=25;, score=0.356 total time=   0.0s\n",
      "[CV 4/5] END max_depth=None, max_features=7, n_estimators=25;, score=0.333 total time=   0.0s\n",
      "[CV 5/5] END max_depth=None, max_features=7, n_estimators=25;, score=0.289 total time=   0.0s\n",
      "[CV 1/5] END max_depth=None, max_features=15, n_estimators=3;, score=0.422 total time=   0.0s\n",
      "[CV 2/5] END max_depth=None, max_features=15, n_estimators=3;, score=0.444 total time=   0.0s\n",
      "[CV 3/5] END max_depth=None, max_features=15, n_estimators=3;, score=0.400 total time=   0.0s\n",
      "[CV 4/5] END max_depth=None, max_features=15, n_estimators=3;, score=0.422 total time=   0.0s\n",
      "[CV 5/5] END max_depth=None, max_features=15, n_estimators=3;, score=0.378 total time=   0.0s\n",
      "[CV 1/5] END max_depth=None, max_features=15, n_estimators=5;, score=0.422 total time=   0.0s\n",
      "[CV 2/5] END max_depth=None, max_features=15, n_estimators=5;, score=0.489 total time=   0.0s\n",
      "[CV 3/5] END max_depth=None, max_features=15, n_estimators=5;, score=0.356 total time=   0.0s\n",
      "[CV 4/5] END max_depth=None, max_features=15, n_estimators=5;, score=0.511 total time=   0.0s\n",
      "[CV 5/5] END max_depth=None, max_features=15, n_estimators=5;, score=0.400 total time=   0.0s\n",
      "[CV 1/5] END max_depth=None, max_features=15, n_estimators=10;, score=0.311 total time=   0.0s\n",
      "[CV 2/5] END max_depth=None, max_features=15, n_estimators=10;, score=0.422 total time=   0.0s\n",
      "[CV 3/5] END max_depth=None, max_features=15, n_estimators=10;, score=0.400 total time=   0.0s\n",
      "[CV 4/5] END max_depth=None, max_features=15, n_estimators=10;, score=0.311 total time=   0.0s\n",
      "[CV 5/5] END max_depth=None, max_features=15, n_estimators=10;, score=0.311 total time=   0.0s\n",
      "[CV 1/5] END max_depth=None, max_features=15, n_estimators=25;, score=0.311 total time=   0.0s\n",
      "[CV 2/5] END max_depth=None, max_features=15, n_estimators=25;, score=0.511 total time=   0.0s\n",
      "[CV 3/5] END max_depth=None, max_features=15, n_estimators=25;, score=0.422 total time=   0.0s\n",
      "[CV 4/5] END max_depth=None, max_features=15, n_estimators=25;, score=0.444 total time=   0.0s\n",
      "[CV 5/5] END max_depth=None, max_features=15, n_estimators=25;, score=0.400 total time=   0.0s\n"
     ]
    },
    {
     "data": {
      "text/html": [
       "<style>#sk-container-id-1 {\n",
       "  /* Definition of color scheme common for light and dark mode */\n",
       "  --sklearn-color-text: #000;\n",
       "  --sklearn-color-text-muted: #666;\n",
       "  --sklearn-color-line: gray;\n",
       "  /* Definition of color scheme for unfitted estimators */\n",
       "  --sklearn-color-unfitted-level-0: #fff5e6;\n",
       "  --sklearn-color-unfitted-level-1: #f6e4d2;\n",
       "  --sklearn-color-unfitted-level-2: #ffe0b3;\n",
       "  --sklearn-color-unfitted-level-3: chocolate;\n",
       "  /* Definition of color scheme for fitted estimators */\n",
       "  --sklearn-color-fitted-level-0: #f0f8ff;\n",
       "  --sklearn-color-fitted-level-1: #d4ebff;\n",
       "  --sklearn-color-fitted-level-2: #b3dbfd;\n",
       "  --sklearn-color-fitted-level-3: cornflowerblue;\n",
       "\n",
       "  /* Specific color for light theme */\n",
       "  --sklearn-color-text-on-default-background: var(--sg-text-color, var(--theme-code-foreground, var(--jp-content-font-color1, black)));\n",
       "  --sklearn-color-background: var(--sg-background-color, var(--theme-background, var(--jp-layout-color0, white)));\n",
       "  --sklearn-color-border-box: var(--sg-text-color, var(--theme-code-foreground, var(--jp-content-font-color1, black)));\n",
       "  --sklearn-color-icon: #696969;\n",
       "\n",
       "  @media (prefers-color-scheme: dark) {\n",
       "    /* Redefinition of color scheme for dark theme */\n",
       "    --sklearn-color-text-on-default-background: var(--sg-text-color, var(--theme-code-foreground, var(--jp-content-font-color1, white)));\n",
       "    --sklearn-color-background: var(--sg-background-color, var(--theme-background, var(--jp-layout-color0, #111)));\n",
       "    --sklearn-color-border-box: var(--sg-text-color, var(--theme-code-foreground, var(--jp-content-font-color1, white)));\n",
       "    --sklearn-color-icon: #878787;\n",
       "  }\n",
       "}\n",
       "\n",
       "#sk-container-id-1 {\n",
       "  color: var(--sklearn-color-text);\n",
       "}\n",
       "\n",
       "#sk-container-id-1 pre {\n",
       "  padding: 0;\n",
       "}\n",
       "\n",
       "#sk-container-id-1 input.sk-hidden--visually {\n",
       "  border: 0;\n",
       "  clip: rect(1px 1px 1px 1px);\n",
       "  clip: rect(1px, 1px, 1px, 1px);\n",
       "  height: 1px;\n",
       "  margin: -1px;\n",
       "  overflow: hidden;\n",
       "  padding: 0;\n",
       "  position: absolute;\n",
       "  width: 1px;\n",
       "}\n",
       "\n",
       "#sk-container-id-1 div.sk-dashed-wrapped {\n",
       "  border: 1px dashed var(--sklearn-color-line);\n",
       "  margin: 0 0.4em 0.5em 0.4em;\n",
       "  box-sizing: border-box;\n",
       "  padding-bottom: 0.4em;\n",
       "  background-color: var(--sklearn-color-background);\n",
       "}\n",
       "\n",
       "#sk-container-id-1 div.sk-container {\n",
       "  /* jupyter's `normalize.less` sets `[hidden] { display: none; }`\n",
       "     but bootstrap.min.css set `[hidden] { display: none !important; }`\n",
       "     so we also need the `!important` here to be able to override the\n",
       "     default hidden behavior on the sphinx rendered scikit-learn.org.\n",
       "     See: https://github.com/scikit-learn/scikit-learn/issues/21755 */\n",
       "  display: inline-block !important;\n",
       "  position: relative;\n",
       "}\n",
       "\n",
       "#sk-container-id-1 div.sk-text-repr-fallback {\n",
       "  display: none;\n",
       "}\n",
       "\n",
       "div.sk-parallel-item,\n",
       "div.sk-serial,\n",
       "div.sk-item {\n",
       "  /* draw centered vertical line to link estimators */\n",
       "  background-image: linear-gradient(var(--sklearn-color-text-on-default-background), var(--sklearn-color-text-on-default-background));\n",
       "  background-size: 2px 100%;\n",
       "  background-repeat: no-repeat;\n",
       "  background-position: center center;\n",
       "}\n",
       "\n",
       "/* Parallel-specific style estimator block */\n",
       "\n",
       "#sk-container-id-1 div.sk-parallel-item::after {\n",
       "  content: \"\";\n",
       "  width: 100%;\n",
       "  border-bottom: 2px solid var(--sklearn-color-text-on-default-background);\n",
       "  flex-grow: 1;\n",
       "}\n",
       "\n",
       "#sk-container-id-1 div.sk-parallel {\n",
       "  display: flex;\n",
       "  align-items: stretch;\n",
       "  justify-content: center;\n",
       "  background-color: var(--sklearn-color-background);\n",
       "  position: relative;\n",
       "}\n",
       "\n",
       "#sk-container-id-1 div.sk-parallel-item {\n",
       "  display: flex;\n",
       "  flex-direction: column;\n",
       "}\n",
       "\n",
       "#sk-container-id-1 div.sk-parallel-item:first-child::after {\n",
       "  align-self: flex-end;\n",
       "  width: 50%;\n",
       "}\n",
       "\n",
       "#sk-container-id-1 div.sk-parallel-item:last-child::after {\n",
       "  align-self: flex-start;\n",
       "  width: 50%;\n",
       "}\n",
       "\n",
       "#sk-container-id-1 div.sk-parallel-item:only-child::after {\n",
       "  width: 0;\n",
       "}\n",
       "\n",
       "/* Serial-specific style estimator block */\n",
       "\n",
       "#sk-container-id-1 div.sk-serial {\n",
       "  display: flex;\n",
       "  flex-direction: column;\n",
       "  align-items: center;\n",
       "  background-color: var(--sklearn-color-background);\n",
       "  padding-right: 1em;\n",
       "  padding-left: 1em;\n",
       "}\n",
       "\n",
       "\n",
       "/* Toggleable style: style used for estimator/Pipeline/ColumnTransformer box that is\n",
       "clickable and can be expanded/collapsed.\n",
       "- Pipeline and ColumnTransformer use this feature and define the default style\n",
       "- Estimators will overwrite some part of the style using the `sk-estimator` class\n",
       "*/\n",
       "\n",
       "/* Pipeline and ColumnTransformer style (default) */\n",
       "\n",
       "#sk-container-id-1 div.sk-toggleable {\n",
       "  /* Default theme specific background. It is overwritten whether we have a\n",
       "  specific estimator or a Pipeline/ColumnTransformer */\n",
       "  background-color: var(--sklearn-color-background);\n",
       "}\n",
       "\n",
       "/* Toggleable label */\n",
       "#sk-container-id-1 label.sk-toggleable__label {\n",
       "  cursor: pointer;\n",
       "  display: flex;\n",
       "  width: 100%;\n",
       "  margin-bottom: 0;\n",
       "  padding: 0.5em;\n",
       "  box-sizing: border-box;\n",
       "  text-align: center;\n",
       "  align-items: start;\n",
       "  justify-content: space-between;\n",
       "  gap: 0.5em;\n",
       "}\n",
       "\n",
       "#sk-container-id-1 label.sk-toggleable__label .caption {\n",
       "  font-size: 0.6rem;\n",
       "  font-weight: lighter;\n",
       "  color: var(--sklearn-color-text-muted);\n",
       "}\n",
       "\n",
       "#sk-container-id-1 label.sk-toggleable__label-arrow:before {\n",
       "  /* Arrow on the left of the label */\n",
       "  content: \"▸\";\n",
       "  float: left;\n",
       "  margin-right: 0.25em;\n",
       "  color: var(--sklearn-color-icon);\n",
       "}\n",
       "\n",
       "#sk-container-id-1 label.sk-toggleable__label-arrow:hover:before {\n",
       "  color: var(--sklearn-color-text);\n",
       "}\n",
       "\n",
       "/* Toggleable content - dropdown */\n",
       "\n",
       "#sk-container-id-1 div.sk-toggleable__content {\n",
       "  max-height: 0;\n",
       "  max-width: 0;\n",
       "  overflow: hidden;\n",
       "  text-align: left;\n",
       "  /* unfitted */\n",
       "  background-color: var(--sklearn-color-unfitted-level-0);\n",
       "}\n",
       "\n",
       "#sk-container-id-1 div.sk-toggleable__content.fitted {\n",
       "  /* fitted */\n",
       "  background-color: var(--sklearn-color-fitted-level-0);\n",
       "}\n",
       "\n",
       "#sk-container-id-1 div.sk-toggleable__content pre {\n",
       "  margin: 0.2em;\n",
       "  border-radius: 0.25em;\n",
       "  color: var(--sklearn-color-text);\n",
       "  /* unfitted */\n",
       "  background-color: var(--sklearn-color-unfitted-level-0);\n",
       "}\n",
       "\n",
       "#sk-container-id-1 div.sk-toggleable__content.fitted pre {\n",
       "  /* unfitted */\n",
       "  background-color: var(--sklearn-color-fitted-level-0);\n",
       "}\n",
       "\n",
       "#sk-container-id-1 input.sk-toggleable__control:checked~div.sk-toggleable__content {\n",
       "  /* Expand drop-down */\n",
       "  max-height: 200px;\n",
       "  max-width: 100%;\n",
       "  overflow: auto;\n",
       "}\n",
       "\n",
       "#sk-container-id-1 input.sk-toggleable__control:checked~label.sk-toggleable__label-arrow:before {\n",
       "  content: \"▾\";\n",
       "}\n",
       "\n",
       "/* Pipeline/ColumnTransformer-specific style */\n",
       "\n",
       "#sk-container-id-1 div.sk-label input.sk-toggleable__control:checked~label.sk-toggleable__label {\n",
       "  color: var(--sklearn-color-text);\n",
       "  background-color: var(--sklearn-color-unfitted-level-2);\n",
       "}\n",
       "\n",
       "#sk-container-id-1 div.sk-label.fitted input.sk-toggleable__control:checked~label.sk-toggleable__label {\n",
       "  background-color: var(--sklearn-color-fitted-level-2);\n",
       "}\n",
       "\n",
       "/* Estimator-specific style */\n",
       "\n",
       "/* Colorize estimator box */\n",
       "#sk-container-id-1 div.sk-estimator input.sk-toggleable__control:checked~label.sk-toggleable__label {\n",
       "  /* unfitted */\n",
       "  background-color: var(--sklearn-color-unfitted-level-2);\n",
       "}\n",
       "\n",
       "#sk-container-id-1 div.sk-estimator.fitted input.sk-toggleable__control:checked~label.sk-toggleable__label {\n",
       "  /* fitted */\n",
       "  background-color: var(--sklearn-color-fitted-level-2);\n",
       "}\n",
       "\n",
       "#sk-container-id-1 div.sk-label label.sk-toggleable__label,\n",
       "#sk-container-id-1 div.sk-label label {\n",
       "  /* The background is the default theme color */\n",
       "  color: var(--sklearn-color-text-on-default-background);\n",
       "}\n",
       "\n",
       "/* On hover, darken the color of the background */\n",
       "#sk-container-id-1 div.sk-label:hover label.sk-toggleable__label {\n",
       "  color: var(--sklearn-color-text);\n",
       "  background-color: var(--sklearn-color-unfitted-level-2);\n",
       "}\n",
       "\n",
       "/* Label box, darken color on hover, fitted */\n",
       "#sk-container-id-1 div.sk-label.fitted:hover label.sk-toggleable__label.fitted {\n",
       "  color: var(--sklearn-color-text);\n",
       "  background-color: var(--sklearn-color-fitted-level-2);\n",
       "}\n",
       "\n",
       "/* Estimator label */\n",
       "\n",
       "#sk-container-id-1 div.sk-label label {\n",
       "  font-family: monospace;\n",
       "  font-weight: bold;\n",
       "  display: inline-block;\n",
       "  line-height: 1.2em;\n",
       "}\n",
       "\n",
       "#sk-container-id-1 div.sk-label-container {\n",
       "  text-align: center;\n",
       "}\n",
       "\n",
       "/* Estimator-specific */\n",
       "#sk-container-id-1 div.sk-estimator {\n",
       "  font-family: monospace;\n",
       "  border: 1px dotted var(--sklearn-color-border-box);\n",
       "  border-radius: 0.25em;\n",
       "  box-sizing: border-box;\n",
       "  margin-bottom: 0.5em;\n",
       "  /* unfitted */\n",
       "  background-color: var(--sklearn-color-unfitted-level-0);\n",
       "}\n",
       "\n",
       "#sk-container-id-1 div.sk-estimator.fitted {\n",
       "  /* fitted */\n",
       "  background-color: var(--sklearn-color-fitted-level-0);\n",
       "}\n",
       "\n",
       "/* on hover */\n",
       "#sk-container-id-1 div.sk-estimator:hover {\n",
       "  /* unfitted */\n",
       "  background-color: var(--sklearn-color-unfitted-level-2);\n",
       "}\n",
       "\n",
       "#sk-container-id-1 div.sk-estimator.fitted:hover {\n",
       "  /* fitted */\n",
       "  background-color: var(--sklearn-color-fitted-level-2);\n",
       "}\n",
       "\n",
       "/* Specification for estimator info (e.g. \"i\" and \"?\") */\n",
       "\n",
       "/* Common style for \"i\" and \"?\" */\n",
       "\n",
       ".sk-estimator-doc-link,\n",
       "a:link.sk-estimator-doc-link,\n",
       "a:visited.sk-estimator-doc-link {\n",
       "  float: right;\n",
       "  font-size: smaller;\n",
       "  line-height: 1em;\n",
       "  font-family: monospace;\n",
       "  background-color: var(--sklearn-color-background);\n",
       "  border-radius: 1em;\n",
       "  height: 1em;\n",
       "  width: 1em;\n",
       "  text-decoration: none !important;\n",
       "  margin-left: 0.5em;\n",
       "  text-align: center;\n",
       "  /* unfitted */\n",
       "  border: var(--sklearn-color-unfitted-level-1) 1pt solid;\n",
       "  color: var(--sklearn-color-unfitted-level-1);\n",
       "}\n",
       "\n",
       ".sk-estimator-doc-link.fitted,\n",
       "a:link.sk-estimator-doc-link.fitted,\n",
       "a:visited.sk-estimator-doc-link.fitted {\n",
       "  /* fitted */\n",
       "  border: var(--sklearn-color-fitted-level-1) 1pt solid;\n",
       "  color: var(--sklearn-color-fitted-level-1);\n",
       "}\n",
       "\n",
       "/* On hover */\n",
       "div.sk-estimator:hover .sk-estimator-doc-link:hover,\n",
       ".sk-estimator-doc-link:hover,\n",
       "div.sk-label-container:hover .sk-estimator-doc-link:hover,\n",
       ".sk-estimator-doc-link:hover {\n",
       "  /* unfitted */\n",
       "  background-color: var(--sklearn-color-unfitted-level-3);\n",
       "  color: var(--sklearn-color-background);\n",
       "  text-decoration: none;\n",
       "}\n",
       "\n",
       "div.sk-estimator.fitted:hover .sk-estimator-doc-link.fitted:hover,\n",
       ".sk-estimator-doc-link.fitted:hover,\n",
       "div.sk-label-container:hover .sk-estimator-doc-link.fitted:hover,\n",
       ".sk-estimator-doc-link.fitted:hover {\n",
       "  /* fitted */\n",
       "  background-color: var(--sklearn-color-fitted-level-3);\n",
       "  color: var(--sklearn-color-background);\n",
       "  text-decoration: none;\n",
       "}\n",
       "\n",
       "/* Span, style for the box shown on hovering the info icon */\n",
       ".sk-estimator-doc-link span {\n",
       "  display: none;\n",
       "  z-index: 9999;\n",
       "  position: relative;\n",
       "  font-weight: normal;\n",
       "  right: .2ex;\n",
       "  padding: .5ex;\n",
       "  margin: .5ex;\n",
       "  width: min-content;\n",
       "  min-width: 20ex;\n",
       "  max-width: 50ex;\n",
       "  color: var(--sklearn-color-text);\n",
       "  box-shadow: 2pt 2pt 4pt #999;\n",
       "  /* unfitted */\n",
       "  background: var(--sklearn-color-unfitted-level-0);\n",
       "  border: .5pt solid var(--sklearn-color-unfitted-level-3);\n",
       "}\n",
       "\n",
       ".sk-estimator-doc-link.fitted span {\n",
       "  /* fitted */\n",
       "  background: var(--sklearn-color-fitted-level-0);\n",
       "  border: var(--sklearn-color-fitted-level-3);\n",
       "}\n",
       "\n",
       ".sk-estimator-doc-link:hover span {\n",
       "  display: block;\n",
       "}\n",
       "\n",
       "/* \"?\"-specific style due to the `<a>` HTML tag */\n",
       "\n",
       "#sk-container-id-1 a.estimator_doc_link {\n",
       "  float: right;\n",
       "  font-size: 1rem;\n",
       "  line-height: 1em;\n",
       "  font-family: monospace;\n",
       "  background-color: var(--sklearn-color-background);\n",
       "  border-radius: 1rem;\n",
       "  height: 1rem;\n",
       "  width: 1rem;\n",
       "  text-decoration: none;\n",
       "  /* unfitted */\n",
       "  color: var(--sklearn-color-unfitted-level-1);\n",
       "  border: var(--sklearn-color-unfitted-level-1) 1pt solid;\n",
       "}\n",
       "\n",
       "#sk-container-id-1 a.estimator_doc_link.fitted {\n",
       "  /* fitted */\n",
       "  border: var(--sklearn-color-fitted-level-1) 1pt solid;\n",
       "  color: var(--sklearn-color-fitted-level-1);\n",
       "}\n",
       "\n",
       "/* On hover */\n",
       "#sk-container-id-1 a.estimator_doc_link:hover {\n",
       "  /* unfitted */\n",
       "  background-color: var(--sklearn-color-unfitted-level-3);\n",
       "  color: var(--sklearn-color-background);\n",
       "  text-decoration: none;\n",
       "}\n",
       "\n",
       "#sk-container-id-1 a.estimator_doc_link.fitted:hover {\n",
       "  /* fitted */\n",
       "  background-color: var(--sklearn-color-fitted-level-3);\n",
       "}\n",
       "</style><div id=\"sk-container-id-1\" class=\"sk-top-container\"><div class=\"sk-text-repr-fallback\"><pre>GridSearchCV(cv=5, estimator=RandomForestClassifier(random_state=2),\n",
       "             param_grid={&#x27;max_depth&#x27;: [3, 5, None], &#x27;max_features&#x27;: [4, 7, 15],\n",
       "                         &#x27;n_estimators&#x27;: [3, 5, 10, 25]},\n",
       "             scoring=&#x27;recall&#x27;, verbose=4)</pre><b>In a Jupyter environment, please rerun this cell to show the HTML representation or trust the notebook. <br />On GitHub, the HTML representation is unable to render, please try loading this page with nbviewer.org.</b></div><div class=\"sk-container\" hidden><div class=\"sk-item sk-dashed-wrapped\"><div class=\"sk-label-container\"><div class=\"sk-label fitted sk-toggleable\"><input class=\"sk-toggleable__control sk-hidden--visually\" id=\"sk-estimator-id-1\" type=\"checkbox\" ><label for=\"sk-estimator-id-1\" class=\"sk-toggleable__label fitted sk-toggleable__label-arrow\"><div><div>GridSearchCV</div></div><div><a class=\"sk-estimator-doc-link fitted\" rel=\"noreferrer\" target=\"_blank\" href=\"https://scikit-learn.org/1.6/modules/generated/sklearn.model_selection.GridSearchCV.html\">?<span>Documentation for GridSearchCV</span></a><span class=\"sk-estimator-doc-link fitted\">i<span>Fitted</span></span></div></label><div class=\"sk-toggleable__content fitted\"><pre>GridSearchCV(cv=5, estimator=RandomForestClassifier(random_state=2),\n",
       "             param_grid={&#x27;max_depth&#x27;: [3, 5, None], &#x27;max_features&#x27;: [4, 7, 15],\n",
       "                         &#x27;n_estimators&#x27;: [3, 5, 10, 25]},\n",
       "             scoring=&#x27;recall&#x27;, verbose=4)</pre></div> </div></div><div class=\"sk-parallel\"><div class=\"sk-parallel-item\"><div class=\"sk-item\"><div class=\"sk-label-container\"><div class=\"sk-label fitted sk-toggleable\"><input class=\"sk-toggleable__control sk-hidden--visually\" id=\"sk-estimator-id-2\" type=\"checkbox\" ><label for=\"sk-estimator-id-2\" class=\"sk-toggleable__label fitted sk-toggleable__label-arrow\"><div><div>best_estimator_: RandomForestClassifier</div></div></label><div class=\"sk-toggleable__content fitted\"><pre>RandomForestClassifier(max_features=15, n_estimators=5, random_state=2)</pre></div> </div></div><div class=\"sk-serial\"><div class=\"sk-item\"><div class=\"sk-estimator fitted sk-toggleable\"><input class=\"sk-toggleable__control sk-hidden--visually\" id=\"sk-estimator-id-3\" type=\"checkbox\" ><label for=\"sk-estimator-id-3\" class=\"sk-toggleable__label fitted sk-toggleable__label-arrow\"><div><div>RandomForestClassifier</div></div><div><a class=\"sk-estimator-doc-link fitted\" rel=\"noreferrer\" target=\"_blank\" href=\"https://scikit-learn.org/1.6/modules/generated/sklearn.ensemble.RandomForestClassifier.html\">?<span>Documentation for RandomForestClassifier</span></a></div></label><div class=\"sk-toggleable__content fitted\"><pre>RandomForestClassifier(max_features=15, n_estimators=5, random_state=2)</pre></div> </div></div></div></div></div></div></div></div></div>"
      ],
      "text/plain": [
       "GridSearchCV(cv=5, estimator=RandomForestClassifier(random_state=2),\n",
       "             param_grid={'max_depth': [3, 5, None], 'max_features': [4, 7, 15],\n",
       "                         'n_estimators': [3, 5, 10, 25]},\n",
       "             scoring='recall', verbose=4)"
      ]
     },
     "execution_count": 27,
     "metadata": {},
     "output_type": "execute_result"
    },
    {
     "data": {
      "text/plain": [
       "GridSearchCV(cv=5, estimator=RandomForestClassifier(random_state=2),\n",
       "             param_grid={'max_depth': [3, 5, None], 'max_features': [4, 7, 15],\n",
       "                         'n_estimators': [3, 5, 10, 25]},\n",
       "             scoring='recall', verbose=4)"
      ]
     },
     "execution_count": 31,
     "metadata": {},
     "output_type": "execute_result"
    }
   ],
   "source": [
    "#Seting the Hyper Parameters\n",
    "param_grid = {\"max_depth\": [3,5,None],\n",
    "              \"n_estimators\":[3,5,10,25],\n",
    "              \"max_features\": [4,7,15]}\n",
    "\n",
    "#Creating the classifier\n",
    "model = RandomForestClassifier(random_state=2)\n",
    "\n",
    "grid_search = GridSearchCV(model, param_grid=param_grid, cv=5, scoring='recall', verbose=4)\n",
    "grid_search.fit(X_train, y_train)"
   ]
  },
  {
   "cell_type": "code",
   "execution_count": 28,
   "metadata": {
    "_uuid": "420025da50cbf987174da6a4990032a9abc9f2ee"
   },
   "outputs": [
    {
     "name": "stdout",
     "output_type": "stream",
     "text": [
      "0.43555555555555553\n",
      "{'max_depth': None, 'max_features': 15, 'n_estimators': 5}\n"
     ]
    }
   ],
   "source": [
    "print(grid_search.best_score_)\n",
    "print(grid_search.best_params_)"
   ]
  },
  {
   "cell_type": "code",
   "execution_count": 29,
   "metadata": {
    "_uuid": "ed2f94c143bd97a4ce0931c6fd82aff9ccc7d434"
   },
   "outputs": [
    {
     "data": {
      "text/html": [
       "<style>#sk-container-id-2 {\n",
       "  /* Definition of color scheme common for light and dark mode */\n",
       "  --sklearn-color-text: #000;\n",
       "  --sklearn-color-text-muted: #666;\n",
       "  --sklearn-color-line: gray;\n",
       "  /* Definition of color scheme for unfitted estimators */\n",
       "  --sklearn-color-unfitted-level-0: #fff5e6;\n",
       "  --sklearn-color-unfitted-level-1: #f6e4d2;\n",
       "  --sklearn-color-unfitted-level-2: #ffe0b3;\n",
       "  --sklearn-color-unfitted-level-3: chocolate;\n",
       "  /* Definition of color scheme for fitted estimators */\n",
       "  --sklearn-color-fitted-level-0: #f0f8ff;\n",
       "  --sklearn-color-fitted-level-1: #d4ebff;\n",
       "  --sklearn-color-fitted-level-2: #b3dbfd;\n",
       "  --sklearn-color-fitted-level-3: cornflowerblue;\n",
       "\n",
       "  /* Specific color for light theme */\n",
       "  --sklearn-color-text-on-default-background: var(--sg-text-color, var(--theme-code-foreground, var(--jp-content-font-color1, black)));\n",
       "  --sklearn-color-background: var(--sg-background-color, var(--theme-background, var(--jp-layout-color0, white)));\n",
       "  --sklearn-color-border-box: var(--sg-text-color, var(--theme-code-foreground, var(--jp-content-font-color1, black)));\n",
       "  --sklearn-color-icon: #696969;\n",
       "\n",
       "  @media (prefers-color-scheme: dark) {\n",
       "    /* Redefinition of color scheme for dark theme */\n",
       "    --sklearn-color-text-on-default-background: var(--sg-text-color, var(--theme-code-foreground, var(--jp-content-font-color1, white)));\n",
       "    --sklearn-color-background: var(--sg-background-color, var(--theme-background, var(--jp-layout-color0, #111)));\n",
       "    --sklearn-color-border-box: var(--sg-text-color, var(--theme-code-foreground, var(--jp-content-font-color1, white)));\n",
       "    --sklearn-color-icon: #878787;\n",
       "  }\n",
       "}\n",
       "\n",
       "#sk-container-id-2 {\n",
       "  color: var(--sklearn-color-text);\n",
       "}\n",
       "\n",
       "#sk-container-id-2 pre {\n",
       "  padding: 0;\n",
       "}\n",
       "\n",
       "#sk-container-id-2 input.sk-hidden--visually {\n",
       "  border: 0;\n",
       "  clip: rect(1px 1px 1px 1px);\n",
       "  clip: rect(1px, 1px, 1px, 1px);\n",
       "  height: 1px;\n",
       "  margin: -1px;\n",
       "  overflow: hidden;\n",
       "  padding: 0;\n",
       "  position: absolute;\n",
       "  width: 1px;\n",
       "}\n",
       "\n",
       "#sk-container-id-2 div.sk-dashed-wrapped {\n",
       "  border: 1px dashed var(--sklearn-color-line);\n",
       "  margin: 0 0.4em 0.5em 0.4em;\n",
       "  box-sizing: border-box;\n",
       "  padding-bottom: 0.4em;\n",
       "  background-color: var(--sklearn-color-background);\n",
       "}\n",
       "\n",
       "#sk-container-id-2 div.sk-container {\n",
       "  /* jupyter's `normalize.less` sets `[hidden] { display: none; }`\n",
       "     but bootstrap.min.css set `[hidden] { display: none !important; }`\n",
       "     so we also need the `!important` here to be able to override the\n",
       "     default hidden behavior on the sphinx rendered scikit-learn.org.\n",
       "     See: https://github.com/scikit-learn/scikit-learn/issues/21755 */\n",
       "  display: inline-block !important;\n",
       "  position: relative;\n",
       "}\n",
       "\n",
       "#sk-container-id-2 div.sk-text-repr-fallback {\n",
       "  display: none;\n",
       "}\n",
       "\n",
       "div.sk-parallel-item,\n",
       "div.sk-serial,\n",
       "div.sk-item {\n",
       "  /* draw centered vertical line to link estimators */\n",
       "  background-image: linear-gradient(var(--sklearn-color-text-on-default-background), var(--sklearn-color-text-on-default-background));\n",
       "  background-size: 2px 100%;\n",
       "  background-repeat: no-repeat;\n",
       "  background-position: center center;\n",
       "}\n",
       "\n",
       "/* Parallel-specific style estimator block */\n",
       "\n",
       "#sk-container-id-2 div.sk-parallel-item::after {\n",
       "  content: \"\";\n",
       "  width: 100%;\n",
       "  border-bottom: 2px solid var(--sklearn-color-text-on-default-background);\n",
       "  flex-grow: 1;\n",
       "}\n",
       "\n",
       "#sk-container-id-2 div.sk-parallel {\n",
       "  display: flex;\n",
       "  align-items: stretch;\n",
       "  justify-content: center;\n",
       "  background-color: var(--sklearn-color-background);\n",
       "  position: relative;\n",
       "}\n",
       "\n",
       "#sk-container-id-2 div.sk-parallel-item {\n",
       "  display: flex;\n",
       "  flex-direction: column;\n",
       "}\n",
       "\n",
       "#sk-container-id-2 div.sk-parallel-item:first-child::after {\n",
       "  align-self: flex-end;\n",
       "  width: 50%;\n",
       "}\n",
       "\n",
       "#sk-container-id-2 div.sk-parallel-item:last-child::after {\n",
       "  align-self: flex-start;\n",
       "  width: 50%;\n",
       "}\n",
       "\n",
       "#sk-container-id-2 div.sk-parallel-item:only-child::after {\n",
       "  width: 0;\n",
       "}\n",
       "\n",
       "/* Serial-specific style estimator block */\n",
       "\n",
       "#sk-container-id-2 div.sk-serial {\n",
       "  display: flex;\n",
       "  flex-direction: column;\n",
       "  align-items: center;\n",
       "  background-color: var(--sklearn-color-background);\n",
       "  padding-right: 1em;\n",
       "  padding-left: 1em;\n",
       "}\n",
       "\n",
       "\n",
       "/* Toggleable style: style used for estimator/Pipeline/ColumnTransformer box that is\n",
       "clickable and can be expanded/collapsed.\n",
       "- Pipeline and ColumnTransformer use this feature and define the default style\n",
       "- Estimators will overwrite some part of the style using the `sk-estimator` class\n",
       "*/\n",
       "\n",
       "/* Pipeline and ColumnTransformer style (default) */\n",
       "\n",
       "#sk-container-id-2 div.sk-toggleable {\n",
       "  /* Default theme specific background. It is overwritten whether we have a\n",
       "  specific estimator or a Pipeline/ColumnTransformer */\n",
       "  background-color: var(--sklearn-color-background);\n",
       "}\n",
       "\n",
       "/* Toggleable label */\n",
       "#sk-container-id-2 label.sk-toggleable__label {\n",
       "  cursor: pointer;\n",
       "  display: flex;\n",
       "  width: 100%;\n",
       "  margin-bottom: 0;\n",
       "  padding: 0.5em;\n",
       "  box-sizing: border-box;\n",
       "  text-align: center;\n",
       "  align-items: start;\n",
       "  justify-content: space-between;\n",
       "  gap: 0.5em;\n",
       "}\n",
       "\n",
       "#sk-container-id-2 label.sk-toggleable__label .caption {\n",
       "  font-size: 0.6rem;\n",
       "  font-weight: lighter;\n",
       "  color: var(--sklearn-color-text-muted);\n",
       "}\n",
       "\n",
       "#sk-container-id-2 label.sk-toggleable__label-arrow:before {\n",
       "  /* Arrow on the left of the label */\n",
       "  content: \"▸\";\n",
       "  float: left;\n",
       "  margin-right: 0.25em;\n",
       "  color: var(--sklearn-color-icon);\n",
       "}\n",
       "\n",
       "#sk-container-id-2 label.sk-toggleable__label-arrow:hover:before {\n",
       "  color: var(--sklearn-color-text);\n",
       "}\n",
       "\n",
       "/* Toggleable content - dropdown */\n",
       "\n",
       "#sk-container-id-2 div.sk-toggleable__content {\n",
       "  max-height: 0;\n",
       "  max-width: 0;\n",
       "  overflow: hidden;\n",
       "  text-align: left;\n",
       "  /* unfitted */\n",
       "  background-color: var(--sklearn-color-unfitted-level-0);\n",
       "}\n",
       "\n",
       "#sk-container-id-2 div.sk-toggleable__content.fitted {\n",
       "  /* fitted */\n",
       "  background-color: var(--sklearn-color-fitted-level-0);\n",
       "}\n",
       "\n",
       "#sk-container-id-2 div.sk-toggleable__content pre {\n",
       "  margin: 0.2em;\n",
       "  border-radius: 0.25em;\n",
       "  color: var(--sklearn-color-text);\n",
       "  /* unfitted */\n",
       "  background-color: var(--sklearn-color-unfitted-level-0);\n",
       "}\n",
       "\n",
       "#sk-container-id-2 div.sk-toggleable__content.fitted pre {\n",
       "  /* unfitted */\n",
       "  background-color: var(--sklearn-color-fitted-level-0);\n",
       "}\n",
       "\n",
       "#sk-container-id-2 input.sk-toggleable__control:checked~div.sk-toggleable__content {\n",
       "  /* Expand drop-down */\n",
       "  max-height: 200px;\n",
       "  max-width: 100%;\n",
       "  overflow: auto;\n",
       "}\n",
       "\n",
       "#sk-container-id-2 input.sk-toggleable__control:checked~label.sk-toggleable__label-arrow:before {\n",
       "  content: \"▾\";\n",
       "}\n",
       "\n",
       "/* Pipeline/ColumnTransformer-specific style */\n",
       "\n",
       "#sk-container-id-2 div.sk-label input.sk-toggleable__control:checked~label.sk-toggleable__label {\n",
       "  color: var(--sklearn-color-text);\n",
       "  background-color: var(--sklearn-color-unfitted-level-2);\n",
       "}\n",
       "\n",
       "#sk-container-id-2 div.sk-label.fitted input.sk-toggleable__control:checked~label.sk-toggleable__label {\n",
       "  background-color: var(--sklearn-color-fitted-level-2);\n",
       "}\n",
       "\n",
       "/* Estimator-specific style */\n",
       "\n",
       "/* Colorize estimator box */\n",
       "#sk-container-id-2 div.sk-estimator input.sk-toggleable__control:checked~label.sk-toggleable__label {\n",
       "  /* unfitted */\n",
       "  background-color: var(--sklearn-color-unfitted-level-2);\n",
       "}\n",
       "\n",
       "#sk-container-id-2 div.sk-estimator.fitted input.sk-toggleable__control:checked~label.sk-toggleable__label {\n",
       "  /* fitted */\n",
       "  background-color: var(--sklearn-color-fitted-level-2);\n",
       "}\n",
       "\n",
       "#sk-container-id-2 div.sk-label label.sk-toggleable__label,\n",
       "#sk-container-id-2 div.sk-label label {\n",
       "  /* The background is the default theme color */\n",
       "  color: var(--sklearn-color-text-on-default-background);\n",
       "}\n",
       "\n",
       "/* On hover, darken the color of the background */\n",
       "#sk-container-id-2 div.sk-label:hover label.sk-toggleable__label {\n",
       "  color: var(--sklearn-color-text);\n",
       "  background-color: var(--sklearn-color-unfitted-level-2);\n",
       "}\n",
       "\n",
       "/* Label box, darken color on hover, fitted */\n",
       "#sk-container-id-2 div.sk-label.fitted:hover label.sk-toggleable__label.fitted {\n",
       "  color: var(--sklearn-color-text);\n",
       "  background-color: var(--sklearn-color-fitted-level-2);\n",
       "}\n",
       "\n",
       "/* Estimator label */\n",
       "\n",
       "#sk-container-id-2 div.sk-label label {\n",
       "  font-family: monospace;\n",
       "  font-weight: bold;\n",
       "  display: inline-block;\n",
       "  line-height: 1.2em;\n",
       "}\n",
       "\n",
       "#sk-container-id-2 div.sk-label-container {\n",
       "  text-align: center;\n",
       "}\n",
       "\n",
       "/* Estimator-specific */\n",
       "#sk-container-id-2 div.sk-estimator {\n",
       "  font-family: monospace;\n",
       "  border: 1px dotted var(--sklearn-color-border-box);\n",
       "  border-radius: 0.25em;\n",
       "  box-sizing: border-box;\n",
       "  margin-bottom: 0.5em;\n",
       "  /* unfitted */\n",
       "  background-color: var(--sklearn-color-unfitted-level-0);\n",
       "}\n",
       "\n",
       "#sk-container-id-2 div.sk-estimator.fitted {\n",
       "  /* fitted */\n",
       "  background-color: var(--sklearn-color-fitted-level-0);\n",
       "}\n",
       "\n",
       "/* on hover */\n",
       "#sk-container-id-2 div.sk-estimator:hover {\n",
       "  /* unfitted */\n",
       "  background-color: var(--sklearn-color-unfitted-level-2);\n",
       "}\n",
       "\n",
       "#sk-container-id-2 div.sk-estimator.fitted:hover {\n",
       "  /* fitted */\n",
       "  background-color: var(--sklearn-color-fitted-level-2);\n",
       "}\n",
       "\n",
       "/* Specification for estimator info (e.g. \"i\" and \"?\") */\n",
       "\n",
       "/* Common style for \"i\" and \"?\" */\n",
       "\n",
       ".sk-estimator-doc-link,\n",
       "a:link.sk-estimator-doc-link,\n",
       "a:visited.sk-estimator-doc-link {\n",
       "  float: right;\n",
       "  font-size: smaller;\n",
       "  line-height: 1em;\n",
       "  font-family: monospace;\n",
       "  background-color: var(--sklearn-color-background);\n",
       "  border-radius: 1em;\n",
       "  height: 1em;\n",
       "  width: 1em;\n",
       "  text-decoration: none !important;\n",
       "  margin-left: 0.5em;\n",
       "  text-align: center;\n",
       "  /* unfitted */\n",
       "  border: var(--sklearn-color-unfitted-level-1) 1pt solid;\n",
       "  color: var(--sklearn-color-unfitted-level-1);\n",
       "}\n",
       "\n",
       ".sk-estimator-doc-link.fitted,\n",
       "a:link.sk-estimator-doc-link.fitted,\n",
       "a:visited.sk-estimator-doc-link.fitted {\n",
       "  /* fitted */\n",
       "  border: var(--sklearn-color-fitted-level-1) 1pt solid;\n",
       "  color: var(--sklearn-color-fitted-level-1);\n",
       "}\n",
       "\n",
       "/* On hover */\n",
       "div.sk-estimator:hover .sk-estimator-doc-link:hover,\n",
       ".sk-estimator-doc-link:hover,\n",
       "div.sk-label-container:hover .sk-estimator-doc-link:hover,\n",
       ".sk-estimator-doc-link:hover {\n",
       "  /* unfitted */\n",
       "  background-color: var(--sklearn-color-unfitted-level-3);\n",
       "  color: var(--sklearn-color-background);\n",
       "  text-decoration: none;\n",
       "}\n",
       "\n",
       "div.sk-estimator.fitted:hover .sk-estimator-doc-link.fitted:hover,\n",
       ".sk-estimator-doc-link.fitted:hover,\n",
       "div.sk-label-container:hover .sk-estimator-doc-link.fitted:hover,\n",
       ".sk-estimator-doc-link.fitted:hover {\n",
       "  /* fitted */\n",
       "  background-color: var(--sklearn-color-fitted-level-3);\n",
       "  color: var(--sklearn-color-background);\n",
       "  text-decoration: none;\n",
       "}\n",
       "\n",
       "/* Span, style for the box shown on hovering the info icon */\n",
       ".sk-estimator-doc-link span {\n",
       "  display: none;\n",
       "  z-index: 9999;\n",
       "  position: relative;\n",
       "  font-weight: normal;\n",
       "  right: .2ex;\n",
       "  padding: .5ex;\n",
       "  margin: .5ex;\n",
       "  width: min-content;\n",
       "  min-width: 20ex;\n",
       "  max-width: 50ex;\n",
       "  color: var(--sklearn-color-text);\n",
       "  box-shadow: 2pt 2pt 4pt #999;\n",
       "  /* unfitted */\n",
       "  background: var(--sklearn-color-unfitted-level-0);\n",
       "  border: .5pt solid var(--sklearn-color-unfitted-level-3);\n",
       "}\n",
       "\n",
       ".sk-estimator-doc-link.fitted span {\n",
       "  /* fitted */\n",
       "  background: var(--sklearn-color-fitted-level-0);\n",
       "  border: var(--sklearn-color-fitted-level-3);\n",
       "}\n",
       "\n",
       ".sk-estimator-doc-link:hover span {\n",
       "  display: block;\n",
       "}\n",
       "\n",
       "/* \"?\"-specific style due to the `<a>` HTML tag */\n",
       "\n",
       "#sk-container-id-2 a.estimator_doc_link {\n",
       "  float: right;\n",
       "  font-size: 1rem;\n",
       "  line-height: 1em;\n",
       "  font-family: monospace;\n",
       "  background-color: var(--sklearn-color-background);\n",
       "  border-radius: 1rem;\n",
       "  height: 1rem;\n",
       "  width: 1rem;\n",
       "  text-decoration: none;\n",
       "  /* unfitted */\n",
       "  color: var(--sklearn-color-unfitted-level-1);\n",
       "  border: var(--sklearn-color-unfitted-level-1) 1pt solid;\n",
       "}\n",
       "\n",
       "#sk-container-id-2 a.estimator_doc_link.fitted {\n",
       "  /* fitted */\n",
       "  border: var(--sklearn-color-fitted-level-1) 1pt solid;\n",
       "  color: var(--sklearn-color-fitted-level-1);\n",
       "}\n",
       "\n",
       "/* On hover */\n",
       "#sk-container-id-2 a.estimator_doc_link:hover {\n",
       "  /* unfitted */\n",
       "  background-color: var(--sklearn-color-unfitted-level-3);\n",
       "  color: var(--sklearn-color-background);\n",
       "  text-decoration: none;\n",
       "}\n",
       "\n",
       "#sk-container-id-2 a.estimator_doc_link.fitted:hover {\n",
       "  /* fitted */\n",
       "  background-color: var(--sklearn-color-fitted-level-3);\n",
       "}\n",
       "</style><div id=\"sk-container-id-2\" class=\"sk-top-container\"><div class=\"sk-text-repr-fallback\"><pre>RandomForestClassifier(max_features=10, n_estimators=15, random_state=2)</pre><b>In a Jupyter environment, please rerun this cell to show the HTML representation or trust the notebook. <br />On GitHub, the HTML representation is unable to render, please try loading this page with nbviewer.org.</b></div><div class=\"sk-container\" hidden><div class=\"sk-item\"><div class=\"sk-estimator fitted sk-toggleable\"><input class=\"sk-toggleable__control sk-hidden--visually\" id=\"sk-estimator-id-4\" type=\"checkbox\" checked><label for=\"sk-estimator-id-4\" class=\"sk-toggleable__label fitted sk-toggleable__label-arrow\"><div><div>RandomForestClassifier</div></div><div><a class=\"sk-estimator-doc-link fitted\" rel=\"noreferrer\" target=\"_blank\" href=\"https://scikit-learn.org/1.6/modules/generated/sklearn.ensemble.RandomForestClassifier.html\">?<span>Documentation for RandomForestClassifier</span></a><span class=\"sk-estimator-doc-link fitted\">i<span>Fitted</span></span></div></label><div class=\"sk-toggleable__content fitted\"><pre>RandomForestClassifier(max_features=10, n_estimators=15, random_state=2)</pre></div> </div></div></div></div>"
      ],
      "text/plain": [
       "RandomForestClassifier(max_features=10, n_estimators=15, random_state=2)"
      ]
     },
     "execution_count": 29,
     "metadata": {},
     "output_type": "execute_result"
    }
   ],
   "source": [
    "rf = RandomForestClassifier(max_depth=None, max_features=10, n_estimators=15, random_state=2)\n",
    "\n",
    "#trainning with the best params\n",
    "rf.fit(X_train, y_train)"
   ]
  },
  {
   "cell_type": "code",
   "execution_count": 30,
   "metadata": {
    "_cell_guid": "df58e526-183d-4136-8bba-181cacd378ff",
    "_uuid": "1708146ad90c695224bff81d73e0a4b37808b3bb"
   },
   "outputs": [
    {
     "name": "stdout",
     "output_type": "stream",
     "text": [
      "0.732\n",
      "\n",
      "\n",
      "[[149  26]\n",
      " [ 41  34]]\n",
      "\n",
      "\n",
      "0.4722222222222222\n"
     ]
    }
   ],
   "source": [
    "#Testing the model \n",
    "#Predicting using our  model\n",
    "y_pred = rf.predict(X_test)\n",
    "\n",
    "# Verificaar os resultados obtidos\n",
    "print(accuracy_score(y_test,y_pred))\n",
    "print(\"\\n\")\n",
    "print(confusion_matrix(y_test, y_pred))\n",
    "print(\"\\n\")\n",
    "print(fbeta_score(y_test, y_pred, beta=2))"
   ]
  },
  {
   "cell_type": "markdown",
   "metadata": {
    "_cell_guid": "ad8f1404-7812-46a5-9f68-94647930b728",
    "_uuid": "fe7fc8bb6c6b392a62972132065d971468b85a3d"
   },
   "source": [
    "# Logistic regression"
   ]
  },
  {
   "cell_type": "code",
   "execution_count": 34,
   "metadata": {
    "_cell_guid": "6e15774a-0b93-41ae-a395-6fde3c1ebd3a",
    "_uuid": "48c5b40e53ad8ed9e6fe5493802445996e597869"
   },
   "outputs": [],
   "source": [
    "from sklearn.linear_model import LogisticRegression"
   ]
  },
  {
   "cell_type": "code",
   "execution_count": 35,
   "metadata": {
    "_cell_guid": "3c980a9e-7cac-4d5b-b0e6-2dde790bb5e4",
    "_uuid": "d2b3aded7d3373de62dbe57e4c1e1f86870a202c"
   },
   "outputs": [
    {
     "name": "stdout",
     "output_type": "stream",
     "text": [
      "Fitting 5 folds for each of 20 candidates, totalling 100 fits\n",
      "[CV 1/5] END ........penalty=l1, solver=newton-cg;, score=nan total time=   0.0s\n",
      "[CV 2/5] END ........penalty=l1, solver=newton-cg;, score=nan total time=   0.0s\n",
      "[CV 3/5] END ........penalty=l1, solver=newton-cg;, score=nan total time=   0.0s\n",
      "[CV 4/5] END ........penalty=l1, solver=newton-cg;, score=nan total time=   0.0s\n",
      "[CV 5/5] END ........penalty=l1, solver=newton-cg;, score=nan total time=   0.0s\n",
      "[CV 1/5] END ............penalty=l1, solver=lbfgs;, score=nan total time=   0.0s\n",
      "[CV 2/5] END ............penalty=l1, solver=lbfgs;, score=nan total time=   0.0s\n",
      "[CV 3/5] END ............penalty=l1, solver=lbfgs;, score=nan total time=   0.0s\n",
      "[CV 4/5] END ............penalty=l1, solver=lbfgs;, score=nan total time=   0.0s\n",
      "[CV 5/5] END ............penalty=l1, solver=lbfgs;, score=nan total time=   0.0s\n",
      "[CV 1/5] END ......penalty=l1, solver=liblinear;, score=0.267 total time=   0.0s\n",
      "[CV 2/5] END ......penalty=l1, solver=liblinear;, score=0.489 total time=   0.0s\n",
      "[CV 3/5] END ......penalty=l1, solver=liblinear;, score=0.333 total time=   0.0s\n",
      "[CV 4/5] END ......penalty=l1, solver=liblinear;, score=0.422 total time=   0.0s\n",
      "[CV 5/5] END ......penalty=l1, solver=liblinear;, score=0.333 total time=   0.0s\n",
      "[CV 1/5] END ..............penalty=l1, solver=sag;, score=nan total time=   0.0s\n",
      "[CV 2/5] END ..............penalty=l1, solver=sag;, score=nan total time=   0.0s\n",
      "[CV 3/5] END ..............penalty=l1, solver=sag;, score=nan total time=   0.0s\n",
      "[CV 4/5] END ..............penalty=l1, solver=sag;, score=nan total time=   0.0s\n",
      "[CV 5/5] END ..............penalty=l1, solver=sag;, score=nan total time=   0.0s\n",
      "[CV 1/5] END ...........penalty=l1, solver=saga;, score=0.156 total time=   0.0s\n",
      "[CV 2/5] END ...........penalty=l1, solver=saga;, score=0.267 total time=   0.0s\n",
      "[CV 3/5] END ...........penalty=l1, solver=saga;, score=0.133 total time=   0.0s\n",
      "[CV 4/5] END ...........penalty=l1, solver=saga;, score=0.156 total time=   0.0s\n",
      "[CV 5/5] END ...........penalty=l1, solver=saga;, score=0.111 total time=   0.0s\n",
      "[CV 1/5] END ......penalty=l2, solver=newton-cg;, score=0.267 total time=   0.0s\n",
      "[CV 2/5] END ......penalty=l2, solver=newton-cg;, score=0.511 total time=   0.1s\n",
      "[CV 3/5] END ......penalty=l2, solver=newton-cg;, score=0.333 total time=   0.0s\n",
      "[CV 4/5] END ......penalty=l2, solver=newton-cg;, score=0.422 total time=   0.0s\n",
      "[CV 5/5] END ......penalty=l2, solver=newton-cg;, score=0.289 total time=   0.0s\n",
      "[CV 1/5] END ..........penalty=l2, solver=lbfgs;, score=0.267 total time=   0.0s\n",
      "[CV 2/5] END ..........penalty=l2, solver=lbfgs;, score=0.489 total time=   0.0s\n",
      "[CV 3/5] END ..........penalty=l2, solver=lbfgs;, score=0.333 total time=   0.0s\n",
      "[CV 4/5] END ..........penalty=l2, solver=lbfgs;, score=0.422 total time=   0.0s\n",
      "[CV 5/5] END ..........penalty=l2, solver=lbfgs;, score=0.311 total time=   0.0s\n",
      "[CV 1/5] END ......penalty=l2, solver=liblinear;, score=0.267 total time=   0.0s\n",
      "[CV 2/5] END ......penalty=l2, solver=liblinear;, score=0.489 total time=   0.0s\n",
      "[CV 3/5] END ......penalty=l2, solver=liblinear;, score=0.333 total time=   0.0s\n",
      "[CV 4/5] END ......penalty=l2, solver=liblinear;, score=0.422 total time=   0.0s\n",
      "[CV 5/5] END ......penalty=l2, solver=liblinear;, score=0.289 total time=   0.0s\n",
      "[CV 1/5] END ............penalty=l2, solver=sag;, score=0.200 total time=   0.0s\n",
      "[CV 2/5] END ............penalty=l2, solver=sag;, score=0.378 total time=   0.0s\n",
      "[CV 3/5] END ............penalty=l2, solver=sag;, score=0.178 total time=   0.0s\n",
      "[CV 4/5] END ............penalty=l2, solver=sag;, score=0.178 total time=   0.0s\n",
      "[CV 5/5] END ............penalty=l2, solver=sag;, score=0.156 total time=   0.0s\n",
      "[CV 1/5] END ...........penalty=l2, solver=saga;, score=0.156 total time=   0.0s\n",
      "[CV 2/5] END ...........penalty=l2, solver=saga;, score=0.289 total time=   0.0s\n",
      "[CV 3/5] END ...........penalty=l2, solver=saga;, score=0.156 total time=   0.0s\n",
      "[CV 4/5] END ...........penalty=l2, solver=saga;, score=0.156 total time=   0.0s\n",
      "[CV 5/5] END ...........penalty=l2, solver=saga;, score=0.111 total time=   0.0s\n",
      "[CV 1/5] END penalty=elasticnet, solver=newton-cg;, score=nan total time=   0.0s\n",
      "[CV 2/5] END penalty=elasticnet, solver=newton-cg;, score=nan total time=   0.0s\n",
      "[CV 3/5] END penalty=elasticnet, solver=newton-cg;, score=nan total time=   0.0s\n",
      "[CV 4/5] END penalty=elasticnet, solver=newton-cg;, score=nan total time=   0.0s\n",
      "[CV 5/5] END penalty=elasticnet, solver=newton-cg;, score=nan total time=   0.0s\n",
      "[CV 1/5] END ....penalty=elasticnet, solver=lbfgs;, score=nan total time=   0.0s\n",
      "[CV 2/5] END ....penalty=elasticnet, solver=lbfgs;, score=nan total time=   0.0s\n",
      "[CV 3/5] END ....penalty=elasticnet, solver=lbfgs;, score=nan total time=   0.0s\n",
      "[CV 4/5] END ....penalty=elasticnet, solver=lbfgs;, score=nan total time=   0.0s\n",
      "[CV 5/5] END ....penalty=elasticnet, solver=lbfgs;, score=nan total time=   0.0s\n",
      "[CV 1/5] END penalty=elasticnet, solver=liblinear;, score=nan total time=   0.0s\n",
      "[CV 2/5] END penalty=elasticnet, solver=liblinear;, score=nan total time=   0.0s\n",
      "[CV 3/5] END penalty=elasticnet, solver=liblinear;, score=nan total time=   0.0s\n",
      "[CV 4/5] END penalty=elasticnet, solver=liblinear;, score=nan total time=   0.0s\n",
      "[CV 5/5] END penalty=elasticnet, solver=liblinear;, score=nan total time=   0.0s\n",
      "[CV 1/5] END ......penalty=elasticnet, solver=sag;, score=nan total time=   0.0s\n",
      "[CV 2/5] END ......penalty=elasticnet, solver=sag;, score=nan total time=   0.0s\n",
      "[CV 3/5] END ......penalty=elasticnet, solver=sag;, score=nan total time=   0.0s\n",
      "[CV 4/5] END ......penalty=elasticnet, solver=sag;, score=nan total time=   0.0s\n",
      "[CV 5/5] END ......penalty=elasticnet, solver=sag;, score=nan total time=   0.0s\n",
      "[CV 1/5] END .....penalty=elasticnet, solver=saga;, score=nan total time=   0.0s\n",
      "[CV 2/5] END .....penalty=elasticnet, solver=saga;, score=nan total time=   0.0s\n",
      "[CV 3/5] END .....penalty=elasticnet, solver=saga;, score=nan total time=   0.0s\n",
      "[CV 4/5] END .....penalty=elasticnet, solver=saga;, score=nan total time=   0.0s\n",
      "[CV 5/5] END .....penalty=elasticnet, solver=saga;, score=nan total time=   0.0s\n",
      "[CV 1/5] END ......penalty=none, solver=newton-cg;, score=nan total time=   0.0s\n",
      "[CV 2/5] END ......penalty=none, solver=newton-cg;, score=nan total time=   0.0s\n",
      "[CV 3/5] END ......penalty=none, solver=newton-cg;, score=nan total time=   0.0s\n",
      "[CV 4/5] END ......penalty=none, solver=newton-cg;, score=nan total time=   0.0s\n",
      "[CV 5/5] END ......penalty=none, solver=newton-cg;, score=nan total time=   0.0s\n",
      "[CV 1/5] END ..........penalty=none, solver=lbfgs;, score=nan total time=   0.0s\n",
      "[CV 2/5] END ..........penalty=none, solver=lbfgs;, score=nan total time=   0.0s\n",
      "[CV 3/5] END ..........penalty=none, solver=lbfgs;, score=nan total time=   0.0s\n",
      "[CV 4/5] END ..........penalty=none, solver=lbfgs;, score=nan total time=   0.0s\n",
      "[CV 5/5] END ..........penalty=none, solver=lbfgs;, score=nan total time=   0.0s\n",
      "[CV 1/5] END ......penalty=none, solver=liblinear;, score=nan total time=   0.0s\n",
      "[CV 2/5] END ......penalty=none, solver=liblinear;, score=nan total time=   0.0s\n",
      "[CV 3/5] END ......penalty=none, solver=liblinear;, score=nan total time=   0.0s\n",
      "[CV 4/5] END ......penalty=none, solver=liblinear;, score=nan total time=   0.0s\n",
      "[CV 5/5] END ......penalty=none, solver=liblinear;, score=nan total time=   0.0s\n",
      "[CV 1/5] END ............penalty=none, solver=sag;, score=nan total time=   0.0s\n",
      "[CV 2/5] END ............penalty=none, solver=sag;, score=nan total time=   0.0s\n",
      "[CV 3/5] END ............penalty=none, solver=sag;, score=nan total time=   0.0s\n",
      "[CV 4/5] END ............penalty=none, solver=sag;, score=nan total time=   0.0s\n",
      "[CV 5/5] END ............penalty=none, solver=sag;, score=nan total time=   0.0s\n",
      "[CV 1/5] END ...........penalty=none, solver=saga;, score=nan total time=   0.0s\n",
      "[CV 2/5] END ...........penalty=none, solver=saga;, score=nan total time=   0.0s\n",
      "[CV 3/5] END ...........penalty=none, solver=saga;, score=nan total time=   0.0s\n",
      "[CV 4/5] END ...........penalty=none, solver=saga;, score=nan total time=   0.0s\n",
      "[CV 5/5] END ...........penalty=none, solver=saga;, score=nan total time=   0.0s\n"
     ]
    },
    {
     "data": {
      "text/html": [
       "<style>#sk-container-id-4 {\n",
       "  /* Definition of color scheme common for light and dark mode */\n",
       "  --sklearn-color-text: #000;\n",
       "  --sklearn-color-text-muted: #666;\n",
       "  --sklearn-color-line: gray;\n",
       "  /* Definition of color scheme for unfitted estimators */\n",
       "  --sklearn-color-unfitted-level-0: #fff5e6;\n",
       "  --sklearn-color-unfitted-level-1: #f6e4d2;\n",
       "  --sklearn-color-unfitted-level-2: #ffe0b3;\n",
       "  --sklearn-color-unfitted-level-3: chocolate;\n",
       "  /* Definition of color scheme for fitted estimators */\n",
       "  --sklearn-color-fitted-level-0: #f0f8ff;\n",
       "  --sklearn-color-fitted-level-1: #d4ebff;\n",
       "  --sklearn-color-fitted-level-2: #b3dbfd;\n",
       "  --sklearn-color-fitted-level-3: cornflowerblue;\n",
       "\n",
       "  /* Specific color for light theme */\n",
       "  --sklearn-color-text-on-default-background: var(--sg-text-color, var(--theme-code-foreground, var(--jp-content-font-color1, black)));\n",
       "  --sklearn-color-background: var(--sg-background-color, var(--theme-background, var(--jp-layout-color0, white)));\n",
       "  --sklearn-color-border-box: var(--sg-text-color, var(--theme-code-foreground, var(--jp-content-font-color1, black)));\n",
       "  --sklearn-color-icon: #696969;\n",
       "\n",
       "  @media (prefers-color-scheme: dark) {\n",
       "    /* Redefinition of color scheme for dark theme */\n",
       "    --sklearn-color-text-on-default-background: var(--sg-text-color, var(--theme-code-foreground, var(--jp-content-font-color1, white)));\n",
       "    --sklearn-color-background: var(--sg-background-color, var(--theme-background, var(--jp-layout-color0, #111)));\n",
       "    --sklearn-color-border-box: var(--sg-text-color, var(--theme-code-foreground, var(--jp-content-font-color1, white)));\n",
       "    --sklearn-color-icon: #878787;\n",
       "  }\n",
       "}\n",
       "\n",
       "#sk-container-id-4 {\n",
       "  color: var(--sklearn-color-text);\n",
       "}\n",
       "\n",
       "#sk-container-id-4 pre {\n",
       "  padding: 0;\n",
       "}\n",
       "\n",
       "#sk-container-id-4 input.sk-hidden--visually {\n",
       "  border: 0;\n",
       "  clip: rect(1px 1px 1px 1px);\n",
       "  clip: rect(1px, 1px, 1px, 1px);\n",
       "  height: 1px;\n",
       "  margin: -1px;\n",
       "  overflow: hidden;\n",
       "  padding: 0;\n",
       "  position: absolute;\n",
       "  width: 1px;\n",
       "}\n",
       "\n",
       "#sk-container-id-4 div.sk-dashed-wrapped {\n",
       "  border: 1px dashed var(--sklearn-color-line);\n",
       "  margin: 0 0.4em 0.5em 0.4em;\n",
       "  box-sizing: border-box;\n",
       "  padding-bottom: 0.4em;\n",
       "  background-color: var(--sklearn-color-background);\n",
       "}\n",
       "\n",
       "#sk-container-id-4 div.sk-container {\n",
       "  /* jupyter's `normalize.less` sets `[hidden] { display: none; }`\n",
       "     but bootstrap.min.css set `[hidden] { display: none !important; }`\n",
       "     so we also need the `!important` here to be able to override the\n",
       "     default hidden behavior on the sphinx rendered scikit-learn.org.\n",
       "     See: https://github.com/scikit-learn/scikit-learn/issues/21755 */\n",
       "  display: inline-block !important;\n",
       "  position: relative;\n",
       "}\n",
       "\n",
       "#sk-container-id-4 div.sk-text-repr-fallback {\n",
       "  display: none;\n",
       "}\n",
       "\n",
       "div.sk-parallel-item,\n",
       "div.sk-serial,\n",
       "div.sk-item {\n",
       "  /* draw centered vertical line to link estimators */\n",
       "  background-image: linear-gradient(var(--sklearn-color-text-on-default-background), var(--sklearn-color-text-on-default-background));\n",
       "  background-size: 2px 100%;\n",
       "  background-repeat: no-repeat;\n",
       "  background-position: center center;\n",
       "}\n",
       "\n",
       "/* Parallel-specific style estimator block */\n",
       "\n",
       "#sk-container-id-4 div.sk-parallel-item::after {\n",
       "  content: \"\";\n",
       "  width: 100%;\n",
       "  border-bottom: 2px solid var(--sklearn-color-text-on-default-background);\n",
       "  flex-grow: 1;\n",
       "}\n",
       "\n",
       "#sk-container-id-4 div.sk-parallel {\n",
       "  display: flex;\n",
       "  align-items: stretch;\n",
       "  justify-content: center;\n",
       "  background-color: var(--sklearn-color-background);\n",
       "  position: relative;\n",
       "}\n",
       "\n",
       "#sk-container-id-4 div.sk-parallel-item {\n",
       "  display: flex;\n",
       "  flex-direction: column;\n",
       "}\n",
       "\n",
       "#sk-container-id-4 div.sk-parallel-item:first-child::after {\n",
       "  align-self: flex-end;\n",
       "  width: 50%;\n",
       "}\n",
       "\n",
       "#sk-container-id-4 div.sk-parallel-item:last-child::after {\n",
       "  align-self: flex-start;\n",
       "  width: 50%;\n",
       "}\n",
       "\n",
       "#sk-container-id-4 div.sk-parallel-item:only-child::after {\n",
       "  width: 0;\n",
       "}\n",
       "\n",
       "/* Serial-specific style estimator block */\n",
       "\n",
       "#sk-container-id-4 div.sk-serial {\n",
       "  display: flex;\n",
       "  flex-direction: column;\n",
       "  align-items: center;\n",
       "  background-color: var(--sklearn-color-background);\n",
       "  padding-right: 1em;\n",
       "  padding-left: 1em;\n",
       "}\n",
       "\n",
       "\n",
       "/* Toggleable style: style used for estimator/Pipeline/ColumnTransformer box that is\n",
       "clickable and can be expanded/collapsed.\n",
       "- Pipeline and ColumnTransformer use this feature and define the default style\n",
       "- Estimators will overwrite some part of the style using the `sk-estimator` class\n",
       "*/\n",
       "\n",
       "/* Pipeline and ColumnTransformer style (default) */\n",
       "\n",
       "#sk-container-id-4 div.sk-toggleable {\n",
       "  /* Default theme specific background. It is overwritten whether we have a\n",
       "  specific estimator or a Pipeline/ColumnTransformer */\n",
       "  background-color: var(--sklearn-color-background);\n",
       "}\n",
       "\n",
       "/* Toggleable label */\n",
       "#sk-container-id-4 label.sk-toggleable__label {\n",
       "  cursor: pointer;\n",
       "  display: flex;\n",
       "  width: 100%;\n",
       "  margin-bottom: 0;\n",
       "  padding: 0.5em;\n",
       "  box-sizing: border-box;\n",
       "  text-align: center;\n",
       "  align-items: start;\n",
       "  justify-content: space-between;\n",
       "  gap: 0.5em;\n",
       "}\n",
       "\n",
       "#sk-container-id-4 label.sk-toggleable__label .caption {\n",
       "  font-size: 0.6rem;\n",
       "  font-weight: lighter;\n",
       "  color: var(--sklearn-color-text-muted);\n",
       "}\n",
       "\n",
       "#sk-container-id-4 label.sk-toggleable__label-arrow:before {\n",
       "  /* Arrow on the left of the label */\n",
       "  content: \"▸\";\n",
       "  float: left;\n",
       "  margin-right: 0.25em;\n",
       "  color: var(--sklearn-color-icon);\n",
       "}\n",
       "\n",
       "#sk-container-id-4 label.sk-toggleable__label-arrow:hover:before {\n",
       "  color: var(--sklearn-color-text);\n",
       "}\n",
       "\n",
       "/* Toggleable content - dropdown */\n",
       "\n",
       "#sk-container-id-4 div.sk-toggleable__content {\n",
       "  max-height: 0;\n",
       "  max-width: 0;\n",
       "  overflow: hidden;\n",
       "  text-align: left;\n",
       "  /* unfitted */\n",
       "  background-color: var(--sklearn-color-unfitted-level-0);\n",
       "}\n",
       "\n",
       "#sk-container-id-4 div.sk-toggleable__content.fitted {\n",
       "  /* fitted */\n",
       "  background-color: var(--sklearn-color-fitted-level-0);\n",
       "}\n",
       "\n",
       "#sk-container-id-4 div.sk-toggleable__content pre {\n",
       "  margin: 0.2em;\n",
       "  border-radius: 0.25em;\n",
       "  color: var(--sklearn-color-text);\n",
       "  /* unfitted */\n",
       "  background-color: var(--sklearn-color-unfitted-level-0);\n",
       "}\n",
       "\n",
       "#sk-container-id-4 div.sk-toggleable__content.fitted pre {\n",
       "  /* unfitted */\n",
       "  background-color: var(--sklearn-color-fitted-level-0);\n",
       "}\n",
       "\n",
       "#sk-container-id-4 input.sk-toggleable__control:checked~div.sk-toggleable__content {\n",
       "  /* Expand drop-down */\n",
       "  max-height: 200px;\n",
       "  max-width: 100%;\n",
       "  overflow: auto;\n",
       "}\n",
       "\n",
       "#sk-container-id-4 input.sk-toggleable__control:checked~label.sk-toggleable__label-arrow:before {\n",
       "  content: \"▾\";\n",
       "}\n",
       "\n",
       "/* Pipeline/ColumnTransformer-specific style */\n",
       "\n",
       "#sk-container-id-4 div.sk-label input.sk-toggleable__control:checked~label.sk-toggleable__label {\n",
       "  color: var(--sklearn-color-text);\n",
       "  background-color: var(--sklearn-color-unfitted-level-2);\n",
       "}\n",
       "\n",
       "#sk-container-id-4 div.sk-label.fitted input.sk-toggleable__control:checked~label.sk-toggleable__label {\n",
       "  background-color: var(--sklearn-color-fitted-level-2);\n",
       "}\n",
       "\n",
       "/* Estimator-specific style */\n",
       "\n",
       "/* Colorize estimator box */\n",
       "#sk-container-id-4 div.sk-estimator input.sk-toggleable__control:checked~label.sk-toggleable__label {\n",
       "  /* unfitted */\n",
       "  background-color: var(--sklearn-color-unfitted-level-2);\n",
       "}\n",
       "\n",
       "#sk-container-id-4 div.sk-estimator.fitted input.sk-toggleable__control:checked~label.sk-toggleable__label {\n",
       "  /* fitted */\n",
       "  background-color: var(--sklearn-color-fitted-level-2);\n",
       "}\n",
       "\n",
       "#sk-container-id-4 div.sk-label label.sk-toggleable__label,\n",
       "#sk-container-id-4 div.sk-label label {\n",
       "  /* The background is the default theme color */\n",
       "  color: var(--sklearn-color-text-on-default-background);\n",
       "}\n",
       "\n",
       "/* On hover, darken the color of the background */\n",
       "#sk-container-id-4 div.sk-label:hover label.sk-toggleable__label {\n",
       "  color: var(--sklearn-color-text);\n",
       "  background-color: var(--sklearn-color-unfitted-level-2);\n",
       "}\n",
       "\n",
       "/* Label box, darken color on hover, fitted */\n",
       "#sk-container-id-4 div.sk-label.fitted:hover label.sk-toggleable__label.fitted {\n",
       "  color: var(--sklearn-color-text);\n",
       "  background-color: var(--sklearn-color-fitted-level-2);\n",
       "}\n",
       "\n",
       "/* Estimator label */\n",
       "\n",
       "#sk-container-id-4 div.sk-label label {\n",
       "  font-family: monospace;\n",
       "  font-weight: bold;\n",
       "  display: inline-block;\n",
       "  line-height: 1.2em;\n",
       "}\n",
       "\n",
       "#sk-container-id-4 div.sk-label-container {\n",
       "  text-align: center;\n",
       "}\n",
       "\n",
       "/* Estimator-specific */\n",
       "#sk-container-id-4 div.sk-estimator {\n",
       "  font-family: monospace;\n",
       "  border: 1px dotted var(--sklearn-color-border-box);\n",
       "  border-radius: 0.25em;\n",
       "  box-sizing: border-box;\n",
       "  margin-bottom: 0.5em;\n",
       "  /* unfitted */\n",
       "  background-color: var(--sklearn-color-unfitted-level-0);\n",
       "}\n",
       "\n",
       "#sk-container-id-4 div.sk-estimator.fitted {\n",
       "  /* fitted */\n",
       "  background-color: var(--sklearn-color-fitted-level-0);\n",
       "}\n",
       "\n",
       "/* on hover */\n",
       "#sk-container-id-4 div.sk-estimator:hover {\n",
       "  /* unfitted */\n",
       "  background-color: var(--sklearn-color-unfitted-level-2);\n",
       "}\n",
       "\n",
       "#sk-container-id-4 div.sk-estimator.fitted:hover {\n",
       "  /* fitted */\n",
       "  background-color: var(--sklearn-color-fitted-level-2);\n",
       "}\n",
       "\n",
       "/* Specification for estimator info (e.g. \"i\" and \"?\") */\n",
       "\n",
       "/* Common style for \"i\" and \"?\" */\n",
       "\n",
       ".sk-estimator-doc-link,\n",
       "a:link.sk-estimator-doc-link,\n",
       "a:visited.sk-estimator-doc-link {\n",
       "  float: right;\n",
       "  font-size: smaller;\n",
       "  line-height: 1em;\n",
       "  font-family: monospace;\n",
       "  background-color: var(--sklearn-color-background);\n",
       "  border-radius: 1em;\n",
       "  height: 1em;\n",
       "  width: 1em;\n",
       "  text-decoration: none !important;\n",
       "  margin-left: 0.5em;\n",
       "  text-align: center;\n",
       "  /* unfitted */\n",
       "  border: var(--sklearn-color-unfitted-level-1) 1pt solid;\n",
       "  color: var(--sklearn-color-unfitted-level-1);\n",
       "}\n",
       "\n",
       ".sk-estimator-doc-link.fitted,\n",
       "a:link.sk-estimator-doc-link.fitted,\n",
       "a:visited.sk-estimator-doc-link.fitted {\n",
       "  /* fitted */\n",
       "  border: var(--sklearn-color-fitted-level-1) 1pt solid;\n",
       "  color: var(--sklearn-color-fitted-level-1);\n",
       "}\n",
       "\n",
       "/* On hover */\n",
       "div.sk-estimator:hover .sk-estimator-doc-link:hover,\n",
       ".sk-estimator-doc-link:hover,\n",
       "div.sk-label-container:hover .sk-estimator-doc-link:hover,\n",
       ".sk-estimator-doc-link:hover {\n",
       "  /* unfitted */\n",
       "  background-color: var(--sklearn-color-unfitted-level-3);\n",
       "  color: var(--sklearn-color-background);\n",
       "  text-decoration: none;\n",
       "}\n",
       "\n",
       "div.sk-estimator.fitted:hover .sk-estimator-doc-link.fitted:hover,\n",
       ".sk-estimator-doc-link.fitted:hover,\n",
       "div.sk-label-container:hover .sk-estimator-doc-link.fitted:hover,\n",
       ".sk-estimator-doc-link.fitted:hover {\n",
       "  /* fitted */\n",
       "  background-color: var(--sklearn-color-fitted-level-3);\n",
       "  color: var(--sklearn-color-background);\n",
       "  text-decoration: none;\n",
       "}\n",
       "\n",
       "/* Span, style for the box shown on hovering the info icon */\n",
       ".sk-estimator-doc-link span {\n",
       "  display: none;\n",
       "  z-index: 9999;\n",
       "  position: relative;\n",
       "  font-weight: normal;\n",
       "  right: .2ex;\n",
       "  padding: .5ex;\n",
       "  margin: .5ex;\n",
       "  width: min-content;\n",
       "  min-width: 20ex;\n",
       "  max-width: 50ex;\n",
       "  color: var(--sklearn-color-text);\n",
       "  box-shadow: 2pt 2pt 4pt #999;\n",
       "  /* unfitted */\n",
       "  background: var(--sklearn-color-unfitted-level-0);\n",
       "  border: .5pt solid var(--sklearn-color-unfitted-level-3);\n",
       "}\n",
       "\n",
       ".sk-estimator-doc-link.fitted span {\n",
       "  /* fitted */\n",
       "  background: var(--sklearn-color-fitted-level-0);\n",
       "  border: var(--sklearn-color-fitted-level-3);\n",
       "}\n",
       "\n",
       ".sk-estimator-doc-link:hover span {\n",
       "  display: block;\n",
       "}\n",
       "\n",
       "/* \"?\"-specific style due to the `<a>` HTML tag */\n",
       "\n",
       "#sk-container-id-4 a.estimator_doc_link {\n",
       "  float: right;\n",
       "  font-size: 1rem;\n",
       "  line-height: 1em;\n",
       "  font-family: monospace;\n",
       "  background-color: var(--sklearn-color-background);\n",
       "  border-radius: 1rem;\n",
       "  height: 1rem;\n",
       "  width: 1rem;\n",
       "  text-decoration: none;\n",
       "  /* unfitted */\n",
       "  color: var(--sklearn-color-unfitted-level-1);\n",
       "  border: var(--sklearn-color-unfitted-level-1) 1pt solid;\n",
       "}\n",
       "\n",
       "#sk-container-id-4 a.estimator_doc_link.fitted {\n",
       "  /* fitted */\n",
       "  border: var(--sklearn-color-fitted-level-1) 1pt solid;\n",
       "  color: var(--sklearn-color-fitted-level-1);\n",
       "}\n",
       "\n",
       "/* On hover */\n",
       "#sk-container-id-4 a.estimator_doc_link:hover {\n",
       "  /* unfitted */\n",
       "  background-color: var(--sklearn-color-unfitted-level-3);\n",
       "  color: var(--sklearn-color-background);\n",
       "  text-decoration: none;\n",
       "}\n",
       "\n",
       "#sk-container-id-4 a.estimator_doc_link.fitted:hover {\n",
       "  /* fitted */\n",
       "  background-color: var(--sklearn-color-fitted-level-3);\n",
       "}\n",
       "</style><div id=\"sk-container-id-4\" class=\"sk-top-container\"><div class=\"sk-text-repr-fallback\"><pre>GridSearchCV(cv=5, estimator=LogisticRegression(),\n",
       "             param_grid={&#x27;penalty&#x27;: [&#x27;l1&#x27;, &#x27;l2&#x27;, &#x27;elasticnet&#x27;, &#x27;none&#x27;],\n",
       "                         &#x27;solver&#x27;: [&#x27;newton-cg&#x27;, &#x27;lbfgs&#x27;, &#x27;liblinear&#x27;, &#x27;sag&#x27;,\n",
       "                                    &#x27;saga&#x27;]},\n",
       "             scoring=&#x27;recall&#x27;, verbose=4)</pre><b>In a Jupyter environment, please rerun this cell to show the HTML representation or trust the notebook. <br />On GitHub, the HTML representation is unable to render, please try loading this page with nbviewer.org.</b></div><div class=\"sk-container\" hidden><div class=\"sk-item sk-dashed-wrapped\"><div class=\"sk-label-container\"><div class=\"sk-label fitted sk-toggleable\"><input class=\"sk-toggleable__control sk-hidden--visually\" id=\"sk-estimator-id-8\" type=\"checkbox\" ><label for=\"sk-estimator-id-8\" class=\"sk-toggleable__label fitted sk-toggleable__label-arrow\"><div><div>GridSearchCV</div></div><div><a class=\"sk-estimator-doc-link fitted\" rel=\"noreferrer\" target=\"_blank\" href=\"https://scikit-learn.org/1.6/modules/generated/sklearn.model_selection.GridSearchCV.html\">?<span>Documentation for GridSearchCV</span></a><span class=\"sk-estimator-doc-link fitted\">i<span>Fitted</span></span></div></label><div class=\"sk-toggleable__content fitted\"><pre>GridSearchCV(cv=5, estimator=LogisticRegression(),\n",
       "             param_grid={&#x27;penalty&#x27;: [&#x27;l1&#x27;, &#x27;l2&#x27;, &#x27;elasticnet&#x27;, &#x27;none&#x27;],\n",
       "                         &#x27;solver&#x27;: [&#x27;newton-cg&#x27;, &#x27;lbfgs&#x27;, &#x27;liblinear&#x27;, &#x27;sag&#x27;,\n",
       "                                    &#x27;saga&#x27;]},\n",
       "             scoring=&#x27;recall&#x27;, verbose=4)</pre></div> </div></div><div class=\"sk-parallel\"><div class=\"sk-parallel-item\"><div class=\"sk-item\"><div class=\"sk-label-container\"><div class=\"sk-label fitted sk-toggleable\"><input class=\"sk-toggleable__control sk-hidden--visually\" id=\"sk-estimator-id-9\" type=\"checkbox\" ><label for=\"sk-estimator-id-9\" class=\"sk-toggleable__label fitted sk-toggleable__label-arrow\"><div><div>best_estimator_: LogisticRegression</div></div></label><div class=\"sk-toggleable__content fitted\"><pre>LogisticRegression(penalty=&#x27;l1&#x27;, solver=&#x27;liblinear&#x27;)</pre></div> </div></div><div class=\"sk-serial\"><div class=\"sk-item\"><div class=\"sk-estimator fitted sk-toggleable\"><input class=\"sk-toggleable__control sk-hidden--visually\" id=\"sk-estimator-id-10\" type=\"checkbox\" ><label for=\"sk-estimator-id-10\" class=\"sk-toggleable__label fitted sk-toggleable__label-arrow\"><div><div>LogisticRegression</div></div><div><a class=\"sk-estimator-doc-link fitted\" rel=\"noreferrer\" target=\"_blank\" href=\"https://scikit-learn.org/1.6/modules/generated/sklearn.linear_model.LogisticRegression.html\">?<span>Documentation for LogisticRegression</span></a></div></label><div class=\"sk-toggleable__content fitted\"><pre>LogisticRegression(penalty=&#x27;l1&#x27;, solver=&#x27;liblinear&#x27;)</pre></div> </div></div></div></div></div></div></div></div></div>"
      ],
      "text/plain": [
       "GridSearchCV(cv=5, estimator=LogisticRegression(),\n",
       "             param_grid={'penalty': ['l1', 'l2', 'elasticnet', 'none'],\n",
       "                         'solver': ['newton-cg', 'lbfgs', 'liblinear', 'sag',\n",
       "                                    'saga']},\n",
       "             scoring='recall', verbose=4)"
      ]
     },
     "execution_count": 35,
     "metadata": {},
     "output_type": "execute_result"
    }
   ],
   "source": [
    "#Seting the Hyper Parameters\n",
    "param_grid_logistic = {\"penalty\": ['l1','l2','elasticnet','none'],\n",
    "              \"solver\": ['newton-cg', 'lbfgs', 'liblinear', 'sag', 'saga']}\n",
    "\n",
    "#Creating the classifier\n",
    "model_logistic = LogisticRegression()\n",
    "\n",
    "grid_search_logistic = GridSearchCV(model_logistic, param_grid=param_grid_logistic, cv=5, scoring='recall', verbose=4)\n",
    "grid_search_logistic.fit(X_train, y_train)"
   ]
  },
  {
   "cell_type": "code",
   "execution_count": 36,
   "metadata": {},
   "outputs": [
    {
     "name": "stdout",
     "output_type": "stream",
     "text": [
      "0.3688888888888889\n",
      "{'penalty': 'l1', 'solver': 'liblinear'}\n"
     ]
    }
   ],
   "source": [
    "print(grid_search_logistic.best_score_)\n",
    "print(grid_search_logistic.best_params_)"
   ]
  },
  {
   "cell_type": "code",
   "execution_count": 39,
   "metadata": {},
   "outputs": [
    {
     "data": {
      "text/html": [
       "<style>#sk-container-id-5 {\n",
       "  /* Definition of color scheme common for light and dark mode */\n",
       "  --sklearn-color-text: #000;\n",
       "  --sklearn-color-text-muted: #666;\n",
       "  --sklearn-color-line: gray;\n",
       "  /* Definition of color scheme for unfitted estimators */\n",
       "  --sklearn-color-unfitted-level-0: #fff5e6;\n",
       "  --sklearn-color-unfitted-level-1: #f6e4d2;\n",
       "  --sklearn-color-unfitted-level-2: #ffe0b3;\n",
       "  --sklearn-color-unfitted-level-3: chocolate;\n",
       "  /* Definition of color scheme for fitted estimators */\n",
       "  --sklearn-color-fitted-level-0: #f0f8ff;\n",
       "  --sklearn-color-fitted-level-1: #d4ebff;\n",
       "  --sklearn-color-fitted-level-2: #b3dbfd;\n",
       "  --sklearn-color-fitted-level-3: cornflowerblue;\n",
       "\n",
       "  /* Specific color for light theme */\n",
       "  --sklearn-color-text-on-default-background: var(--sg-text-color, var(--theme-code-foreground, var(--jp-content-font-color1, black)));\n",
       "  --sklearn-color-background: var(--sg-background-color, var(--theme-background, var(--jp-layout-color0, white)));\n",
       "  --sklearn-color-border-box: var(--sg-text-color, var(--theme-code-foreground, var(--jp-content-font-color1, black)));\n",
       "  --sklearn-color-icon: #696969;\n",
       "\n",
       "  @media (prefers-color-scheme: dark) {\n",
       "    /* Redefinition of color scheme for dark theme */\n",
       "    --sklearn-color-text-on-default-background: var(--sg-text-color, var(--theme-code-foreground, var(--jp-content-font-color1, white)));\n",
       "    --sklearn-color-background: var(--sg-background-color, var(--theme-background, var(--jp-layout-color0, #111)));\n",
       "    --sklearn-color-border-box: var(--sg-text-color, var(--theme-code-foreground, var(--jp-content-font-color1, white)));\n",
       "    --sklearn-color-icon: #878787;\n",
       "  }\n",
       "}\n",
       "\n",
       "#sk-container-id-5 {\n",
       "  color: var(--sklearn-color-text);\n",
       "}\n",
       "\n",
       "#sk-container-id-5 pre {\n",
       "  padding: 0;\n",
       "}\n",
       "\n",
       "#sk-container-id-5 input.sk-hidden--visually {\n",
       "  border: 0;\n",
       "  clip: rect(1px 1px 1px 1px);\n",
       "  clip: rect(1px, 1px, 1px, 1px);\n",
       "  height: 1px;\n",
       "  margin: -1px;\n",
       "  overflow: hidden;\n",
       "  padding: 0;\n",
       "  position: absolute;\n",
       "  width: 1px;\n",
       "}\n",
       "\n",
       "#sk-container-id-5 div.sk-dashed-wrapped {\n",
       "  border: 1px dashed var(--sklearn-color-line);\n",
       "  margin: 0 0.4em 0.5em 0.4em;\n",
       "  box-sizing: border-box;\n",
       "  padding-bottom: 0.4em;\n",
       "  background-color: var(--sklearn-color-background);\n",
       "}\n",
       "\n",
       "#sk-container-id-5 div.sk-container {\n",
       "  /* jupyter's `normalize.less` sets `[hidden] { display: none; }`\n",
       "     but bootstrap.min.css set `[hidden] { display: none !important; }`\n",
       "     so we also need the `!important` here to be able to override the\n",
       "     default hidden behavior on the sphinx rendered scikit-learn.org.\n",
       "     See: https://github.com/scikit-learn/scikit-learn/issues/21755 */\n",
       "  display: inline-block !important;\n",
       "  position: relative;\n",
       "}\n",
       "\n",
       "#sk-container-id-5 div.sk-text-repr-fallback {\n",
       "  display: none;\n",
       "}\n",
       "\n",
       "div.sk-parallel-item,\n",
       "div.sk-serial,\n",
       "div.sk-item {\n",
       "  /* draw centered vertical line to link estimators */\n",
       "  background-image: linear-gradient(var(--sklearn-color-text-on-default-background), var(--sklearn-color-text-on-default-background));\n",
       "  background-size: 2px 100%;\n",
       "  background-repeat: no-repeat;\n",
       "  background-position: center center;\n",
       "}\n",
       "\n",
       "/* Parallel-specific style estimator block */\n",
       "\n",
       "#sk-container-id-5 div.sk-parallel-item::after {\n",
       "  content: \"\";\n",
       "  width: 100%;\n",
       "  border-bottom: 2px solid var(--sklearn-color-text-on-default-background);\n",
       "  flex-grow: 1;\n",
       "}\n",
       "\n",
       "#sk-container-id-5 div.sk-parallel {\n",
       "  display: flex;\n",
       "  align-items: stretch;\n",
       "  justify-content: center;\n",
       "  background-color: var(--sklearn-color-background);\n",
       "  position: relative;\n",
       "}\n",
       "\n",
       "#sk-container-id-5 div.sk-parallel-item {\n",
       "  display: flex;\n",
       "  flex-direction: column;\n",
       "}\n",
       "\n",
       "#sk-container-id-5 div.sk-parallel-item:first-child::after {\n",
       "  align-self: flex-end;\n",
       "  width: 50%;\n",
       "}\n",
       "\n",
       "#sk-container-id-5 div.sk-parallel-item:last-child::after {\n",
       "  align-self: flex-start;\n",
       "  width: 50%;\n",
       "}\n",
       "\n",
       "#sk-container-id-5 div.sk-parallel-item:only-child::after {\n",
       "  width: 0;\n",
       "}\n",
       "\n",
       "/* Serial-specific style estimator block */\n",
       "\n",
       "#sk-container-id-5 div.sk-serial {\n",
       "  display: flex;\n",
       "  flex-direction: column;\n",
       "  align-items: center;\n",
       "  background-color: var(--sklearn-color-background);\n",
       "  padding-right: 1em;\n",
       "  padding-left: 1em;\n",
       "}\n",
       "\n",
       "\n",
       "/* Toggleable style: style used for estimator/Pipeline/ColumnTransformer box that is\n",
       "clickable and can be expanded/collapsed.\n",
       "- Pipeline and ColumnTransformer use this feature and define the default style\n",
       "- Estimators will overwrite some part of the style using the `sk-estimator` class\n",
       "*/\n",
       "\n",
       "/* Pipeline and ColumnTransformer style (default) */\n",
       "\n",
       "#sk-container-id-5 div.sk-toggleable {\n",
       "  /* Default theme specific background. It is overwritten whether we have a\n",
       "  specific estimator or a Pipeline/ColumnTransformer */\n",
       "  background-color: var(--sklearn-color-background);\n",
       "}\n",
       "\n",
       "/* Toggleable label */\n",
       "#sk-container-id-5 label.sk-toggleable__label {\n",
       "  cursor: pointer;\n",
       "  display: flex;\n",
       "  width: 100%;\n",
       "  margin-bottom: 0;\n",
       "  padding: 0.5em;\n",
       "  box-sizing: border-box;\n",
       "  text-align: center;\n",
       "  align-items: start;\n",
       "  justify-content: space-between;\n",
       "  gap: 0.5em;\n",
       "}\n",
       "\n",
       "#sk-container-id-5 label.sk-toggleable__label .caption {\n",
       "  font-size: 0.6rem;\n",
       "  font-weight: lighter;\n",
       "  color: var(--sklearn-color-text-muted);\n",
       "}\n",
       "\n",
       "#sk-container-id-5 label.sk-toggleable__label-arrow:before {\n",
       "  /* Arrow on the left of the label */\n",
       "  content: \"▸\";\n",
       "  float: left;\n",
       "  margin-right: 0.25em;\n",
       "  color: var(--sklearn-color-icon);\n",
       "}\n",
       "\n",
       "#sk-container-id-5 label.sk-toggleable__label-arrow:hover:before {\n",
       "  color: var(--sklearn-color-text);\n",
       "}\n",
       "\n",
       "/* Toggleable content - dropdown */\n",
       "\n",
       "#sk-container-id-5 div.sk-toggleable__content {\n",
       "  max-height: 0;\n",
       "  max-width: 0;\n",
       "  overflow: hidden;\n",
       "  text-align: left;\n",
       "  /* unfitted */\n",
       "  background-color: var(--sklearn-color-unfitted-level-0);\n",
       "}\n",
       "\n",
       "#sk-container-id-5 div.sk-toggleable__content.fitted {\n",
       "  /* fitted */\n",
       "  background-color: var(--sklearn-color-fitted-level-0);\n",
       "}\n",
       "\n",
       "#sk-container-id-5 div.sk-toggleable__content pre {\n",
       "  margin: 0.2em;\n",
       "  border-radius: 0.25em;\n",
       "  color: var(--sklearn-color-text);\n",
       "  /* unfitted */\n",
       "  background-color: var(--sklearn-color-unfitted-level-0);\n",
       "}\n",
       "\n",
       "#sk-container-id-5 div.sk-toggleable__content.fitted pre {\n",
       "  /* unfitted */\n",
       "  background-color: var(--sklearn-color-fitted-level-0);\n",
       "}\n",
       "\n",
       "#sk-container-id-5 input.sk-toggleable__control:checked~div.sk-toggleable__content {\n",
       "  /* Expand drop-down */\n",
       "  max-height: 200px;\n",
       "  max-width: 100%;\n",
       "  overflow: auto;\n",
       "}\n",
       "\n",
       "#sk-container-id-5 input.sk-toggleable__control:checked~label.sk-toggleable__label-arrow:before {\n",
       "  content: \"▾\";\n",
       "}\n",
       "\n",
       "/* Pipeline/ColumnTransformer-specific style */\n",
       "\n",
       "#sk-container-id-5 div.sk-label input.sk-toggleable__control:checked~label.sk-toggleable__label {\n",
       "  color: var(--sklearn-color-text);\n",
       "  background-color: var(--sklearn-color-unfitted-level-2);\n",
       "}\n",
       "\n",
       "#sk-container-id-5 div.sk-label.fitted input.sk-toggleable__control:checked~label.sk-toggleable__label {\n",
       "  background-color: var(--sklearn-color-fitted-level-2);\n",
       "}\n",
       "\n",
       "/* Estimator-specific style */\n",
       "\n",
       "/* Colorize estimator box */\n",
       "#sk-container-id-5 div.sk-estimator input.sk-toggleable__control:checked~label.sk-toggleable__label {\n",
       "  /* unfitted */\n",
       "  background-color: var(--sklearn-color-unfitted-level-2);\n",
       "}\n",
       "\n",
       "#sk-container-id-5 div.sk-estimator.fitted input.sk-toggleable__control:checked~label.sk-toggleable__label {\n",
       "  /* fitted */\n",
       "  background-color: var(--sklearn-color-fitted-level-2);\n",
       "}\n",
       "\n",
       "#sk-container-id-5 div.sk-label label.sk-toggleable__label,\n",
       "#sk-container-id-5 div.sk-label label {\n",
       "  /* The background is the default theme color */\n",
       "  color: var(--sklearn-color-text-on-default-background);\n",
       "}\n",
       "\n",
       "/* On hover, darken the color of the background */\n",
       "#sk-container-id-5 div.sk-label:hover label.sk-toggleable__label {\n",
       "  color: var(--sklearn-color-text);\n",
       "  background-color: var(--sklearn-color-unfitted-level-2);\n",
       "}\n",
       "\n",
       "/* Label box, darken color on hover, fitted */\n",
       "#sk-container-id-5 div.sk-label.fitted:hover label.sk-toggleable__label.fitted {\n",
       "  color: var(--sklearn-color-text);\n",
       "  background-color: var(--sklearn-color-fitted-level-2);\n",
       "}\n",
       "\n",
       "/* Estimator label */\n",
       "\n",
       "#sk-container-id-5 div.sk-label label {\n",
       "  font-family: monospace;\n",
       "  font-weight: bold;\n",
       "  display: inline-block;\n",
       "  line-height: 1.2em;\n",
       "}\n",
       "\n",
       "#sk-container-id-5 div.sk-label-container {\n",
       "  text-align: center;\n",
       "}\n",
       "\n",
       "/* Estimator-specific */\n",
       "#sk-container-id-5 div.sk-estimator {\n",
       "  font-family: monospace;\n",
       "  border: 1px dotted var(--sklearn-color-border-box);\n",
       "  border-radius: 0.25em;\n",
       "  box-sizing: border-box;\n",
       "  margin-bottom: 0.5em;\n",
       "  /* unfitted */\n",
       "  background-color: var(--sklearn-color-unfitted-level-0);\n",
       "}\n",
       "\n",
       "#sk-container-id-5 div.sk-estimator.fitted {\n",
       "  /* fitted */\n",
       "  background-color: var(--sklearn-color-fitted-level-0);\n",
       "}\n",
       "\n",
       "/* on hover */\n",
       "#sk-container-id-5 div.sk-estimator:hover {\n",
       "  /* unfitted */\n",
       "  background-color: var(--sklearn-color-unfitted-level-2);\n",
       "}\n",
       "\n",
       "#sk-container-id-5 div.sk-estimator.fitted:hover {\n",
       "  /* fitted */\n",
       "  background-color: var(--sklearn-color-fitted-level-2);\n",
       "}\n",
       "\n",
       "/* Specification for estimator info (e.g. \"i\" and \"?\") */\n",
       "\n",
       "/* Common style for \"i\" and \"?\" */\n",
       "\n",
       ".sk-estimator-doc-link,\n",
       "a:link.sk-estimator-doc-link,\n",
       "a:visited.sk-estimator-doc-link {\n",
       "  float: right;\n",
       "  font-size: smaller;\n",
       "  line-height: 1em;\n",
       "  font-family: monospace;\n",
       "  background-color: var(--sklearn-color-background);\n",
       "  border-radius: 1em;\n",
       "  height: 1em;\n",
       "  width: 1em;\n",
       "  text-decoration: none !important;\n",
       "  margin-left: 0.5em;\n",
       "  text-align: center;\n",
       "  /* unfitted */\n",
       "  border: var(--sklearn-color-unfitted-level-1) 1pt solid;\n",
       "  color: var(--sklearn-color-unfitted-level-1);\n",
       "}\n",
       "\n",
       ".sk-estimator-doc-link.fitted,\n",
       "a:link.sk-estimator-doc-link.fitted,\n",
       "a:visited.sk-estimator-doc-link.fitted {\n",
       "  /* fitted */\n",
       "  border: var(--sklearn-color-fitted-level-1) 1pt solid;\n",
       "  color: var(--sklearn-color-fitted-level-1);\n",
       "}\n",
       "\n",
       "/* On hover */\n",
       "div.sk-estimator:hover .sk-estimator-doc-link:hover,\n",
       ".sk-estimator-doc-link:hover,\n",
       "div.sk-label-container:hover .sk-estimator-doc-link:hover,\n",
       ".sk-estimator-doc-link:hover {\n",
       "  /* unfitted */\n",
       "  background-color: var(--sklearn-color-unfitted-level-3);\n",
       "  color: var(--sklearn-color-background);\n",
       "  text-decoration: none;\n",
       "}\n",
       "\n",
       "div.sk-estimator.fitted:hover .sk-estimator-doc-link.fitted:hover,\n",
       ".sk-estimator-doc-link.fitted:hover,\n",
       "div.sk-label-container:hover .sk-estimator-doc-link.fitted:hover,\n",
       ".sk-estimator-doc-link.fitted:hover {\n",
       "  /* fitted */\n",
       "  background-color: var(--sklearn-color-fitted-level-3);\n",
       "  color: var(--sklearn-color-background);\n",
       "  text-decoration: none;\n",
       "}\n",
       "\n",
       "/* Span, style for the box shown on hovering the info icon */\n",
       ".sk-estimator-doc-link span {\n",
       "  display: none;\n",
       "  z-index: 9999;\n",
       "  position: relative;\n",
       "  font-weight: normal;\n",
       "  right: .2ex;\n",
       "  padding: .5ex;\n",
       "  margin: .5ex;\n",
       "  width: min-content;\n",
       "  min-width: 20ex;\n",
       "  max-width: 50ex;\n",
       "  color: var(--sklearn-color-text);\n",
       "  box-shadow: 2pt 2pt 4pt #999;\n",
       "  /* unfitted */\n",
       "  background: var(--sklearn-color-unfitted-level-0);\n",
       "  border: .5pt solid var(--sklearn-color-unfitted-level-3);\n",
       "}\n",
       "\n",
       ".sk-estimator-doc-link.fitted span {\n",
       "  /* fitted */\n",
       "  background: var(--sklearn-color-fitted-level-0);\n",
       "  border: var(--sklearn-color-fitted-level-3);\n",
       "}\n",
       "\n",
       ".sk-estimator-doc-link:hover span {\n",
       "  display: block;\n",
       "}\n",
       "\n",
       "/* \"?\"-specific style due to the `<a>` HTML tag */\n",
       "\n",
       "#sk-container-id-5 a.estimator_doc_link {\n",
       "  float: right;\n",
       "  font-size: 1rem;\n",
       "  line-height: 1em;\n",
       "  font-family: monospace;\n",
       "  background-color: var(--sklearn-color-background);\n",
       "  border-radius: 1rem;\n",
       "  height: 1rem;\n",
       "  width: 1rem;\n",
       "  text-decoration: none;\n",
       "  /* unfitted */\n",
       "  color: var(--sklearn-color-unfitted-level-1);\n",
       "  border: var(--sklearn-color-unfitted-level-1) 1pt solid;\n",
       "}\n",
       "\n",
       "#sk-container-id-5 a.estimator_doc_link.fitted {\n",
       "  /* fitted */\n",
       "  border: var(--sklearn-color-fitted-level-1) 1pt solid;\n",
       "  color: var(--sklearn-color-fitted-level-1);\n",
       "}\n",
       "\n",
       "/* On hover */\n",
       "#sk-container-id-5 a.estimator_doc_link:hover {\n",
       "  /* unfitted */\n",
       "  background-color: var(--sklearn-color-unfitted-level-3);\n",
       "  color: var(--sklearn-color-background);\n",
       "  text-decoration: none;\n",
       "}\n",
       "\n",
       "#sk-container-id-5 a.estimator_doc_link.fitted:hover {\n",
       "  /* fitted */\n",
       "  background-color: var(--sklearn-color-fitted-level-3);\n",
       "}\n",
       "</style><div id=\"sk-container-id-5\" class=\"sk-top-container\"><div class=\"sk-text-repr-fallback\"><pre>LogisticRegression()</pre><b>In a Jupyter environment, please rerun this cell to show the HTML representation or trust the notebook. <br />On GitHub, the HTML representation is unable to render, please try loading this page with nbviewer.org.</b></div><div class=\"sk-container\" hidden><div class=\"sk-item\"><div class=\"sk-estimator fitted sk-toggleable\"><input class=\"sk-toggleable__control sk-hidden--visually\" id=\"sk-estimator-id-11\" type=\"checkbox\" checked><label for=\"sk-estimator-id-11\" class=\"sk-toggleable__label fitted sk-toggleable__label-arrow\"><div><div>LogisticRegression</div></div><div><a class=\"sk-estimator-doc-link fitted\" rel=\"noreferrer\" target=\"_blank\" href=\"https://scikit-learn.org/1.6/modules/generated/sklearn.linear_model.LogisticRegression.html\">?<span>Documentation for LogisticRegression</span></a><span class=\"sk-estimator-doc-link fitted\">i<span>Fitted</span></span></div></label><div class=\"sk-toggleable__content fitted\"><pre>LogisticRegression()</pre></div> </div></div></div></div>"
      ],
      "text/plain": [
       "LogisticRegression()"
      ]
     },
     "execution_count": 39,
     "metadata": {},
     "output_type": "execute_result"
    }
   ],
   "source": [
    "lr = LogisticRegression(penalty='l2', solver='lbfgs')\n",
    "lr.fit(X_train, y_train)"
   ]
  },
  {
   "cell_type": "code",
   "execution_count": 40,
   "metadata": {
    "_cell_guid": "797436e3-1d4b-4748-860d-efb282a1d0ce",
    "_uuid": "8cf623e40c3615367b5ed12bc8fdcb5b825ca58d"
   },
   "outputs": [
    {
     "name": "stdout",
     "output_type": "stream",
     "text": [
      "Training score data: \n",
      "0.748\n"
     ]
    }
   ],
   "source": [
    "# Printing the Training Score\n",
    "print(\"Training score data: \")\n",
    "print(lr.score(X_train, y_train))"
   ]
  },
  {
   "cell_type": "code",
   "execution_count": 41,
   "metadata": {
    "_cell_guid": "9649fb32-39e0-495a-8a7b-dd659bb24dc9",
    "_uuid": "cd3133deabdf47413f070365a4da6b5566e19e7f"
   },
   "outputs": [
    {
     "name": "stdout",
     "output_type": "stream",
     "text": [
      "0.748\n",
      "\n",
      "\n",
      "              precision    recall  f1-score   support\n",
      "\n",
      "       False       0.78      0.89      0.83       175\n",
      "        True       0.62      0.43      0.50        75\n",
      "\n",
      "    accuracy                           0.75       250\n",
      "   macro avg       0.70      0.66      0.67       250\n",
      "weighted avg       0.73      0.75      0.73       250\n",
      "\n"
     ]
    }
   ],
   "source": [
    "y_pred_logistic = lr.predict(X_test)\n",
    "\n",
    "print(accuracy_score(y_test,y_pred_logistic))\n",
    "print(\"\\n\")\n",
    "print(classification_report(y_test, y_pred_logistic))"
   ]
  },
  {
   "cell_type": "code",
   "execution_count": 42,
   "metadata": {
    "_cell_guid": "06356183-c43a-4258-9fda-557b16fda15e",
    "_uuid": "3dd2ac7c21fa16ee53db73a517255544c3618d30"
   },
   "outputs": [],
   "source": [
    "from sklearn.model_selection import KFold\n",
    "from sklearn.model_selection import cross_val_score\n",
    "from sklearn.pipeline import Pipeline\n",
    "from sklearn.pipeline import FeatureUnion\n",
    "from sklearn.feature_selection import SelectKBest"
   ]
  },
  {
   "cell_type": "markdown",
   "metadata": {},
   "source": [
    "# SMOTE Analysis\n"
   ]
  },
  {
   "cell_type": "code",
   "execution_count": 44,
   "metadata": {},
   "outputs": [],
   "source": [
    "import imblearn"
   ]
  },
  {
   "cell_type": "code",
   "execution_count": 45,
   "metadata": {},
   "outputs": [],
   "source": [
    "oversample=imblearn.over_sampling.SMOTE()\n",
    "X_train,y_train=oversample.fit_resample(X_train,y_train)"
   ]
  },
  {
   "cell_type": "code",
   "execution_count": 46,
   "metadata": {},
   "outputs": [
    {
     "data": {
      "text/plain": [
       "(1050, 24)"
      ]
     },
     "execution_count": 46,
     "metadata": {},
     "output_type": "execute_result"
    }
   ],
   "source": [
    "X_train.shape"
   ]
  },
  {
   "cell_type": "code",
   "execution_count": 53,
   "metadata": {},
   "outputs": [],
   "source": [
    "smote_model_log=LogisticRegression(penalty='l2', solver='lbfgs')"
   ]
  },
  {
   "cell_type": "code",
   "execution_count": 54,
   "metadata": {},
   "outputs": [
    {
     "data": {
      "text/html": [
       "<style>#sk-container-id-6 {\n",
       "  /* Definition of color scheme common for light and dark mode */\n",
       "  --sklearn-color-text: #000;\n",
       "  --sklearn-color-text-muted: #666;\n",
       "  --sklearn-color-line: gray;\n",
       "  /* Definition of color scheme for unfitted estimators */\n",
       "  --sklearn-color-unfitted-level-0: #fff5e6;\n",
       "  --sklearn-color-unfitted-level-1: #f6e4d2;\n",
       "  --sklearn-color-unfitted-level-2: #ffe0b3;\n",
       "  --sklearn-color-unfitted-level-3: chocolate;\n",
       "  /* Definition of color scheme for fitted estimators */\n",
       "  --sklearn-color-fitted-level-0: #f0f8ff;\n",
       "  --sklearn-color-fitted-level-1: #d4ebff;\n",
       "  --sklearn-color-fitted-level-2: #b3dbfd;\n",
       "  --sklearn-color-fitted-level-3: cornflowerblue;\n",
       "\n",
       "  /* Specific color for light theme */\n",
       "  --sklearn-color-text-on-default-background: var(--sg-text-color, var(--theme-code-foreground, var(--jp-content-font-color1, black)));\n",
       "  --sklearn-color-background: var(--sg-background-color, var(--theme-background, var(--jp-layout-color0, white)));\n",
       "  --sklearn-color-border-box: var(--sg-text-color, var(--theme-code-foreground, var(--jp-content-font-color1, black)));\n",
       "  --sklearn-color-icon: #696969;\n",
       "\n",
       "  @media (prefers-color-scheme: dark) {\n",
       "    /* Redefinition of color scheme for dark theme */\n",
       "    --sklearn-color-text-on-default-background: var(--sg-text-color, var(--theme-code-foreground, var(--jp-content-font-color1, white)));\n",
       "    --sklearn-color-background: var(--sg-background-color, var(--theme-background, var(--jp-layout-color0, #111)));\n",
       "    --sklearn-color-border-box: var(--sg-text-color, var(--theme-code-foreground, var(--jp-content-font-color1, white)));\n",
       "    --sklearn-color-icon: #878787;\n",
       "  }\n",
       "}\n",
       "\n",
       "#sk-container-id-6 {\n",
       "  color: var(--sklearn-color-text);\n",
       "}\n",
       "\n",
       "#sk-container-id-6 pre {\n",
       "  padding: 0;\n",
       "}\n",
       "\n",
       "#sk-container-id-6 input.sk-hidden--visually {\n",
       "  border: 0;\n",
       "  clip: rect(1px 1px 1px 1px);\n",
       "  clip: rect(1px, 1px, 1px, 1px);\n",
       "  height: 1px;\n",
       "  margin: -1px;\n",
       "  overflow: hidden;\n",
       "  padding: 0;\n",
       "  position: absolute;\n",
       "  width: 1px;\n",
       "}\n",
       "\n",
       "#sk-container-id-6 div.sk-dashed-wrapped {\n",
       "  border: 1px dashed var(--sklearn-color-line);\n",
       "  margin: 0 0.4em 0.5em 0.4em;\n",
       "  box-sizing: border-box;\n",
       "  padding-bottom: 0.4em;\n",
       "  background-color: var(--sklearn-color-background);\n",
       "}\n",
       "\n",
       "#sk-container-id-6 div.sk-container {\n",
       "  /* jupyter's `normalize.less` sets `[hidden] { display: none; }`\n",
       "     but bootstrap.min.css set `[hidden] { display: none !important; }`\n",
       "     so we also need the `!important` here to be able to override the\n",
       "     default hidden behavior on the sphinx rendered scikit-learn.org.\n",
       "     See: https://github.com/scikit-learn/scikit-learn/issues/21755 */\n",
       "  display: inline-block !important;\n",
       "  position: relative;\n",
       "}\n",
       "\n",
       "#sk-container-id-6 div.sk-text-repr-fallback {\n",
       "  display: none;\n",
       "}\n",
       "\n",
       "div.sk-parallel-item,\n",
       "div.sk-serial,\n",
       "div.sk-item {\n",
       "  /* draw centered vertical line to link estimators */\n",
       "  background-image: linear-gradient(var(--sklearn-color-text-on-default-background), var(--sklearn-color-text-on-default-background));\n",
       "  background-size: 2px 100%;\n",
       "  background-repeat: no-repeat;\n",
       "  background-position: center center;\n",
       "}\n",
       "\n",
       "/* Parallel-specific style estimator block */\n",
       "\n",
       "#sk-container-id-6 div.sk-parallel-item::after {\n",
       "  content: \"\";\n",
       "  width: 100%;\n",
       "  border-bottom: 2px solid var(--sklearn-color-text-on-default-background);\n",
       "  flex-grow: 1;\n",
       "}\n",
       "\n",
       "#sk-container-id-6 div.sk-parallel {\n",
       "  display: flex;\n",
       "  align-items: stretch;\n",
       "  justify-content: center;\n",
       "  background-color: var(--sklearn-color-background);\n",
       "  position: relative;\n",
       "}\n",
       "\n",
       "#sk-container-id-6 div.sk-parallel-item {\n",
       "  display: flex;\n",
       "  flex-direction: column;\n",
       "}\n",
       "\n",
       "#sk-container-id-6 div.sk-parallel-item:first-child::after {\n",
       "  align-self: flex-end;\n",
       "  width: 50%;\n",
       "}\n",
       "\n",
       "#sk-container-id-6 div.sk-parallel-item:last-child::after {\n",
       "  align-self: flex-start;\n",
       "  width: 50%;\n",
       "}\n",
       "\n",
       "#sk-container-id-6 div.sk-parallel-item:only-child::after {\n",
       "  width: 0;\n",
       "}\n",
       "\n",
       "/* Serial-specific style estimator block */\n",
       "\n",
       "#sk-container-id-6 div.sk-serial {\n",
       "  display: flex;\n",
       "  flex-direction: column;\n",
       "  align-items: center;\n",
       "  background-color: var(--sklearn-color-background);\n",
       "  padding-right: 1em;\n",
       "  padding-left: 1em;\n",
       "}\n",
       "\n",
       "\n",
       "/* Toggleable style: style used for estimator/Pipeline/ColumnTransformer box that is\n",
       "clickable and can be expanded/collapsed.\n",
       "- Pipeline and ColumnTransformer use this feature and define the default style\n",
       "- Estimators will overwrite some part of the style using the `sk-estimator` class\n",
       "*/\n",
       "\n",
       "/* Pipeline and ColumnTransformer style (default) */\n",
       "\n",
       "#sk-container-id-6 div.sk-toggleable {\n",
       "  /* Default theme specific background. It is overwritten whether we have a\n",
       "  specific estimator or a Pipeline/ColumnTransformer */\n",
       "  background-color: var(--sklearn-color-background);\n",
       "}\n",
       "\n",
       "/* Toggleable label */\n",
       "#sk-container-id-6 label.sk-toggleable__label {\n",
       "  cursor: pointer;\n",
       "  display: flex;\n",
       "  width: 100%;\n",
       "  margin-bottom: 0;\n",
       "  padding: 0.5em;\n",
       "  box-sizing: border-box;\n",
       "  text-align: center;\n",
       "  align-items: start;\n",
       "  justify-content: space-between;\n",
       "  gap: 0.5em;\n",
       "}\n",
       "\n",
       "#sk-container-id-6 label.sk-toggleable__label .caption {\n",
       "  font-size: 0.6rem;\n",
       "  font-weight: lighter;\n",
       "  color: var(--sklearn-color-text-muted);\n",
       "}\n",
       "\n",
       "#sk-container-id-6 label.sk-toggleable__label-arrow:before {\n",
       "  /* Arrow on the left of the label */\n",
       "  content: \"▸\";\n",
       "  float: left;\n",
       "  margin-right: 0.25em;\n",
       "  color: var(--sklearn-color-icon);\n",
       "}\n",
       "\n",
       "#sk-container-id-6 label.sk-toggleable__label-arrow:hover:before {\n",
       "  color: var(--sklearn-color-text);\n",
       "}\n",
       "\n",
       "/* Toggleable content - dropdown */\n",
       "\n",
       "#sk-container-id-6 div.sk-toggleable__content {\n",
       "  max-height: 0;\n",
       "  max-width: 0;\n",
       "  overflow: hidden;\n",
       "  text-align: left;\n",
       "  /* unfitted */\n",
       "  background-color: var(--sklearn-color-unfitted-level-0);\n",
       "}\n",
       "\n",
       "#sk-container-id-6 div.sk-toggleable__content.fitted {\n",
       "  /* fitted */\n",
       "  background-color: var(--sklearn-color-fitted-level-0);\n",
       "}\n",
       "\n",
       "#sk-container-id-6 div.sk-toggleable__content pre {\n",
       "  margin: 0.2em;\n",
       "  border-radius: 0.25em;\n",
       "  color: var(--sklearn-color-text);\n",
       "  /* unfitted */\n",
       "  background-color: var(--sklearn-color-unfitted-level-0);\n",
       "}\n",
       "\n",
       "#sk-container-id-6 div.sk-toggleable__content.fitted pre {\n",
       "  /* unfitted */\n",
       "  background-color: var(--sklearn-color-fitted-level-0);\n",
       "}\n",
       "\n",
       "#sk-container-id-6 input.sk-toggleable__control:checked~div.sk-toggleable__content {\n",
       "  /* Expand drop-down */\n",
       "  max-height: 200px;\n",
       "  max-width: 100%;\n",
       "  overflow: auto;\n",
       "}\n",
       "\n",
       "#sk-container-id-6 input.sk-toggleable__control:checked~label.sk-toggleable__label-arrow:before {\n",
       "  content: \"▾\";\n",
       "}\n",
       "\n",
       "/* Pipeline/ColumnTransformer-specific style */\n",
       "\n",
       "#sk-container-id-6 div.sk-label input.sk-toggleable__control:checked~label.sk-toggleable__label {\n",
       "  color: var(--sklearn-color-text);\n",
       "  background-color: var(--sklearn-color-unfitted-level-2);\n",
       "}\n",
       "\n",
       "#sk-container-id-6 div.sk-label.fitted input.sk-toggleable__control:checked~label.sk-toggleable__label {\n",
       "  background-color: var(--sklearn-color-fitted-level-2);\n",
       "}\n",
       "\n",
       "/* Estimator-specific style */\n",
       "\n",
       "/* Colorize estimator box */\n",
       "#sk-container-id-6 div.sk-estimator input.sk-toggleable__control:checked~label.sk-toggleable__label {\n",
       "  /* unfitted */\n",
       "  background-color: var(--sklearn-color-unfitted-level-2);\n",
       "}\n",
       "\n",
       "#sk-container-id-6 div.sk-estimator.fitted input.sk-toggleable__control:checked~label.sk-toggleable__label {\n",
       "  /* fitted */\n",
       "  background-color: var(--sklearn-color-fitted-level-2);\n",
       "}\n",
       "\n",
       "#sk-container-id-6 div.sk-label label.sk-toggleable__label,\n",
       "#sk-container-id-6 div.sk-label label {\n",
       "  /* The background is the default theme color */\n",
       "  color: var(--sklearn-color-text-on-default-background);\n",
       "}\n",
       "\n",
       "/* On hover, darken the color of the background */\n",
       "#sk-container-id-6 div.sk-label:hover label.sk-toggleable__label {\n",
       "  color: var(--sklearn-color-text);\n",
       "  background-color: var(--sklearn-color-unfitted-level-2);\n",
       "}\n",
       "\n",
       "/* Label box, darken color on hover, fitted */\n",
       "#sk-container-id-6 div.sk-label.fitted:hover label.sk-toggleable__label.fitted {\n",
       "  color: var(--sklearn-color-text);\n",
       "  background-color: var(--sklearn-color-fitted-level-2);\n",
       "}\n",
       "\n",
       "/* Estimator label */\n",
       "\n",
       "#sk-container-id-6 div.sk-label label {\n",
       "  font-family: monospace;\n",
       "  font-weight: bold;\n",
       "  display: inline-block;\n",
       "  line-height: 1.2em;\n",
       "}\n",
       "\n",
       "#sk-container-id-6 div.sk-label-container {\n",
       "  text-align: center;\n",
       "}\n",
       "\n",
       "/* Estimator-specific */\n",
       "#sk-container-id-6 div.sk-estimator {\n",
       "  font-family: monospace;\n",
       "  border: 1px dotted var(--sklearn-color-border-box);\n",
       "  border-radius: 0.25em;\n",
       "  box-sizing: border-box;\n",
       "  margin-bottom: 0.5em;\n",
       "  /* unfitted */\n",
       "  background-color: var(--sklearn-color-unfitted-level-0);\n",
       "}\n",
       "\n",
       "#sk-container-id-6 div.sk-estimator.fitted {\n",
       "  /* fitted */\n",
       "  background-color: var(--sklearn-color-fitted-level-0);\n",
       "}\n",
       "\n",
       "/* on hover */\n",
       "#sk-container-id-6 div.sk-estimator:hover {\n",
       "  /* unfitted */\n",
       "  background-color: var(--sklearn-color-unfitted-level-2);\n",
       "}\n",
       "\n",
       "#sk-container-id-6 div.sk-estimator.fitted:hover {\n",
       "  /* fitted */\n",
       "  background-color: var(--sklearn-color-fitted-level-2);\n",
       "}\n",
       "\n",
       "/* Specification for estimator info (e.g. \"i\" and \"?\") */\n",
       "\n",
       "/* Common style for \"i\" and \"?\" */\n",
       "\n",
       ".sk-estimator-doc-link,\n",
       "a:link.sk-estimator-doc-link,\n",
       "a:visited.sk-estimator-doc-link {\n",
       "  float: right;\n",
       "  font-size: smaller;\n",
       "  line-height: 1em;\n",
       "  font-family: monospace;\n",
       "  background-color: var(--sklearn-color-background);\n",
       "  border-radius: 1em;\n",
       "  height: 1em;\n",
       "  width: 1em;\n",
       "  text-decoration: none !important;\n",
       "  margin-left: 0.5em;\n",
       "  text-align: center;\n",
       "  /* unfitted */\n",
       "  border: var(--sklearn-color-unfitted-level-1) 1pt solid;\n",
       "  color: var(--sklearn-color-unfitted-level-1);\n",
       "}\n",
       "\n",
       ".sk-estimator-doc-link.fitted,\n",
       "a:link.sk-estimator-doc-link.fitted,\n",
       "a:visited.sk-estimator-doc-link.fitted {\n",
       "  /* fitted */\n",
       "  border: var(--sklearn-color-fitted-level-1) 1pt solid;\n",
       "  color: var(--sklearn-color-fitted-level-1);\n",
       "}\n",
       "\n",
       "/* On hover */\n",
       "div.sk-estimator:hover .sk-estimator-doc-link:hover,\n",
       ".sk-estimator-doc-link:hover,\n",
       "div.sk-label-container:hover .sk-estimator-doc-link:hover,\n",
       ".sk-estimator-doc-link:hover {\n",
       "  /* unfitted */\n",
       "  background-color: var(--sklearn-color-unfitted-level-3);\n",
       "  color: var(--sklearn-color-background);\n",
       "  text-decoration: none;\n",
       "}\n",
       "\n",
       "div.sk-estimator.fitted:hover .sk-estimator-doc-link.fitted:hover,\n",
       ".sk-estimator-doc-link.fitted:hover,\n",
       "div.sk-label-container:hover .sk-estimator-doc-link.fitted:hover,\n",
       ".sk-estimator-doc-link.fitted:hover {\n",
       "  /* fitted */\n",
       "  background-color: var(--sklearn-color-fitted-level-3);\n",
       "  color: var(--sklearn-color-background);\n",
       "  text-decoration: none;\n",
       "}\n",
       "\n",
       "/* Span, style for the box shown on hovering the info icon */\n",
       ".sk-estimator-doc-link span {\n",
       "  display: none;\n",
       "  z-index: 9999;\n",
       "  position: relative;\n",
       "  font-weight: normal;\n",
       "  right: .2ex;\n",
       "  padding: .5ex;\n",
       "  margin: .5ex;\n",
       "  width: min-content;\n",
       "  min-width: 20ex;\n",
       "  max-width: 50ex;\n",
       "  color: var(--sklearn-color-text);\n",
       "  box-shadow: 2pt 2pt 4pt #999;\n",
       "  /* unfitted */\n",
       "  background: var(--sklearn-color-unfitted-level-0);\n",
       "  border: .5pt solid var(--sklearn-color-unfitted-level-3);\n",
       "}\n",
       "\n",
       ".sk-estimator-doc-link.fitted span {\n",
       "  /* fitted */\n",
       "  background: var(--sklearn-color-fitted-level-0);\n",
       "  border: var(--sklearn-color-fitted-level-3);\n",
       "}\n",
       "\n",
       ".sk-estimator-doc-link:hover span {\n",
       "  display: block;\n",
       "}\n",
       "\n",
       "/* \"?\"-specific style due to the `<a>` HTML tag */\n",
       "\n",
       "#sk-container-id-6 a.estimator_doc_link {\n",
       "  float: right;\n",
       "  font-size: 1rem;\n",
       "  line-height: 1em;\n",
       "  font-family: monospace;\n",
       "  background-color: var(--sklearn-color-background);\n",
       "  border-radius: 1rem;\n",
       "  height: 1rem;\n",
       "  width: 1rem;\n",
       "  text-decoration: none;\n",
       "  /* unfitted */\n",
       "  color: var(--sklearn-color-unfitted-level-1);\n",
       "  border: var(--sklearn-color-unfitted-level-1) 1pt solid;\n",
       "}\n",
       "\n",
       "#sk-container-id-6 a.estimator_doc_link.fitted {\n",
       "  /* fitted */\n",
       "  border: var(--sklearn-color-fitted-level-1) 1pt solid;\n",
       "  color: var(--sklearn-color-fitted-level-1);\n",
       "}\n",
       "\n",
       "/* On hover */\n",
       "#sk-container-id-6 a.estimator_doc_link:hover {\n",
       "  /* unfitted */\n",
       "  background-color: var(--sklearn-color-unfitted-level-3);\n",
       "  color: var(--sklearn-color-background);\n",
       "  text-decoration: none;\n",
       "}\n",
       "\n",
       "#sk-container-id-6 a.estimator_doc_link.fitted:hover {\n",
       "  /* fitted */\n",
       "  background-color: var(--sklearn-color-fitted-level-3);\n",
       "}\n",
       "</style><div id=\"sk-container-id-6\" class=\"sk-top-container\"><div class=\"sk-text-repr-fallback\"><pre>LogisticRegression()</pre><b>In a Jupyter environment, please rerun this cell to show the HTML representation or trust the notebook. <br />On GitHub, the HTML representation is unable to render, please try loading this page with nbviewer.org.</b></div><div class=\"sk-container\" hidden><div class=\"sk-item\"><div class=\"sk-estimator fitted sk-toggleable\"><input class=\"sk-toggleable__control sk-hidden--visually\" id=\"sk-estimator-id-12\" type=\"checkbox\" checked><label for=\"sk-estimator-id-12\" class=\"sk-toggleable__label fitted sk-toggleable__label-arrow\"><div><div>LogisticRegression</div></div><div><a class=\"sk-estimator-doc-link fitted\" rel=\"noreferrer\" target=\"_blank\" href=\"https://scikit-learn.org/1.6/modules/generated/sklearn.linear_model.LogisticRegression.html\">?<span>Documentation for LogisticRegression</span></a><span class=\"sk-estimator-doc-link fitted\">i<span>Fitted</span></span></div></label><div class=\"sk-toggleable__content fitted\"><pre>LogisticRegression()</pre></div> </div></div></div></div>"
      ],
      "text/plain": [
       "LogisticRegression()"
      ]
     },
     "execution_count": 54,
     "metadata": {},
     "output_type": "execute_result"
    }
   ],
   "source": [
    "smote_model_log.fit(X_train,y_train)"
   ]
  },
  {
   "cell_type": "code",
   "execution_count": 55,
   "metadata": {},
   "outputs": [],
   "source": [
    "y_pred_smote=smote_model_log.predict(X_test)"
   ]
  },
  {
   "cell_type": "code",
   "execution_count": 56,
   "metadata": {},
   "outputs": [
    {
     "name": "stdout",
     "output_type": "stream",
     "text": [
      "0.688\n",
      "\n",
      "\n",
      "[[118  57]\n",
      " [ 21  54]]\n"
     ]
    }
   ],
   "source": [
    "print(accuracy_score(y_test,y_pred_smote))\n",
    "print(\"\\n\")\n",
    "print(confusion_matrix(y_test, y_pred_smote))"
   ]
  },
  {
   "cell_type": "code",
   "execution_count": null,
   "metadata": {},
   "outputs": [],
   "source": []
  },
  {
   "cell_type": "code",
   "execution_count": null,
   "metadata": {},
   "outputs": [],
   "source": []
  }
 ],
 "metadata": {
  "kernelspec": {
   "display_name": "Python 3 (ipykernel)",
   "language": "python",
   "name": "python3"
  },
  "language_info": {
   "codemirror_mode": {
    "name": "ipython",
    "version": 3
   },
   "file_extension": ".py",
   "mimetype": "text/x-python",
   "name": "python",
   "nbconvert_exporter": "python",
   "pygments_lexer": "ipython3",
   "version": "3.12.7"
  }
 },
 "nbformat": 4,
 "nbformat_minor": 4
}
